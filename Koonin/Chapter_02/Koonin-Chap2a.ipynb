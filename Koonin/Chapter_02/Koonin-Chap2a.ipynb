{
 "cells": [
  {
   "cell_type": "markdown",
   "metadata": {},
   "source": [
    "### Koonin Chapter2a.py "
   ]
  },
  {
   "cell_type": "markdown",
   "metadata": {},
   "source": [
    "One of the simplest algorithms is Euler's method, in which we consider Eq.(2.4)\n",
    "$$\\frac{y_{n+1}-y_{n}}{h}+\\mathcal{O}(h) =f(x_{n},y_{n}),$$\n",
    "so that the recursion relation expressing $y_{n+1}$ in terms of $y_{n}$ is\n",
    "$$y_{n+1} = y_{n} + hf(x_{n},y_{n}+\\mathcal{O}(h^2)$$\n",
    "\n",
    "One class of simple higher order methdos can be derived from a Taylor series expansion for $y_{n+1}$ about $y_{n}$:\n",
    "$$ y_{n+1} = y(x_n+h) = y_n + hy^{'}_{n}+\\frac{1}{2}h^{2}y^{''}_{n}+\\mathcal{O}(h^3)$$\n",
    "we can easily remove derivative and result comes out\n",
    "$$ y_{n+1} = y_{n} + hf + \\frac{1}{2}h^2[\\frac{\\partial f}{\\partial x} + \\frac{\\partial f}{\\partial y}] + \\mathcal{O}(h^3) $$\n",
    "\n",
    "---------------------------------------------------------------------------------------------------------------------------------\n",
    "As an example, consider the differential equation and boundary condition\n",
    "$$\\frac{dy}{dx}; y(0) =1$$\n",
    "whose solution is \n",
    "$$ y = exp(\\frac{-x^2}{2})$$\n"
   ]
  },
  {
   "cell_type": "code",
   "execution_count": 140,
   "metadata": {},
   "outputs": [
    {
     "name": "stdout",
     "output_type": "stream",
     "text": [
      "--------------------------------------------------------------------------\n",
      "             Euler's method         Taylor series         Implicit method\n",
      "  h          y(1)       y(3)       y(1)       y(3)       y(1)       y(3)\n",
      "--------------------------------------------------------------------------\n",
      "0.500   -0.143469   0.011109   0.032312   -0.006660   -0.015692   0.001785\n",
      "0.200   -0.046331   0.006519   0.005125   -0.000712   -0.002525   0.000255\n",
      "0.100   -0.021626   0.003318   0.001273   -0.000149   -0.000632   0.000063\n",
      "0.050   -0.010453   0.001665   0.000317   -0.000034   -0.000158   0.000016\n",
      "0.020   -0.004098   0.000666   0.000051   -0.000005   -0.000025   0.000003\n",
      "0.010   -0.002035   0.000333   0.000013   -0.000001   -0.000006   0.000001\n",
      "0.005   -0.001014   0.000167   0.000003   -0.000000   -0.000002   0.000000\n",
      "0.002   -0.000405   0.000067   0.000001   -0.000000   -0.000000   0.000000\n",
      "0.001   -0.000202   0.000033   0.000000   -0.000000   -0.000000   0.000000\n",
      "--------------------------------------------------------------------------\n"
     ]
    }
   ],
   "source": [
    "import numpy as np\n",
    "\n",
    "def dydx(X,Y):\n",
    "    return -X*Y\n",
    "\n",
    "def ODE_Euler(f, U_0, dt, T):\n",
    "    N_t = int(round(float(T)/dt))\n",
    "    u = np.zeros(N_t+1)\n",
    "    diff = np.zeros(N_t+1)\n",
    "    t = np.linspace(0, N_t*dt, len(u))\n",
    "    u[0] = U_0\n",
    "    for n in range(N_t):\n",
    "        u[n+1] = u[n] + dt*f(u[n], t[n])  # Forward Euler Method\n",
    "        diff = np.exp(-0.5*(t[n+1])**2) - u[n+1]\n",
    "    #print(\"%4.3f     %7.6f\" % (dt, diff))\n",
    "    return diff\n",
    "    \n",
    "def dfdx(X,Y):\n",
    "    return -X # reverse, because we set t[n] as X, u[n] as Y\n",
    "\n",
    "def dfdy(X,Y):\n",
    "    return -Y # reverse, because we set t[n] as X, u[n] as Y\n",
    "\n",
    "def g(X,Y):\n",
    "    return -Y # reverse, because we set t[n] as X, u[n] as Y\n",
    "\n",
    "def ODE_Taylor(f, p_x, p_y, U_0, dt, T):\n",
    "    N_t = int(round(float(T)/dt))\n",
    "    u = np.zeros(N_t+1)\n",
    "    diff = np.zeros(N_t+1)\n",
    "    t = np.linspace(0, N_t*dt, len(u))\n",
    "    u[0] = U_0\n",
    "    for n in range(N_t):\n",
    "        u[n+1] = u[n] + dt*f(u[n], t[n]) + 0.5*dt**2*(p_x(u[n], t[n]) + f(u[n], t[n])*p_y(u[n], t[n]))\n",
    "        diff = np.exp(-0.5*(t[n+1])**2) - u[n+1]\n",
    "    #print(\"%4.3f     %7.6f\" % (dt, diff))\n",
    "    return diff\n",
    "\n",
    "def ODE_implicit(f, g, U_0, dt, T):\n",
    "    N_t = int(round(float(T)/dt))\n",
    "    u = np.zeros(N_t+1)\n",
    "    diff = np.zeros(N_t+1)\n",
    "    t = np.linspace(0, N_t*dt, len(u))\n",
    "    u[0] = U_0\n",
    "    for n in range(N_t):\n",
    "        u[n+1] = ((1+0.5*dt*g(u[n], t[n]))/(1-0.5*dt*g(u[n+1], t[n+1])))*u[n]\n",
    "        diff = np.exp(-0.5*(t[n+1])**2) - u[n+1]\n",
    "    #print(\"%4.3f     %7.6f\" % (dt, diff))\n",
    "    return diff\n",
    "                                            \n",
    "h = [0.500, 0.200, 0.100, 0.050, 0.020, 0.010, 0.005, 0.002, 0.001]\n",
    "    \n",
    "if __name__ == '__main__':\n",
    "    print(\"--------------------------------------------------------------------------\")\n",
    "    print(\"             Euler's method         Taylor series         Implicit method\")\n",
    "    print(\"  h          y(1)       y(3)       y(1)       y(3)       y(1)       y(3)\")\n",
    "    print(\"--------------------------------------------------------------------------\")\n",
    "    for i in h:\n",
    "        print(\"%4.3f   %7.6f   %7.6f   %7.6f   %7.6f   %7.6f   %7.6f\" % (i, ODE_Euler(dydx, 1, i, 1), ODE_Euler(dydx, 1, i, 3), ODE_Taylor(dydx, dfdx, dfdy, 1, i, 1), ODE_Taylor(dydx, dfdx, dfdy, 1, i, 3), ODE_implicit(dydx, g, 1, i, 1), ODE_implicit(dydx, g, 1, i, 3)))\n",
    "    print(\"--------------------------------------------------------------------------\")\n",
    "    "
   ]
  },
  {
   "cell_type": "code",
   "execution_count": null,
   "metadata": {},
   "outputs": [],
   "source": []
  }
 ],
 "metadata": {
  "kernelspec": {
   "display_name": "Python 3",
   "language": "python",
   "name": "python3"
  },
  "language_info": {
   "codemirror_mode": {
    "name": "ipython",
    "version": 3
   },
   "file_extension": ".py",
   "mimetype": "text/x-python",
   "name": "python",
   "nbconvert_exporter": "python",
   "pygments_lexer": "ipython3",
   "version": "3.7.2"
  }
 },
 "nbformat": 4,
 "nbformat_minor": 2
}
