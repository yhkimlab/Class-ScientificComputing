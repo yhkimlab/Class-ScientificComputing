{
 "cells": [
  {
   "cell_type": "markdown",
   "metadata": {},
   "source": [
    "### Koonin Chapter1a.py "
   ]
  },
  {
   "cell_type": "code",
   "execution_count": 1,
   "metadata": {},
   "outputs": [
    {
     "name": "stdout",
     "output_type": "stream",
     "text": [
      "---------------------------------------------------------------------------------------------------\n",
      "  h      |   Symmetric 3-point   |    Forward 2-point   |   Backward 2-point   |   Symmetric 5-point\n",
      "---------------------------------------------------------------------------------------------------\n",
      " 0.50000         0.0222329              0.2282543            -0.1837886             0.0010926\n",
      " 0.20000         0.0035948              0.0874618            -0.0802722             0.0000287\n",
      " 0.10000         0.0009001              0.0429386            -0.0411384             0.0000018\n",
      " 0.05000         0.0002251              0.0212575            -0.0208073             0.0000001\n",
      " 0.02000         0.0000360              0.0084504            -0.0083784             0.0000000\n",
      " 0.01000         0.0000090              0.0042163            -0.0041983             0.0000000\n",
      " 0.00500         0.0000023              0.0021059            -0.0021014             0.0000000\n",
      " 0.00200         0.0000004              0.0008418            -0.0008411             0.0000000\n",
      " 0.00100         0.0000001              0.0004208            -0.0004206             0.0000000\n",
      " 0.00050         0.0000000              0.0002104            -0.0002103             0.0000000\n",
      " 0.00020         0.0000000              0.0000842            -0.0000841             0.0000000\n",
      " 0.00010         0.0000000              0.0000421            -0.0000421            -0.0000000\n",
      " 0.00005         0.0000000              0.0000210            -0.0000210            -0.0000000\n",
      " 0.00002         0.0000000              0.0000084            -0.0000084            -0.0000000\n",
      " 0.00001         0.0000000              0.0000042            -0.0000042             0.0000000\n",
      "---------------------------------------------------------------------------------------------------\n"
     ]
    }
   ],
   "source": [
    "import math\n",
    "\n",
    "# Chapter 1a Fortran to Python\n",
    "\n",
    "X = 1.0\n",
    "EXACT = math.cos(X)\n",
    "\n",
    "H = [0.50000, 0.20000, 0.10000, 0.05000, 0.02000, 0.01000, 0.00500, 0.00200, 0.00100,\n",
    "    0.00050, 0.00020, 0.00010, 0.00005, 0.00002, 0.00001]\n",
    "\n",
    "class FDM:\n",
    "    def three_points_Sym(X, H):\n",
    "        FPRIME = (math.sin(X+H) - math.sin(X-H)) / (2*H)\n",
    "        return FPRIME\n",
    "    def two_points_FW(X, H):\n",
    "        FPRIME = (math.sin(X+H) - math.sin(X)) / H\n",
    "        return FPRIME\n",
    "    def two_points_BW(X, H):\n",
    "        FPRIME = (math.sin(X) - math.sin(X-H)) / H\n",
    "        return FPRIME\n",
    "    def five_points_Sym(X, H):\n",
    "        FPRIME = (math.sin(X-2*H) - 8*math.sin(X-H) + 8*math.sin(X+H) - math.sin(X+2*H)) / (12*H)\n",
    "        return FPRIME\n",
    "    \n",
    "cal_1 = FDM.three_points_Sym\n",
    "cal_2 = FDM.two_points_FW\n",
    "cal_3 = FDM.two_points_BW\n",
    "cal_4 = FDM.five_points_Sym\n",
    "\n",
    "print('---------------------------------------------------------------------------------------------------')\n",
    "print('  h      |   Symmetric 3-point   |    Forward 2-point   |   Backward 2-point   |   Symmetric 5-point')\n",
    "print('---------------------------------------------------------------------------------------------------')\n",
    "\n",
    "for h in H:\n",
    "    DIFF1   = EXACT - cal_1(X, h)\n",
    "    DIFF2   = EXACT - cal_2(X, h)\n",
    "    DIFF3   = EXACT - cal_3(X, h)\n",
    "    DIFF4   = EXACT - cal_4(X, h)\n",
    "    print(\" %1.5f        % 2.7f             % 2.7f            % 2.7f            % 2.7f\" % (h, DIFF1, DIFF2, DIFF3, DIFF4))\n",
    "print('---------------------------------------------------------------------------------------------------')"
   ]
  },
  {
   "cell_type": "code",
   "execution_count": null,
   "metadata": {},
   "outputs": [],
   "source": []
  }
 ],
 "metadata": {
  "kernelspec": {
   "display_name": "Python 3",
   "language": "python",
   "name": "python3"
  },
  "language_info": {
   "codemirror_mode": {
    "name": "ipython",
    "version": 3
   },
   "file_extension": ".py",
   "mimetype": "text/x-python",
   "name": "python",
   "nbconvert_exporter": "python",
   "pygments_lexer": "ipython3",
   "version": "3.7.2"
  }
 },
 "nbformat": 4,
 "nbformat_minor": 2
}
