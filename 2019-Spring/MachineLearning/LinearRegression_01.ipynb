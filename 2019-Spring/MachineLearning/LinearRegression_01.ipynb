{
 "cells": [
  {
   "cell_type": "code",
   "execution_count": 7,
   "metadata": {
    "scrolled": true
   },
   "outputs": [
    {
     "name": "stdout",
     "output_type": "stream",
     "text": [
      "x_new = [[1.5], [3.5], [5.5], [7.5], [9.5]]\n",
      "y_new = [[1.63021201]\n",
      " [3.57136728]\n",
      " [5.51252254]\n",
      " [7.45367781]\n",
      " [9.39483308]]\n"
     ]
    },
    {
     "data": {
      "image/png": "[encoded data removed]",
      "text/plain": [
       "<Figure size 360x360 with 1 Axes>"
      ]
     },
     "metadata": {
      "needs_background": "light"
     },
     "output_type": "display_data"
    }
   ],
   "source": [
    "from sklearn import linear_model\n",
    "import numpy as np\n",
    "\n",
    "# 1. Classifier\n",
    "clf = linear_model.LinearRegression()\n",
    "\n",
    "# 2. Training data: y=x with noise\n",
    "X = []\n",
    "Y = []\n",
    "\n",
    "for x in np.linspace(0, 10, 101):\n",
    "    noise = np.random.randint(-50, 50, 1)[0]/50.\n",
    "    X.append([x+noise])\n",
    "    noise = np.random.randint(-50, 50, 1)[0]/50.\n",
    "    Y.append([x+noise])\n",
    "\n",
    "# 3. Model construction\n",
    "clf.fit(X, Y)\n",
    "\n",
    "# Prediction\n",
    "x_new = [[1.5], [3.5], [5.5], [7.5], [9.5]]\n",
    "y_new = clf.predict(x_new)\n",
    "\n",
    "print (\"x_new =\", x_new)\n",
    "print (\"y_new =\", y_new)\n",
    "\n",
    "# 4. Plot\n",
    "import matplotlib.pyplot as plt\n",
    "fig = plt.figure(figsize=(5,5))\n",
    "fig1 = fig.add_subplot(111)\n",
    "fig1.axis([0., 10., 0., 10.])\n",
    "\n",
    "# Exact y=x\n",
    "fig1.plot(np.linspace(0,10,21), \n",
    "          np.linspace(0,10,21), 'k-', label='Exact')\n",
    "\n",
    "# Learning data with noise\n",
    "fig1.scatter(X, Y, color='k', label='Law data')\n",
    "\n",
    "# Prediction\n",
    "fig1.scatter(x_new, y_new, color='r', label='Predict')\n",
    "fig1.legend()\n",
    "plt.show()"
   ]
  },
  {
   "cell_type": "code",
   "execution_count": null,
   "metadata": {},
   "outputs": [],
   "source": []
  },
  {
   "cell_type": "code",
   "execution_count": null,
   "metadata": {},
   "outputs": [],
   "source": []
  },
  {
   "cell_type": "code",
   "execution_count": null,
   "metadata": {},
   "outputs": [],
   "source": []
  }
 ],
 "metadata": {
  "kernelspec": {
   "display_name": "Python 3",
   "language": "python",
   "name": "python3"
  },
  "language_info": {
   "codemirror_mode": {
    "name": "ipython",
    "version": 3
   },
   "file_extension": ".py",
   "mimetype": "text/x-python",
   "name": "python",
   "nbconvert_exporter": "python",
   "pygments_lexer": "ipython3",
   "version": "3.6.8"
  }
 },
 "nbformat": 4,
 "nbformat_minor": 2
}
