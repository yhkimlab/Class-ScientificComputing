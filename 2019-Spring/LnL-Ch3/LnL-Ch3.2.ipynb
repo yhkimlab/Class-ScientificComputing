{
 "cells": [
  {
   "cell_type": "markdown",
   "metadata": {},
   "source": [
    "# Linge & Langtagen, \"Programming for Computations\"\n",
    "## Ch. 3.2 The composite trapzoidal rule"
   ]
  },
  {
   "cell_type": "markdown",
   "metadata": {},
   "source": [
    "The integral $\\int_a^b f(x) dx $ may be interpreted as the area between the $x$ axis and the graph $y = f(x)$ of the integrand."
   ]
  },
  {
   "cell_type": "markdown",
   "metadata": {},
   "source": [
    "Computing the integral $\\int_0^1 f(t)dt$ amounts to computing the area of the hatched region."
   ]
  },
  {
   "cell_type": "markdown",
   "metadata": {},
   "source": [
    "Let see the example again, we set the $f(t)$ \n",
    "\n",
    "$$f(t) = 3t^2e^{t^3}$$"
   ]
  },
  {
   "cell_type": "code",
   "execution_count": 9,
   "metadata": {
    "scrolled": true
   },
   "outputs": [
    {
     "data": {
      "image/png": "[encoded data removed]",
      "text/plain": [
       "<Figure size 432x288 with 1 Axes>"
      ]
     },
     "metadata": {
      "needs_background": "light"
     },
     "output_type": "display_data"
    }
   ],
   "source": [
    "import numpy as np\n",
    "import matplotlib.pyplot as plt\n",
    "\n",
    "t = np.linspace(0,1,51)\n",
    "y = 3*t**2*np.exp(t**3)\n",
    "\n",
    "plt.plot(t,y, 'r-')\n",
    "plt.xlabel('$t$')\n",
    "plt.ylabel('$v(t)$')\n",
    "plt.show()"
   ]
  },
  {
   "cell_type": "markdown",
   "metadata": {},
   "source": [
    "If we $replace$ the true graph above by a set of straigh line segments, \n",
    "\n",
    "we may view the area rather as composed of $trapezoids$, the areas of wihch are easy to compute."
   ]
  },
  {
   "cell_type": "code",
   "execution_count": 10,
   "metadata": {},
   "outputs": [
    {
     "data": {
      "image/png": "[encoded data removed]",
      "text/plain": [
       "<Figure size 432x288 with 1 Axes>"
      ]
     },
     "metadata": {
      "needs_background": "light"
     },
     "output_type": "display_data"
    }
   ],
   "source": [
    "import numpy as np\n",
    "import matplotlib.pyplot as plt\n",
    "from matplotlib import collections as matcoll\n",
    "\n",
    "t1 = np.linspace(0,1,51)\n",
    "y1 = 3*t1**2*np.exp(t1**3)\n",
    "\n",
    "t2 = np.linspace(0,1,6)\n",
    "y2 = 3*t2**2*np.exp(t2**3)\n",
    "\n",
    "x_set = []\n",
    "y_set = []\n",
    "x_set.append(t2)\n",
    "y_set.append(y2)\n",
    "\n",
    "V_lines = []\n",
    "for i in range(6):\n",
    "    pair=[(x_set[0][i],0),(x_set[0][i],y_set[0][i])]\n",
    "    V_lines.append(pair)\n",
    "\n",
    "linecoll = matcoll.LineCollection(V_lines)\n",
    "fig, ax = plt.subplots()\n",
    "ax.add_collection(linecoll)\n",
    "\n",
    "plt.plot(t1,y1, 'r-')\n",
    "plt.plot(t2,y2, 'b-')\n",
    "plt.scatter(x_set[0],y_set[0])\n",
    "plt.xlabel('$t$')\n",
    "plt.ylabel('$v(t)$')\n",
    "plt.ylim(0,10)\n",
    "\n",
    "plt.show()"
   ]
  },
  {
   "cell_type": "markdown",
   "metadata": {},
   "source": [
    "The areas of the 5 trapezoids shown in above figure ($cf.$ the textbook Figure 3.2 shows 4 trapezoids example), now we consititue our approximation to the integral.\n",
    "\n",
    "$$\\int_0^1v(t)dt \\approx h_1(\\frac{v(0) + v(0.2)}{2})+h_2(\\frac{v(0.2) + v(0.4)}{2})+h_3(\\frac{v(0.4) + v(0.6)}{2})+h_4(\\frac{v(0.6) + v(0.8)}{2})+h_5(\\frac{v(0.8) + v(1.0)}{2})$$"
   ]
  },
  {
   "cell_type": "markdown",
   "metadata": {},
   "source": [
    "where\n",
    "$$h_1=h_2=h_3=h_4=h_5=0.2$$"
   ]
  },
  {
   "cell_type": "markdown",
   "metadata": {},
   "source": [
    "with $v(t) = 3t^2e^{t^3}$, each term in $h_n(v(t))$ is readily computed and our approximate computation gives"
   ]
  },
  {
   "cell_type": "code",
   "execution_count": 11,
   "metadata": {},
   "outputs": [
    {
     "name": "stdout",
     "output_type": "stream",
     "text": [
      "::: The 5 trapezoids result :::\n",
      "1.850852345028698\n"
     ]
    }
   ],
   "source": [
    "import numpy as np\n",
    "\n",
    "# x-axis points\n",
    "x = []\n",
    "t = np.linspace(0,1,6)\n",
    "\n",
    "for i in range(len(t)):\n",
    "    x.append(t[i])\n",
    "\n",
    "# interval \n",
    "h = ((float(t[-1])-float(t[0]))/(len(t)-1))\n",
    "\n",
    "# function\n",
    "y = lambda t: 3*t**2*np.exp(t**3)\n",
    "\n",
    "sum = 0\n",
    "for i in range(len(x)-1):\n",
    "    a = 0.5*(y(x[i])+y(x[i+1]))\n",
    "    sum += h*a\n",
    "\n",
    "print(\"::: The 5 trapezoids result :::\")\n",
    "print(sum)"
   ]
  },
  {
   "cell_type": "markdown",
   "metadata": {},
   "source": [
    "Compared to the true answer of 1.718, this is off by about 7.18%. However, note that we used just 5 trapezoids to approximate the area.\n",
    "\n",
    "With more trapezoids, the approximation would have become better, since the straigh line segm,ents in the upper trapezoid side then would follow the graph more closely.\n",
    "\n",
    "Doing another hand calculation with more trapezoids is not too tempting for a lazy human, though, but it is a perfect job for a computer!\n",
    "\n",
    "Let us therefore derive the expressions for approximating the integral by an arbitary number of trapezoids."
   ]
  },
  {
   "cell_type": "markdown",
   "metadata": {},
   "source": [
    "### Ch. 3.2.1 The general formula"
   ]
  },
  {
   "cell_type": "markdown",
   "metadata": {},
   "source": [
    "For a given function $f(x)$, wee want to approximate the integral $\\int_a^bf(x)dx$ by $n$ trapezoids (of equal width).\n",
    "\n",
    "We start out with above results and approximate each integral on the right hand side with a single trapezoid. In detail,"
   ]
  },
  {
   "cell_type": "markdown",
   "metadata": {},
   "source": [
    "$$\\int_a^bf(x)dx = \\int_{x_0}^{x_1}f(x)dx + \\int_{x_1}^{x_2}f(x)dx + \\ldots + \\int_{x_{n-1}}^{x_n}f(x)dx,$$\n",
    "\n",
    "\n",
    "$$\\approx h(\\frac{f(x_{0}) + f(x_{1})}{2}) + h(\\frac{f(x_{1}) + f(x_{2})}{2}) + \\ldots + h(\\frac{f(x_{n-1}) + f(x_{n})}{2}) $$"
   ]
  },
  {
   "cell_type": "markdown",
   "metadata": {},
   "source": [
    "By simplifying the right hand side of trapezoidal figure we get"
   ]
  },
  {
   "cell_type": "markdown",
   "metadata": {},
   "source": [
    "$$\\int_a^bf(x)dx \\approx \\frac{h}{2}[f(x_{0}) + 2f(x_{1}) + 2f(x_{2})+ \\ldots + 2f(x_{n-1}) + f(x_{n})] $$"
   ]
  },
  {
   "cell_type": "markdown",
   "metadata": {},
   "source": [
    "which is more compactly written as"
   ]
  },
  {
   "cell_type": "markdown",
   "metadata": {},
   "source": [
    "$$\\int_a^bf(x)dx \\approx h[\\frac{1}{2}f(x_{0}) + \\sum_{i=1}^{n-1}f(x_{i}) + \\frac{1}{2}f(x_{n})]$$"
   ]
  },
  {
   "cell_type": "markdown",
   "metadata": {},
   "source": [
    "### Ch. 3.2.2 Implementation"
   ]
  },
  {
   "cell_type": "markdown",
   "metadata": {},
   "source": [
    "Implementation with functions.\n",
    "\n",
    "For the integral $\\int_a^bf(x)dx$ computed by the formula (3.17) in textbook, we want the corresponding Python function $trapezoid$ to take any $f$, $a$, $b$ and $n$ as input and return the approximation to the integral."
   ]
  },
  {
   "cell_type": "markdown",
   "metadata": {},
   "source": [
    "We write a Python function $trapezoidal$ in a file $trapezoidal.py$ as close as possible to the formula above, making sure variable names correspond to the mathematical notation.\n",
    "\n",
    "Solving our specific problem in a session."
   ]
  },
  {
   "cell_type": "code",
   "execution_count": 12,
   "metadata": {},
   "outputs": [
    {
     "name": "stdout",
     "output_type": "stream",
     "text": [
      "::: The number of points :::\n",
      "n = 4\n",
      "-----------------------------\n",
      "::: Nunmerical :::\n",
      "1.9227167504675762\n",
      "-----------------------------\n",
      "::: Exact :::\n",
      "1.718281828459045\n",
      "-----------------------------\n",
      "::: Error :::\n",
      "-0.20443492200853108\n",
      "-----------------------------\n"
     ]
    }
   ],
   "source": [
    "import numpy as np\n",
    "\n",
    "def trapezoidal(f, a, b, n):\n",
    "    h = float(b-a)/n\n",
    "    result = 0.5*f(a) + 0.5*f(b)\n",
    "    for i in range(1, n):\n",
    "        result += f(a + i*h)\n",
    "    result *= h\n",
    "    return result\n",
    "\n",
    "# Solving our specific problem\n",
    "\n",
    "v = lambda t : 3*(t**2)*np.exp(t**3)\n",
    "n = 4                                   #### try a larger n ###\n",
    "print(\"::: The number of points :::\")\n",
    "print(\"n =\", n)\n",
    "print(\"-----------------------------\")\n",
    "\n",
    "numerical = trapezoidal(v, 0, 1, n)\n",
    "print(\"::: Nunmerical :::\")\n",
    "print(numerical)\n",
    "print(\"-----------------------------\")\n",
    "\n",
    "V = lambda t: np.exp(t**3)\n",
    "exact = V(1) - V(0)\n",
    "print(\"::: Exact :::\")\n",
    "print(exact)\n",
    "print(\"-----------------------------\")\n",
    "\n",
    "difference = exact - numerical\n",
    "print(\"::: Error :::\")\n",
    "print(difference)\n",
    "print(\"-----------------------------\")"
   ]
  },
  {
   "cell_type": "markdown",
   "metadata": {},
   "source": [
    "### Ch. 3.2.3 Making a module"
   ]
  },
  {
   "cell_type": "markdown",
   "metadata": {},
   "source": [
    "When we have the different pieces of our program as a collection of functions, it is very straighforward to create a $module$ that can be imported in othre programs.\n",
    "\n",
    "That is, having our code as a module, means that the $trapezoidal$ function can easily be reused by other programs to solve other problems.\n"
   ]
  },
  {
   "cell_type": "code",
   "execution_count": 13,
   "metadata": {},
   "outputs": [
    {
     "name": "stdout",
     "output_type": "stream",
     "text": [
      "Put the number of points\n"
     ]
    },
    {
     "name": "stdin",
     "output_type": "stream",
     "text": [
      "n:   450\n"
     ]
    },
    {
     "name": "stdout",
     "output_type": "stream",
     "text": [
      "n=   450:   1.7182986079226454, error:   -1.67795e-05\n"
     ]
    }
   ],
   "source": [
    "from trapezoidal_with_application import trapezoidal, application\n",
    "\n",
    "if __name__ == '__main__':\n",
    "    print(\"Put the number of points\")\n",
    "    application()"
   ]
  },
  {
   "cell_type": "markdown",
   "metadata": {},
   "source": [
    "### Ch. 3.2.4 Alternative flat special-purpose implementation"
   ]
  },
  {
   "cell_type": "markdown",
   "metadata": {},
   "source": [
    "Let us illustrate the implementation implied by alternative 1 in the $Programmer's$ $dilemma$ $box$ in textbook Section 3.2.2. \n",
    "\n",
    "That is, we make a special-purpose code where we adapt the general formula to the specific problem $\\int_0^13t^2e^{t^{3}}dt$.\n",
    "\n",
    "Basically, we use a for loop to compute the sum. Each term with $f(x)$ in the formula (3.17) in textbook is replaced by $3t^2e^{t^{3}}$, $x$ by $t$, and $h$ by $\\Delta t$.\n",
    "\n",
    "A first try at writing a plain, flat program doing the special calculation is"
   ]
  },
  {
   "cell_type": "code",
   "execution_count": 14,
   "metadata": {},
   "outputs": [
    {
     "name": "stdin",
     "output_type": "stream",
     "text": [
      "n:  450\n"
     ]
    },
    {
     "name": "stdout",
     "output_type": "stream",
     "text": [
      "n=450: 1.7182986079226454, error: 1.67795e-05\n"
     ]
    }
   ],
   "source": [
    "from math import exp\n",
    "\n",
    "a = 0.0 ; b = 1.0\n",
    "n = input('n: ')\n",
    "dt = float(b - a) / int(n)\n",
    "\n",
    "# Integral by the trapezoidal method\n",
    "numerical = 0.5*3*(a**2)*exp(a**3) + 0.5*3*(b**2)*exp(b**3)\n",
    "for i in range(1, int(n)):\n",
    "    numerical += 3*((a + i*dt)**2)*exp((a + i*dt)**3)\n",
    "numerical *= dt\n",
    "\n",
    "exact_value = exp(1**3) - exp(0**3)\n",
    "error = abs(exact_value - numerical)\n",
    "rel_error = (error/exact_value)*100\n",
    "print('n=%d: %.16f, error: %g' % (int(n), numerical, error))"
   ]
  },
  {
   "cell_type": "markdown",
   "metadata": {},
   "source": [
    "The problem with the above code is at least three-fold:\n",
    "    \n",
    "1. We need to reformulate (3.17) in textbook for our special problem withj a different notation.\n",
    "2. The integrand $3t^2e^t{^3}$ is inserted many times in the code, which quickly leads to erros.\n",
    "3. A lot of edits are necessary to use the code to compute a different integral - these edits are likely to introduce erros."
   ]
  },
  {
   "cell_type": "markdown",
   "metadata": {},
   "source": [
    "The Potential errors involved in point 2 serve to illustrate how important it is to use Python functions as mathematical functions.\n",
    "\n",
    "Here we have chosen to use the lambda function to define the integrand as the virable v:"
   ]
  },
  {
   "cell_type": "code",
   "execution_count": 15,
   "metadata": {},
   "outputs": [
    {
     "name": "stdin",
     "output_type": "stream",
     "text": [
      "n:  450\n"
     ]
    },
    {
     "name": "stdout",
     "output_type": "stream",
     "text": [
      "n=450: 1.7182986079226454, error: 1.67795e-05\n"
     ]
    }
   ],
   "source": [
    "from math import exp\n",
    "\n",
    "v = lambda t: 3*(t**2)*exp(t**3) # Function to be integrated\n",
    "a = 0.0 ; b = 1.0\n",
    "n = input('n: ')\n",
    "dt = float(b - a) / int(n)\n",
    "\n",
    "# Integral by the trapezoidal method\n",
    "numerical = 0.5*v(a) + 0.5*v(b)\n",
    "for i in range(1, int(n)):\n",
    "    numerical += v(a + i*dt)\n",
    "numerical *= dt\n",
    "\n",
    "F = lambda t: exp(t**3)\n",
    "exact_value = F(b) - F(a)\n",
    "error = abs(exact_value - numerical)\n",
    "rel_error = (error/exact_value)*100\n",
    "print('n=%d: %.16f, error: %g' % (int(n), numerical, error))"
   ]
  },
  {
   "cell_type": "markdown",
   "metadata": {},
   "source": [
    "Unfortunately, the two other probelms remain and they are fundamental.\n",
    "\n",
    "Suppose you want to compute another integral, say $\\int_{-1}^{1.1}e^{-x^{2}}dx$. How much do we need to change in the previous code to compute the new integral?\n",
    "\n",
    "Not so much:"
   ]
  },
  {
   "cell_type": "markdown",
   "metadata": {},
   "source": [
    "$\\diamond$ the formula for $v$ must be replaced by a new formula\n",
    "\n",
    "$\\diamond$ the limits $a$ and $b$\n",
    "\n",
    "$\\diamond$ the anti-derivative $V$ is not easily known and can be omitted, and therefore we cannot write out the error\n",
    "\n",
    "$\\diamond$ the notation should be changed to be alighned with the new problem, i.e., $t$ and $dt$ changed to $x$ and $h$\n"
   ]
  },
  {
   "cell_type": "markdown",
   "metadata": {},
   "source": [
    "With the previous code in $trapezoidal.py$, we can compute the new integral $\\int_{-1}^{1.1}e^{-x^{2}}dx$ $without$ $touching$ $the$ $mathematical$ $algorithm$. "
   ]
  },
  {
   "cell_type": "code",
   "execution_count": 16,
   "metadata": {},
   "outputs": [
    {
     "name": "stdout",
     "output_type": "stream",
     "text": [
      "1.5268823686123285\n"
     ]
    }
   ],
   "source": [
    "from trapezoidal import trapezoidal\n",
    "from math import exp\n",
    "val = trapezoidal(lambda x: exp(-x**2), -1, 1.1, 400)\n",
    "\n",
    "print(val)"
   ]
  },
  {
   "cell_type": "markdown",
   "metadata": {},
   "source": [
    "When you now loock back at the two solutions, the flat special-purpose program and the function-based program with the general-purpose function $trapezoidal$,\n",
    "\n",
    "you hopefully realize that $implementing$ $a$ $gneral$ $mathematical$ $algorithm$ $in$ $a$ $general$ $function$ requires somewhat more abstract thinking, but the resulting code can be used over and over again."
   ]
  },
  {
   "cell_type": "code",
   "execution_count": null,
   "metadata": {},
   "outputs": [],
   "source": []
  }
 ],
 "metadata": {
  "kernelspec": {
   "display_name": "Python 3",
   "language": "python",
   "name": "python3"
  },
  "language_info": {
   "codemirror_mode": {
    "name": "ipython",
    "version": 3
   },
   "file_extension": ".py",
   "mimetype": "text/x-python",
   "name": "python",
   "nbconvert_exporter": "python",
   "pygments_lexer": "ipython3",
   "version": "3.7.1"
  }
 },
 "nbformat": 4,
 "nbformat_minor": 2
}
