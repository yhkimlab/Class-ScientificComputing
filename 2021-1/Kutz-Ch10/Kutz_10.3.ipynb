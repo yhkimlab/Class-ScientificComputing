{
 "cells": [
  {
   "cell_type": "markdown",
   "metadata": {},
   "source": [
    "### 2021 Spring \"EE479: Scientific Computing & Data\"\n",
    "#### Yong-Hoon Kim, KAIST Electrical Engineering\n",
    "#### Kutz 10.3 Spectral Method implementation\n",
    "##### Writer: Yumin Song\n",
    "\n",
    "###### 2021. 05. 25 revised                                                             "
   ]
  },
  {
   "cell_type": "markdown",
   "metadata": {},
   "source": [
    "In this section, we will consider an algorithm which implements a spectral method solution technique. we begin by considering the general partial differential equation.\n",
    "\n",
    "$$ \\frac{\\partial{u}}{\\partial{t}}=Lu + N(u) $$"
   ]
  },
  {
   "cell_type": "markdown",
   "metadata": {},
   "source": [
    "where L is a linear, constant coefficient operator, $ L = ad^2/dx^2 + bd/dx +c $ where a,b and c  are constants. \n",
    "The second term $N(u)$ includes the nonlinear and nonconstant coefficient terms.\n",
    "\n",
    "And example of is  $N(u)=u^{3} + f(x)u + g(x)d^2u/dx^2  $. By applying a Fourier transform, the equation reduce to the system of differential equations.\n",
    "\n",
    "$$ \\frac{d\\widehat{u}}{dt} = \\alpha(k)\\widehat{u} + \\widehat{N(u)}   $$\n",
    "\n",
    "This can be expressed\n",
    "\n",
    "$$ \\widehat{u_{t}} = \\widehat{a\\frac{d^{2}u}{dx^2} + b\\frac{du}{dx} + cu  }  = -ak^2\\widehat{u} +ikb\\widehat{u} + c\\widehat{u}    $$ \n",
    "$$  \\alpha(k)  = -ak^2 +ikb + c  $$\n",
    "\n",
    "The nonlinear terms are a bit more difficult to handle.\n",
    "\n",
    "Consider the following examples\n",
    "\n",
    "#### 1. $f(x)du/dx$\n",
    "\n",
    "$\\bullet$ determine $du/dx \\rightarrow \\widehat{du/dx} = ik\\widehat{u}, du/dx = FFT^{-1}(ik\\widehat{u})  $ \n",
    "\n",
    "$\\bullet$ multiply by $f(x)\\rightarrow f(x)du/dx   $ \n",
    "\n",
    "$\\bullet$ Fourier transform $ FFT(f(x)du/dx) $\n",
    "\n",
    "#### 2. $u^3$\n",
    "\n",
    "$\\bullet$ Fourier transform $ FFT(u^{3}) $\n",
    "\n",
    "#### 3. $u^3d^2u/dx^2$\n",
    "\n",
    "$\\bullet$ determine $d^{2}u/dx^{2} \\rightarrow \\widehat{d^{2}u/dx^{2}} = (ik)^{2}\\widehat{u}, d^{2}u/dx^{2} = FFT^{-1}(-k^{2}\\widehat{u})  $ \n",
    "\n",
    "$\\bullet$ multiply by $u^{3} \\rightarrow u^{3}d^{2}u/dx^{2}   $ \n",
    "\n",
    "$\\bullet$ Fourier transform $ FFT(u^{3}d^{2}u/dx^{2}) $\n",
    "\n",
    "This systme can be stepped forward in time with any of the standard time-stepping.\n",
    "\n",
    "We can apply this scheme to advection-diffusion equations spectrally.\n",
    "\n",
    "Advection-diffusion equation explains advection according to time.\n",
    "\n",
    "Advection-diffusion equation is as follows.\n",
    "\n",
    "$$ w_{t} = \\nu \\triangledown^{2}w - [\\psi,w]    $$\n",
    "\n",
    "$$ w_{t} = \\nu \\triangledown^{2}w - \\psi_{x}w_{y} + \\psi_{y}w_{x}    $$\n",
    "\n",
    "where $ \\triangledown^{2}\\psi = w $ . $ \\psi $ is streamfunction and $ w $ is vorticity.\n",
    "\n",
    "Fourier transform of this equation is \n",
    "\n",
    "$$  \\widehat{w_{t}} = -\\nu(K_{x}^2 + K_{y}^2) \\widehat{w} - \\widehat{ \\psi_{x}w_{y}} + \\widehat{\\psi_{y}w_{x}}  $$ \n",
    "\n",
    "\n",
    "The inital condition and parameter is as follows. The time step is 0,2,4,6,8,10. The computational domain is $x \\in [-10,10] $ and $y \\in [-10,10] $. The diffusion parameter is $\\nu = 0.001. $ The initial conditions are then defined as a stretched Gaussian of the form $ w(x,y,0) = exp(-0.25x^{2} - y^{2}) $.\n",
    "\n",
    "The code implementation is as follows."
   ]
  },
  {
   "cell_type": "code",
   "execution_count": 1,
   "metadata": {},
   "outputs": [],
   "source": [
    "import numpy as np\n",
    "import matplotlib.pyplot as plt\n",
    "from  scipy.fft import fft , ifft, fft2, ifft2\n",
    "from scipy.integrate import solve_ivp\n",
    "\n",
    "tspan = np.linspace(0,10,6)\n",
    "nu=0.001\n",
    "Lx=20; Ly=20; nx=64; ny=64; N=nx*ny;\n",
    "\n",
    "x2=np.linspace(-Lx/2,Lx/2,nx+1); x=x2[0:nx];\n",
    "y2=np.linspace(-Ly/2,Ly/2,ny+1); y=y2[0:ny];\n",
    "[X,Y]=np.meshgrid(x,y);\n",
    "X = X.T\n",
    "Y = Y.T\n",
    "w=1*np.exp(-0.25*X**2-Y**2);\n",
    "\n",
    "#plt.contourf(x, y, w)"
   ]
  },
  {
   "cell_type": "markdown",
   "metadata": {},
   "source": [
    "The spc_rhs function describes the Fourier transformed differential equation.\n",
    "The code will quickly and efficiently solve the advection-diffusion equations in two dimensions.\n",
    "\n",
    "For solving PDE, we firstly solve the elliptic problem \n",
    "\n",
    "$$ \\triangledown^{2}\\psi = w_{0}   $$\n",
    "\n",
    "Retransforming in both x and y reduces the streamfunction equation by using Fourier transform.\n",
    "\n",
    " $$  \\widehat{\\psi} = -\\frac{\\widehat{w}}{k_{x}^2+k_{y}^2} $$  \n",
    " \n",
    "From that result, we can treat nonlinear term.\n",
    "\n",
    "For calculate, \n",
    "\n",
    "$$  \\widehat{w_{t}} = -\\nu(k_{x}^2 + k_{y}^2) \\widehat{w} - \\widehat{ \\psi_{x}w_{y}} + \\widehat{\\psi_{y}w_{x}}  $$ \n",
    "\n",
    "we can use Fourier transform, as explained above.\n",
    "\n",
    "\n",
    "$\\bullet$ determine $dw/dx \\rightarrow \\widehat{dw/dx} = ik\\widehat{w}, dw/dx = FFT^{-1}(ik\\widehat{w})  $ \n",
    "\n",
    "$  w_{x}  =  FFT^{-1}(ik_{x}\\widehat{w})  $ \n",
    "\n",
    "$  w_{y}  =  FFT^{-1}(ik_{y}\\widehat{w})  $ \n",
    " \n",
    " \n",
    "$\\bullet$ multiply by $f(x)\\rightarrow f(x)dw/dx   $  using\n",
    "\n",
    "$  \\psi_{x}  =  FFT^{-1}(ik_{x}\\widehat{\\psi})  $  \n",
    "\n",
    "$  \\psi_{y}  =  FFT^{-1}(ik_{y}\\widehat{\\psi})  $ \n",
    "\n",
    "to make $  \\psi_{x}w_{y} + \\psi_{y}w_{x}    $\n",
    "\n",
    "\n",
    "$\\bullet$ Fourier transform $ FFT(f(x)du/dx) $\n",
    "\n",
    "$FFT( \\psi_{x}w_{y} + \\psi_{y}w_{x}  )$\n",
    "\n",
    "Follow these procedures, we can calculate PDE using FFT.\n",
    "\n",
    "For time stepping we use scipy.solve_ivp which use Runge-Kutta method for solving ODEs."
   ]
  },
  {
   "cell_type": "code",
   "execution_count": 2,
   "metadata": {},
   "outputs": [
    {
     "name": "stderr",
     "output_type": "stream",
     "text": [
      "C:\\Users\\song\\anaconda3\\lib\\site-packages\\numpy\\core\\_asarray.py:85: ComplexWarning: Casting complex values to real discards the imaginary part\n",
      "  return array(a, dtype, copy=False, order=order)\n"
     ]
    },
    {
     "data": {
      "image/png": "[encoded data removed]",
      "text/plain": [
       "<Figure size 432x288 with 6 Axes>"
      ]
     },
     "metadata": {
      "needs_background": "light"
     },
     "output_type": "display_data"
    }
   ],
   "source": [
    "kx = np.zeros(nx)\n",
    "for i in range(int(nx/2-1)+1):\n",
    "    kx[i] = i\n",
    "    kx[int(nx/2-1)+i+1] = -int(nx/2-1)+i-1\n",
    "kx = kx* 2*np.pi/Lx\n",
    "kx[0] = 10**(-6)\n",
    "ky = np.zeros(ny)\n",
    "for i in range(int(ny/2-1)+1):\n",
    "    ky[i] = i\n",
    "    ky[int(ny/2-1)+i+1] = -int(ny/2-1)+i-1\n",
    "ky = ky* 2*np.pi/Ly\n",
    "ky[0] = 10**(-6)\n",
    "KX = np.zeros((64,64))\n",
    "[KX,KY]=np.meshgrid(kx,ky);\n",
    "KX = KX.T\n",
    "KY = KY.T\n",
    "K=KX**2+KY**2;\n",
    "\n",
    "wt =fft2(w)\n",
    "wt2 = wt.real\n",
    "wt2 = wt2.reshape((len(wt)*len(wt)))\n",
    "\n",
    "def spc_rhs(t,wt2):\n",
    "    wtt = wt2.reshape(len(wt)*len(wt),1,order='F')\n",
    "    wtt = wt2.reshape(64,64)\n",
    "    \n",
    "    psit = -wtt/K\n",
    "    \n",
    "    psix = (ifft2(1j*KX*psit)).real\n",
    "    psiy = (ifft2(1j*KY*psit)).real \n",
    "    \n",
    "    wx = (ifft2(1j*KX*wtt)).real\n",
    "    wy = (ifft2(1j*KY*wtt)).real\n",
    "    rhs = -nu*K*wtt+fft2(wx*psiy-wy*psix)\n",
    "    rhs =  rhs.reshape(N)\n",
    "    return rhs\n",
    "\n",
    "sol = solve_ivp (spc_rhs,[0,10], wt2, t_eval=[0, 2, 4, 6, 8,10] )\n",
    "\n",
    "T = sol.t\n",
    "F = sol.y\n",
    "\n",
    "levels = np.linspace(0.01,1,100)\n",
    "for j in range(len(tspan)):\n",
    "    plt.subplot(2,3,j+1)\n",
    "    wf = ifft2(F[:,j].reshape(nx,ny)).real\n",
    "    CS = plt.contour(X, Y, wf, levels)   # set levels automatically\n",
    "  #  plt.title(j)\n",
    "   # plt.colorbar()"
   ]
  },
  {
   "cell_type": "markdown",
   "metadata": {},
   "source": [
    "The code results show the behavior of the vorticity. \n",
    "The stretched Gaussian is seen to rotate while advecting and diffusing vorticity as times goes on(0s,2s,4s,6s,8s,10s).."
   ]
  }
 ],
 "metadata": {
  "kernelspec": {
   "display_name": "Python 3",
   "language": "python",
   "name": "python3"
  },
  "language_info": {
   "codemirror_mode": {
    "name": "ipython",
    "version": 3
   },
   "file_extension": ".py",
   "mimetype": "text/x-python",
   "name": "python",
   "nbconvert_exporter": "python",
   "pygments_lexer": "ipython3",
   "version": "3.8.3"
  }
 },
 "nbformat": 4,
 "nbformat_minor": 4
}
