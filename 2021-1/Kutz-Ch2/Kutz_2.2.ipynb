{
 "cells": [
  {
   "cell_type": "markdown",
   "metadata": {},
   "source": [
    "### 2021 Spring \"EE479: Scientific Computing & Data\"\n",
    "#### Kutz 2.2 Iterative Solution Methods for Ax=b\n",
    "##### Yumin Song (KAIST EE Yong-Hoon Kim Group) \n",
    "\n",
    "###### 2021. 04. 28 revised                                                             "
   ]
  },
  {
   "cell_type": "markdown",
   "metadata": {},
   "source": [
    "Iteration method idea is start to with an initial guess for the solution and develop an iterative procedure that will converge to the solution. In this case, we consider the linear system\n",
    "\n",
    "$$ 4x - y + z = 7 $$\n",
    "$$ 4x -8y + z = -21 $$\n",
    "$$ -2x + y + 5z = 15 $$\n",
    "\n",
    "Then, we can rewrite each equation as follows\n",
    " \n",
    "$$ x = \\frac{7+y-z}{4} $$\n",
    "$$ y = \\frac{21+4x+z}{8} $$\n",
    "$$ z = \\frac{15+2x-y}{5} $$\n",
    "\n",
    "To solve the system iteratively, we can define the following Jacobi iteration scheme based on the above equations.\n",
    "\n",
    "$$ x_{k+1} = \\frac{7+y_{k}+z_{k}}{4} $$\n",
    "$$ y_{k+1} = \\frac{21+4x_{k}+z_{k}}{8} $$\n",
    "$$ z_{k+1} = \\frac{15+2x_{k}-y_{k}}{5} $$\n",
    "\n",
    "Algorithm:\n",
    "\n",
    "1 Guess initial values: $(x_{0}, y_{0}, z_{0})$.\n",
    "\n",
    "2 Iterate the Jacobi scheme: $x_{k+1} = D^{−1}((D − A)x_{k} + b)$.\n",
    "\n",
    "3 Check for convergence: $ \\vert x_{k+1} − x_{k} \\vert $ < tolerance.\n"
   ]
  },
  {
   "cell_type": "code",
   "execution_count": 8,
   "metadata": {},
   "outputs": [
    {
     "name": "stdout",
     "output_type": "stream",
     "text": [
      "initial= 1.0 2.0 2.0\n",
      "\n",
      "Iteration\tx\ty\tz\n",
      "\n",
      "0\t 1.7500  3.3750 3.0000 \n",
      "1\t 1.8438  3.8750 3.0250 \n",
      "2\t 1.9625  3.9250 2.9625 \n",
      "3\t 1.9906  3.9766 3.0000 \n",
      "4\t 1.9941  3.9953 3.0009 \n",
      "5\t 1.9986  3.9972 2.9986 \n",
      "6\t 1.9996  3.9991 3.0000 \n",
      "7\t 1.9998  3.9998 3.0000 \n",
      "8\t 1.9999  3.9999 2.9999 \n",
      "9\t 2.0000  4.0000 3.0000 \n",
      "10\t 2.0000  4.0000 3.0000 \n",
      "11\t 2.0000  4.0000 3.0000 \n",
      "12\t 2.0000  4.0000 3.0000 \n",
      "13\t 2.0000  4.0000 3.0000 \n",
      "14\t 2.0000  4.0000 3.0000 \n",
      "15\t 2.0000  4.0000 3.0000 \n",
      "16\t 2.0000  4.0000 3.0000 \n",
      "17\t 2.0000  4.0000 3.0000 \n",
      "18\t 2.0000  4.0000 3.0000 \n",
      "19\t 2.0000  4.0000 3.0000 \n",
      "final root x: [2. 4. 3.]\n"
     ]
    }
   ],
   "source": [
    "import numpy as np \n",
    "from numpy import array, zeros, diag, diagflat, dot\n",
    "from numpy.linalg import inv\n",
    "\n",
    "def jacobi(A,b,N=25,x=None):\n",
    "    \"\"\"Solves the equation Ax=b via the Jacobi iterative method.\"\"\"\n",
    "    # Create an initial guess if needed                                                                                                                                                            \n",
    "    if x is None:\n",
    "        x = zeros(len(A[0]))\n",
    "    print('initial=',x[0],x[1],x[2])\n",
    "    # Create a vector of the diagonal elements of A  and subtract them from A                                                                                                                                           \n",
    "    D = diag(A)\n",
    "    R = A - diagflat(D)\n",
    "    print('\\nIteration\\tx\\ty\\tz\\n')\n",
    "    # Iterate for N times                                                                                                                                                                          \n",
    "    for i in range(N):        \n",
    "        x_k =  (b - dot(R,x)) / D\n",
    "        if np.sqrt(sum(np.square(abs(x_k - x)))) < 2 * 10**(-9):\n",
    "            x = x_k\n",
    "            print('%d\\t %0.4f  %0.4f %0.4f ' %(i,x[0],x[1],x[2]))\n",
    "            break\n",
    "        else :\n",
    "            x = x_k\n",
    "            print('%d\\t %0.4f  %0.4f %0.4f ' %(i,x[0],x[1],x[2]))\n",
    "    return x\n",
    "\n",
    "guess = array([1.0,2.0,2.0])\n",
    "### Convergence input \n",
    "A = array([[4.0,-1.0,1.0],[4.0,-8.0,1.0],[-2.0,1.0,5.0]])\n",
    "b = array([7.0,-21.0,15.0])\n",
    "\n",
    "sol = jacobi(A,b,N=25,x=guess)\n",
    "print(\"final root x:\",sol)"
   ]
  },
  {
   "cell_type": "markdown",
   "metadata": {},
   "source": [
    "#### Strictly diagonal dominant"
   ]
  },
  {
   "cell_type": "markdown",
   "metadata": {},
   "source": [
    "Does this algorithm always converge?\n",
    "We can reconsider the original system by interchanging the first and last set of\n",
    "equations. This gives the system\n",
    "\n",
    "$$ -2x + y + 5z = 15 $$\n",
    "$$ 4x -8y + z = -21 $$\n",
    "$$ 4x - y + z = 7 $$\n",
    "\n",
    "The calculation results shows that algorithm fails in this case.  \n"
   ]
  },
  {
   "cell_type": "code",
   "execution_count": 9,
   "metadata": {},
   "outputs": [
    {
     "name": "stdout",
     "output_type": "stream",
     "text": [
      "initial= 1.0 2.0 2.0\n",
      "\n",
      "Iteration\tx\ty\tz\n",
      "\n",
      "0\t -1.5000  3.3750 5.0000 \n",
      "1\t 6.6875  2.5000 16.3750 \n",
      "2\t 34.6875  8.0156 -17.2500 \n",
      "3\t -46.6172  17.8125 -123.7344 \n",
      "4\t -307.9297  -36.1504 211.2812 \n",
      "5\t 502.6279  -124.9297 1202.5684 \n",
      "6\t 2936.4561  404.2600 -2128.4414 \n",
      "7\t -5126.4735  1204.7979 -11334.5642 \n",
      "8\t -27741.5116  -3977.4323 21717.6919 \n",
      "9\t 52298.0136  -11153.4193 106995.6141 \n",
      "10\t 261904.8256  39526.0836 -220338.4737 \n",
      "11\t -531090.6425  103412.7286 -1008086.2189 \n",
      "12\t -2468516.6829  -391553.4736 2227782.2984 \n",
      "13\t 5373671.5092  -955782.9291 9482520.2579 \n",
      "14\t 23228401.6802  3872153.4119 -22450461.9661 \n",
      "15\t -54190085.7092  8807895.7194 -89041446.3090 \n",
      "16\t -218199675.4128  -38225221.0182 225568245.5561 \n",
      "17\t 544807995.8813  -80903804.3869 834573487.6331 \n",
      "18\t 2045981809.3894  376725686.5198 -2260135780.9119 \n",
      "19\t -5461976616.5199  740473934.7057 -7807201544.0377 \n",
      "20\t -19147766900.2414  -3706888498.6397 22588380407.7852 \n",
      "21\t 54617506762.6433  -6750335896.5225 72884179109.3258 \n",
      "22\t 178835279817.5532  36419275772.6124 -225220362940.0956 \n",
      "23\t -544841269471.4330  61265094543.8896 -678921843490.6003 \n",
      "24\t -1666672061462.0562  -357285865169.4165 2240630172436.6216 \n",
      "final root x: [-1.66667206e+12 -3.57285865e+11  2.24063017e+12]\n"
     ]
    }
   ],
   "source": [
    "guess = array([1.0,2.0,2.0])\n",
    "### Divergence input\n",
    "A = array([[-2.0,1.0,5.0],[4.0,-8.0,1.0],[4.0,-1.0,1.0]])\n",
    "b = array([15.0,-21.0,7.0])\n",
    "\n",
    "sol = jacobi(A,b,N=25,x=guess)\n",
    "print(\"final root x:\",sol)"
   ]
  },
  {
   "cell_type": "markdown",
   "metadata": {},
   "source": [
    "The difference in the two Jacobi example above is related to strictly diagonal dominant characteristic. \n",
    "The definition of strict diagonal dominace is as follows:\n",
    "\n",
    "$ \\vert a_{kk} \\vert  > \\sum\\limits_{j=1,j\\neq k}^{N}\\vert a_{kj} \\vert  $ \n",
    "\n",
    "Strict diagonal dominance means that absolute value of diagonal component is larger than off diagonal value. \n",
    "For the two examples considered here.\n",
    "\n",
    "$A = $ $\\left[\\begin{array}{rrr} \n",
    "4&-1&1\\\\\n",
    "4&-8&1\\\\\n",
    "-2&1&5\\\\\n",
    "\\end{array}\\right]$\n",
    "\n",
    "row 1: $ \\vert 4 \\vert  >  \\vert -1 \\vert +  \\vert 1 \\vert =2 $ \n",
    "\n",
    "row 2: $ \\vert 8 \\vert  >  \\vert 4 \\vert +  \\vert 1 \\vert =5 $ \n",
    "\n",
    "row 3: $ \\vert 5 \\vert  >  \\vert 2 \\vert +  \\vert 1 \\vert =3 $ \n",
    "\n",
    "which shows the system to be strictly diagonal dominant and guaranteed to converge.\n",
    "\n",
    "In contrast,the second system is not stricly diagonal dominant as can be seen from\n",
    "\n",
    "$A = $ $\\left[\\begin{array}{rrr} \n",
    "-2&1&5\\\\\n",
    "4&-8&1\\\\\n",
    "4&-1&1\\\\\n",
    "\\end{array}\\right]$\n",
    "\n",
    "row 1: $ \\vert -2 \\vert  >  \\vert 4 \\vert +  \\vert 1 \\vert =6 $ \n",
    "\n",
    "row 2: $ \\vert -8 \\vert  >  \\vert 4 \\vert +  \\vert 1 \\vert =5 $ \n",
    "\n",
    "row 3: $ \\vert 1 \\vert  <  \\vert 4 \\vert +  \\vert -1 \\vert =5 $ \n",
    "\n",
    "Thus this scheme is not guaranteed to converge. Therefore, it diverges to infinity"
   ]
  },
  {
   "cell_type": "markdown",
   "metadata": {},
   "source": [
    "#### Modification and enhancements: Gauss-Seidel "
   ]
  },
  {
   "cell_type": "markdown",
   "metadata": {},
   "source": [
    "Modifications can be applied to the Jacobi system to improve the system's converge\n",
    "For instance, the Jacobi scheme given by above example can be enhanced by the\n",
    "following modifications\n",
    "\n",
    "$$ x_{k+1} = \\frac{7+y_{k}+z_{k}}{4} $$\n",
    "$$ y_{k+1} = \\frac{21+4x_{k+1}+z_{k}}{8} $$\n",
    "$$ z_{k+1} = \\frac{15+2x_{k+1}-y_{k+1}}{5} $$"
   ]
  },
  {
   "cell_type": "markdown",
   "metadata": {},
   "source": [
    "Here use is made of the improved value $x_{k+1}$ in the second equation and $x_{k+1}$ and\n",
    "$y_{k+1}$ in the third equation. This is known as the Gauss–Seidel scheme."
   ]
  },
  {
   "cell_type": "code",
   "execution_count": 10,
   "metadata": {},
   "outputs": [
    {
     "name": "stdout",
     "output_type": "stream",
     "text": [
      "\n",
      "Iteration\tx\ty\tz\n",
      "\n",
      "1\t1.7500\t3.7500\t2.9500\n",
      "2\t1.9500\t3.9688\t2.9862\n",
      "3\t1.9956\t3.9961\t2.9990\n",
      "4\t1.9993\t3.9995\t2.9998\n",
      "5\t1.9999\t3.9999\t3.0000\n",
      "6\t2.0000\t4.0000\t3.0000\n",
      "7\t2.0000\t4.0000\t3.0000\n",
      "8\t2.0000\t4.0000\t3.0000\n",
      "9\t2.0000\t4.0000\t3.0000\n",
      "10\t2.0000\t4.0000\t3.0000\n",
      "11\t2.0000\t4.0000\t3.0000\n",
      "\n",
      "Solution: x=2.000, y=4.000 and z = 3.000\n",
      "\n"
     ]
    }
   ],
   "source": [
    "# Gauss Seidel Iteration\n",
    "\n",
    "# Defining equations to be solved\n",
    "# in diagonally dominant form\n",
    "f1 = lambda x,y,z: (7+y-z)/4\n",
    "f2 = lambda x,y,z: (21+4*x+z)/8\n",
    "f3 = lambda x,y,z: (15+2*x-y)/5\n",
    "\n",
    "# Initial setup\n",
    "x0 = 1\n",
    "y0 = 2\n",
    "z0 = 2\n",
    "count = 1\n",
    "\n",
    "# Reading tolerable error\n",
    "e = 2 * 10**(-9)\n",
    "#float(input('Enter tolerable error: '))\n",
    "\n",
    "# Implementation of Gauss Seidel Iteration\n",
    "print('\\nIteration\\tx\\ty\\tz\\n')\n",
    "\n",
    "condition = True\n",
    "\n",
    "while condition:\n",
    "    x1 = f1(x0,y0,z0)\n",
    "    y1 = f2(x1,y0,z0)\n",
    "    z1 = f3(x1,y1,z0)\n",
    "   # print('%d\\t%0.4f\\t%0.4f\\t%0.4f\\n' %(count, x1,y1,z1))\n",
    "    print('%d\\t%0.4f\\t%0.4f\\t%0.4f' %(count, x1,y1,z1))\n",
    "    e1 = abs(x0-x1);\n",
    "    e2 = abs(y0-y1);\n",
    "    e3 = abs(z0-z1);\n",
    "    \n",
    "    count += 1\n",
    "    x0 = x1\n",
    "    y0 = y1\n",
    "    z0 = z1\n",
    "    \n",
    "    condition = e1>e and e2>e and e3>e\n",
    "\n",
    "print('\\nSolution: x=%0.3f, y=%0.3f and z = %0.3f\\n'% (x1,y1,z1))"
   ]
  },
  {
   "cell_type": "markdown",
   "metadata": {},
   "source": [
    "This method shows that it converges faster than the previous example."
   ]
  },
  {
   "cell_type": "code",
   "execution_count": null,
   "metadata": {},
   "outputs": [],
   "source": []
  }
 ],
 "metadata": {
  "kernelspec": {
   "display_name": "Python 3",
   "language": "python",
   "name": "python3"
  },
  "language_info": {
   "codemirror_mode": {
    "name": "ipython",
    "version": 3
   },
   "file_extension": ".py",
   "mimetype": "text/x-python",
   "name": "python",
   "nbconvert_exporter": "python",
   "pygments_lexer": "ipython3",
   "version": "3.8.3"
  }
 },
 "nbformat": 4,
 "nbformat_minor": 4
}
