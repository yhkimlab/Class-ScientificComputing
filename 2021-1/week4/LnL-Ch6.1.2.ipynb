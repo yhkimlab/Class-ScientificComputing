{
 "cells": [
  {
   "cell_type": "markdown",
   "metadata": {},
   "source": [
    "### Brute force optimization\n",
    "\n",
    "We realize that $x_i$ corresponds to a maximum point if $y_{i-1} < y_{i} > y_{i+1}$. Similarly, $x_i$ corresponds to a minimum if $y_{i-1} > y_{i} < y_{i+1}$. We can do  this test for all \"inner\" points $i = 1, \\ldots, n-1$ to find all local mimima and maxima. In addition, we need to add an end point, $i = 0$ or $i = n$, if the corresponding $y_{i}$ is a global maximum or minimum."
   ]
  },
  {
   "cell_type": "code",
   "execution_count": 25,
   "metadata": {},
   "outputs": [
    {
     "name": "stdout",
     "output_type": "stream",
     "text": [
      "[0.    0.004 0.008 ... 3.992 3.996 4.   ]\n",
      "Minima: [(0.7000000000000001, -0.5772302750838405), (2.152, -0.006670480742256502), (3.66, -7.333826733936654e-07)]\n",
      "Maxima: [(0.0, 1.0), (1.416, 0.10965467991643564), (2.9, 0.00012651823896373234)]\n"
     ]
    },
    {
     "data": {
      "image/png": "[encoded data removed]",
      "text/plain": [
       "<Figure size 432x288 with 1 Axes>"
      ]
     },
     "metadata": {
      "needs_background": "light"
     },
     "output_type": "display_data"
    }
   ],
   "source": [
    "import numpy as np\n",
    "\n",
    "def brute_force_optimizer(f, a, b, n):\n",
    "    x = np.linspace(a, b, n)\n",
    "   # print (x)\n",
    "    y = f(x)\n",
    "    # Let maxima and minima hold the indices corresponding\n",
    "    # to (local) maxima and minima points\n",
    "    minima = []\n",
    "    maxima = []\n",
    "    for i in range(n-1):\n",
    "        if y[i-1] < y[i] > y[i+1]:    # Except end point, y[-1] < y[0] > y[1] and y[n-3] < y[n-2] > y[n-1]\n",
    "            maxima.append(i)\n",
    "        if y[i-1] > y[i] < y[i+1]:\n",
    "            minima.append(i)\n",
    "            \n",
    "    # What about the end points\n",
    "    y_max_inner = max([y[i] for i in maxima])\n",
    "    y_min_inner = min([y[i] for i in minima])\n",
    "    if y[0] > y_max_inner:    # y[0] is maximum\n",
    "        maxima.append(0)\n",
    "    if y[len(x)-1] > y_max_inner: # y[n-1] as last index is maximum\n",
    "        maxima.append(len(x)-1)\n",
    "    if y[0] < y_min_inner:\n",
    "        minima.append(0)\n",
    "    if y[len(x)-1] < y_min_inner:\n",
    "        minima.append(len(x)-1)\n",
    "        \n",
    "    # Return x and y values\n",
    "    return [(x[i], y[i]) for i in minima], \\\n",
    "           [(x[i], y[i]) for i in maxima]\n",
    "import matplotlib.pyplot as plt\n",
    "\n",
    "def demo():\n",
    "    minima, maxima = brute_force_optimizer(\n",
    "        lambda x: np.exp(-x**2)*np.cos(4*x), 0, 4, 1001)\n",
    "    x1 = np.linspace(0, 4, 100001) # 1001, 10001, 100001\n",
    "    y = np.exp(-x1**2)*np.cos(4*x1)\n",
    "    fig,ax = plt.subplots()\n",
    "    ax.plot(x1,y)\n",
    "    print('Minima:', minima)\n",
    "    print('Maxima:', maxima)\n",
    "    \n",
    "if __name__ == '__main__':\n",
    "    demo()"
   ]
  },
  {
   "cell_type": "markdown",
   "metadata": {},
   "source": [
    "### Brute force optimization using SciPy"
   ]
  },
  {
   "cell_type": "code",
   "execution_count": 29,
   "metadata": {},
   "outputs": [
    {
     "name": "stdout",
     "output_type": "stream",
     "text": [
      "Minima: (0.701106 ,-0.577237)\n"
     ]
    }
   ],
   "source": [
    "import numpy as np\n",
    "from scipy import optimize\n",
    "import math\n",
    "\n",
    "params = (1, 4, 0)\n",
    "def f1(z, *params):\n",
    "    x, y = z\n",
    "    a, b, c = params\n",
    "    return (a * math.exp(-x**2)*math.cos(b*x)+c*y)\n",
    "\n",
    "rranges = (slice(0, 4, 0.004), slice(0, 4, 0.004))\n",
    "resbrute = optimize.brute(f1, rranges, args=params, full_output=True, finish=optimize.fmin)\n",
    "\n",
    "\n",
    "print (\"Minima: (%f ,%f)\" %(resbrute[0][0], resbrute[1]))\n"
   ]
  },
  {
   "cell_type": "code",
   "execution_count": null,
   "metadata": {},
   "outputs": [],
   "source": []
  }
 ],
 "metadata": {
  "kernelspec": {
   "display_name": "Python 3",
   "language": "python",
   "name": "python3"
  },
  "language_info": {
   "codemirror_mode": {
    "name": "ipython",
    "version": 3
   },
   "file_extension": ".py",
   "mimetype": "text/x-python",
   "name": "python",
   "nbconvert_exporter": "python",
   "pygments_lexer": "ipython3",
   "version": "3.7.6"
  }
 },
 "nbformat": 4,
 "nbformat_minor": 2
}
