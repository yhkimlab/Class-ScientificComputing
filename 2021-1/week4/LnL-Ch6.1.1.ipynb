{
 "cells": [
  {
   "cell_type": "markdown",
   "metadata": {},
   "source": [
    "### 6.1.1 Brute force root finding \n",
    "\n",
    "Implementation. \n",
    "\n",
    "Given some Python implementation f(x) of our mathmatical function, a straightforward implementation of the above numerical algorithm looks like"
   ]
  },
  {
   "cell_type": "code",
   "execution_count": 3,
   "metadata": {},
   "outputs": [
    {
     "name": "stdout",
     "output_type": "stream",
     "text": [
      "Find (the first) root as x=0.392699082012224\n",
      "Exact Value of running example exp(-x**2)*cos(4x) : 0.392699081698724\n",
      "Error value of running example exp(-x**2)*cos(4x) : 0.000000000313500\n"
     ]
    },
    {
     "data": {
      "image/png": "[encoded data removed]",
      "text/plain": [
       "<Figure size 432x288 with 1 Axes>"
      ]
     },
     "metadata": {
      "needs_background": "light"
     },
     "output_type": "display_data"
    }
   ],
   "source": [
    "import numpy as np\n",
    "import matplotlib.pyplot as plt\n",
    "\n",
    "x = np.linspace(0, 4, 100001) # 1001, 10001, 100001\n",
    "#y = x**2-5*x+3\n",
    "#y = np.sin(x+1)\n",
    "y = np.exp(-x**2)*np.cos(4*x)\n",
    "\n",
    "root = None # Initialization\n",
    "for i in range(len(x)-1):\n",
    "    if y[i]*y[i+1] < 0:\n",
    "        root = np.float64(x[i]) - np.float64((x[i+1]-x[i])/(y[i+1]-y[i])*y[i])\n",
    "        break # Jump out of loop\n",
    "        \n",
    "if root is None:\n",
    "    print('Could not find any root in [%2.15f, %2.15f]' % (x[0],x[-1]))\n",
    "else:\n",
    "    print('Find (the first) root as x=%2.15f' % root)\n",
    "    \n",
    "Exact_Value = np.float64(np.pi / 8)\n",
    "print('Exact Value of running example exp(-x**2)*cos(4x) : %2.15f' % (Exact_Value))\n",
    "\n",
    "Error = np.float64(root - Exact_Value)\n",
    "print('Error value of running example exp(-x**2)*cos(4x) : %2.15f' % (Error))\n",
    "# Plotting for x,y\n",
    "\n",
    "plt.plot(x, y, color='k')\n",
    "plt.axhline(linewidth=2, color='r')\n",
    "plt.axvline(root, color='y')\n",
    "\n",
    "#plt.xlim(3.6,3.72)\n",
    "#plt.ylim(-0.000001, 0.000001)\n",
    "\n",
    "plt.show()    \n",
    "    "
   ]
  },
  {
   "cell_type": "markdown",
   "metadata": {},
   "source": [
    "Let's make a general pythons script for root finder."
   ]
  },
  {
   "cell_type": "code",
   "execution_count": 4,
   "metadata": {},
   "outputs": [
    {
     "name": "stdout",
     "output_type": "stream",
     "text": [
      "[0.392699105380481, 1.178097314504897, 1.9634955297596484, 2.748893729644069, 3.534291958381115]\n"
     ]
    }
   ],
   "source": [
    "import numpy as np\n",
    "import matplotlib.pyplot as plt\n",
    "\n",
    "def brute_force_root_finder(f, a, b, n):\n",
    "    x = np.linspace(a, b, n)\n",
    "    y = f(x)\n",
    "    roots = []\n",
    "    for i in range(n-1):\n",
    "        if y[i]*y[i+1] < 0:\n",
    "            root = x[i] - (x[i+1] - x[i])/(y[i+1] - y[i])*y[i]\n",
    "            roots.append(root)\n",
    "    return roots\n",
    "\n",
    "def demo():\n",
    "    roots = brute_force_root_finder(\n",
    "        lambda x: np.exp(-x**2)*np.cos(4*x), 0, 4, 10001)\n",
    "    if roots:\n",
    "        print(roots)\n",
    "    else:\n",
    "        print('Cold not find any roots')\n",
    "\n",
    "if __name__ == '__main__':\n",
    "    demo()\n"
   ]
  },
  {
   "cell_type": "code",
   "execution_count": null,
   "metadata": {},
   "outputs": [],
   "source": []
  }
 ],
 "metadata": {
  "kernelspec": {
   "display_name": "Python 3",
   "language": "python",
   "name": "python3"
  },
  "language_info": {
   "codemirror_mode": {
    "name": "ipython",
    "version": 3
   },
   "file_extension": ".py",
   "mimetype": "text/x-python",
   "name": "python",
   "nbconvert_exporter": "python",
   "pygments_lexer": "ipython3",
   "version": "3.7.6"
  }
 },
 "nbformat": 4,
 "nbformat_minor": 2
}
