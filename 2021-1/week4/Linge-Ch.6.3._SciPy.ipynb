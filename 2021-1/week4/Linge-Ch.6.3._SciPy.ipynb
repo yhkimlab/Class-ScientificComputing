{
 "cells": [
  {
   "cell_type": "markdown",
   "metadata": {},
   "source": [
    "### 6.3 The secant method: SciPy\n",
    "* Reference: http://hplgit.github.io/prog4comp/doc/pub/p4c_Python.pdf, S.Linge & H.P.Langtangen, Chap.6.3., pp. 236-239.\n",
    "* SciPy code: https://docs.scipy.org/doc/scipy/reference/generated/scipy.optimize.newton.html\n",
    "\n",
    "When findung the derivative $f'(x)$ in Newton's method is problematic, or when function evalutations take too long; we maya adjust the method slightly.\n",
    "\n",
    "Instead of using tangent lines to the graph we may use secants.\n",
    "The approach is reffered to as the $secant$ $method$, and the idea is illustrated graphically in Figure 6.2 for our example problem $x^2 -9 =0$."
   ]
  },
  {
   "cell_type": "markdown",
   "metadata": {},
   "source": [
    "The idea of the secant method is to think as in Newton's method, but instead of using $f'(x_n)$, we approximate this derivative by a finite difference or the $secant$, i.e., the slope of the straight line that goes through the two most recent approximations $x_n$ and $x_{n+1}$. This slope reads\n",
    "\n",
    "$$\\frac{f(x_n)-f(x_{n-1})}{x_{n}-x_{n-1}}$$\n",
    "\n",
    "Inserting this expression for $f'(x_n)$ in Newton's method simply gives us the secant method:\n",
    "$$x_{n+1} = x_{n}-\\frac{f(x_n)}{\\frac{f(x_n)-f(x_{n-1})}{x_{n}-x_{n-1}}},$$\n",
    "or\n",
    "$$x_{n+1} = x_{n}-f(x_n)\\frac{x_n-x_{n-1}}{f(x_n)-f(x_{n-1})}$$"
   ]
  },
  {
   "cell_type": "code",
   "execution_count": 9,
   "metadata": {},
   "outputs": [
    {
     "name": "stdout",
     "output_type": "stream",
     "text": [
      "(3.000000000000001,       converged: True\n",
      "           flag: 'converged'\n",
      " function_calls: 14\n",
      "     iterations: 13\n",
      "           root: 3.000000000000001)\n",
      "999991\n"
     ]
    },
    {
     "data": {
      "image/png": "[encoded data removed]",
      "text/plain": [
       "<Figure size 432x288 with 1 Axes>"
      ]
     },
     "metadata": {
      "needs_background": "light"
     },
     "output_type": "display_data"
    }
   ],
   "source": [
    "from scipy import optimize\n",
    "import matplotlib.pyplot as plt\n",
    "f = lambda x: x**2 - 9\n",
    "vec_res = optimize.newton(f, 100, full_output=True)\n",
    "print (vec_res)\n",
    "\n",
    "\n",
    "#plot graph\n",
    "x0 = 1000; x1 = 700; eps=1.0e-6; iteration_counter = 0\n",
    "\n",
    "f_x0 = f(x0)\n",
    "print(f_x0)\n",
    "\n",
    "import matplotlib.pyplot as plt\n",
    "import numpy as np \n",
    "x = np.linspace(0, 1200, 100)\n",
    "x2= x**2 \n",
    "\n",
    "fig,ax = plt.subplots()\n",
    "ax.plot(x,x2, 'b')\n",
    "plt.xlabel('x',fontsize=14)\n",
    "plt.ylabel('f(x)',fontsize=14)\n",
    "plt.xlim(0,1100)\n",
    "plt.ylim(-200000,1000000)\n",
    "y3 = 1000*(x-500)+249745\n",
    "plt.plot([0, 100000], [0, 0], 'k-', lw=1,dashes=[2, 2])\n",
    "\n",
    "\n",
    "f_x0 = f(x0)\n",
    "f_x1 = f(x1)\n",
    "\n",
    "x = np.arange(1,x0)\n",
    "y = f(x)\n",
    "plt.plot(x, y, color='b')\n",
    "plt.axhline(y=0, color='k', linestyle='--')\n",
    "    \n",
    "# Initial point of iteration\n",
    "plt.plot([x0,x0],[0,f_x0], color='r', linestyle='--')\n",
    "plt.plot([x1,x1],[0,f_x1], color='r', linestyle='--')\n",
    "\n",
    "denominator = float(f_x1 - f_x0)/(x1 - x0)\n",
    "plt.plot([x0,x0-f_x0/denominator],[f_x0,0],color='r', linestyle='-')\n",
    "\n",
    "while abs(f_x1) > eps and iteration_counter < 100:\n",
    "    try:\n",
    "        denominator = float(f_x1 - f_x0)/(x1 - x0)\n",
    "        x = x1 - float(f_x1) / denominator\n",
    "    except ZeroDivisionError:\n",
    "        print(\"Error! - denominator zero for x = \", x)\n",
    "        sys.exit(1)  # Abort with error\n",
    "    plt.plot([x0,x0-f_x0/denominator],[f_x0,0],color='r', linestyle='-')\n",
    "    x0 = x1\n",
    "    x1 = x\n",
    "    f_x0 = f_x1\n",
    "    f_x1 = f(x1)\n",
    "    plt.plot([x1,x1],[0,f_x1], color='r', linestyle='--')\n",
    "  \n",
    "    iteration_counter += 1\n",
    "# Here, either a solution is found, or too many iterations\n",
    "if abs(f_x1) > eps:\n",
    "    iteration_counter = -1\n"
   ]
  },
  {
   "cell_type": "code",
   "execution_count": null,
   "metadata": {},
   "outputs": [],
   "source": []
  }
 ],
 "metadata": {
  "kernelspec": {
   "display_name": "Python 3",
   "language": "python",
   "name": "python3"
  },
  "language_info": {
   "codemirror_mode": {
    "name": "ipython",
    "version": 3
   },
   "file_extension": ".py",
   "mimetype": "text/x-python",
   "name": "python",
   "nbconvert_exporter": "python",
   "pygments_lexer": "ipython3",
   "version": "3.7.6"
  }
 },
 "nbformat": 4,
 "nbformat_minor": 2
}
