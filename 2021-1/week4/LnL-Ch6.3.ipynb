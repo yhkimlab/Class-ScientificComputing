{
 "cells": [
  {
   "cell_type": "markdown",
   "metadata": {},
   "source": [
    "### 6.3 The secant method\n",
    "\n",
    "When findung the derivative $f'(x)$ in Newton's method is problematic, or when function evalutations take too long; we maya adjust the method slightly.\n",
    "\n",
    "Instead of using tangent lines to the graph we may use secants.\n",
    "The approach is reffered to as the $secant$ $method$, and the idea is illustrated graphically in Figure 6.2 for our example problem $x^2 -9 =0$."
   ]
  },
  {
   "cell_type": "markdown",
   "metadata": {},
   "source": [
    "The idea of the secant method is to think as in Newton's method, but instead of using $f'(x_n)$, we approximate this derivative by a finite difference or the $secant$, i.e., the slope of the straight line that goes through the two most recent approximations $x_n$ and $x_{n+1}$. This slope reads\n",
    "\n",
    "$$\\frac{f(x_n)-f(x_{n-1})}{x_{n}-x_{n-1}}$$\n",
    "\n",
    "Inserting this expression for $f'(x_n)$ in Newton's method simply gives us the secant method:\n",
    "$$x_{n+1} = x_{n}-\\frac{f(x_n)}{\\frac{f(x_n)-f(x_{n-1})}{x_{n}-x_{n-1}}},$$\n",
    "or\n",
    "$$x_{n+1} = x_{n}-f(x_n)\\frac{x_n-x_{n-1}}{f(x_n)-f(x_{n-1})}$$"
   ]
  },
  {
   "cell_type": "code",
   "execution_count": 9,
   "metadata": {
    "scrolled": true
   },
   "outputs": [
    {
     "name": "stdout",
     "output_type": "stream",
     "text": [
      "1       499.7543771886,    249745.4375191598\n",
      "2       333.1190423263,    110959.2963603872\n",
      "3       199.8943604472,     39948.7553386128\n",
      "4       124.9454846202,     15602.3741269820\n",
      "5        76.9145106991,      5906.8419560794\n",
      "6        47.6524375145,      2261.7548010704\n",
      "7        29.4954959380,       860.9842806296\n",
      "8        18.3353229807,       327.1840688065\n",
      "9        11.4948783426,       123.1322281121\n",
      "10         7.3671077394,        45.2742764435\n",
      "11         4.9668156256,        15.6692574583\n",
      "12         3.6963960685,         4.6633438951\n",
      "13         3.1581033360,         0.9736166807\n",
      "14         3.0160628129,         0.0966348915\n",
      "15         3.0004113243,         0.0024681147\n",
      "16         3.0000010982,         0.0000065889\n",
      "17         3.0000000001,         0.0000000005\n",
      "Number of function calls: 19\n",
      "A solution is: 3.000000\n",
      "1       411.7700000000,    169545.5329000000\n",
      "2       259.2694532142,     67211.6493700131\n",
      "3       159.1089499114,     25306.6579419041\n",
      "4        98.6214635764,      9717.1930779563\n",
      "5        60.9185283797,      3702.0670999484\n",
      "6        37.7138945161,      1413.3378395693\n",
      "7        23.3845513034,       537.8372396620\n",
      "8        14.5817539090,       203.6275470629\n",
      "9         9.2183785180,        75.9785025016\n",
      "10         6.0260222261,        27.3129438697\n",
      "11         4.2343516759,         8.9297341148\n",
      "12         3.3640389368,         2.3167579680\n",
      "13         3.0591377957,         0.3583240531\n",
      "14         3.0033516842,         0.0201213393\n",
      "15         3.0000326947,         0.0001961692\n",
      "16         3.0000000183,         0.0000001095\n",
      "Number of function calls: 18\n",
      "A solution is: 3.000000\n"
     ]
    },
    {
     "data": {
      "image/png": "[encoded data removed]",
      "text/plain": [
       "<Figure size 432x288 with 1 Axes>"
      ]
     },
     "metadata": {
      "needs_background": "light"
     },
     "output_type": "display_data"
    }
   ],
   "source": [
    "def secant(f, x0, x1, eps):\n",
    "    f_x0 = f(x0)\n",
    "    f_x1 = f(x1)\n",
    "    iteration_counter = 0\n",
    "    while abs(f_x1) > eps and iteration_counter < 100:\n",
    "        try:\n",
    "            denominator = float(f_x1 - f_x0)/(x1 - x0)\n",
    "            x = x1 - float(f_x1) / denominator\n",
    "            print('%d % 20.10f, % 20.10f' % (iteration_counter+1, x, f(x)))\n",
    "        except ZeroDivisionError:\n",
    "            print(\"Error! - denominator zero for x = \", x)\n",
    "            sys.exit(1)  # Abort with error\n",
    "        x0 = x1\n",
    "        x1 = x\n",
    "        f_x0 = f_x1\n",
    "        f_x1 = f(x1)\n",
    "        iteration_counter += 1\n",
    "    # Here, either a solution is found, or too many iterations\n",
    "    if abs(f_x1) > eps:\n",
    "        iteration_counter = -1\n",
    "    return x, iteration_counter\n",
    "\n",
    "def f(x):\n",
    "    return x**2 - 9\n",
    "    \n",
    "x0 = 1000; x1 = x0 - 1  # x1 = x0 - 1, 100, 996.9, 997 (not available), 999\n",
    "\n",
    "solution, no_iterations = secant(f, x0, x1, eps=1.0e-6)\n",
    "#print(x0)\n",
    "#print(x1)\n",
    "import matplotlib.pyplot as plt\n",
    "import numpy as np \n",
    "x = np.linspace(0, 1200, 100)\n",
    "x2= x**2 \n",
    "\n",
    "fig,ax = plt.subplots()\n",
    "ax.plot(x,x2)\n",
    "plt.xlabel('x',fontsize=14)\n",
    "plt.ylabel('f(x)',fontsize=14)\n",
    "plt.xlim(0,1100)\n",
    "plt.ylim(-200000,1000000)\n",
    "y3 = 1000*(x-500)+249745\n",
    "#ax.plot(x,y3)\n",
    "#y4 = 500*(x-250)+62496\n",
    "#ax.plot(x,y4)\n",
    "#y5 = 240*(x-125)+15621\n",
    "#ax.plot(x,y5)\n",
    "plt.plot([0, 100000], [0, 0], 'k-', lw=1,dashes=[2, 2])\n",
    "#plt.plot([500, 500], [0, 249995], 'k-', lw=1,dashes=[2, 2])\n",
    "#plt.plot([250, 250], [0, 62496], 'k-', lw=1,dashes=[2, 2])\n",
    "#plt.plot([125, 125], [0, 15621], 'k-', lw=1,dashes=[2, 2])\n",
    "if no_iterations > 0:  # Solution found\n",
    "    print(\"Number of function calls: %d\" % (2 + no_iterations)) # f(0), f(1), while loop\n",
    "    print(\"A solution is: %f\" % (solution))\n",
    "else:\n",
    "    print(\"Solution not found!\")\n",
    "import matplotlib.pyplot as plt\n",
    "import numpy as np\n",
    "\n",
    "\n",
    "def secant(f, x0, x1, eps):\n",
    "    f_x0 = f(x0)\n",
    "    f_x1 = f(x1)\n",
    "\n",
    "    # no iteration\n",
    "    x = np.arange(1,x0)\n",
    "    y = f(x)\n",
    "    plt.plot(x, y, color='b')\n",
    "    plt.axhline(y=0, color='k', linestyle='--')\n",
    "    \n",
    "    # Initial point of iteration\n",
    "    plt.plot([x0,x0],[0,f_x0], color='r', linestyle='--')\n",
    "    plt.plot([x1,x1],[0,f_x1], color='r', linestyle='--')\n",
    "\n",
    "    denominator = float(f_x1 - f_x0)/(x1 - x0)\n",
    "    plt.plot([x0,x0-f_x0/denominator],[f_x0,0],color='r', linestyle='-')\n",
    "    \n",
    "    iteration_counter = 0\n",
    "    while abs(f_x1) > eps and iteration_counter < 100:\n",
    "        try:\n",
    "            denominator = float(f_x1 - f_x0)/(x1 - x0)\n",
    "            x = x1 - float(f_x1) / denominator\n",
    "            print('%d % 20.10f, % 20.10f' % (iteration_counter+1, x, f(x)))\n",
    "        except ZeroDivisionError:\n",
    "            print(\"Error! - denominator zero for x = \", x)\n",
    "            sys.exit(1)  # Abort with error\n",
    "        plt.plot([x0,x0-f_x0/denominator],[f_x0,0],color='r', linestyle='-')\n",
    "        x0 = x1\n",
    "        x1 = x\n",
    "        f_x0 = f_x1\n",
    "        f_x1 = f(x1)\n",
    "        plt.plot([x1,x1],[0,f_x1], color='r', linestyle='--')\n",
    "  \n",
    "        iteration_counter += 1\n",
    "    # Here, either a solution is found, or too many iterations\n",
    "    if abs(f_x1) > eps:\n",
    "        iteration_counter = -1\n",
    "    return x, iteration_counter\n",
    "\n",
    "def f(x):\n",
    "    return x**2 - 9\n",
    "    \n",
    "x0 = 1000; x1 = 700  # x1 = x0 - 1, 100, 996.9, 997 (not available), 999\n",
    "\n",
    "solution, no_iterations = secant(f, x0, x1, eps=1.0e-6)\n",
    "\n",
    "\n",
    "if no_iterations > 0:  # Solution found\n",
    "    print(\"Number of function calls: %d\" % (2 + no_iterations)) # f(0), f(1), while loop\n",
    "    print(\"A solution is: %f\" % (solution))\n",
    "else:\n",
    "    print(\"Solution not found!\")  "
   ]
  },
  {
   "cell_type": "markdown",
   "metadata": {},
   "source": [
    "### Secant method using SciPy library"
   ]
  },
  {
   "cell_type": "code",
   "execution_count": 35,
   "metadata": {},
   "outputs": [
    {
     "name": "stdout",
     "output_type": "stream",
     "text": [
      "(3.000000000000001,       converged: True\n",
      "           flag: 'converged'\n",
      " function_calls: 14\n",
      "     iterations: 13\n",
      "           root: 3.000000000000001)\n"
     ]
    }
   ],
   "source": [
    "from scipy import optimize\n",
    "import matplotlib.pyplot as plt\n",
    "f = lambda x: x**2 - 9\n",
    "vec_res = optimize.newton(f, 100, full_output=True)\n",
    "print (vec_res)"
   ]
  }
 ],
 "metadata": {
  "kernelspec": {
   "display_name": "Python 3",
   "language": "python",
   "name": "python3"
  },
  "language_info": {
   "codemirror_mode": {
    "name": "ipython",
    "version": 3
   },
   "file_extension": ".py",
   "mimetype": "text/x-python",
   "name": "python",
   "nbconvert_exporter": "python",
   "pygments_lexer": "ipython3",
   "version": "3.7.6"
  }
 },
 "nbformat": 4,
 "nbformat_minor": 2
}
