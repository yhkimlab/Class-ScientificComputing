{
 "cells": [
  {
   "cell_type": "markdown",
   "metadata": {},
   "source": [
    "### 2021 Spring \"EE479: Scientific Computing & Data\"\n",
    "#### Yong-Hoon Kim, KAIST Electrical Engineering\n",
    "#### Kutz 8.5 Overcoming Computational Difficulties\n",
    "##### Writer: Yumin Song\n",
    "\n",
    "###### 2021. 05. 16 revised"
   ]
  },
  {
   "cell_type": "markdown",
   "metadata": {},
   "source": [
    "#### Streamfunction equations: Nonuniqueness\n",
    "\n",
    "We return to the consideration of the streamfunction equation \n",
    "\n",
    " $$ \\nabla^2\\psi = \\omega  $$  "
   ]
  },
  {
   "cell_type": "markdown",
   "metadata": {},
   "source": [
    "with the periodic boundary conditions\n",
    "\n",
    "$$ \\psi(-L,y) = \\psi(L,y) $$\n",
    "$$ \\psi(x,-L) = \\psi(x,L) $$"
   ]
  },
  {
   "cell_type": "markdown",
   "metadata": {},
   "source": [
    "In this equation, the solution can only be determined to an arbitrary constant. Thus if $\\psi_{0}$ is a\n",
    "solution to the streamfunction equation, so is"
   ]
  },
  {
   "cell_type": "markdown",
   "metadata": {},
   "source": [
    "$$ \\psi = \\psi_{0} + c  $$"
   ]
  },
  {
   "cell_type": "markdown",
   "metadata": {},
   "source": [
    "where $ c $ is an arbitrary constant. This gives an infinite number of solutions to the problem. We find that the matrix $A$, which is singular"
   ]
  },
  {
   "cell_type": "markdown",
   "metadata": {},
   "source": [
    "Obviously, the fact that the matrix $A$ is singular will create computational problems. To overcome this problem numerically, we simply observe that we can arbitrarily add a constant to the solution. Or alternatively, we can pin down the value of the streamfunction at a single location in the computational domain. This constraint fixes the arbitrary constant problem and removes the singularity from the matrix $A$. Thus to fix the problem, we can simply pick an arbitrary point in our computational domain $\\psi_{mn}$ and fix its value.\n",
    "We simply add this property by adding following line"
   ]
  },
  {
   "cell_type": "markdown",
   "metadata": {},
   "source": [
    "$A[0,0] = 0 $"
   ]
  },
  {
   "cell_type": "markdown",
   "metadata": {},
   "source": [
    "Note that the choice of the matrix component and its value are completely arbitrary."
   ]
  },
  {
   "cell_type": "code",
   "execution_count": 7,
   "metadata": {},
   "outputs": [
    {
     "name": "stdout",
     "output_type": "stream",
     "text": [
      "Size of A matrix = 2500\n"
     ]
    },
    {
     "data": {
      "image/png": "[encoded data removed]",
      "text/plain": [
       "<Figure size 432x288 with 6 Axes>"
      ]
     },
     "metadata": {
      "needs_background": "light"
     },
     "output_type": "display_data"
    }
   ],
   "source": [
    "import numpy as np\n",
    "import scipy.sparse.linalg as linag\n",
    "import time\n",
    "import matplotlib.pyplot as plt\n",
    "from scipy.linalg import lu_factor, lu_solve\n",
    "\n",
    "N=2500\n",
    "########################################### A Matrix construct \n",
    "I2 = -4*np.eye(N)\n",
    "E = np.diag(np.ones((N-1)), k=1)\n",
    "E2 = np.diag( np.ones(int(np.sqrt(N))), N-int(np.sqrt(N))  )\n",
    "E3 = np.diag( np.ones(N-int(np.sqrt(N))), int(np.sqrt(N))  )\n",
    "A = I2 + E + E.T +E2 + E2.T + E3 + E3.T\n",
    "for i in range(int(np.sqrt(N))):\n",
    "    A[(i+1)*int(np.sqrt(N))-1,int(np.sqrt(N))*i] = 1\n",
    "    A[int(np.sqrt(N))*i,(i+1)*int(np.sqrt(N))-1] = 1\n",
    "    A[int(np.sqrt(N))*i,int(np.sqrt(N))*i-1] = 0\n",
    "    A[int(np.sqrt(N))*i-1,int(np.sqrt(N))*i] = 0\n",
    "################################# 8.5 Overcoming Computational difficulties\n",
    "A[0,0] = 0 \n",
    "###################################### Gradient matrix construct #####\n",
    "for i in range(int(np.sqrt(N))):\n",
    "    A[(i+1)*int(np.sqrt(N))-1,int(np.sqrt(N))*i] = 1\n",
    "    A[int(np.sqrt(N))*i,(i+1)*int(np.sqrt(N))-1] = 1\n",
    "    A[int(np.sqrt(N))*i,int(np.sqrt(N))*i-1] = 0\n",
    "    A[int(np.sqrt(N))*i-1,int(np.sqrt(N))*i] = 0\n",
    "\n",
    "A_gx1 =  np.diag(np.ones((N-1)), k=1)\n",
    "A_gx =  A_gx1 - A_gx1.T\n",
    "for i in range(int(np.sqrt(N))):  \n",
    "    A_gx[ int(np.sqrt(N))*(i) , int(np.sqrt(N))*i-1] = 0\n",
    "    A_gx[ int(np.sqrt(N))*i, int(np.sqrt(N))*(i+1)-1] = -1\n",
    "    A_gx[ int(np.sqrt(N))*i-1,  int(np.sqrt(N))*(i) ] = 0\n",
    "    A_gx[ int(np.sqrt(N))*(i+1)-1, int(np.sqrt(N))*i] = 1\n",
    "    \n",
    "A_gy1 =   np.diag(np.ones((N-int(np.sqrt(N)))), int(np.sqrt(N)))\n",
    "A_gy2 =  -np.diag(np.ones((int(np.sqrt(N)))), N-int(np.sqrt(N)))\n",
    "A_gy3 =  -np.diag(np.ones((N-int(np.sqrt(N)))), int(np.sqrt(N))).T\n",
    "A_gy4 =   np.diag(np.ones((int(np.sqrt(N)))), N-int(np.sqrt(N))).T\n",
    "A_gy = A_gy1 + A_gy2 + A_gy3 + A_gy4\n",
    "##################################################################\n",
    "\n",
    "x2 = np.linspace(-10,10,int(np.sqrt(N))+1)\n",
    "y2 = np.linspace(-10,10,int(np.sqrt(N))+1)\n",
    "x=x2[0:len(x2)-1];\n",
    "y=y2[0:len(y2)-1];\n",
    "[X,Y]=np.meshgrid(x,y);\n",
    "b = 1*np.exp(-0.25*X**2-Y**2);\n",
    "#b= b.reshape(N,1)\n",
    "test_b = np.zeros((int(np.sqrt(N)),int(np.sqrt(N))))\n",
    "test_b[:,:] = np.sum(b) / int(np.sqrt(N)) / int(np.sqrt(N))\n",
    "#b = b - test_b\n",
    "w= b.reshape(N,1)\n",
    "#print('test_2b sum=',np.sum(b))\n",
    "h = x[1]-x[0]\n",
    "#print('h=',h)\n",
    "A = A / h / h\n",
    "A_gx = A_gx / (2*h)\n",
    "A_gy = A_gy / (2*h)\n",
    "\n",
    "print('Size of A matrix =', len(A))\n",
    "\n",
    "def conjGrad(A,x,b,tol,N): #input: A(matrix) x(initial),tol(tolerence),N(matrix size)\n",
    "    r = b - A.dot(x)\n",
    "    p = r.copy()\n",
    "    for i in range(N):\n",
    "        Ap = A.dot(p)\n",
    "        alpha = np.dot(p.T,r)/np.dot(p.T,Ap)\n",
    "        x = x + alpha*p\n",
    "        r = b - A.dot(x)\n",
    "      #  print('np.sqrt(np.sum((r**2)))', np.sqrt(np.sum((r**2))))\n",
    "        if np.sqrt(np.sum((r**2))) < tol:\n",
    "      #      print('Conjugate gradient Itr:', i)\n",
    "            break\n",
    "        else:\n",
    "            beta = -np.dot(r.T,Ap)/np.dot(p.T,Ap)\n",
    "            p = r + beta*p\n",
    "    return x \n",
    "\n",
    "x0 = np.zeros((N,1)) # initial guess\n",
    "nu=0.001  # vorticity \n",
    "wt2 = w\n",
    "wt2 = wt2.reshape(N,order='F')\n",
    "\n",
    "def spc_rhs(t,wt2):\n",
    "    wt2 = wt2.reshape(N,1,order='F')\n",
    "    psi = conjGrad(A,x0,wt2,10**(-5),10000000) \n",
    "   # lu, piv = lu_factor(A)\n",
    "   # psi = lu_solve((lu, piv), wt2)\n",
    "  #  psi = psi.reshape(N,1)\n",
    "    wt2 = A_gy.dot(psi) * A_gx.dot(wt2)   -  A_gx.dot(psi) * A_gy.dot(wt2) + nu*A.dot(wt2)\n",
    "    wt2 = wt2.reshape(N,order='F')\n",
    "    rhs = wt2\n",
    "    return rhs\n",
    "\n",
    "from scipy.integrate import solve_ivp\n",
    "\n",
    "sol = solve_ivp (spc_rhs,[0,10], wt2, t_eval=[0, 2, 4, 6, 8,10] )\n",
    "\n",
    "T = sol.t\n",
    "F = sol.y\n",
    "tspan = np.linspace(0,10,6)\n",
    "levels = np.linspace(0.1,1,100)\n",
    "for j in range(len(tspan)):\n",
    "    plt.subplot(2,3,j+1)\n",
    "    wf = (F[:,j].reshape(int(np.sqrt(N)),int(np.sqrt(N)))).real\n",
    "    CS = plt.contour(X, Y, wf, levels)   # set levels automatically\n",
    "   # plt.colorbar()"
   ]
  },
  {
   "cell_type": "markdown",
   "metadata": {},
   "source": [
    "#### Fast Fourier transforms: Devision by zero\n",
    "\n",
    "In addition to solving the streamfunction equation by standard discretization and $Ax = b$, we could use the Fourier transform method. Rransforming in both x and y reduces the streamfunction equation"
   ]
  },
  {
   "cell_type": "markdown",
   "metadata": {},
   "source": [
    " $$  \\widehat{\\psi} = -\\frac{\\widehat{w}}{k_{x}^2+k_{y}^2} $$  "
   ]
  },
  {
   "cell_type": "markdown",
   "metadata": {},
   "source": [
    "And for calculating real space $\\psi$ inverse-transform is needed. However, an observation concerning in transform is that there will be a divide by zero when $k_{x}=k_{y}=0$ at the zero mode. To solve this problem, it is recommende to redefine $k_{x},k_{y}$ \n",
    "Specifically, to defining the $k_{x},k_{y}$, we could simply add the command line"
   ]
  },
  {
   "cell_type": "markdown",
   "metadata": {},
   "source": [
    "kx[0] = 10**(-6); \n",
    "\n",
    "ky[0] = 10**(-6)"
   ]
  },
  {
   "cell_type": "markdown",
   "metadata": {},
   "source": [
    "The values of kx[0] = ky[0] = 0 by default. This would make the values small but finite so that\n",
    "the divide by zero problem is effectively removed with only a small amount of error added to the\n",
    "problem.\n",
    "\n",
    "Using this scheme, Fourier transform methid can be applied to advection-diffusion equtaion.\n",
    "\n",
    "Fourier transform of this equation is \n",
    "\n",
    "$$  \\widehat{w_{t}} = -\\nu(K_{x}^2 + K_{y}^2) \\widehat{w} - \\widehat{ \\psi_{x}w_{y}} + \\widehat{\\psi_{y}w_{x}}  $$ \n",
    "\n",
    "\n",
    "The code implementation is as follows. The inital condition and parameter is as follows. The time step is 0,2,4,6,8,10. The computational domain is $x \\in [-10,10] $ and $y \\in [-10,10] $. The diffusion parameter is $\\nu = 0.001. $ The initial conditions are then defined as a stretched Gaussian of the form $ w(x,y,0) = exp(-0.25x^{2} - y^{2}) $."
   ]
  },
  {
   "cell_type": "markdown",
   "metadata": {},
   "source": [
    "The code implementation is as follows."
   ]
  },
  {
   "cell_type": "code",
   "execution_count": 8,
   "metadata": {},
   "outputs": [],
   "source": [
    "import numpy as np\n",
    "import matplotlib.pyplot as plt\n",
    "from  scipy.fft import fft , ifft, fft2, ifft2\n",
    "from scipy.integrate import solve_ivp\n",
    "\n",
    "tspan = np.linspace(0,10,6)\n",
    "nu=0.001\n",
    "Lx=20; Ly=20; nx=64; ny=64; N=nx*ny;\n",
    "\n",
    "x2=np.linspace(-Lx/2,Lx/2,nx+1); x=x2[0:nx];\n",
    "y2=np.linspace(-Ly/2,Ly/2,ny+1); y=y2[0:ny];\n",
    "[X,Y]=np.meshgrid(x,y);\n",
    "X = X.T\n",
    "Y = Y.T\n",
    "w=1*np.exp(-0.25*X**2-Y**2);\n",
    "\n",
    "#plt.contourf(x, y, w)"
   ]
  },
  {
   "cell_type": "markdown",
   "metadata": {},
   "source": [
    "The spc_rhs function describes the Fourier transformed differential equation.\n",
    "The code will quickly and efficiently solve the advection-diffusion equations in two dimensions."
   ]
  },
  {
   "cell_type": "code",
   "execution_count": 9,
   "metadata": {},
   "outputs": [
    {
     "data": {
      "image/png": "[encoded data removed]",
      "text/plain": [
       "<Figure size 432x288 with 6 Axes>"
      ]
     },
     "metadata": {
      "needs_background": "light"
     },
     "output_type": "display_data"
    }
   ],
   "source": [
    "kx = np.zeros(nx)\n",
    "for i in range(int(nx/2-1)+1):\n",
    "    kx[i] = i\n",
    "    kx[int(nx/2-1)+i+1] = -int(nx/2-1)+i-1\n",
    "kx = kx* 2*np.pi/Lx\n",
    "kx[0] = 10**(-6)\n",
    "ky = np.zeros(ny)\n",
    "for i in range(int(ny/2-1)+1):\n",
    "    ky[i] = i\n",
    "    ky[int(ny/2-1)+i+1] = -int(ny/2-1)+i-1\n",
    "ky = ky* 2*np.pi/Ly\n",
    "ky[0] = 10**(-6)\n",
    "KX = np.zeros((64,64))\n",
    "[KX,KY]=np.meshgrid(kx,ky);\n",
    "KX = KX.T\n",
    "KY = KY.T\n",
    "K=KX**2+KY**2;\n",
    "\n",
    "wt =fft2(w)\n",
    "wt2 = wt.real\n",
    "wt2 = wt2.reshape((len(wt)*len(wt)))\n",
    "\n",
    "def spc_rhs(t,wt2):\n",
    "    wtt = wt2.reshape(len(wt)*len(wt),1,order='F')\n",
    "    wtt = wt2.reshape(64,64)\n",
    "    \n",
    "    psit = -wtt/K\n",
    "    \n",
    "    psix = (ifft2(1j*KX*psit)).real\n",
    "    psiy = (ifft2(1j*KY*psit)).real \n",
    "    \n",
    "    wx = (ifft2(1j*KX*wtt)).real\n",
    "    wy = (ifft2(1j*KY*wtt)).real\n",
    "    rhs = -nu*K*wtt+fft2(wx*psiy-wy*psix)\n",
    "    rhs =  rhs.reshape(N)\n",
    "    return rhs\n",
    "\n",
    "sol = solve_ivp (spc_rhs,[0,10], wt2, t_eval=[0, 2, 4, 6, 8,10] )\n",
    "\n",
    "T = sol.t\n",
    "F = sol.y\n",
    "\n",
    "levels = np.linspace(0.05,1,100)\n",
    "for j in range(len(tspan)):\n",
    "    plt.subplot(2,3,j+1)\n",
    "    wf = ifft2(F[:,j].reshape(nx,ny)).real\n",
    "    CS = plt.contour(X, Y, wf, levels)   # set levels automatically\n",
    "  #  plt.title(j)\n",
    "   # plt.colorbar()"
   ]
  },
  {
   "cell_type": "markdown",
   "metadata": {},
   "source": [
    "The code results show the behavior of the vorticity. The stretched Gaussian is seen to rotate while advecting and diffusing vorticity. And we can find the FFT result, and iterative method result is same."
   ]
  },
  {
   "cell_type": "code",
   "execution_count": null,
   "metadata": {},
   "outputs": [],
   "source": []
  }
 ],
 "metadata": {
  "kernelspec": {
   "display_name": "Python 3",
   "language": "python",
   "name": "python3"
  },
  "language_info": {
   "codemirror_mode": {
    "name": "ipython",
    "version": 3
   },
   "file_extension": ".py",
   "mimetype": "text/x-python",
   "name": "python",
   "nbconvert_exporter": "python",
   "pygments_lexer": "ipython3",
   "version": "3.8.3"
  }
 },
 "nbformat": 4,
 "nbformat_minor": 4
}
