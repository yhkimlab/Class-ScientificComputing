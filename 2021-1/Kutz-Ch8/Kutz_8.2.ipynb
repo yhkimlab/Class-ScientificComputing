{
 "cells": [
  {
   "cell_type": "markdown",
   "metadata": {},
   "source": [
    "### 2021 Spring \"EE479: Scientific Computing & Data\"\n",
    "\n",
    "#### Yumin Song (KAIST EE Yong-Hoon Kim Group) \n",
    "\n",
    "#### Kutz 8.2 Advenced Iterative Solution Method for Ax = b\n",
    "\n",
    "#### 2021. 05. 17 Revised "
   ]
  },
  {
   "cell_type": "markdown",
   "metadata": {},
   "source": [
    "In addition to the standard techniques of Gaussian elimination or LU decomposition for solving\n",
    "Ax = b, a wide range of iterative techniques are available."
   ]
  },
  {
   "cell_type": "markdown",
   "metadata": {},
   "source": [
    "#### Application to advection - diffusion (Jacobi method)"
   ]
  },
  {
   "cell_type": "markdown",
   "metadata": {},
   "source": [
    "Letting $ \\psi_{mn} $ be the diagonal term. the iteration procedure yields\n",
    "\n",
    "$$ \\psi_{mn}^{k+1}  =  \\frac{\\psi_{(m+1)n}^{k}+\\psi_{(m-1)n}^{k}+\\psi_{m(n+1)}^{k}+\\psi_{m(n-1)}^{k}-\\delta^2\\omega_{mn}}{4} $$"
   ]
  },
  {
   "cell_type": "markdown",
   "metadata": {},
   "source": [
    "We consider count associated with iteration methods. This will allow\n",
    "us to compare this solution technique with Gaussian elimination and LU decomposition. The\n",
    "following basic algorithmic steps are involved:\n",
    "\n",
    "##### 1. Update each $\\psi_{mn}$ which costs N operations times the number of nonzero diagonals D\n",
    "\n",
    "##### 2. For each $\\psi_{mn}$, perform the appropriate additions and subtractions. In this case there are five operations.\n",
    "\n",
    "##### 3. Iterate until the desired convergence which costs K operations."
   ]
  },
  {
   "cell_type": "markdown",
   "metadata": {},
   "source": [
    "The code implementaion is as follows."
   ]
  },
  {
   "cell_type": "code",
   "execution_count": 4,
   "metadata": {},
   "outputs": [
    {
     "name": "stdout",
     "output_type": "stream",
     "text": [
      "Size of A matrix = 2500\n"
     ]
    },
    {
     "data": {
      "image/png": "[encoded data removed]",
      "text/plain": [
       "<Figure size 432x288 with 6 Axes>"
      ]
     },
     "metadata": {
      "needs_background": "light"
     },
     "output_type": "display_data"
    }
   ],
   "source": [
    "import numpy as np\n",
    "import scipy.sparse.linalg as linag\n",
    "import time\n",
    "import matplotlib.pyplot as plt\n",
    "\n",
    "N=2500\n",
    "########################################### A Matrix construct \n",
    "I2 = -4*np.eye(N)\n",
    "E = np.diag(np.ones((N-1)), k=1)\n",
    "E2 = np.diag( np.ones(int(np.sqrt(N))), N-int(np.sqrt(N))  )\n",
    "E3 = np.diag( np.ones(N-int(np.sqrt(N))), int(np.sqrt(N))  )\n",
    "A = I2 + E + E.T +E2 + E2.T + E3 + E3.T\n",
    "\n",
    "#I2 = -4*np.eye(N)\n",
    "E = np.diag(np.ones((N-1)), k=1)\n",
    "E2 = np.diag( np.ones(int(np.sqrt(N))), N-int(np.sqrt(N))  )\n",
    "E3 = np.diag( np.ones(N-int(np.sqrt(N))), int(np.sqrt(N))  )\n",
    "A_jacobi =  E + E.T +E2 + E2.T + E3 + E3.T\n",
    "for i in range(int(np.sqrt(N))):\n",
    "    A_jacobi[(i+1)*int(np.sqrt(N))-1,int(np.sqrt(N))*i] = 1\n",
    "    A_jacobi[int(np.sqrt(N))*i,(i+1)*int(np.sqrt(N))-1] = 1\n",
    "    A_jacobi[int(np.sqrt(N))*i,int(np.sqrt(N))*i-1] = 0\n",
    "    A_jacobi[int(np.sqrt(N))*i-1,int(np.sqrt(N))*i] = 0\n",
    "I2 = -4*np.eye(N)\n",
    "E = np.diag(np.ones((N-1)), k=1)\n",
    "E2 = np.diag( np.ones(int(np.sqrt(N))), N-int(np.sqrt(N))  )\n",
    "E3 = np.diag( np.ones(N-int(np.sqrt(N))), int(np.sqrt(N))  )\n",
    "A = I2 + E + E.T +E2 + E2.T + E3 + E3.T\n",
    "for i in range(int(np.sqrt(N))):\n",
    "    A[(i+1)*int(np.sqrt(N))-1,int(np.sqrt(N))*i] = 1\n",
    "    A[int(np.sqrt(N))*i,(i+1)*int(np.sqrt(N))-1] = 1\n",
    "    A[int(np.sqrt(N))*i,int(np.sqrt(N))*i-1] = 0\n",
    "    A[int(np.sqrt(N))*i-1,int(np.sqrt(N))*i] = 0\n",
    "################################# 8.5 Overcoming Computational difficulties\n",
    "#A[0,0] = 0 \n",
    "###################################### Gradient matrix construct #####\n",
    "for i in range(int(np.sqrt(N))):\n",
    "    A[(i+1)*int(np.sqrt(N))-1,int(np.sqrt(N))*i] = 1\n",
    "    A[int(np.sqrt(N))*i,(i+1)*int(np.sqrt(N))-1] = 1\n",
    "    A[int(np.sqrt(N))*i,int(np.sqrt(N))*i-1] = 0\n",
    "    A[int(np.sqrt(N))*i-1,int(np.sqrt(N))*i] = 0\n",
    "\n",
    "\n",
    "A_gx1 =  np.diag(np.ones((N-1)), k=1)\n",
    "A_gx =  A_gx1 - A_gx1.T\n",
    "for i in range(int(np.sqrt(N))):  \n",
    "    A_gx[ int(np.sqrt(N))*(i) , int(np.sqrt(N))*i-1] = 0\n",
    "    A_gx[ int(np.sqrt(N))*i, int(np.sqrt(N))*(i+1)-1] = -1\n",
    "    A_gx[ int(np.sqrt(N))*i-1,  int(np.sqrt(N))*(i) ] = 0\n",
    "    A_gx[ int(np.sqrt(N))*(i+1)-1, int(np.sqrt(N))*i] = 1\n",
    "    \n",
    "A_gy1 =   np.diag(np.ones((N-int(np.sqrt(N)))), int(np.sqrt(N)))\n",
    "A_gy2 =  -np.diag(np.ones((int(np.sqrt(N)))), N-int(np.sqrt(N)))\n",
    "A_gy3 =  -np.diag(np.ones((N-int(np.sqrt(N)))), int(np.sqrt(N))).T\n",
    "A_gy4 =   np.diag(np.ones((int(np.sqrt(N)))), N-int(np.sqrt(N))).T\n",
    "A_gy = A_gy1 + A_gy2 + A_gy3 + A_gy4\n",
    "##################################################################\n",
    "\n",
    "x2 = np.linspace(-10,10,int(np.sqrt(N))+1)\n",
    "y2 = np.linspace(-10,10,int(np.sqrt(N))+1)\n",
    "#x2 = np.linspace(0,4,int(np.sqrt(N)+1))\n",
    "#y2 = np.linspace(0,4,int(np.sqrt(N)+1))\n",
    "x=x2[0:len(x2)-1];\n",
    "y=y2[0:len(y2)-1];\n",
    "[X,Y]=np.meshgrid(x,y);\n",
    "#b = -2*np.sin(np.pi*X)*np.sin(np.pi*Y)*np.pi*np.pi\n",
    "#b= b.reshape(N,1)\n",
    "b = 1*np.exp(-0.25*X**2-Y**2);\n",
    "#b= b.reshape(N,1)\n",
    "test_b = np.zeros((int(np.sqrt(N)),int(np.sqrt(N))))\n",
    "test_b[:,:] = np.sum(b) / int(np.sqrt(N)) / int(np.sqrt(N))\n",
    "#print('test_b sum=',np.sum(test_b))\n",
    "#test2b = np.zeros((int(np.sqrt(N)),int(np.sqrt(N))))\n",
    "b = b - test_b\n",
    "w= b.reshape(N,1)\n",
    "#print('test_2b sum=',np.sum(b))\n",
    "h = x[1]-x[0]\n",
    "#print('h=',h)\n",
    "A = A / h / h\n",
    "A_gx = A_gx / (2*h)\n",
    "A_gy = A_gy / (2*h)\n",
    "\n",
    "print('Size of A matrix =', len(A))\n",
    "\n",
    "\n",
    "x0 = np.zeros((N,1)) # initial guess\n",
    "nu=0.001\n",
    "\n",
    "wt2 = w\n",
    "wt2 = wt2.reshape(N,order='F')\n",
    "\n",
    "def Jacobi(A,w,x,h,N):\n",
    "    w = w.reshape(len(w))\n",
    "    for i in range(N):\n",
    "        x_k1 = A.dot(x)/4 - h**2/4*w.T\n",
    "     #   print(np.sqrt(np.sum(np.square(abs(x_k1 - x)))) )\n",
    "        if np.sqrt(np.sum(np.square(abs(x_k1 - x)))) < 2 * 10**(-4):\n",
    "            x = x_k1\n",
    "            break\n",
    "        else :\n",
    "            x = x_k1\n",
    "       # if i+1 == N :\n",
    "         #   print('Can not find root')\n",
    "    return x\n",
    "\n",
    "x = np.zeros(N)\n",
    "\n",
    "def spc_rhs(t,wt2):\n",
    "    wt2 = wt2.reshape(N,1,order='F')    \n",
    "    psi = Jacobi(A_jacobi,wt2,x,h,200)\n",
    "    psi = psi.reshape(N,1)\n",
    "    wt2 = A_gy.dot(psi) * A_gx.dot(wt2)   -  A_gx.dot(psi) * A_gy.dot(wt2) + nu*A.dot(wt2)\n",
    "    wt2 = wt2.reshape(N,order='F')\n",
    "    rhs = wt2\n",
    "    return rhs\n",
    "\n",
    "from scipy.integrate import solve_ivp\n",
    "\n",
    "sol = solve_ivp (spc_rhs,[0,10], wt2, t_eval=[0, 2, 4, 6, 8,10] )\n",
    "\n",
    "T = sol.t\n",
    "F = sol.y\n",
    "tspan = np.linspace(0,10,6)\n",
    "levels = np.linspace(0.01,1,100)\n",
    "for j in range(len(tspan)):\n",
    "    plt.subplot(2,3,j+1)\n",
    "    wf = (F[:,j].reshape(int(np.sqrt(N)),int(np.sqrt(N)))).real\n",
    "    CS = plt.contour(X, Y, wf, levels)   # set levels automatically\n",
    "   # plt.colorbar()"
   ]
  },
  {
   "cell_type": "markdown",
   "metadata": {},
   "source": [
    "In this code, for step 1. we use jacobi method which is iterative method for solving  𝐴𝑥=𝑏 . In step 2. we use scipy.integrate.solve_ivp for calculating time-stepping ordinary differential equation. Using the input function 'spc_rhs', streamfunction is updated when volticity updated.\n",
    "\n",
    "From the result, we can find the vorticity is rotate as times goes on(0s,2s,4s,6s,8s,10s).\n",
    "And, we can find the direct method solution and iterative method solution is same."
   ]
  },
  {
   "cell_type": "code",
   "execution_count": null,
   "metadata": {},
   "outputs": [],
   "source": []
  }
 ],
 "metadata": {
  "kernelspec": {
   "display_name": "Python 3",
   "language": "python",
   "name": "python3"
  },
  "language_info": {
   "codemirror_mode": {
    "name": "ipython",
    "version": 3
   },
   "file_extension": ".py",
   "mimetype": "text/x-python",
   "name": "python",
   "nbconvert_exporter": "python",
   "pygments_lexer": "ipython3",
   "version": "3.8.3"
  }
 },
 "nbformat": 4,
 "nbformat_minor": 4
}
