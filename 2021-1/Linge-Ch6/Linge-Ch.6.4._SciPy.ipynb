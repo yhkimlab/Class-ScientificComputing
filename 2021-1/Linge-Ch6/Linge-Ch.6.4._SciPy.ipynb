{
 "cells": [
  {
   "cell_type": "markdown",
   "metadata": {},
   "source": [
    "### 6.4 The bisection method: SciPy\n",
    "\n",
    "* Reference: http://hplgit.github.io/prog4comp/doc/pub/p4c_Python.pdf, S.Linge & H.P.Langtangen, Chap.6.4., pp. 239-241.\n",
    "* SciPy code: https://docs.scipy.org/doc/scipy/reference/generated/scipy.optimize.bisect.html\n",
    "\n",
    "* description\n",
    "\n",
    "Neither Newton's method nor the secant method can guarantee that an existing solution will be found. The bisection method, however, does that.\n",
    "\n",
    "However, if there are several solutions present, it finds only one of them, just as Newton's method and the secant method. The bisection method is slower than the other two methods, so reliability comes with a cost of speed.\n",
    "\n",
    "In any case, we may proceed with half the interval only. The exception is if $f(x_M) \\approx 0$, in which case a solution is found. A \"solution\" in the ase, is when $|f(x_M)|$ is sufficiently close to zero, more precisely (as before) : $|f(x_M)| < \\epsilon$, where $\\epsilon$ is a small number specified by the user."
   ]
  },
  {
   "cell_type": "code",
   "execution_count": 6,
   "metadata": {},
   "outputs": [
    {
     "name": "stdout",
     "output_type": "stream",
     "text": [
      "(2.9999999999983373,       converged: True\n",
      "           flag: 'converged'\n",
      " function_calls: 51\n",
      "     iterations: 49\n",
      "           root: 2.9999999999983373)\n"
     ]
    }
   ],
   "source": [
    "def f(x):\n",
    "    return (x**2 - 9)\n",
    "from scipy import optimize\n",
    "root = optimize.bisect(f, 0, 1000, full_output=True)\n",
    "print (root)"
   ]
  },
  {
   "cell_type": "code",
   "execution_count": null,
   "metadata": {},
   "outputs": [],
   "source": []
  }
 ],
 "metadata": {
  "kernelspec": {
   "display_name": "Python 3",
   "language": "python",
   "name": "python3"
  },
  "language_info": {
   "codemirror_mode": {
    "name": "ipython",
    "version": 3
   },
   "file_extension": ".py",
   "mimetype": "text/x-python",
   "name": "python",
   "nbconvert_exporter": "python",
   "pygments_lexer": "ipython3",
   "version": "3.7.6"
  }
 },
 "nbformat": 4,
 "nbformat_minor": 2
}
