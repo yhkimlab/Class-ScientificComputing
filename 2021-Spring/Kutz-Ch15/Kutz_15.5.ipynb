{
 "cells": [
  {
   "cell_type": "markdown",
   "metadata": {},
   "source": [
    "### 2021 Spring \"EE479: Scientific Computing & Data\"\n",
    "\n",
    "#### Hyeonwoo Yeo (KAIST EE Yong-Hoon Kim Group) \n",
    "\n",
    "#### Kutz book - Figure 15.5\n",
    "\n"
   ]
  },
  {
   "attachments": {
    "image.png": {
     "image/png": "[encoded data removed]"
    }
   },
   "cell_type": "markdown",
   "metadata": {},
   "source": [
    "### A two-mass, three-spring system. \n",
    "\n",
    "![image.png](attachment:image.png)\n",
    "\n",
    "$$ \\Sigma F_1 = m_1 a = m_1 \\frac{d^2x_1}{dt^2}$$ and $$ \\Sigma F_2 = m_2 a = m_2 \\frac{d^2x_2}{dt^2}$$ \n",
    "\n",
    "$$ m_1 \\frac{d^2x_1}{dt^2}= -k_1x_1+k_2(x_2-x_1)+F_1=-(k_1+k_2)x_1+k_2x_2+F_1$$ \n",
    "$$ m_2 \\frac{d^2x_2}{dt^2}= -k_3x_2+k_2(x_2-x_1)+F_2=-(k_2+k_3)x_2+k_2x_1+F_2$$ \n",
    "\n",
    "\n",
    "$$\\underbrace{{\\begin{bmatrix} \n",
    "m_1&0\\\\\n",
    "0&m_2\\\\\n",
    "\\end{bmatrix}}}_{M}\\underbrace{{\\begin{bmatrix} \n",
    "x_1^{''}\\\\\n",
    "x_2^{''}\\\\\n",
    "\\end{bmatrix}}}_{x^{''}} = -\\underbrace{{\\begin{bmatrix} \n",
    "k_1+k_2&-k_2\\\\\n",
    "-k_2&k_2+k_3\\\\\n",
    "\\end{bmatrix}}}_{k}\\underbrace{{\\begin{bmatrix} \n",
    "x_1\\\\\n",
    "x_2\\\\\n",
    "\\end{bmatrix}}}_{x}$$\n",
    "\n",
    "For simplicity, \n",
    "$$ m=m_1=m_2,\\ K=\\frac{k_1}{m}=\\frac{k_2}{m}=\\frac{k_3}{m} \\ and \\ F_1 = F_2 = 0 $$\n",
    "\n",
    "Then, \n",
    "$${\\begin{bmatrix} \n",
    "x_1^{''}\\\\\n",
    "x_2^{''}\\\\\n",
    "\\end{bmatrix}} = -K{\\begin{bmatrix} \n",
    "2&-1\\\\\n",
    "-1&2\\\\\n",
    "\\end{bmatrix}}{\\begin{bmatrix} \n",
    "x_1\\\\\n",
    "x_2\\\\\n",
    "\\end{bmatrix}}$$\n",
    "\n",
    "We can assume a solution of the form\n",
    "$$ x(t) = e^{\\lambda t}\\nu \\rightarrow x^{''}=\\lambda^2 e^{\\lambda t}\\nu = \\lambda^2 x$$\n",
    "let $$ \\lambda^2 = \\mu, $$ then\n",
    "\n",
    "$$\\mu{\\begin{bmatrix} \n",
    "x_1\\\\\n",
    "x_2\\\\\n",
    "\\end{bmatrix}} = \\underbrace{{-K\\begin{bmatrix} \n",
    "2&-1\\\\\n",
    "-1&2\\\\\n",
    "\\end{bmatrix}}}_{A}{\\begin{bmatrix} \n",
    "x_1\\\\\n",
    "x_2\\\\\n",
    "\\end{bmatrix}}$$\n",
    "\n",
    "This is a form of equation (15.2.2)\n",
    "$$ Ax = \\mu x $$\n",
    "and\n",
    "$$ det(A-\\mu I) = (\\mu + 2K)^2 - K^2 = 0 $$\n",
    "\n",
    "Thus, \n",
    "$$ \\mu = \\lambda^2 = 3K \\ or \\ K $$\n",
    "\n",
    "\n",
    "\n",
    "Or, we can get $\\mu$ with SVD (equation 15.2.9 and 15.2.8)\n",
    "$$A = S\\Lambda S^{-1} $$\n",
    "\n",
    "$$ \\Lambda = \\begin{bmatrix} \n",
    "\\mu_1&0\\\\\n",
    "0&\\mu_2\\\\\n",
    "\\end{bmatrix} $$"
   ]
  },
  {
   "cell_type": "code",
   "execution_count": 15,
   "metadata": {},
   "outputs": [
    {
     "name": "stdout",
     "output_type": "stream",
     "text": [
      "[[16 -8]\n",
      " [-8 16]]\n",
      "mu from numpy [24.  8.]\n",
      "mu from scipy [24.  8.]\n"
     ]
    }
   ],
   "source": [
    "import numpy as np\n",
    "\n",
    "K = 8\n",
    "\n",
    "M = np.matrix('2 -1; -1 2')\n",
    "\n",
    "M = np.dot(K,M)\n",
    "print(M)\n",
    "\n",
    "import numpy.linalg as linnp\n",
    "a, b, c = linnp.svd(M)\n",
    "\n",
    "print('mu from numpy', b)\n",
    "\n",
    "import scipy.linalg as linsc\n",
    "d, e, f = linsc.svd(M)\n",
    "\n",
    "print('mu from scipy', e)\n"
   ]
  },
  {
   "cell_type": "code",
   "execution_count": null,
   "metadata": {},
   "outputs": [],
   "source": []
  }
 ],
 "metadata": {
  "kernelspec": {
   "display_name": "Python 3",
   "language": "python",
   "name": "python3"
  },
  "language_info": {
   "codemirror_mode": {
    "name": "ipython",
    "version": 3
   },
   "file_extension": ".py",
   "mimetype": "text/x-python",
   "name": "python",
   "nbconvert_exporter": "python",
   "pygments_lexer": "ipython3",
   "version": "3.7.6"
  }
 },
 "nbformat": 4,
 "nbformat_minor": 4
}
