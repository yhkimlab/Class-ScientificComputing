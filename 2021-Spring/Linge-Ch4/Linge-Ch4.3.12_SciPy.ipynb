{
 "cells": [
  {
   "cell_type": "markdown",
   "metadata": {},
   "source": [
    "## 2021 Spring \"EE479: Scientific Computing & Data\"\n",
    "\n",
    "### Yong-Hoon Kim, KAIST Electrical Engineering\n",
    "\n",
    "### Linge & Langtagen Ch.4.3.4: A finite difference method (Stomer's method/Verlet integration)\n",
    "\n",
    "#### Writer: Hyeonwoo Yeo\n",
    "#### 2021. 04. 13 Revised from <osc_2nd_order.py> & <linear damping() in 4.3.9>\n",
    "\n",
    "We consider an engineering system with a linear spring, $s(u) = kx,$ and a viscous damper, where the damping force is proportional to $u', f(u') = bu',$ for some constant $b > 0$. This choice may model the vertical spring system in a car.\n",
    "\n",
    "$$mu^{''}(t)+bu'+s(u)=F(t)$$\n",
    "$$u(0) = U_{0}, u^{'}(0)=0, t\\in (0,T] $$\n",
    "\n",
    "We may choose simple values for the constants to illustrate basic effects of damping (and later excitations). Chossing the oscilattions to be the simple $u(t) = cost$ function in the undamped case, we may set $m = 1, k = 1, b = 0.3, U_0 = 1, V_0 = 0$. "
   ]
  },
  {
   "cell_type": "code",
   "execution_count": 13,
   "metadata": {},
   "outputs": [
    {
     "data": {
      "image/png": "[encoded data removed]",
      "text/plain": [
       "<Figure size 432x288 with 1 Axes>"
      ]
     },
     "metadata": {
      "needs_background": "light"
     },
     "output_type": "display_data"
    },
    {
     "name": "stdout",
     "output_type": "stream",
     "text": [
      "calculation time for Verlet integration: 0.12302303314208984\n"
     ]
    }
   ],
   "source": [
    "from numpy import zeros, linspace, cos\n",
    "from math import pi\n",
    "import matplotlib.pyplot as plt\n",
    "import time\n",
    "\n",
    "def osc_2nd_order(s, F, m, T, U_0, dt, b):\n",
    "    \"\"\"\n",
    "    Solver u'' + omega**2*u = 0 for t in (0,T], u(0)=U_0 and u'(0)=0,\n",
    "    by a central finite difference method with time step dt.\n",
    "    \"\"\"\n",
    "    Nt = int(round(T/dt))\n",
    "    u = zeros(Nt+1)\n",
    "    a = zeros(Nt+1)\n",
    "    t = linspace(0, Nt*dt, Nt+1)\n",
    "    \n",
    "    u[0] = U_0\n",
    "#    dt = (-1)*dt  # Time reverse\n",
    "    u[1] = u[0] + 0.5*(1./m)*dt**2*(F(t[0])-s(u[0]))         \n",
    "    for n in range(1, Nt):\n",
    "        u[n+1] = (2*m*u[n] + (0.5*b*dt-m)*u[n-1]+dt**2*(F(t[n])-s(u[n])))*(m+0.5*b*dt)**(-1)\n",
    "#        u[n+1] = ((m+0.5*b*dt)*u[n-1] - 2*m*u[n] - dt**2*(F(t[n])-s(u[n])))*(0.5*b*dt-m)**(-1)  #time reversibility\n",
    "    return u, t\n",
    "\n",
    "def linear_damping_Verlet():\n",
    "    b = 0.3\n",
    "    s = lambda u: k*u\n",
    "    F = lambda t: 0\n",
    "        \n",
    "    m = 1\n",
    "    k = 1\n",
    "    U_0 = 1\n",
    "    V_0 = 0\n",
    "    \n",
    "    T = 12*pi\n",
    "    dt = T/5000.\n",
    "    \n",
    "    u1, t1 = osc_2nd_order(s, F, m, T, U_0, dt, b)\n",
    "\n",
    "    fig = plt.figure()\n",
    "    index1 = int(len(u1)*100/100.)\n",
    "    l1 = plt.plot(t1, u1, 'b-')\n",
    "    plt.xlabel('t')\n",
    "    plt.show()\n",
    "\n",
    "if __name__ == '__main__':\n",
    "    start = time.time()\n",
    "    linear_damping_Verlet()\n",
    "    time_calc = time.time() - start\n",
    "    print('calculation time for Verlet integration:', time_calc)"
   ]
  },
  {
   "cell_type": "code",
   "execution_count": 7,
   "metadata": {},
   "outputs": [
    {
     "name": "stdout",
     "output_type": "stream",
     "text": [
      "N_t: 5000\n"
     ]
    },
    {
     "data": {
      "image/png": "[encoded data removed]",
      "text/plain": [
       "<Figure size 432x288 with 1 Axes>"
      ]
     },
     "metadata": {
      "needs_background": "light"
     },
     "output_type": "display_data"
    },
    {
     "name": "stdout",
     "output_type": "stream",
     "text": [
      "calculation time for Euler-Cromer: 0.1309986114501953\n"
     ]
    }
   ],
   "source": [
    "from math import pi\n",
    "import matplotlib.pyplot as plt\n",
    "from scipy import integrate as inte\n",
    "import time\n",
    "\n",
    "def EulerCromer(f, s, F, m, T, U_0, V_0, dt):\n",
    "    from numpy import zeros, linspace\n",
    "    N_t = int(round(T/dt))\n",
    "    print('N_t:', N_t)\n",
    "    t = linspace(0, N_t*dt, N_t+1)\n",
    "    \n",
    "    u = zeros(N_t+1)\n",
    "    v = zeros(N_t+1)\n",
    "    # Initial condition\n",
    "    u[0] = U_0\n",
    "    v[0] = V_0\n",
    "    # Step equations forward in time\n",
    "    for n in range(N_t):\n",
    "        v[n+1] = v[n] + dt*(1./m)*(F(t[n]) - f(v[n]) - s(u[n]))\n",
    "        u[n+1] = u[n] + dt*v[n+1]\n",
    "    return u, v, t\n",
    "\n",
    "def linear_damping():\n",
    "    b = 0.3\n",
    "    f = lambda v: b*v\n",
    "    s = lambda u: k*u\n",
    "    F = lambda t: 0\n",
    "    \n",
    "    m = 1\n",
    "    k = 1\n",
    "    U_0 = 1\n",
    "    V_0 = 0\n",
    "    \n",
    "    T = 12*pi\n",
    "    dt = T/5000.\n",
    "    \n",
    "    u, v, t = EulerCromer(f=f, s=s, F=F, m=m, T=T,\n",
    "                          U_0=U_0, V_0=V_0, dt=dt)\n",
    "\n",
    "    index = int(len(u)*100/100.)\n",
    "    plt.plot(t[-index:], u[-index:], 'b-')\n",
    "    plt.show()\n",
    "\n",
    "if __name__ == '__main__':\n",
    "    start = time.time()\n",
    "    linear_damping()\n",
    "    time_calc = time.time() - start\n",
    "    print('calculation time for Euler-Cromer:', time_calc)"
   ]
  },
  {
   "cell_type": "code",
   "execution_count": null,
   "metadata": {},
   "outputs": [],
   "source": []
  },
  {
   "cell_type": "code",
   "execution_count": null,
   "metadata": {},
   "outputs": [],
   "source": []
  }
 ],
 "metadata": {
  "kernelspec": {
   "display_name": "Python 3",
   "language": "python",
   "name": "python3"
  },
  "language_info": {
   "codemirror_mode": {
    "name": "ipython",
    "version": 3
   },
   "file_extension": ".py",
   "mimetype": "text/x-python",
   "name": "python",
   "nbconvert_exporter": "python",
   "pygments_lexer": "ipython3",
   "version": "3.7.6"
  }
 },
 "nbformat": 4,
 "nbformat_minor": 4
}
