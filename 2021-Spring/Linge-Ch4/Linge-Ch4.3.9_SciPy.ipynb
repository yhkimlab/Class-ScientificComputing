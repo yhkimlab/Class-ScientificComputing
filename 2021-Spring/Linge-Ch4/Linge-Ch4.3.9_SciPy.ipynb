{
 "cells": [
  {
   "cell_type": "markdown",
   "metadata": {},
   "source": [
    "## 2021 Spring \"EE479: Scientific Computing & Data\"\n",
    "\n",
    "### Yong-Hoon Kim, KAIST Electrical Engineering\n",
    "\n",
    "### Linge & Langtagen Ch.4.3.9:  Effects of damping\n",
    "#### Writer: Hyeonwoo Yeo\n",
    "#### 2021. 04. 13 revised from <osc_EC_general.py>"
   ]
  },
  {
   "attachments": {
    "image.png": {
     "image/png": "[encoded data removed]"
    }
   },
   "cell_type": "markdown",
   "metadata": {},
   "source": [
    "We consider an engineering system with a linear spring, $s(u) = kx,$ and a viscous damper, where the damping force is proportional to $u', f(u') = bu',$ for some constant $b > 0$. This choice may model the vertical spring system in a car.\n",
    "\n",
    "![image.png](attachment:image.png)\n",
    "\n",
    "We may choose simple values for the constants to illustrate basic effects of damping (and later excitations). Chossing the oscilattions to be the simple $u(t) = cost$ function in the undamped case, we may set $m = 1, k = 1, b = 0.3, U_0 = 1, V_0 = 0$. \n",
    "\n",
    "![image.png](attachment:image.png)"
   ]
  },
  {
   "cell_type": "code",
   "execution_count": 1,
   "metadata": {},
   "outputs": [
    {
     "data": {
      "image/png": "[encoded data removed]",
      "text/plain": [
       "<Figure size 432x288 with 1 Axes>"
      ]
     },
     "metadata": {
      "needs_background": "light"
     },
     "output_type": "display_data"
    }
   ],
   "source": [
    "from math import pi\n",
    "import matplotlib.pyplot as plt\n",
    "from scipy import integrate as inte\n",
    "import time\n",
    "\n",
    "def g(t,Y):\n",
    "    m = 1\n",
    "    k = 1\n",
    "    b = 0.3\n",
    "    \n",
    "    u=Y[0]\n",
    "    v=Y[1]\n",
    "    dydt=v #v=y'=u'\n",
    "    F = 0\n",
    "    s = k*u\n",
    "    f = b*v\n",
    "    dvdt=(1./m)*(F - f - s)\n",
    "    return [dydt,dvdt]\n",
    "\n",
    "max_iteration = 10**3\n",
    "t_bound = 200\n",
    "max_step = 0.5\n",
    "U_0 = 1\n",
    "V_0 = 0\n",
    "\n",
    "solution = inte.BDF(g, 0, [U_0,V_0], t_bound, max_step) #vectorized=True\n",
    "start_solution = time.time()\n",
    "t_solution = []\n",
    "y_solution = []\n",
    "for i in range(max_iteration):\n",
    "# get solution step state\n",
    "    solution.step() #implemented function in scipy to collect data\n",
    "    t_solution.append(solution.t)\n",
    "    y_solution.append(solution.y[0])\n",
    "    if solution.status == 'finished' :\n",
    "        time_solution = time.time() - start_solution\n",
    " #       print(y_solution)\n",
    "        break\n",
    "\n",
    "index = int(len(y_solution)*100/100.)\n",
    "plt.plot(t_solution[-index:], y_solution[-index:], 'b-')\n",
    "plt.show()\n",
    "\n",
    "#print(\"calculation time:\", time_solution)"
   ]
  },
  {
   "cell_type": "code",
   "execution_count": null,
   "metadata": {},
   "outputs": [],
   "source": []
  },
  {
   "cell_type": "code",
   "execution_count": null,
   "metadata": {},
   "outputs": [],
   "source": []
  }
 ],
 "metadata": {
  "kernelspec": {
   "display_name": "Python 3",
   "language": "python",
   "name": "python3"
  },
  "language_info": {
   "codemirror_mode": {
    "name": "ipython",
    "version": 3
   },
   "file_extension": ".py",
   "mimetype": "text/x-python",
   "name": "python",
   "nbconvert_exporter": "python",
   "pygments_lexer": "ipython3",
   "version": "3.7.6"
  }
 },
 "nbformat": 4,
 "nbformat_minor": 2
}
