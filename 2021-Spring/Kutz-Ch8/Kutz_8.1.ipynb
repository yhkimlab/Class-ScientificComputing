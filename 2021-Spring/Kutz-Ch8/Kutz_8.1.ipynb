{
 "cells": [
  {
   "cell_type": "markdown",
   "metadata": {},
   "source": [
    "### 2021 Spring \"EE479: Scientific Computing & Data\"\n",
    "\n",
    "#### Yumin Song (KAIST EE Yong-Hoon Kim Group) \n",
    "\n",
    "#### Kutz 8.1 Finite Difference Methods\n",
    "\n",
    "#### 2021. 05. 17 Revised "
   ]
  },
  {
   "cell_type": "markdown",
   "metadata": {},
   "source": [
    "### Finite diffence discretization\n",
    "\n",
    "In this section, we solve specific elliptic partial differential equations with the finite difference methods. The quasi-two-dimensional motion of atmosphere can be modeled by the advection-diffusion behavior for the vorticity $ w(x,y,t) $ which is coupled to the streamfunction $ \\psi  $ The governing equation in this case is \n",
    "\n",
    "$$ \\frac{\\partial{\\omega}}{\\partial{t}} + [\\psi, \\omega]  = \\nu\\nabla^{2}\\omega    $$\n",
    "\n",
    "where \n",
    "$$ [\\psi, \\omega] =  \\frac{\\partial{\\psi}}{\\partial{x}}\\frac{\\partial{\\omega}}{\\partial{y}} -  \\frac{\\partial{\\psi}}{\\partial{y}}\\frac{\\partial{\\omega}}{\\partial{x}}   $$\n",
    "\n",
    "and $ \\nabla^{2}= \\partial_{x}^{2} +  \\partial_{y}^{2}  $ is the two-dimensional Laplacian. we will proceed to solve this problem with periodic boundary conditions. This gives the following set of boundary conditions.\n",
    "\n",
    "$$ \\rho(-L,y) = \\rho(L,y) $$\n",
    "$$ \\rho(x,-L) = \\rho(x,L) $$\n",
    "$$ \\psi(-L,y) = \\psi(L,y) $$\n",
    "$$ \\psi(x,-L) = \\psi(x,L) $$\n",
    "\n",
    "where computation domain $x \\in [-L,L]  $ and  $y \\in [-L,L]  $ \n",
    "\n",
    "#### Basic algorithm structure\n",
    "\n",
    "The solution procedure is as follows:\n",
    "\n",
    "##### 1. Elliptic solve \n",
    "Solve the elliptic problem $ \\nabla^2\\psi = \\omega_{0} $ to find the streamfunction at time zero $ \\psi(x,y,t=0) = \\psi_{0}  $\n",
    "\n",
    "##### 2. Time-stepping\n",
    "Given initial $\\omega_{0}$ and $\\psi_{0}$, solve the advection-diffusion problem by time-stepping with a given method. The Euler method is illustrated below\n",
    "$$ \\omega(x,y,t+\\Delta t)  = \\omega(x,y,t)  + \\Delta t( \\nu \\nabla^{2}\\omega(x,y,t) - [\\psi(x,y,t),\\omega(x,y,t)] )  $$\n",
    "\n",
    "##### 3. Loop\n",
    "With the updated value of $\\omega(x,y,\\Delta{t})$, we can repeat the process by again solving for $ \\psi(x,y,\\Delta{t}) $ and updating the vorticity once again \n",
    "\n",
    "##### Step 1. Elliptic solve \n",
    "\n",
    "we begin by discretizing the elliptic solve problem. In second -order accurate central difference scheme, the elliptic equation reduces to \n",
    "\n",
    "$$ \\nabla^{2}\\psi = \\frac{\\partial^{2}\\psi}{\\partial{x}^{2}} +  \\frac{\\partial^{2}\\psi}{\\partial{y}^{2}}  = \\omega $$\n",
    "\n",
    "we use a second-order accurate central difference schme that elliptic equation reduces to \n",
    "\n",
    "\n",
    "$$  \\frac{\\psi(x+\\Delta{x},y,t)-2\\psi(x,y,t)+\\psi(x-\\Delta{x},y,t)}{{\\Delta{x}}^{2}} + \\frac{\\psi(x,y+\\Delta{y},t)-2\\psi(x,y,t)+\\psi(x,y-\\Delta{y},t)}{{\\Delta{y}}^{2}}  = \\omega(x,y,t) $$\n"
   ]
  },
  {
   "cell_type": "markdown",
   "metadata": {},
   "source": [
    "Below figure illustrates the stencil which used in discretization. \n",
    "We denote \n",
    "\n",
    "$$ \\psi_{mn} = \\psi(x_m,y_n,t) $$\n",
    "\n",
    "$$ -4\\psi_{mn}+\\psi_{(m-1)n}+\\psi_{(m+1)n}+\\psi_{(m)(n-1)}+\\psi_{m(n+1)} = \\delta^2\\omega_{mn} $$\n",
    "\n",
    "where $\\Delta{x}^2 = \\Delta{y}^2 =\\delta^2 $"
   ]
  },
  {
   "cell_type": "markdown",
   "metadata": {},
   "source": [
    "<img style=\"float: middle;\" src=\"finite.JPG\" width=\"600\">"
   ]
  },
  {
   "cell_type": "markdown",
   "metadata": {},
   "source": [
    "For this case, we have the following sets of equations in $4 \\times 4 $ system.\n",
    "\n",
    "$$ -4\\psi_{11}+\\psi_{41}+\\psi_{21}+\\psi_{14}+\\psi_{12} =  \\delta^2\\omega_{11} $$\n",
    "$$ -4\\psi_{12}+\\psi_{42}+\\psi_{22}+\\psi_{11}+\\psi_{13} =  \\delta^2\\omega_{12} $$\n",
    "$$\\vdots$$\n",
    "$$ -4\\psi_{21}+\\psi_{11}+\\psi_{31}+\\psi_{24}+\\psi_{22} =  \\delta^2\\omega_{21} $$\n",
    "$$\\vdots$$\n",
    "\n",
    "which results in the sparse matrix (banded matrix) system\n",
    "$$ A\\psi =\\delta^{2} \\omega  $$ \n",
    "where"
   ]
  },
  {
   "cell_type": "markdown",
   "metadata": {},
   "source": [
    "<img style=\"float: middle;\" src=\"matrix.JPG\" width=\"600\">"
   ]
  },
  {
   "cell_type": "markdown",
   "metadata": {},
   "source": [
    "and \n",
    "$$ \\psi =( \\psi_{11}\\psi_{12}\\psi_{13}\\psi_{14}\\psi_{21}\\psi_{22}\\psi_{23}\\psi_{24}\\psi_{31}\\psi_{32}\\psi_{33}\\psi_{34}\\psi_{41}\\psi_{42}\\psi_{43}\\psi_{44})^T   $$\n",
    "$$ \\omega =( \\omega_{11}\\omega_{12}\\omega_{13}\\omega_{14}\\omega_{21}\\omega_{22}\\omega_{23}\\omega_{24}\\omega_{31}\\omega_{32}\\omega_{33}\\omega_{34}\\omega_{41}\\omega_{42}\\omega_{43}\\omega_{44})^T   $$"
   ]
  },
  {
   "cell_type": "markdown",
   "metadata": {},
   "source": [
    "##### Step 2. Time-stepping \n",
    "\n",
    "$\\psi(x,y,t)$ is updated value along with the current value of the voricity to take a time-step $\\Delta{t}$ into the future.\n",
    "$$ \\frac{\\partial{\\omega}}{\\partial{t}} + [\\psi, \\omega]  = \\nu\\nabla^{2}\\omega    $$"
   ]
  },
  {
   "cell_type": "markdown",
   "metadata": {},
   "source": [
    "Using the definition of the braketed term and the Laplacian, this equation is \n",
    "$$ \\frac{\\partial{\\omega}}{\\partial{t}} = \\frac{\\partial{\\psi}}{\\partial{y}}\\frac{\\partial{\\omega}}{\\partial{x}}  - \\frac{\\partial{\\psi}}{\\partial{x}}\\frac{\\partial{\\omega}}{\\partial{y}} + \\nu(\\frac{\\partial{\\omega^{2}}}{\\partial{x}^2} +  \\frac{\\partial{\\omega^{2}}}{\\partial{y}^2})   $$\n",
    "\n",
    "Second-order central-differencing discretization then yields\n",
    "\n",
    "$$ \\frac{\\partial\\omega}{\\partial t} = (\\frac{\\psi(x,y+\\Delta{y},t)-\\psi(x,y-\\Delta{y},t)}{{2\\Delta{y}}})(\\frac{\\omega(x+\\Delta{x},y,t)-\\omega(x-\\Delta{x},y,t)}{{2\\Delta{x}}}) - (\\frac{\\psi(x+\\Delta{x},y,t)-\\psi(x-\\Delta{x},y,t)}{{2\\Delta{x}}})(\\frac{\\omega(x,y+\\Delta{y},t)-\\omega(x,y-\\Delta{y},t)}{{2\\Delta{y}}}) + \\nu(\\frac{\\omega(x+\\Delta{x},y,t)-2\\omega(x,y,t)+\\omega(x-\\Delta{x},y,t)}{{\\Delta{x}}^{2}} +\\frac{\\omega(x,y+\\Delta{y},t)-2\\omega(x,y,t)+\\omega(x,y-\\Delta{y},t)}{{\\Delta{y}}^{2}} )    $$\n",
    "\n",
    "\n"
   ]
  },
  {
   "cell_type": "markdown",
   "metadata": {},
   "source": [
    "This can be stepped forward in time with any convenient time-stepping algorithm such as fourth-order Runge-Kutta. Once we have updated the value of the vorticity, we must again update the value of the streamfunction to once again update the vorticity. This loop continues until the solution at the desired future time is achieved.\n",
    "\n",
    "<img style=\"float: middle;\" src=\"stencil.JPG\" width=\"600\">\n",
    "\n",
    "The initial condition used in this simulation is \n",
    "\n",
    "$ \\omega_{0} = \\omega(x,y,t=0) = exp(-2x^2 -\\frac{y^2}{20})   $\n",
    "\n",
    "This stretched Gaussian is seen to rotate while advecting and diffusing vorticity.\n",
    "\n",
    "The code implementation is as follows:"
   ]
  },
  {
   "cell_type": "code",
   "execution_count": 16,
   "metadata": {
    "scrolled": true
   },
   "outputs": [
    {
     "name": "stdout",
     "output_type": "stream",
     "text": [
      "Size of A matrix = 2500\n"
     ]
    },
    {
     "data": {
      "image/png": "[encoded data removed]",
      "text/plain": [
       "<Figure size 432x288 with 6 Axes>"
      ]
     },
     "metadata": {
      "needs_background": "light"
     },
     "output_type": "display_data"
    }
   ],
   "source": [
    "import numpy as np\n",
    "import scipy.sparse.linalg as linag\n",
    "import time\n",
    "import matplotlib.pyplot as plt\n",
    "from scipy.linalg import lu_factor, lu_solve\n",
    "\n",
    "N=2500\n",
    "########################################### A Matrix construct \n",
    "I2 = -4*np.eye(N)\n",
    "E = np.diag(np.ones((N-1)), k=1)\n",
    "E2 = np.diag( np.ones(int(np.sqrt(N))), N-int(np.sqrt(N))  )\n",
    "E3 = np.diag( np.ones(N-int(np.sqrt(N))), int(np.sqrt(N))  )\n",
    "A = I2 + E + E.T +E2 + E2.T + E3 + E3.T\n",
    "for i in range(int(np.sqrt(N))):\n",
    "    A[(i+1)*int(np.sqrt(N))-1,int(np.sqrt(N))*i] = 1\n",
    "    A[int(np.sqrt(N))*i,(i+1)*int(np.sqrt(N))-1] = 1\n",
    "    A[int(np.sqrt(N))*i,int(np.sqrt(N))*i-1] = 0\n",
    "    A[int(np.sqrt(N))*i-1,int(np.sqrt(N))*i] = 0\n",
    "################################# 8.5 Overcoming Computational difficulties\n",
    "#A[0,0] = 0 \n",
    "###################################### Gradient matrix construct #####\n",
    "for i in range(int(np.sqrt(N))):\n",
    "    A[(i+1)*int(np.sqrt(N))-1,int(np.sqrt(N))*i] = 1\n",
    "    A[int(np.sqrt(N))*i,(i+1)*int(np.sqrt(N))-1] = 1\n",
    "    A[int(np.sqrt(N))*i,int(np.sqrt(N))*i-1] = 0\n",
    "    A[int(np.sqrt(N))*i-1,int(np.sqrt(N))*i] = 0\n",
    "\n",
    "A_gx1 =  np.diag(np.ones((N-1)), k=1)\n",
    "A_gx =  A_gx1 - A_gx1.T\n",
    "for i in range(int(np.sqrt(N))):  \n",
    "    A_gx[ int(np.sqrt(N))*(i) , int(np.sqrt(N))*i-1] = 0\n",
    "    A_gx[ int(np.sqrt(N))*i, int(np.sqrt(N))*(i+1)-1] = -1\n",
    "    A_gx[ int(np.sqrt(N))*i-1,  int(np.sqrt(N))*(i) ] = 0\n",
    "    A_gx[ int(np.sqrt(N))*(i+1)-1, int(np.sqrt(N))*i] = 1\n",
    "    \n",
    "A_gy1 =   np.diag(np.ones((N-int(np.sqrt(N)))), int(np.sqrt(N)))\n",
    "A_gy2 =  -np.diag(np.ones((int(np.sqrt(N)))), N-int(np.sqrt(N)))\n",
    "A_gy3 =  -np.diag(np.ones((N-int(np.sqrt(N)))), int(np.sqrt(N))).T\n",
    "A_gy4 =   np.diag(np.ones((int(np.sqrt(N)))), N-int(np.sqrt(N))).T\n",
    "A_gy = A_gy1 + A_gy2 + A_gy3 + A_gy4\n",
    "##################################################################\n",
    "\n",
    "x2 = np.linspace(-10,10,int(np.sqrt(N))+1)\n",
    "y2 = np.linspace(-10,10,int(np.sqrt(N))+1)\n",
    "x=x2[0:len(x2)-1];\n",
    "y=y2[0:len(y2)-1];\n",
    "[X,Y]=np.meshgrid(x,y);\n",
    "b = 1*np.exp(-0.25*X**2-Y**2);\n",
    "#b= b.reshape(N,1)\n",
    "test_b = np.zeros((int(np.sqrt(N)),int(np.sqrt(N))))\n",
    "test_b[:,:] = np.sum(b) / int(np.sqrt(N)) / int(np.sqrt(N))\n",
    "b = b - test_b\n",
    "w= b.reshape(N,1)\n",
    "#print('test_2b sum=',np.sum(b))\n",
    "h = x[1]-x[0]\n",
    "#print('h=',h)\n",
    "A = A / h / h\n",
    "A_gx = A_gx / (2*h)\n",
    "A_gy = A_gy / (2*h)\n",
    "\n",
    "print('Size of A matrix =', len(A))\n",
    "\n",
    "def conjGrad(A,x,b,tol,N): #input: A(matrix) x(initial),tol(tolerence),N(matrix size)\n",
    "    r = b - A.dot(x)\n",
    "    p = r.copy()\n",
    "    for i in range(N):\n",
    "        Ap = A.dot(p)\n",
    "        alpha = np.dot(p.T,r)/np.dot(p.T,Ap)\n",
    "        x = x + alpha*p\n",
    "        r = b - A.dot(x)\n",
    "        if np.sqrt(np.sum((r**2))) < tol:\n",
    "            break\n",
    "        else:\n",
    "            beta = -np.dot(r.T,Ap)/np.dot(p.T,Ap)\n",
    "            p = r + beta*p\n",
    "    return x \n",
    "\n",
    "x0 = np.zeros((N,1)) # initial guess\n",
    "nu=0.001  # vorticity \n",
    "wt2 = w\n",
    "wt2 = wt2.reshape(N,order='F')\n",
    "\n",
    "def spc_rhs(t,wt2):\n",
    "    wt2 = wt2.reshape(N,1,order='F')\n",
    " #   psi = conjGrad(A,x0,wt2,10**(-5),10000000) \n",
    "    lu, piv = lu_factor(A)\n",
    "    psi = lu_solve((lu, piv), wt2)\n",
    "    psi = psi.reshape(N,1)\n",
    "    wt2 = A_gy.dot(psi) * A_gx.dot(wt2)   -  A_gx.dot(psi) * A_gy.dot(wt2) + nu*A.dot(wt2)\n",
    "    wt2 = wt2.reshape(N,order='F')\n",
    "    rhs = wt2\n",
    "    return rhs\n",
    "\n",
    "from scipy.integrate import solve_ivp\n",
    "\n",
    "sol = solve_ivp (spc_rhs,[0,10], wt2, t_eval=[0, 2, 4, 6, 8,10] )\n",
    "\n",
    "T = sol.t\n",
    "F = sol.y\n",
    "tspan = np.linspace(0,10,6)\n",
    "levels = np.linspace(0.1,1,100)\n",
    "for j in range(len(tspan)):\n",
    "    plt.subplot(2,3,j+1)\n",
    "    wf = (F[:,j].reshape(int(np.sqrt(N)),int(np.sqrt(N)))).real\n",
    "    CS = plt.contour(X, Y, wf, levels)   # set levels automatically\n",
    "   # plt.colorbar()"
   ]
  },
  {
   "cell_type": "markdown",
   "metadata": {},
   "source": [
    "In this code, for step 1. we use LU decomposition which is direct method  for solving $Ax=b$. \n",
    " In step 2. we use scipy.integrate.solve_ivp for calculating time-stepping ordinary differential equation. Using the input function 'spc_rhs', streamfunction is updated when volticity updated.\n",
    "\n",
    "From the result, we can find the vorticity is rotate as times goes on(0s,2s,4s,6s,8s,10s)."
   ]
  },
  {
   "cell_type": "code",
   "execution_count": null,
   "metadata": {},
   "outputs": [],
   "source": []
  }
 ],
 "metadata": {
  "kernelspec": {
   "display_name": "Python 3",
   "language": "python",
   "name": "python3"
  },
  "language_info": {
   "codemirror_mode": {
    "name": "ipython",
    "version": 3
   },
   "file_extension": ".py",
   "mimetype": "text/x-python",
   "name": "python",
   "nbconvert_exporter": "python",
   "pygments_lexer": "ipython3",
   "version": "3.8.3"
  }
 },
 "nbformat": 4,
 "nbformat_minor": 4
}
