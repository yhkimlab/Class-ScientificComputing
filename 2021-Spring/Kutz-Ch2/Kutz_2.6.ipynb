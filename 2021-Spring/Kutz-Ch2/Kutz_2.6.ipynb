{
 "cells": [
  {
   "cell_type": "markdown",
   "metadata": {},
   "source": [
    "### 2021 Spring \"EE479: Scientific Computing & Data\"\n",
    "#### Yong-Hoon Kim, KAIST Electrical Engineering\n",
    "#### Kutz 2.6 Nonlinear Systems\n",
    "##### Writer: Yumin Song\n",
    "\n",
    "#### 2021. 05. 01 Revised from matlab version "
   ]
  },
  {
   "cell_type": "markdown",
   "metadata": {},
   "source": [
    "This sections deal with the nonlinear systems of equations. If the matrix A is nonsingular, there is one unique solution. However, the nonlinear system of equations has not unique solution.\n",
    "\n",
    "The Newton method can be generalized for solving systems of nonlinear equations.\n",
    "\n",
    "$ F(x)=$ $\\left[\\begin{array}{rrr} \n",
    "{f_1(x_1,x_2,x_3,\\cdots,x_N)}\\\\\n",
    "f_2(x_1,x_2,x_3,\\cdots,x_N)\\\\\n",
    "\\vdots \\quad\\quad\\quad \\\\\n",
    "f_N(x_1,x_2,x_3,\\cdots,x_N)\\\\\n",
    "\\end{array}\\right]=0$\n",
    "\n",
    "the iteration scheme is \n",
    "$ x_{n+1} = x_n + \\vartriangle x_n $\n",
    "\n",
    "where\n",
    "\n",
    "$ J(x_{n})\\vartriangle x_n  = -F(x_n) $\n",
    "\n",
    "$J(x_{n}) = $ $\\left[\\begin{array}{rrr} \n",
    "\\frac{\\partial{f_1(x)}}{\\partial{x_1}}&\\frac{\\partial{f_1(x)}}{\\partial{x_2}}&\\cdots&\\frac{\\partial{f_1(x)}}{\\partial{x_N}}\\\\\n",
    "\\frac{\\partial{f_1(x)}}{\\partial{x_1}}&\\frac{\\partial{f_1(x)}}{\\partial{x_2}}&\\cdots&\\frac{\\partial{f_1(x)}}{\\partial{x_N}}\\\\\n",
    "\\vdots&\\vdots& &\\vdots\\quad\\\\\n",
    "\\frac{\\partial{f_1(x)}}{\\partial{x_1}}&\\frac{\\partial{f_1(x)}}{\\partial{x_2}}&\\cdots&\\frac{\\partial{f_1(x)}}{\\partial{x_N}}\\\\\n",
    "\\end{array}\\right]$"
   ]
  },
  {
   "cell_type": "markdown",
   "metadata": {},
   "source": [
    "This algorithm relies on initially guessing values for x1, x2, . . . , xN.\n",
    "\n",
    "To show the implementation of this method, consider the following nonlinear system of equations\n",
    "\n",
    "$ f_1(x_1,x_2) = 2x_1 + x_2 + x_1^3 = 0 $\n",
    "\n",
    "$ f_2(x_1,x_2) = x_1 + x_1x_2 + exp(x_1) = 0 $"
   ]
  },
  {
   "cell_type": "markdown",
   "metadata": {},
   "source": [
    "To apply the Newton iteration algorithm, the Jacobian must first be calculated. The partial\n",
    "derivatives is as follows:\n",
    "\n",
    "$ \\frac{ \\partial{f_1}}{ \\partial{x_1}} = 2 + 3x_1^2  $\n",
    "\n",
    "$ \\frac{ \\partial{f_1}}{ \\partial{x_2}} = 1   $\n",
    "\n",
    "$ \\frac{ \\partial{f_2}}{ \\partial{x_1}} = 1 + x_2 + exp(x1)   $\n",
    "\n",
    "$ \\frac{ \\partial{f_2}}{ \\partial{x_2}} = x_1   $\n",
    "\n",
    "$J(x_{n}) = $ $\\left[\\begin{array}{rrr} \n",
    "\\ 2 + 3x_1^2 \\quad \\quad &  1 \\\\\n",
    "\\ 1 + x_2+exp(x_1) &  x_1 \\\\\n",
    "\\end{array}\\right]$\n"
   ]
  },
  {
   "cell_type": "markdown",
   "metadata": {},
   "source": [
    "In this algorithm, the initial guess for the solution was taken to be $ (x1, x2) = (0, 0)$. The Jacobian\n",
    "is updated at each iteration with the current values of $x1$ and $x2$. We can see the solution is found iteratively. \n",
    "\n",
    "Algorithm:\n",
    "\n",
    "\n",
    "1 Guess initial values: $(x_{1}, x_{2})$.\n",
    "\n",
    "2 Calculate jacobian matrix $J(x_{n}) $ and calculate function ( $f_{i}(x_{1},x_{2})$ )\n",
    "\n",
    "3.Check $   {\\vert\\sum \\vert f_{i}(x_{1},x_{2})\\vert^2 \\vert}^{1/2}   $  < tolerance\n",
    "\n",
    "4 If not converged, find next value  $\\left[\\begin{array}{rrr} \n",
    "\\ x_{1,k+1}  \\\\\n",
    "\\ x_{2,k+1}  \\\\\n",
    "\\end{array}\\right]$ = $\\left[\\begin{array}{rrr} \n",
    "\\ x_{1,k}  \\\\\n",
    "\\ x_{2,k}  \\\\\n",
    "\\end{array}\\right]$ - $ J^{-1}(x_{1,k},x_{2,k}) $ $\\left[\\begin{array}{rrr} \n",
    "\\ f_{1}(x_{1,k},x_{2,k})  \\\\\n",
    "\\ f_{2}(x_{1,k},x_{2,k})  \\\\\n",
    "\\end{array}\\right]$"
   ]
  },
  {
   "cell_type": "code",
   "execution_count": 14,
   "metadata": {},
   "outputs": [
    {
     "name": "stdout",
     "output_type": "stream",
     "text": [
      "\n",
      " Iteration \tx1\t\t  x2\n",
      "\t1 \t -0.500000\t 1.000000\n",
      "\t2 \t -0.385479\t 0.810067\n",
      "\t3 \t -0.378307\t 0.810696\n",
      "\t4 \t -0.378307\t 0.810755\n"
     ]
    }
   ],
   "source": [
    "import numpy as np\n",
    "from numpy import linalg as LA\n",
    "\n",
    "x = np.zeros((2,1))\n",
    "J = np.zeros((2,2))\n",
    "f = np.zeros((2,1))\n",
    "print('\\n Iteration \\tx1\\t\\t  x2')\n",
    "\n",
    "for j in range(100):\n",
    "    J[0,0] = 2+3*x[0,0]**2\n",
    "    J[0,1] = 1\n",
    "    J[1,0] = 1 + x[1,0] + np.exp(x[0,0])\n",
    "    J[1,1] = x[0,0]\n",
    "    f[0,0] = 2*x[0,0]+x[1,0]+x[0,0]**3\n",
    "    f[1,0] = x[0,0]+x[0,0]*x[1,0]+np.exp(x[0,0])\n",
    "                                  \n",
    "    if LA.norm(f) <  10**(-6):\n",
    "        break\n",
    "    df = -np.dot(LA.inv(J),f)\n",
    "    x = x + df\n",
    "    print('\\t%d \\t %0.6f\\t %0.6f'% (j+1,x[0],x[1]))"
   ]
  },
  {
   "cell_type": "markdown",
   "metadata": {},
   "source": [
    "In this example, initial guess is $(0,0)$ and tolerance is $10^{-6}$ The Jacobian method update next value, if not converge. It requre 4 iteration step in this example."
   ]
  },
  {
   "cell_type": "code",
   "execution_count": 15,
   "metadata": {},
   "outputs": [
    {
     "name": "stdout",
     "output_type": "stream",
     "text": [
      "[-0.37830658  0.81075482]\n"
     ]
    }
   ],
   "source": [
    "from scipy.optimize import fsolve \n",
    "\n",
    "def func(x):\n",
    "    return [2*x[0]+x[1]+x[0]**3 ,\n",
    "            x[0]+x[0]*x[1]+np.exp(x[0])]\n",
    "\n",
    "root = fsolve(func, [0, 0])\n",
    "\n",
    "print(root)"
   ]
  },
  {
   "cell_type": "markdown",
   "metadata": {},
   "source": [
    "We can solve alternatively using scipy optimize to solve nonlinear equation.  To use scipy.optimize it require initial starting guess($(0,0)$), and function($ f_1(x_1,x_2) = 2x_1 + x_2 + x_1^3  $, $ f_2(x_1,x_2) = x_1 + x_1x_2 + exp(x_1) $). We can check the result is same. But, that if there were multiple roots in such a system, it will be difficult to guess the initial solution so that all solution roots can be found."
   ]
  },
  {
   "cell_type": "code",
   "execution_count": 16,
   "metadata": {},
   "outputs": [
    {
     "name": "stdout",
     "output_type": "stream",
     "text": [
      "\n",
      " Iteration \tx1\t\t  x2\n",
      "\t1 \t 1.314799\t -4.573993\n",
      "\t2 \t 1.163482\t -3.815110\n",
      "\t3 \t 1.137182\t -3.742552\n",
      "\t4 \t 1.136622\t -3.741654\n",
      "\t5 \t 1.136621\t -3.741654\n"
     ]
    }
   ],
   "source": [
    "import numpy as np\n",
    "from numpy import linalg as LA\n",
    "\n",
    "x = np.zeros((2,1))\n",
    "J = np.zeros((2,2))\n",
    "f = np.zeros((2,1))\n",
    "x[0,0] = 1\n",
    "x[1,0] = -1\n",
    "\n",
    "print('\\n Iteration \\tx1\\t\\t  x2')\n",
    "\n",
    "for j in range(100):\n",
    "    J[0,0] = 2+3*x[0,0]**2\n",
    "    J[0,1] = 1\n",
    "    J[1,0] = 1 + x[1,0] + np.exp(x[0,0])\n",
    "    J[1,1] = x[0,0]\n",
    "    f[0,0] = 2*x[0,0]+x[1,0]+x[0,0]**3\n",
    "    f[1,0] = x[0,0]+x[0,0]*x[1,0]+np.exp(x[0,0])\n",
    "                                  \n",
    "    if LA.norm(f) <  10**(-6):\n",
    "        break\n",
    "    df = -np.dot(LA.inv(J),f)\n",
    "    x = x + df\n",
    "    print('\\t%d \\t %0.6f\\t %0.6f'% (j+1,x[0],x[1]))"
   ]
  },
  {
   "cell_type": "markdown",
   "metadata": {},
   "source": [
    "For instance, if we choose different initial value, $ (1,-1) $, we can get different solution roots. "
   ]
  },
  {
   "cell_type": "code",
   "execution_count": null,
   "metadata": {},
   "outputs": [],
   "source": []
  }
 ],
 "metadata": {
  "kernelspec": {
   "display_name": "Python 3",
   "language": "python",
   "name": "python3"
  },
  "language_info": {
   "codemirror_mode": {
    "name": "ipython",
    "version": 3
   },
   "file_extension": ".py",
   "mimetype": "text/x-python",
   "name": "python",
   "nbconvert_exporter": "python",
   "pygments_lexer": "ipython3",
   "version": "3.8.3"
  }
 },
 "nbformat": 4,
 "nbformat_minor": 4
}
