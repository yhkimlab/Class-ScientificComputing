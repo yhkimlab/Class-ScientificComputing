{
 "cells": [
  {
   "cell_type": "code",
   "execution_count": 1,
   "metadata": {},
   "outputs": [
    {
     "name": "stdout",
     "output_type": "stream",
     "text": [
      "---------------------------------------------------------------------------------------------------\n",
      "  h      |   Symmetric 3-point   |    Forward 2-point   |   Backward 2-point   |   Symmetric 5-point\n",
      "---------------------------------------------------------------------------------------------------\n",
      " 0.50000         0.0222328              0.2282542            -0.1837885             0.0010926\n",
      " 0.20000         0.0035948              0.0874617            -0.0802721             0.0000287\n",
      " 0.10000         0.0009002              0.0429385            -0.0411381             0.0000020\n",
      " 0.05000         0.0002252              0.0212567            -0.0208063             0.0000002\n",
      " 0.02000         0.0000368              0.0084500            -0.0083764             0.0000011\n",
      " 0.01000         0.0000070              0.0042121            -0.0041981            -0.0000029\n",
      " 0.00500        -0.0000019              0.0020962            -0.0021000            -0.0000049\n",
      " 0.00200         0.0000011              0.0008206            -0.0008185             0.0000011\n",
      " 0.00100         0.0000160              0.0004034            -0.0003715             0.0000209\n",
      " 0.00050        -0.0000138              0.0001650            -0.0001926            -0.0000238\n",
      " 0.00020        -0.0000138             -0.0000138            -0.0000138            -0.0000138\n",
      " 0.00010        -0.0000138             -0.0003119             0.0002842            -0.0000138\n",
      " 0.00005        -0.0003119             -0.0009079             0.0002842            -0.0004112\n",
      " 0.00002        -0.0006099             -0.0021000             0.0008802            -0.0008582\n",
      " 0.00001         0.0008802             -0.0021000             0.0038605             0.0013769\n",
      "---------------------------------------------------------------------------------------------------\n"
     ]
    }
   ],
   "source": [
    "#!/usr/bin/python3\n",
    "\n",
    "import math, struct\n",
    "import numpy as np\n",
    "\n",
    "# Chapter 1a Fortran to Python\n",
    "\n",
    "X = 1.0\n",
    "EXACT = np.float32(math.cos(X))\n",
    "\n",
    "# Put a spacing value (H), individually\n",
    "#\n",
    "#H = float(input('Enter value of H (cf. 0 leads to stop):'))\n",
    "#if H < 1E-15:\n",
    "#    print('Enter a proper value again!')\n",
    "#else:\n",
    "#    pass\n",
    "\n",
    "H = [0.50000, 0.20000, 0.10000, 0.05000, 0.02000, 0.01000, 0.00500, 0.00200, 0.00100,\n",
    "     0.00050, 0.00020, 0.00010, 0.00005, 0.00002, 0.00001]\n",
    "\n",
    "\n",
    "class FDM:\n",
    "    def three_points_Sym(X, H):\n",
    "        FPRIME = (np.float32(math.sin(X+H)) - np.float32(math.sin(X-H))) / np.float32(2*H)\n",
    "        return FPRIME\n",
    "\n",
    "    def two_points_FW(X, H):\n",
    "        FPRIME = (np.float32(math.sin(X+H)) - np.float32(math.sin(X))) / np.float32(H)\n",
    "        return FPRIME\n",
    "\n",
    "    def two_points_BW(X, H):\n",
    "        FPRIME = (np.float32(math.sin(X)) - np.float32(math.sin(X-H))) / np.float32(H)\n",
    "        return FPRIME\n",
    "\n",
    "    def five_points_Sym(X, H):\n",
    "        FPRIME = (np.float32(math.sin(X-2*H)) - 8*np.float32(math.sin(X-H)) + 8*np.float32(math.sin(X+H)) - np.float32(math.sin(X+2*H))) / (np.float32(12*H))\n",
    "        return FPRIME\n",
    "\n",
    "\n",
    "cal_1 = FDM.three_points_Sym\n",
    "cal_2 = FDM.two_points_FW\n",
    "cal_3 = FDM.two_points_BW\n",
    "cal_4 = FDM.five_points_Sym\n",
    "\n",
    "print('---------------------------------------------------------------------------------------------------')\n",
    "print('  h      |   Symmetric 3-point   |    Forward 2-point   |   Backward 2-point   |   Symmetric 5-point')\n",
    "print('---------------------------------------------------------------------------------------------------')\n",
    "\n",
    "for h in H:\n",
    "    DIFF1   = EXACT - cal_1(X, h)\n",
    "    DIFF2   = EXACT - cal_2(X, h)\n",
    "    DIFF3   = EXACT - cal_3(X, h)\n",
    "    DIFF4   = EXACT - cal_4(X, h)\n",
    "    print(\" %1.5f        % 2.7f             % 2.7f            % 2.7f            % 2.7f\" % (h, DIFF1, DIFF2, DIFF3, DIFF4))\n",
    "print('---------------------------------------------------------------------------------------------------')"
   ]
  },
  {
   "cell_type": "code",
   "execution_count": null,
   "metadata": {},
   "outputs": [],
   "source": []
  }
 ],
 "metadata": {
  "kernelspec": {
   "display_name": "Python 3",
   "language": "python",
   "name": "python3"
  },
  "language_info": {
   "codemirror_mode": {
    "name": "ipython",
    "version": 3
   },
   "file_extension": ".py",
   "mimetype": "text/x-python",
   "name": "python",
   "nbconvert_exporter": "python",
   "pygments_lexer": "ipython3",
   "version": "3.7.2"
  }
 },
 "nbformat": 4,
 "nbformat_minor": 2
}
