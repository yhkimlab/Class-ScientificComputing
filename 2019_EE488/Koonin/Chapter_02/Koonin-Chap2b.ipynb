{
 "cells": [
  {
   "cell_type": "markdown",
   "metadata": {},
   "source": [
    "### Koonin Chapter2b.py "
   ]
  },
  {
   "cell_type": "markdown",
   "metadata": {},
   "source": [
    "Integration of $\\frac{dy}{dx} = -y$ with $y(0)=1$"
   ]
  },
  {
   "cell_type": "code",
   "execution_count": 23,
   "metadata": {},
   "outputs": [
    {
     "name": "stdout",
     "output_type": "stream",
     "text": [
      "-----------------------------------------------\n",
      " x            Exact                 Error \n",
      "0.20    0.818730753077982   -0.000269246922018\n",
      "0.30    0.740818220681718   -0.000381779318282\n",
      "0.40    0.670320046035639   -0.000439953964361\n",
      "0.50    0.606530659712633   -0.000517340287367\n",
      "0.60    0.548811636094026   -0.000538763905974\n",
      "3.30    0.036883167401240   -0.000369592404325\n",
      "3.40    0.033373269960326   -0.000004631743276\n",
      "3.50    0.030197383422319   -0.000379796042526\n",
      "3.60    0.027323722447293    0.000061256636659\n",
      "3.70    0.024723526470339   -0.000401159832379\n",
      "3.80    0.022370771856166    0.000133243306076\n",
      "5.50    0.004086771438464   -0.001537909101368\n",
      "5.60    0.003697863716483    0.001623401455359\n",
      "5.70    0.003345965457471   -0.001863822630136\n",
      "5.80    0.003027554745376    0.001995050101774\n",
      "5.90    0.002739444818768   -0.002263842340119\n",
      "6.00    0.002478752176666    0.002446904964841\n",
      "-----------------------------------------------\n"
     ]
    }
   ],
   "source": [
    "import numpy as np\n",
    "\n",
    "def Stability(dt, T): \n",
    "    N_t = int(round(float(T)/dt))\n",
    "    u = np.zeros(N_t+1)\n",
    "    diff = np.zeros(N_t+1)\n",
    "    t = np.linspace(0, N_t*dt, len(u))\n",
    "    u[0] = 1\n",
    "    u[1] = 1.0-dt+0.5*dt*dt\n",
    "    for n in range(N_t-1):\n",
    "        u[n+2] = u[n] - 2*dt*u[n+1] # the recursion relation\n",
    "        exact = np.exp(-t[n+2])\n",
    "        diff = exact - u[n+2]\n",
    "        u[n-1] = u[n]\n",
    "        u[n] = u[n+1]\n",
    "    return exact, diff\n",
    "\n",
    "h = [0.2, 0.3, 0.4, 0.5, 0.6, 3.3, 3.4, 3.5, 3.6, 3.7, 3.8, 5.5, 5.6, 5.7, 5.8, 5.9, 6.0]\n",
    "\n",
    "if __name__ == '__main__':\n",
    "    print(\"-----------------------------------------------\")\n",
    "    print(\" x            Exact                 Error \")\n",
    "    for i in h:\n",
    "        a, b = Stability(0.1, i)\n",
    "        print(\"%3.2f %20.15f %20.15f\" % (i, a, b))\n",
    "    print(\"-----------------------------------------------\")"
   ]
  },
  {
   "cell_type": "code",
   "execution_count": null,
   "metadata": {},
   "outputs": [],
   "source": []
  }
 ],
 "metadata": {
  "kernelspec": {
   "display_name": "Python 3",
   "language": "python",
   "name": "python3"
  },
  "language_info": {
   "codemirror_mode": {
    "name": "ipython",
    "version": 3
   },
   "file_extension": ".py",
   "mimetype": "text/x-python",
   "name": "python",
   "nbconvert_exporter": "python",
   "pygments_lexer": "ipython3",
   "version": "3.7.2"
  }
 },
 "nbformat": 4,
 "nbformat_minor": 2
}
