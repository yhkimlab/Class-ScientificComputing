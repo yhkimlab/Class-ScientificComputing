{
 "cells": [
  {
   "cell_type": "markdown",
   "metadata": {},
   "source": [
    "### 4.1.5 Programming the Forward Euler scheme; the general case"
   ]
  },
  {
   "cell_type": "markdown",
   "metadata": {},
   "source": [
    "The Forward Euler method is defined as\n",
    "\n",
    "$$ u^{n+1} = ru^{n}(t_{n+1}-t_n)+u^{n} = u^{n} + \\Delta tru^{n}$$\n",
    "\n",
    "The good thing about the Forward Euler method is that it gives an understanding of what a differential equation is and a geometrical picture of how to construct the solution.\n",
    "\n",
    "Our previous program was just a flat main program tailored to a special differential equation.\n",
    "\n",
    "When programming mathematics, it is always good to consider a (large) class of problems and making a Python function to solve any problem that fits into the class."
   ]
  },
  {
   "cell_type": "code",
   "execution_count": 5,
   "metadata": {},
   "outputs": [
    {
     "data": {
      "image/png": "[encoded data removed]",
      "text/plain": [
       "<Figure size 432x288 with 1 Axes>"
      ]
     },
     "metadata": {
      "needs_background": "light"
     },
     "output_type": "display_data"
    }
   ],
   "source": [
    "from numpy import linspace, zeros, exp\n",
    "import matplotlib.pyplot as plt\n",
    "\n",
    "def ode_FE(f, U_0, dt, T):\n",
    "    N_t = int(round(float(T)/dt))\n",
    "    u = zeros(N_t+1)\n",
    "    t = linspace(0, N_t*dt, len(u))\n",
    "    u[0] = U_0\n",
    "    for n in range(N_t):\n",
    "        u[n+1] = u[n] + dt*f(u[n], t[n])\n",
    "    return u, t\n",
    "\n",
    "def demo_population_growth():\n",
    "    \"\"\"Test case: u'=r*u, u(0)=100. \"\"\"\n",
    "    def f(u, t):\n",
    "        return 0.1*u\n",
    "    \n",
    "    u, t = ode_FE(f=f, U_0=100, dt=0.5, T=20)\n",
    "    plt.plot(t, u, t, 100*exp(0.1*t))\n",
    "    plt.show()\n",
    "    \n",
    "if __name__ == '__main__':\n",
    "    demo_population_growth()"
   ]
  },
  {
   "cell_type": "markdown",
   "metadata": {},
   "source": [
    "We make software for the class of differential equation problems of the form\n",
    "\n",
    "\n",
    "$$ u'(t) = f(u,t), \\qquad u = U_0, t \\in [0,T], $$"
   ]
  },
  {
   "cell_type": "markdown",
   "metadata": {},
   "source": [
    "for some given function $f$, and numbers $U_0$ and $T$. The Python function calculating the solution must take $f, U_0, \\Delta t$, and $T$ as input, find the corresponding $N_t$, compute the solution, and return and array with $u^0, u^1, \\ldots , u^{N_t}$ and an array with $t_0, t_1, \\ldots, t_{N_t}$."
   ]
  },
  {
   "cell_type": "markdown",
   "metadata": {},
   "source": [
    "The Forward Euler scheme reads\n",
    "$$ u^{n+1} = u^{n} + \\Delta tf(u^{n},t_n), \\qquad n = 0, \\ldots, N_{t}-1$$"
   ]
  },
  {
   "cell_type": "code",
   "execution_count": null,
   "metadata": {},
   "outputs": [],
   "source": []
  }
 ],
 "metadata": {
  "kernelspec": {
   "display_name": "Python 3",
   "language": "python",
   "name": "python3"
  },
  "language_info": {
   "codemirror_mode": {
    "name": "ipython",
    "version": 3
   },
   "file_extension": ".py",
   "mimetype": "text/x-python",
   "name": "python",
   "nbconvert_exporter": "python",
   "pygments_lexer": "ipython3",
   "version": "3.7.2"
  }
 },
 "nbformat": 4,
 "nbformat_minor": 2
}
