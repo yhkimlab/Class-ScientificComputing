{
 "cells": [
  {
   "cell_type": "markdown",
   "metadata": {},
   "source": [
    "### 6.6.2 Taylor expansions for multi-variable functions\n",
    "\n",
    "When $n$ vriables are involved, we need to approximate a $vector$ $function$ $F(x)$ by some linear function $\\tilde F$ = $Jx+c$, where $J$ is an $n \\times n$ matrix and $c$ is some vector of length $n$."
   ]
  },
  {
   "cell_type": "markdown",
   "metadata": {},
   "source": [
    "The technique for approximating $F$ by a linear function is to use the first two terms in a Taylor series expansion. Given the value of $F$ and its partial derivatives with respect to $x$ at some point $x_i$, we can approximate the value at some point $x_{i+1}$ by the two first term in a Taylor series expansion around $x_i$:\n",
    "$$ F(x_{i+1}) \\approx F(x_{i}) + \\nabla F(x_i)(x_{i+1}-x_{i}).$$"
   ]
  },
  {
   "cell_type": "markdown",
   "metadata": {},
   "source": [
    "The next terms in the expansions are omitted here and of size $||x_{i+1}-x_i||^2$, which are assumed to be small compared with the two terms above.\n",
    "\n",
    "The expression $\\nabla F$ is the matrix of all the partial derivatives of $F$. Component $(i, j)$ in $\\nabla F$ is\n",
    "$$ \\frac{\\partial F_i}{\\partial x_j}$$\n",
    "named as 'Jacobian'."
   ]
  },
  {
   "cell_type": "code",
   "execution_count": 9,
   "metadata": {},
   "outputs": [
    {
     "name": "stdout",
     "output_type": "stream",
     "text": [
      "-pi*x0*sin(pi*x0) + 2*x0 + cos(pi*x0)        -1\n",
      "x1 + x0**(-2)                           x0 - exp(-x1)\n"
     ]
    }
   ],
   "source": [
    "from sympy import *\n",
    "x0, x1 = symbols('x0 x1')\n",
    "F0 = x0**2 - x1 + x0*cos(pi*x0)\n",
    "F1 = x0*x1 + exp(-x1) - x0**(-1)\n",
    "\n",
    "result_11 = diff(F0, x0)\n",
    "result_12 = diff(F0, x1)\n",
    "result_21 = diff(F1, x0)\n",
    "result_22 = diff(F1, x1)\n",
    "\n",
    "print(result_11, '      ', result_12)\n",
    "print(result_21, '                         ',result_22)"
   ]
  },
  {
   "cell_type": "code",
   "execution_count": null,
   "metadata": {},
   "outputs": [],
   "source": []
  }
 ],
 "metadata": {
  "kernelspec": {
   "display_name": "Python 3",
   "language": "python",
   "name": "python3"
  },
  "language_info": {
   "codemirror_mode": {
    "name": "ipython",
    "version": 3
   },
   "file_extension": ".py",
   "mimetype": "text/x-python",
   "name": "python",
   "nbconvert_exporter": "python",
   "pygments_lexer": "ipython3",
   "version": "3.7.2"
  }
 },
 "nbformat": 4,
 "nbformat_minor": 2
}
