{
 "cells": [
  {
   "cell_type": "markdown",
   "metadata": {},
   "source": [
    "# Linge & Langtagen, \"Programming for Computations\"\n",
    "## Ch. 3.6 Measuring computational speed"
   ]
  },
  {
   "cell_type": "markdown",
   "metadata": {},
   "source": [
    "There are many techniques for measuring the CPU time in Python, and here we shall just explain the simplest and most convenient one: the %timeit command in IPython. The following interactive session should illustrate a competition where the vectorized versions of the functions are supposed to win:"
   ]
  },
  {
   "cell_type": "code",
   "execution_count": 1,
   "metadata": {},
   "outputs": [
    {
     "ename": "SyntaxError",
     "evalue": "invalid syntax (<ipython-input-1-16110906a608>, line 10)",
     "output_type": "error",
     "traceback": [
      "\u001b[0;36m  File \u001b[0;32m\"<ipython-input-1-16110906a608>\"\u001b[0;36m, line \u001b[0;32m10\u001b[0m\n\u001b[0;31m    1 loops, best of 3: 379 ms per loop\u001b[0m\n\u001b[0m          ^\u001b[0m\n\u001b[0;31mSyntaxError\u001b[0m\u001b[0;31m:\u001b[0m invalid syntax\n"
     ]
    }
   ],
   "source": [
    "In [1]: from integration_methods_vec import midpoint as midpoint_vec\n",
    "\n",
    "In [3]: from midpoint import midpoint\n",
    "\n",
    "In [4]: from numpy import exp\n",
    "\n",
    "In [5]: v = lambda t: 3*t**2*exp(t**3)\n",
    "\n",
    "In [6]: %timeit midpoint_vec(v, 0, 1, 1000000)\n",
    "1 loops, best of 3: 379 ms per loop\n",
    "\n",
    "In [7]: %timeit midpoint(v, 0, 1, 1000000)\n",
    "1 loops, best of 3: 8.17 s per loop\n",
    "\n",
    "In [8]: 8.17/(379*0.001)    # efficiency factor\n",
    "Out[8]: 21.556728232189972"
   ]
  },
  {
   "cell_type": "markdown",
   "metadata": {},
   "source": [
    "We see that the vectorized version is about 20 times faster: 379 ms versus 8.17 s. The results for the trapezoidal method are very similar, and the factor of about 20 is independent of the number of intervals."
   ]
  },
  {
   "cell_type": "markdown",
   "metadata": {},
   "source": [
    "CASE 1 :"
   ]
  },
  {
   "cell_type": "code",
   "execution_count": 3,
   "metadata": {},
   "outputs": [
    {
     "name": "stdout",
     "output_type": "stream",
     "text": [
      "113 ms ± 426 µs per loop (mean ± std. dev. of 7 runs, 10 loops each)\n"
     ]
    }
   ],
   "source": [
    "from numpy import linspace, sum\n",
    "\n",
    "def midpoint(f, a, b, n):\n",
    "    h = float(b-a)/n\n",
    "    x = linspace(a + h/2, b - h/2, n)\n",
    "    return h*sum(f(x))\n",
    "\n",
    "from numpy import exp\n",
    "\n",
    "v = lambda t: 3*t**2 * exp(t**3)\n",
    "\n",
    "%timeit midpoint(v, 0, 1, 1000000)"
   ]
  },
  {
   "cell_type": "markdown",
   "metadata": {},
   "source": [
    "CASE 2 : "
   ]
  },
  {
   "cell_type": "code",
   "execution_count": 4,
   "metadata": {},
   "outputs": [
    {
     "name": "stdout",
     "output_type": "stream",
     "text": [
      "2.96 s ± 14.7 ms per loop (mean ± std. dev. of 7 runs, 1 loop each)\n"
     ]
    }
   ],
   "source": [
    "def midpoint(f, a, b, n):\n",
    "    h = float(b-a)/n\n",
    "    result = 0\n",
    "    for i in range(n):\n",
    "        result += f((a + h/2.0) + i*h)\n",
    "    result *= h\n",
    "    return result\n",
    "\n",
    "from numpy import exp\n",
    "\n",
    "v = lambda t: 3*t**2 * exp(t**3)\n",
    "\n",
    "%timeit midpoint(v, 0, 1, 1000000)"
   ]
  },
  {
   "cell_type": "code",
   "execution_count": null,
   "metadata": {},
   "outputs": [],
   "source": []
  }
 ],
 "metadata": {
  "kernelspec": {
   "display_name": "Python 3",
   "language": "python",
   "name": "python3"
  },
  "language_info": {
   "codemirror_mode": {
    "name": "ipython",
    "version": 3
   },
   "file_extension": ".py",
   "mimetype": "text/x-python",
   "name": "python",
   "nbconvert_exporter": "python",
   "pygments_lexer": "ipython3",
   "version": "3.7.2"
  }
 },
 "nbformat": 4,
 "nbformat_minor": 2
}
