{
 "cells": [
  {
   "cell_type": "markdown",
   "metadata": {},
   "source": [
    "### 6.3 The secant method\n",
    "\n",
    "When findung the derivative $f'(x)$ in Newton's method is problematic, or when function evalutations take too long; we maya adjust the method slightly.\n",
    "\n",
    "Instead of using tangent lines to the graph we may use secants.\n",
    "The approach is reffered to as the $secant$ $method$, and the idea is illustrated graphically in Figure 6.2 for our example problem $x^2 -9 =0$."
   ]
  },
  {
   "cell_type": "markdown",
   "metadata": {},
   "source": [
    "The idea of the secant method is to think as in Newton's method, but instead of using $f'(x_n)$, we approximate this derivative by a finite difference or the $secant$, i.e., the slope of the straight line that goes through the two most recent approximations $x_n$ and $x_{n+1}$. This slope reads\n",
    "\n",
    "$$\\frac{f(x_n)-f(x_{n-1})}{x_{n}-x_{n-1}}$$\n",
    "\n",
    "Inserting this expression for $f'(x_n)$ in Newton's method simply gives us the secant method:\n",
    "$$x_{n+1} = x_{n}-\\frac{f(x_n)}{\\frac{f(x_n)-f(x_{n-1})}{x_{n}-x_{n-1}}},$$\n",
    "or\n",
    "$$x_{n+1} = x_{n}-f(x_n)\\frac{x_n-x_{n-1}}{f(x_n)-f(x_{n-1})}$$"
   ]
  },
  {
   "cell_type": "code",
   "execution_count": 19,
   "metadata": {},
   "outputs": [
    {
     "name": "stdout",
     "output_type": "stream",
     "text": [
      "1         3.0993918852,         0.6062300578\n",
      "2         3.0016032522,         0.0096220835\n",
      "3         3.0000261187,         0.0001567131\n",
      "4         3.0000000070,         0.0000000419\n",
      "Number of function calls: 6\n",
      "A solution is: 3.000000\n"
     ]
    }
   ],
   "source": [
    "def secant(f, x0, x1, eps):\n",
    "    f_x0 = f(x0)\n",
    "    f_x1 = f(x1)\n",
    "    iteration_counter = 0\n",
    "    while abs(f_x1) > eps and iteration_counter < 100:\n",
    "        try:\n",
    "            denominator = float(f_x1 - f_x0)/(x1 - x0)\n",
    "            x = x1 - float(f_x1) / denominator\n",
    "            print('%d % 20.10f, % 20.10f' % (iteration_counter+1, x, f(x)))\n",
    "        except ZeroDivisionError:\n",
    "            print(\"Error! - denominator zero for x = \", x)\n",
    "            sys.exit(1)  # Abort with error\n",
    "        x0 = x1\n",
    "        x1 = x\n",
    "        f_x0 = f_x1\n",
    "        f_x1 = f(x1)\n",
    "        iteration_counter += 1\n",
    "    # Here, either a solution is found, or too many iterations\n",
    "    if abs(f_x1) > eps:\n",
    "        iteration_counter = -1\n",
    "    return x, iteration_counter\n",
    "\n",
    "def f(x):\n",
    "    return x**2 - 9\n",
    "    \n",
    "x0 = 1000; x1 = x0 - 996.9  # x1 = x0 - 1, 100, 996.9, 997 (not available), 999\n",
    "\n",
    "solution, no_iterations = secant(f, x0, x1, eps=1.0e-6)\n",
    "\n",
    "if no_iterations > 0:  # Solution found\n",
    "    print(\"Number of function calls: %d\" % (2 + no_iterations)) # f(0), f(1), while loop\n",
    "    print(\"A solution is: %f\" % (solution))\n",
    "else:\n",
    "    print(\"Solution not found!\")\n",
    "        "
   ]
  },
  {
   "cell_type": "code",
   "execution_count": null,
   "metadata": {},
   "outputs": [],
   "source": []
  }
 ],
 "metadata": {
  "kernelspec": {
   "display_name": "Python 3",
   "language": "python",
   "name": "python3"
  },
  "language_info": {
   "codemirror_mode": {
    "name": "ipython",
    "version": 3
   },
   "file_extension": ".py",
   "mimetype": "text/x-python",
   "name": "python",
   "nbconvert_exporter": "python",
   "pygments_lexer": "ipython3",
   "version": "3.7.2"
  }
 },
 "nbformat": 4,
 "nbformat_minor": 2
}
