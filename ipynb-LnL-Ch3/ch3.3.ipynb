{
 "cells": [
  {
   "cell_type": "markdown",
   "metadata": {},
   "source": [
    "# Linge & Langtagen, \"Programming for Computations\"\n",
    "## Ch. 3.3 The composite midpoint method"
   ]
  },
  {
   "cell_type": "markdown",
   "metadata": {},
   "source": [
    "$The$ $idea.$ Rather tahn approximating the area under a curve by trapezoids, we can use plain rectangles. \n",
    "\n",
    "It may sound less accurate to use horizontal lines and not skew lines following the function to be integrated, but an integration method based on rectangles (the $midpoint$ $method$) is in fact slightly more accurate than the one based on trapezoids!\n"
   ]
  },
  {
   "cell_type": "markdown",
   "metadata": {},
   "source": [
    "In the midpoint method, we construct a rectangle for every sub-interval where the height equals $f$ at the midpoint of the sub-interval.\n",
    "\n",
    "Let us do this for four rectangles, using the same sub-intervals.\n",
    "\n",
    "$$\\int_0^1f(t)dt \\approx h_{1}f(\\frac{0 + 0.2}{2}) + h_{2}f(\\frac{0.2 + 0.4}{2}) + h_{3}f(\\frac{0.4 + 0.6}{2}) + h_{4}f(\\frac{0.6 + 0.8}{2}) + h_{5}f(\\frac{0.8 + 1.0}{2}), $$"
   ]
  },
  {
   "cell_type": "markdown",
   "metadata": {},
   "source": [
    "where $h_{1}$, $h_{2}$, $h_{3}$, $h_{4}$ and $h_{5}$ are the widths of the sub-intervals."
   ]
  },
  {
   "cell_type": "code",
   "execution_count": 22,
   "metadata": {},
   "outputs": [
    {
     "data": {
      "image/png": "[encoded data removed]",
      "text/plain": [
       "<Figure size 432x288 with 1 Axes>"
      ]
     },
     "metadata": {
      "needs_background": "light"
     },
     "output_type": "display_data"
    },
    {
     "name": "stdout",
     "output_type": "stream",
     "text": [
      "::: Midpoint :::\n",
      "1.850852345028698\n",
      "-----------------------------\n",
      "::: Exact :::\n",
      "1.718281828459045\n",
      "-----------------------------\n"
     ]
    }
   ],
   "source": [
    "import numpy as np\n",
    "import matplotlib.pyplot as plt\n",
    "from matplotlib import collections as matcoll\n",
    "\n",
    "t1 = np.linspace(0,1,51)\n",
    "y1 = 3*t1**2*np.exp(t1**3)\n",
    "\n",
    "t2 = np.linspace(0,1,6)\n",
    "F1 = lambda t: 3*t**2*np.exp(t**3)\n",
    "y2 = []\n",
    "\n",
    "for i in t2:\n",
    "    val = F1(i)\n",
    "    y2.append(val)\n",
    "\n",
    "h = (float(t2[-1])-float(t2[0]))/(len(t2)-1)\n",
    "\n",
    "plt.plot(t1,y1, 'r-')\n",
    "plt.scatter(t2, y2)\n",
    "plt.bar(t2, y2, width=h, alpha=0.5,facecolor='orange')\n",
    "plt.ylim(0,10)\n",
    "plt.show()\n",
    "\n",
    "sum = 0\n",
    "for i in range(len(t2)-1):\n",
    "    sum += h*0.5*(y2[i] + y2[i+1])\n",
    "\n",
    "F2 = lambda t: np.exp(t**3)\n",
    "exact = F2(1) - F2(0)\n",
    "\n",
    "print(\"::: Midpoint :::\")\n",
    "print(sum)\n",
    "print(\"-----------------------------\")\n",
    "\n",
    "print(\"::: Exact :::\")\n",
    "print(exact)\n",
    "print(\"-----------------------------\")"
   ]
  },
  {
   "cell_type": "markdown",
   "metadata": {},
   "source": [
    "### Ch. 3.3.1 The general formula"
   ]
  },
  {
   "cell_type": "markdown",
   "metadata": {},
   "source": [
    "Let us derive a formula for the midpoint method based on $n$ rectangles of equal width:"
   ]
  },
  {
   "cell_type": "markdown",
   "metadata": {},
   "source": [
    "$$\\int_a^bf(x)dx = \\int_{x_0}^{x_1}f(x)dx + \\int_{x_1}^{x_2}f(x)dx + \\ldots + \\int_{x_{n-1}}^{x_n}f(x)dx,$$\n",
    "\n",
    "$$\\approx hf\\left(\\frac{x_{0}+x_{1}}{2}\\right) + hf\\left(\\frac{x_{1}+x_{2}}{2}\\right) + \\ldots + hf\\left(\\frac{x_{n-1}+x_{n}}{2}\\right), $$\n",
    "\n",
    "$$\\approx h\\left(f\\left(\\frac{x_{0}+x_{1}}{2}\\right) + f\\left(\\frac{x_{1}+x_{2}}{2}\\right) + \\ldots + f\\left(\\frac{x_{n-1}+x_{n}}{2}\\right)\\right), $$"
   ]
  },
  {
   "cell_type": "markdown",
   "metadata": {},
   "source": [
    "This sum may be written more compactly as"
   ]
  },
  {
   "cell_type": "markdown",
   "metadata": {},
   "source": [
    "$$\\int_a^bf(x)dx \\approx h\\sum_{i=0}^{n-1} f(x_{i}),$$\n"
   ]
  },
  {
   "cell_type": "markdown",
   "metadata": {},
   "source": [
    "where $x_{i} = \\left(a + \\frac{h}{2}\\right) + ih.$"
   ]
  },
  {
   "cell_type": "markdown",
   "metadata": {},
   "source": [
    "### Ch. 3.3.2 Implementation"
   ]
  },
  {
   "cell_type": "markdown",
   "metadata": {},
   "source": [
    "We follow the advice and lessons learned from the implementation of the trapezoidal method and make a function $midopoint$($f$, $a$, $b$, $n$) for implementing the general formula."
   ]
  },
  {
   "cell_type": "code",
   "execution_count": 32,
   "metadata": {},
   "outputs": [
    {
     "name": "stdout",
     "output_type": "stream",
     "text": [
      "::: Midpoint :::\n",
      "1.618975137808381\n",
      "-----------------------------\n",
      "::: Trapezoidal :::\n",
      "1.9227167504675762\n",
      "-----------------------------\n",
      "::: Exact :::\n",
      "1.718281828459045\n",
      "-----------------------------\n"
     ]
    }
   ],
   "source": [
    "from trapezoidal import trapezoidal\n",
    "\n",
    "def midpoint(f, a, b, n):\n",
    "    h = float(b-a)/n\n",
    "    result = 0\n",
    "    for i in range(n):\n",
    "        result += f((a + h/2.0) + i*h)\n",
    "    result *= h\n",
    "    return result\n",
    "\n",
    "F1 = lambda t: 3*t**2*np.exp(t**3)\n",
    "F2 = lambda t: np.exp(t**3)\n",
    "\n",
    "p1 = midpoint(F1, 0, 1, 4)\n",
    "p2 = trapezoidal(F1, 0, 1, 4)\n",
    "\n",
    "exact = F2(1) - F2(0)\n",
    "\n",
    "print(\"::: Midpoint :::\")\n",
    "print(p1)\n",
    "print(\"-----------------------------\")\n",
    "\n",
    "print(\"::: Trapezoidal :::\")\n",
    "print(p2)\n",
    "print(\"-----------------------------\")\n",
    "\n",
    "print(\"::: Exact :::\")\n",
    "print(exact)\n",
    "print(\"-----------------------------\")"
   ]
  },
  {
   "cell_type": "markdown",
   "metadata": {},
   "source": [
    "We can test the function as we explained for thje similar $trapezoidal$ method. The error in our particular problem $\\int_0^1 3t^2 e^{t^{3}}dt$ with four intervals is now about 0.1 in contrast to 0.2 for the trapezoidal rule.\n",
    "\n",
    "Thie is in fact not accidental: one can show mathematically that the error of the midpoint method is a bit smaller than for the trapezoidal method.\n",
    "\n",
    "The differences are seldom of any practical importance, and on a lapto we can easily use $n = 10^{6}$ and get the answer with an error about $10^{-12}$ in a couple of seconds."
   ]
  },
  {
   "cell_type": "markdown",
   "metadata": {},
   "source": [
    "### Ch. 3.3.3 Comparing the trapezoidal and the midpoint methods"
   ]
  },
  {
   "cell_type": "markdown",
   "metadata": {},
   "source": [
    "The next exampl;e sohws how easy we can combine the $trapezoidal$ and $midpoint$ functions to make a comparison of the two methods in the file compare_integration_metods.py:"
   ]
  },
  {
   "cell_type": "code",
   "execution_count": 36,
   "metadata": {},
   "outputs": [
    {
     "name": "stdout",
     "output_type": "stream",
     "text": [
      "    n          midpoint            trapezoidal\n",
      "      2    0.8842000076332692    0.8770372606158094\n",
      "      4    0.8827889485397279    0.8806186341245393\n",
      "      8    0.8822686991994210    0.8817037913321336\n",
      "     16    0.8821288703366458    0.8819862452657772\n",
      "     32    0.8820933014203766    0.8820575578012112\n",
      "     64    0.8820843709743319    0.8820754296107942\n",
      "    128    0.8820821359746071    0.8820799002925637\n",
      "    256    0.8820815770754198    0.8820810181335849\n",
      "    512    0.8820814373412922    0.8820812976045025\n",
      "   1024    0.8820814024071774    0.8820813674728968\n",
      "   2048    0.8820813936736116    0.8820813849400392\n",
      "   4096    0.8820813914902204    0.8820813893068272\n",
      "   8192    0.8820813909443684    0.8820813903985197\n",
      "  16384    0.8820813908079066    0.8820813906714446\n",
      "  32768    0.8820813907737911    0.8820813907396778\n",
      "  65536    0.8820813907652575    0.8820813907567422\n",
      " 131072    0.8820813907631487    0.8820813907610036\n",
      " 262144    0.8820813907625702    0.8820813907620528\n",
      " 524288    0.8820813907624605    0.8820813907623183\n",
      "1048576    0.8820813907624268    0.8820813907623890\n"
     ]
    }
   ],
   "source": [
    "from trapezoidal import trapezoidal\n",
    "from midpoint import midpoint\n",
    "from math import exp\n",
    "\n",
    "g = lambda y: exp(-y**2)\n",
    "a = 0\n",
    "b = 2\n",
    "print('    n          midpoint            trapezoidal')\n",
    "for i in range(1, 21):\n",
    "    n = 2**i\n",
    "    m = midpoint(g, a, b, n)\n",
    "    t = trapezoidal(g, a, b, n)\n",
    "    print('%7d    %.16f    %.16f' % (n, m, t))\n"
   ]
  },
  {
   "cell_type": "markdown",
   "metadata": {},
   "source": [
    "A visual insepction of the numbers shows how fast the digits stablize in both methods. It appears that 13 digits have stabilized in the last two rows."
   ]
  },
  {
   "cell_type": "code",
   "execution_count": null,
   "metadata": {},
   "outputs": [],
   "source": []
  }
 ],
 "metadata": {
  "kernelspec": {
   "display_name": "Python 3",
   "language": "python",
   "name": "python3"
  },
  "language_info": {
   "codemirror_mode": {
    "name": "ipython",
    "version": 3
   },
   "file_extension": ".py",
   "mimetype": "text/x-python",
   "name": "python",
   "nbconvert_exporter": "python",
   "pygments_lexer": "ipython3",
   "version": "3.7.1"
  }
 },
 "nbformat": 4,
 "nbformat_minor": 2
}
