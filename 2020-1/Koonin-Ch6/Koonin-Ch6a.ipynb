{
 "cells": [
  {
   "cell_type": "code",
   "execution_count": null,
   "metadata": {},
   "outputs": [],
   "source": [
    "import math, sys\n",
    "import numpy as np\n",
    "from scipy.sparse import spdiags, linalg\n",
    "import matplotlib.pyplot as plt\n",
    "from matplotlib import colors as mcolors\n",
    "from scipy.fftpack import fft, ifft\n",
    "\n",
    "## Lattice ##\n",
    "\n",
    "Np    =  21    #len(num_str)   # z-axis points\n",
    "L     =  1.0\n",
    "R     =  np.linspace(0, L, num=Np)\n",
    "a     =  R[1] - R[0] # Ang\n",
    "funct =  12.0*R**2\n",
    "exact =  R*(1.0-R**3)\n",
    "\n",
    "phi = np.zeros(Np)\n",
    "\n",
    "## Relaxation ##\n",
    "\n",
    "omega = 1.5\n",
    "H = 1./(Np-1)\n",
    "Ebefore = 0.\n",
    "E = 0.\n",
    "for j in range(401):\n",
    "    for i in range(1, Np-1):\n",
    "        phip = (phi[i-1] + phi[i+1] + (H**2)*funct[i])/2.0\n",
    "        phi[i] = (1.0-omega)*phi[i] + omega*phip\n",
    "    Ebefore = E\n",
    "    E = 0.\n",
    "    for k in range(1, Np):\n",
    "        E = E + ((((phi[k]-phi[k-1]))/H)**2)/2.\n",
    "        E = E -(H**2)*funct[k]*phi[k] / (H**2)\n",
    "    E = E*H\n",
    "    \n",
    "    if np.sqrt((Ebefore - E)**2) > 4e-3:\n",
    "        print('iter =', j, 'energy = ', E)\n",
    "        \n",
    "## Visualization ##\n",
    "\n",
    "plt.plot(R, exact, color='black', linestyle='--', linewidth=4)\n",
    "plt.plot(R, phi, color='green', linewidth=4)\n",
    "plt.show()"
   ]
  },
  {
   "cell_type": "code",
   "execution_count": null,
   "metadata": {},
   "outputs": [],
   "source": []
  },
  {
   "cell_type": "code",
   "execution_count": null,
   "metadata": {},
   "outputs": [],
   "source": []
  }
 ],
 "metadata": {
  "kernelspec": {
   "display_name": "Python 3",
   "language": "python",
   "name": "python3"
  },
  "language_info": {
   "codemirror_mode": {
    "name": "ipython",
    "version": 3
   },
   "file_extension": ".py",
   "mimetype": "text/x-python",
   "name": "python",
   "nbconvert_exporter": "python",
   "pygments_lexer": "ipython3",
   "version": "3.7.7"
  }
 },
 "nbformat": 4,
 "nbformat_minor": 4
}
