{
 "cells": [
  {
   "cell_type": "code",
   "execution_count": 3,
   "metadata": {},
   "outputs": [
    {
     "name": "stdout",
     "output_type": "stream",
     "text": [
      "number of steps and H are 20 0.05\n"
     ]
    },
    {
     "name": "stdin",
     "output_type": "stream",
     "text": [
      "Enter time step (not zero):  0.0005\n"
     ]
    },
    {
     "name": "stdout",
     "output_type": "stream",
     "text": [
      "time step is: 0.0005\n",
      "Iteration = 0 Energy = 9.96134275409583\n",
      "Iteration = 4 Energy = 9.925271321809388\n",
      "Iteration = 8 Energy = 9.902957482038461\n",
      "Iteration = 12 Energy = 9.887791378080953\n",
      "Iteration = 16 Energy = 9.877119018969658\n",
      "Iteration = 20 Energy = 9.869483708801875\n",
      "Iteration = 24 Energy = 9.86397479317518\n",
      "Iteration = 28 Energy = 9.859982459355429\n",
      "Iteration = 32 Energy = 9.85708246161983\n",
      "Iteration = 36 Energy = 9.854973351835449\n",
      "Iteration = 40 Energy = 9.853438456189782\n",
      "Iteration = 44 Energy = 9.852321068775973\n",
      "Iteration = 48 Energy = 9.851507481397409\n",
      "Iteration = 52 Energy = 9.850915042403171\n"
     ]
    }
   ],
   "source": [
    "\n",
    "from matplotlib import cm\n",
    "import matplotlib.pyplot as plt\n",
    "import cmath, math\n",
    "import numpy as np\n",
    "\n",
    "NSTEP = 20                # Total number of domain steps \n",
    "H = 1.0/NSTEP             # Spacing\n",
    "phi = np.zeros(NSTEP+1)     # Space of PHI\n",
    "diff = np.zeros(NSTEP)    # Space of Error\n",
    "\n",
    "print(\"number of steps and H are\", NSTEP, H)\n",
    "\n",
    "### Function Arrangement\n",
    "def norm(phi,NSTEP):\n",
    "    xnorm=0.0\n",
    "    for i in range(0, NSTEP):\n",
    "        xnorm = xnorm + (phi[i])**2\n",
    "    xnorm = math.sqrt(NSTEP/xnorm)\n",
    "    for i in range(0, NSTEP):\n",
    "        phi[i] = phi[i]*xnorm\n",
    "    return phi\n",
    "\n",
    "### Calculation\n",
    "dt = input(\"Enter time step (not zero): \")\n",
    "print(\"time step is:\", dt)\n",
    "\n",
    "dt = float(dt)\n",
    "\n",
    "if dt == 0:\n",
    "    print(\"dt is zero and program is stopping\")\n",
    "    quit()\n",
    "\n",
    "dth=dt/H**2\n",
    "for i in range(0,NSTEP+1):\n",
    "    x = i*H\n",
    "    phi[i]=x*(1.0-x)\n",
    "\n",
    "phi=norm(phi,NSTEP+1)\n",
    "\n",
    "for i in range(0,53):\n",
    "    pold=0\n",
    "    for j in range(1,NSTEP):\n",
    "        pnew = phi[j] + dth * (pold + phi[j+1] - 2*phi[j])\n",
    "        pold = phi[j]\n",
    "        phi[j] = pnew\n",
    "    phi = norm(phi, NSTEP)\n",
    "    if (i % 4) == 0:\n",
    "        E = 0.0\n",
    "        for k in range(1,NSTEP+1):\n",
    "            E = E + (phi[k] - phi[k-1])**2\n",
    "        E = E / H\n",
    "        print(\"Iteration =\", i, \"Energy =\", E)"
   ]
  },
  {
   "cell_type": "code",
   "execution_count": null,
   "metadata": {},
   "outputs": [],
   "source": []
  }
 ],
 "metadata": {
  "kernelspec": {
   "display_name": "Python 3",
   "language": "python",
   "name": "python3"
  },
  "language_info": {
   "codemirror_mode": {
    "name": "ipython",
    "version": 3
   },
   "file_extension": ".py",
   "mimetype": "text/x-python",
   "name": "python",
   "nbconvert_exporter": "python",
   "pygments_lexer": "ipython3",
   "version": "3.7.3"
  }
 },
 "nbformat": 4,
 "nbformat_minor": 2
}
