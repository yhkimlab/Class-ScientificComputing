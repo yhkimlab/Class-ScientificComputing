{
 "cells": [
  {
   "cell_type": "code",
   "execution_count": 2,
   "metadata": {},
   "outputs": [
    {
     "name": "stdout",
     "output_type": "stream",
     "text": [
      "number of steps and H are 20 0.05\n"
     ]
    },
    {
     "name": "stdin",
     "output_type": "stream",
     "text": [
      "Enter time step (not zero):  0.09\n"
     ]
    },
    {
     "name": "stdout",
     "output_type": "stream",
     "text": [
      "time step is: 0.09\n",
      "Iteration = 0 Energy = 221.5510922152135\n",
      "Iteration = 4 Energy = 1336.1670191506505\n",
      "Iteration = 8 Energy = 1460.0381590932745\n",
      "Iteration = 12 Energy = 1504.7705372401401\n",
      "Iteration = 16 Energy = 1527.9103777955759\n",
      "Iteration = 20 Energy = 1542.4716062462426\n",
      "Iteration = 24 Energy = 1553.1642705407694\n",
      "Iteration = 28 Energy = 1561.7858124074799\n",
      "Iteration = 32 Energy = 1568.8871399020456\n",
      "Iteration = 36 Energy = 1574.605840388581\n",
      "Iteration = 40 Energy = 1579.0413995779957\n",
      "Iteration = 44 Energy = 1582.3563770704675\n",
      "Iteration = 48 Energy = 1584.758457738808\n",
      "Iteration = 52 Energy = 1586.4583184806831\n"
     ]
    }
   ],
   "source": [
    "\n",
    "from matplotlib import cm\n",
    "import matplotlib.pyplot as plt\n",
    "import cmath, math\n",
    "import numpy as np\n",
    "\n",
    "NSTEP = 20                # Total number of domain steps \n",
    "H = 1.0/NSTEP             # Spacing\n",
    "phi = np.zeros(NSTEP+1)     # Space of PHI\n",
    "diff = np.zeros(NSTEP)    # Space of Error\n",
    "\n",
    "print(\"number of steps and H are\", NSTEP, H)\n",
    "\n",
    "### Function Arrangement\n",
    "def norm(phi,NSTEP):\n",
    "    xnorm=0.0\n",
    "    for i in range(0, NSTEP):\n",
    "        xnorm = xnorm + (phi[i])**2\n",
    "    xnorm = math.sqrt(NSTEP/xnorm)\n",
    "    for i in range(0, NSTEP):\n",
    "        phi[i] = phi[i]*xnorm\n",
    "    return phi\n",
    "\n",
    "### Calculation\n",
    "dt = input(\"Enter time step (not zero): \")\n",
    "print(\"time step is:\", dt)\n",
    "\n",
    "dt = float(dt)\n",
    "\n",
    "if dt == 0:\n",
    "    print(\"dt is zero and program is stopping\")\n",
    "    quit()\n",
    "\n",
    "dth=dt/H**2\n",
    "for i in range(0,NSTEP+1):\n",
    "    x = i*H\n",
    "    phi[i]=x*(1.0-x)\n",
    "\n",
    "\n",
    "phi=norm(phi,NSTEP+1)\n",
    "\n",
    "\n",
    "for i in range(0,53):\n",
    "    pold=0\n",
    "    for j in range(1,NSTEP):\n",
    "        pnew = phi[j] + dth * (pold + phi[j+1] - 2*phi[j])\n",
    "        pold = phi[j]\n",
    "        phi[j] = pnew\n",
    "    phi = norm(phi, NSTEP)\n",
    "    if (i % 4) == 0:\n",
    "        E = 0.0\n",
    "        for k in range(1,NSTEP+1):\n",
    "            E = E + (phi[k] - phi[k-1])**2\n",
    "        E = E / H\n",
    "        print(\"Iteration =\", i, \"Energy =\", E)"
   ]
  },
  {
   "cell_type": "code",
   "execution_count": null,
   "metadata": {},
   "outputs": [],
   "source": []
  }
 ],
 "metadata": {
  "kernelspec": {
   "display_name": "Python 3",
   "language": "python",
   "name": "python3"
  },
  "language_info": {
   "codemirror_mode": {
    "name": "ipython",
    "version": 3
   },
   "file_extension": ".py",
   "mimetype": "text/x-python",
   "name": "python",
   "nbconvert_exporter": "python",
   "pygments_lexer": "ipython3",
   "version": "3.7.7"
  }
 },
 "nbformat": 4,
 "nbformat_minor": 4
}
