{
 "cells": [
  {
   "cell_type": "code",
   "execution_count": 3,
   "metadata": {},
   "outputs": [
    {
     "data": {
      "image/png": "[encoded data removed]",
      "text/plain": [
       "<Figure size 432x288 with 1 Axes>"
      ]
     },
     "metadata": {
      "needs_background": "light"
     },
     "output_type": "display_data"
    },
    {
     "name": "stdout",
     "output_type": "stream",
     "text": [
      "Nt_RK45: 8\n"
     ]
    },
    {
     "data": {
      "image/png": "[encoded data removed]",
      "text/plain": [
       "<Figure size 432x288 with 1 Axes>"
      ]
     },
     "metadata": {
      "needs_background": "light"
     },
     "output_type": "display_data"
    },
    {
     "name": "stdout",
     "output_type": "stream",
     "text": [
      "41\n",
      "4.763527015933854e-06\n",
      "9.527054031867709e-06\n",
      "5.7162324191206255e-05\n",
      "0.0001047975943505448\n",
      "0.0003148432967977208\n",
      "0.0005248889992448968\n",
      "0.0007349347016920728\n",
      "0.001\n"
     ]
    },
    {
     "data": {
      "image/png": "[encoded data removed]",
      "text/plain": [
       "<Figure size 432x288 with 1 Axes>"
      ]
     },
     "metadata": {
      "needs_background": "light"
     },
     "output_type": "display_data"
    }
   ],
   "source": [
    "\"\"\"Temperature evolution in a rod, computed by explicit odespy solvers.\"\"\"\n",
    "\n",
    "from numpy import linspace, zeros, linspace, array\n",
    "import matplotlib.pyplot as plt\n",
    "import time\n",
    "import numpy as np\n",
    "\n",
    "def rhs(t, u):\n",
    "    N = len(u) - 1\n",
    "    rhs = zeros(N+1)\n",
    "    rhs[0] = dsdt(t)\n",
    "    for i in range(1, N):\n",
    "        rhs[i] = (beta/dx**2)*(u[i+1] - 2*u[i] + u[i-1]) + \\\n",
    "                 f(x[i], t)\n",
    "    rhs[N] = (beta/dx**2)*(2*u[i-1] + 2*dx*dudx(t) -\n",
    "                           2*u[i]) + f(x[N], t)\n",
    "    return rhs\n",
    "\n",
    "def dudx(t):\n",
    "    return 0\n",
    "\n",
    "def s(t):\n",
    "    return 423\n",
    "\n",
    "def dsdt(t):\n",
    "    return 0\n",
    "\n",
    "def f(x, t):\n",
    "    return 0\n",
    "\n",
    "def K(t, u):\n",
    "    #N = len(u) - 1\n",
    "    N = len(u) - 1\n",
    "    K = zeros((N+1,N+1))\n",
    "    K[0,0] = 0\n",
    "    for i in range(1, N):\n",
    "        K[i,i-1] = beta/dx**2\n",
    "        K[i,i] = -2*beta/dx**2\n",
    "        K[i,i+1] = beta/dx**2\n",
    "    K[N,N-1] = (beta/dx**2)*2\n",
    "    K[N,N] = (beta/dx**2)*(-2)\n",
    "    return K\n",
    "\n",
    "L = 1\n",
    "beta = 1\n",
    "N = 40\n",
    "x = linspace(0, L, N+1)\n",
    "dx = x[1] - x[0]\n",
    "u = zeros(N+1)\n",
    "\n",
    "U_0 = zeros(N+1)\n",
    "U_0[0] = s(0)\n",
    "U_0[1:] = 283\n",
    "dt = dx**2/(2*beta)\n",
    "dt *= 100\n",
    "\n",
    "from math import e\n",
    "from scipy import integrate as inte\n",
    "import matplotlib.pyplot as plt\n",
    "\n",
    "\n",
    "T = 0.001\n",
    "solution = inte.BDF(rhs, 0, U_0, T, 0.01,atol=1e-3,jac=K) #vectorized=True)\n",
    "y_values = []\n",
    "time_points = []\n",
    "for i in range(10000):\n",
    "# get solution step state\n",
    "    solution.step() #implemented function in scipy to collect data\n",
    "    time_points.append(solution.t)\n",
    "    for j in range(N+1):\n",
    "        y_values.append(solution.y[j])\n",
    "    # break loop after modeling is finished\n",
    "    if solution.status == 'finished':\n",
    "        break\n",
    "#print (y_values1)   \n",
    "\n",
    "u_value = np.reshape(y_values,(len(time_points),N+1))\n",
    "new_value = np.zeros(N+1)\n",
    "for i in range(N+1):\n",
    "    new_value[i] = u_value[1][i]\n",
    "\n",
    "plt.plot(x, new_value, 'b-')\n",
    "plt.show()\n",
    "print (\"Nt_RK45:\", len(time_points))\n",
    "plt.plot(x, U_0, 'b-')\n",
    "plt.show()\n",
    "  \n",
    "# Make movie\n",
    "import os\n",
    "os.system('rm tmp_*.png')\n",
    "import matplotlib.pyplot as plt\n",
    "import time\n",
    "plt.ion()\n",
    "print (len(u))\n",
    "y = u_value[0,:]\n",
    "lines = plt.plot(x, y)\n",
    "plt.axis([x[0], x[-1], 273, s(0)+10])\n",
    "plt.xlabel('x')\n",
    "plt.ylabel('u(x,t)')\n",
    "counter = 0\n",
    "for i in range(0, len(time_points)):\n",
    "    print (time_points[i])\n",
    "    lines[0].set_ydata(u_value[i,:])\n",
    "    plt.legend(['t=%.0f' % time_points[i]])\n",
    "    plt.draw()\n",
    "    plt.savefig('tmp_%04d.png' % counter)\n",
    "    counter += 1\n",
    "    time.sleep(0.2)"
   ]
  },
  {
   "cell_type": "code",
   "execution_count": null,
   "metadata": {},
   "outputs": [],
   "source": []
  }
 ],
 "metadata": {
  "kernelspec": {
   "display_name": "Python 3",
   "language": "python",
   "name": "python3"
  },
  "language_info": {
   "codemirror_mode": {
    "name": "ipython",
    "version": 3
   },
   "file_extension": ".py",
   "mimetype": "text/x-python",
   "name": "python",
   "nbconvert_exporter": "python",
   "pygments_lexer": "ipython3",
   "version": "3.7.7"
  }
 },
 "nbformat": 4,
 "nbformat_minor": 4
}
