{
 "cells": [
  {
   "cell_type": "code",
   "execution_count": 2,
   "metadata": {},
   "outputs": [
    {
     "name": "stdout",
     "output_type": "stream",
     "text": [
      "stability limit: 5e-05\n"
     ]
    },
    {
     "name": "stderr",
     "output_type": "stream",
     "text": [
      "/home/class/ASK_program/anaconda2/envs/py37/lib/python3.7/site-packages/ipykernel_launcher.py:52: DeprecationWarning: time.clock has been deprecated in Python 3.3 and will be removed from Python 3.8: use time.perf_counter or time.process_time instead\n"
     ]
    },
    {
     "name": "stdout",
     "output_type": "stream",
     "text": [
      "CPU time: 1.0s\n"
     ]
    },
    {
     "name": "stderr",
     "output_type": "stream",
     "text": [
      "/home/class/ASK_program/anaconda2/envs/py37/lib/python3.7/site-packages/ipykernel_launcher.py:54: DeprecationWarning: time.clock has been deprecated in Python 3.3 and will be removed from Python 3.8: use time.perf_counter or time.process_time instead\n"
     ]
    },
    {
     "ename": "SystemExit",
     "evalue": "0",
     "output_type": "error",
     "traceback": [
      "An exception has occurred, use %tb to see the full traceback.\n",
      "\u001b[0;31mSystemExit\u001b[0m\u001b[0;31m:\u001b[0m 0\n"
     ]
    }
   ],
   "source": [
    "from numpy import linspace, zeros, linspace, asarray\n",
    "import time\n",
    "\n",
    "def rhs(u, t):\n",
    "    N = len(u) - 1\n",
    "    rhs = zeros(N+1)\n",
    "    rhs[0] = dsdt(t)\n",
    "    rhs[1:N] = (beta/dx**2)*(u[2:N+1] - 2*u[1:N] + u[0:N-1]) + \\\n",
    "                 g(x[1:N], t)\n",
    "    i = N\n",
    "    rhs[i] = (beta/dx**2)*(2*u[i-1] + 2*dx*dudx(t) -\n",
    "                           2*u[i]) + g(x[N], t)\n",
    "    return rhs\n",
    "\n",
    "def dudx(t):\n",
    "    return 0\n",
    "\n",
    "def s(t):\n",
    "    return 423\n",
    "\n",
    "def dsdt(t):\n",
    "    return 0\n",
    "\n",
    "def g(x, t):\n",
    "    return 0\n",
    "\n",
    "def ode_FE(f, U_0, dt, T):\n",
    "    N_t = int(round(float(T)/dt))\n",
    "    # Ensure that any list/tuple returned from f_ is wrapped as array\n",
    "    f_ = lambda u, t: asarray(f(u,t))\n",
    "    u = zeros((N_t+1, len(U_0)))\n",
    "    t= linspace(0, N_t*dt, len(u))\n",
    "    u[0] = U_0\n",
    "    for n in range(N_t):\n",
    "        u[n+1] = u[n] + dt*f_(u[n], t[n])\n",
    "    return u, t\n",
    "\n",
    "L = 1                # Rod Length\n",
    "beta = 1       # K / rho * c K = heat conduction coefficient, rho = density, c = heat capacity\n",
    "N = 100\n",
    "x = linspace(0, L, N+1)\n",
    "dx = x[1] - x[0]\n",
    "u = zeros(N+1)\n",
    "\n",
    "U_0 = zeros(N+1)\n",
    "U_0[0] = s(0)\n",
    "U_0[1:] = 283\n",
    "dt = dx**2/(2*beta) \n",
    "#dt = 0.00034375\n",
    "print('stability limit:', dt)\n",
    "\n",
    "t0 = time.clock()\n",
    "u, t = ode_FE(rhs, U_0, dt, T=1.2)\n",
    "t1 = time.clock()\n",
    "print('CPU time: %.1fs' % (t1 - t0))\n",
    "import sys; sys.exit(0)\n"
   ]
  },
  {
   "cell_type": "code",
   "execution_count": null,
   "metadata": {},
   "outputs": [],
   "source": []
  }
 ],
 "metadata": {
  "kernelspec": {
   "display_name": "Python 3",
   "language": "python",
   "name": "python3"
  },
  "language_info": {
   "codemirror_mode": {
    "name": "ipython",
    "version": 3
   },
   "file_extension": ".py",
   "mimetype": "text/x-python",
   "name": "python",
   "nbconvert_exporter": "python",
   "pygments_lexer": "ipython3",
   "version": "3.7.2"
  }
 },
 "nbformat": 4,
 "nbformat_minor": 2
}
