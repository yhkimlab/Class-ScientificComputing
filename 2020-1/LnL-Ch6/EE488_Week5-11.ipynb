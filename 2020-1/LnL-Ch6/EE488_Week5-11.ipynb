{
 "cells": [
  {
   "cell_type": "markdown",
   "metadata": {},
   "source": [
    "### Week5-11. Newton's method를 이용한 효율적인 코딩\n",
    "\n",
    "앞서 알고리즘을 단순히 코딩하면, 수치적인 문제로 인해 아래와 같이 에러가 발생하게 된다. \n",
    "\n",
    "예를 들어, $tanh(x) = 0$의 해를 찾는 경우 $|x_0| \\leq 1.08$가 아닌 경우에는 해가 무한대가 되는 것을 확인 할수 있는데,\n",
    "\n",
    "이는 $x_7$ 이후에 $1-tanh^2(x)$ 값이 0이 되어 0으로 나누는 꼴이 되어 inf가 나오게 된다. \n"
   ]
  },
  {
   "cell_type": "code",
   "execution_count": 8,
   "metadata": {},
   "outputs": [
    {
     "name": "stdout",
     "output_type": "stream",
     "text": [
      "----------------------------------------------\n",
      "             x             f(x) = tanh(x)  \n",
      "----------------------------------------------\n",
      "       -1.0933161820,        -0.7980853072\n",
      "        1.1049035432,         0.8022534801\n",
      "       -1.1461555079,        -0.8164764710\n",
      "        1.3030326182,         0.8625018187\n",
      "       -2.0649230024,        -0.9683385739\n",
      "       13.4731428006,         1.0000000000\n",
      "-126055913647.1373901367,        -1.0000000000\n",
      "                 inf,         1.0000000000\n",
      "                 nan,                  nan\n",
      "nan\n"
     ]
    },
    {
     "name": "stderr",
     "output_type": "stream",
     "text": [
      "C:\\Users\\Tae Hyung Kim\\Anaconda3\\lib\\site-packages\\ipykernel_launcher.py:9: RuntimeWarning: divide by zero encountered in double_scalars\n",
      "  if __name__ == '__main__':\n",
      "C:\\Users\\Tae Hyung Kim\\Anaconda3\\lib\\site-packages\\ipykernel_launcher.py:9: RuntimeWarning: invalid value encountered in double_scalars\n",
      "  if __name__ == '__main__':\n"
     ]
    }
   ],
   "source": [
    "import numpy as np\n",
    "\n",
    "print('----------------------------------------------')\n",
    "print('             x             f(x) = tanh(x)  ')\n",
    "print('----------------------------------------------')\n",
    "\n",
    "def naive_Newton(f, dfdx, x, epx):\n",
    "    while abs(f(x)) > epx:\n",
    "        x = x -float(f(x))/dfdx(x)\n",
    "        print('% 20.10f, % 20.10f' % (x, f(x)))\n",
    "    return x\n",
    "\n",
    "def f(x):\n",
    "    return np.tanh(x)\n",
    "\n",
    "def dfdx(x):\n",
    "    return 1-(np.tanh(x))**2\n",
    "\n",
    "#print(naive_Newton(f, dfdx, 1.08, 0.001))\n",
    "print(naive_Newton(f, dfdx, 1.09, 0.001))"
   ]
  },
  {
   "cell_type": "markdown",
   "metadata": {},
   "source": [
    "좋은 코딩은 아래의 조건을 만족해야한다:\n",
    "\n",
    "- 0으로 나누는 걸 피한다.\n",
    "- 답이 안나올경우 연산 횟수의 최대값을 정해놓는다..\n",
    "- 불필요한 함수의 호출을 피한다. $f(x)$\n",
    "\n",
    "이에 해당하는 코딩을 하고  $x^2 -9 =0$을 풀어보자"
   ]
  },
  {
   "cell_type": "code",
   "execution_count": 7,
   "metadata": {},
   "outputs": [
    {
     "name": "stdout",
     "output_type": "stream",
     "text": [
      "Number of function calls: 25\n",
      "A solution is 3.000000\n"
     ]
    }
   ],
   "source": [
    "import numpy as np\n",
    "import sys\n",
    "\n",
    "def Newton(f, dfdx, x, eps):\n",
    "    f_value = f(x)\n",
    "    iteration_counter = 0\n",
    "    while abs(f_value) > eps and iteration_counter < 100:\n",
    "        try:\n",
    "            x = x -float(f_value)/dfdx(x)\n",
    "          #  x = x -float(f_value)/0\n",
    "        except ZeroDivisionError:\n",
    "            print(\"Error! - derivative zero for x = \", x)\n",
    "            sys.exit(1)  # Abort with error / Sys.exit(0) means succesfully operating\n",
    "            \n",
    "        f_value = f(x)\n",
    "        iteration_counter += 1\n",
    "        \n",
    "    # Here, either a solution is found, or too many iterations\n",
    "    if abs(f_value) > eps:\n",
    "        iteration_counter = -1\n",
    "    return x, iteration_counter\n",
    "\n",
    "def f(x):\n",
    "    return x**2 - 9\n",
    "#    return np.tanh(x)\n",
    "\n",
    "def dfdx(x):\n",
    "    return 2*x\n",
    "#    return 1-(tahh(x))**2\n",
    "\n",
    "\n",
    "\n",
    "solution, no_iterations = Newton(f, dfdx, x=1000, eps=1.0e-6)\n",
    "\n",
    "if no_iterations > 0:  # Solution found\n",
    "    print(\"Number of function calls: %d\" % (1 + 2*no_iterations))  # Newtwon(x) 1 + f(x),dfdx 2*n = 2n +1\n",
    "    print(\"A solution is %f\" % (solution))\n",
    "else:\n",
    "    print(\"Solution not found!\")"
   ]
  },
  {
   "cell_type": "markdown",
   "metadata": {},
   "source": [
    "Newton's method 는 $f'(x)$ 를 연산해아하는데, 미분에 대한 수치적인 해는 error가 존재하여 앞선경우와 같이 해를 찾는 과정에서 심각한 문제를 줄 수 있다. 이때, scipy를 이용하여 해석적인 해를 정확히 구하여 이문제를 해결 할 수 있다. scipy를 이용하여 어떤 함수의 해석적인 미분값을 구해보자:"
   ]
  },
  {
   "cell_type": "code",
   "execution_count": 13,
   "metadata": {},
   "outputs": [
    {
     "name": "stdout",
     "output_type": "stream",
     "text": [
      "10\n"
     ]
    }
   ],
   "source": [
    "from sympy import *\n",
    "x = symbols('x')              # define x as a mathematical symbl\n",
    "\n",
    "f_expr = x**2 -9             # symbolic expression for f(x)\n",
    "#f_expr = x**3 -2*x**2 - 10*x\n",
    "\n",
    "dfdx_expr = diff(f_expr, x)  # compute f'(x) symbolically\n",
    "# Turn f_expr and dfdx_expr into plain Python functions\n",
    "\n",
    "f = lambdify([x],            # argument to f\n",
    "            f_expr)          # symbolic expression to be evaluted.\n",
    "                             # f(x) = 2*x, lambdify(x,f(x)), lambdify(5) = 10 \n",
    "dfdx = lambdify([x], dfdx_expr)\n",
    "\n",
    "print(dfdx(5))               # will print 10"
   ]
  },
  {
   "cell_type": "code",
   "execution_count": null,
   "metadata": {},
   "outputs": [],
   "source": []
  }
 ],
 "metadata": {
  "kernelspec": {
   "display_name": "Python 3",
   "language": "python",
   "name": "python3"
  },
  "language_info": {
   "codemirror_mode": {
    "name": "ipython",
    "version": 3
   },
   "file_extension": ".py",
   "mimetype": "text/x-python",
   "name": "python",
   "nbconvert_exporter": "python",
   "pygments_lexer": "ipython3",
   "version": "3.7.1"
  }
 },
 "nbformat": 4,
 "nbformat_minor": 2
}
