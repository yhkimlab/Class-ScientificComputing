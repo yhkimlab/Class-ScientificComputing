{
 "cells": [
  {
   "cell_type": "markdown",
   "metadata": {},
   "source": [
    "### Week5-10 Newton's method\n",
    "\n",
    "뉴턴 방법은 $f(x)=0$의 해를 구하기위해서 $f(x)=y$ 함수의 $x_0$에서 접선방정식을 구한다음, 접선방정식이 0이 되는 x값을 $x_1$을 업데이트 하는 방식으로 해를 찾는 방법으로 아래의 과정이 필요하다:\n",
    "\n",
    "1. $x_0$에서의 기울기인 $f'(x_0)$ 구하기\n",
    "2. 구한 기울기 값으로 접선방정식 만들기"
   ]
  },
  {
   "cell_type": "code",
   "execution_count": 1,
   "metadata": {},
   "outputs": [
    {
     "name": "stdout",
     "output_type": "stream",
     "text": [
      "----------------------------------------------\n",
      "             x             f(x) = x**2-9 \n",
      "----------------------------------------------\n",
      "      500.0045000000,    249995.5000202500\n",
      "      250.0112499190,     62496.6250860610\n",
      "      125.0236241495,     15621.9065954861\n",
      "       62.5478052723,      3903.2279443818\n",
      "       31.3458476066,       973.5621621742\n",
      "       15.8164834880,       241.1611499266\n",
      "        8.1927550496,        58.1212353027\n",
      "        4.6456433057,        12.5820017237\n",
      "        3.2914711388,         1.8337822576\n",
      "        3.0129053881,         0.0775988775\n",
      "        3.0000276393,         0.0001658364\n",
      "3.0000276392750296\n"
     ]
    }
   ],
   "source": [
    "print('----------------------------------------------')\n",
    "print('             x             f(x) = x**2-9 ')\n",
    "print('----------------------------------------------')\n",
    "\n",
    "def naive_Newton(f, dfdx, x, epx):\n",
    "    while abs(f(x)) > epx:\n",
    "        x = x -float(f(x))/dfdx(x)\n",
    "        print('% 20.10f, % 20.10f' % (x, f(x)))\n",
    "    return x\n",
    "\n",
    "def f(x):\n",
    "    return x**2 - 9\n",
    "\n",
    "def dfdx(x):\n",
    "    return 2*x\n",
    "\n",
    "print(naive_Newton(f, dfdx, 1000, 0.001))"
   ]
  },
  {
   "cell_type": "code",
   "execution_count": null,
   "metadata": {},
   "outputs": [],
   "source": []
  }
 ],
 "metadata": {
  "kernelspec": {
   "display_name": "Python 3",
   "language": "python",
   "name": "python3"
  },
  "language_info": {
   "codemirror_mode": {
    "name": "ipython",
    "version": 3
   },
   "file_extension": ".py",
   "mimetype": "text/x-python",
   "name": "python",
   "nbconvert_exporter": "python",
   "pygments_lexer": "ipython3",
   "version": "3.7.1"
  }
 },
 "nbformat": 4,
 "nbformat_minor": 2
}
