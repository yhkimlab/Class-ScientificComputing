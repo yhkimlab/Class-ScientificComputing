{
 "cells": [
  {
   "cell_type": "markdown",
   "metadata": {},
   "source": [
    "### Week5-14 Rate of convergence\n",
    "\n",
    "위의 방법들로, 우리는 각 알고리즘마다 반복 횟수가 상당히 다를 수 있다는 것을 알게 되었다. 해를 찾는 데 필요한 반복 횟수는 우리가 해에 접근할 때 오차의 수렴 속도와 밀접하게 관련되어 있다.\n",
    "\n",
    "좀더 엄밀히 말하면, 박복 횟수 $n$에서 오차를 다음과 같이 정의하면 $e_n = |x-x_n|$, convergence rate 값인 q 를 정의할수 있다.\n",
    "$$ e_{n+1} = Ce^{q}_n,$$"
   ]
  },
  {
   "cell_type": "markdown",
   "metadata": {},
   "source": [
    "여기서 C는 상수이고, $q$는 다음스텝에서 에러가 얼마나 빨리 줄어들지에 대한 rate 값이다. 여기서 $q$가 클수록 빨리 수렴한다는 이야기이다. \n",
    "\n",
    "여기서 q값을 점화식을 이용해 정의하면 아래와 같이 정의할 수 있다.\n",
    "\n",
    "$$ e_n = Ce_{n-1}^{q}$$\n",
    "$$ e_{n+1} = Ce_{n}^{q}$$\n",
    "\n",
    "위의 두식을 나누어 $q$만 남겨놓으면\n",
    "\n",
    "$$ q = \\frac{ln(e_{n+1}/e_{n})}{ln(e_{n}/e_{n-1})}$$\n",
    "여기서 $q$는 $n$의 함수이고 이를 $q_{n}$으로 표기할 수있다. $n$이 증가하면, $q_{n}$ 은 특정값이 수렴하게 된다: ($q_{n} \\rightarrow q$)."
   ]
  },
  {
   "cell_type": "code",
   "execution_count": 11,
   "metadata": {},
   "outputs": [
    {
     "name": "stdout",
     "output_type": "stream",
     "text": [
      "Newton:\n",
      "1.01\n",
      "1.02\n",
      "1.03\n",
      "1.07\n",
      "1.14\n",
      "1.27\n",
      "1.51\n",
      "1.80\n",
      "1.97\n",
      "2.00\n"
     ]
    }
   ],
   "source": [
    "import numpy as np\n",
    "\n",
    "def Newton(f, dfdx, x, eps, return_x_list=False):\n",
    "    f_value = f(x)\n",
    "    iteration_counter = 0\n",
    "    if return_x_list:\n",
    "        x_list = []\n",
    "    while abs(f_value) > eps and iteration_counter < 100:\n",
    "        try:\n",
    "            x = x - float(f_value)/dfdx(x)\n",
    "        except ZeroDivisionError:\n",
    "            print(\"Error! - derivative zero for x = \", x)\n",
    "            sys.exit(1)\n",
    "        f_value = f(x)\n",
    "        iteration_counter += 1\n",
    "        #print('%d % 20.10f, % 20.10f' % (iteration_counter+1, x, f(x)))\n",
    "        if return_x_list:\n",
    "            x_list.append(x)\n",
    "    # Here, either a solution is found, or too many iterations\n",
    "    if abs(f_value) > eps:\n",
    "        iteration_counter = -1 # i. e., lack of convergence\n",
    "        \n",
    "    if return_x_list:\n",
    "        return x_list, iteration_counter\n",
    "    else:\n",
    "        return x, iteration_counter\n",
    "\n",
    "def Secant(f, x0, x1, eps, return_x_list=False):\n",
    "    f_x0 = f(x0)\n",
    "    f_x1 = f(x1)\n",
    "    iteration_counter = 0\n",
    "    if return_x_list:\n",
    "        x_list = []\n",
    "    while abs(f_x1) > eps and iteration_counter < 100:\n",
    "        try:\n",
    "            denominator = float(f_x1 - f_x0)/(x1 - x0)\n",
    "            x = x1 - float(f_x1) / denominator\n",
    "            print('%d % 20.10f, % 20.10f' % (iteration_counter+1, x, f(x)))\n",
    "        except ZeroDivisionError:\n",
    "            print(\"Error! - denominator zero for x = \", x)\n",
    "            sys.exit(1)  # Abort with error\n",
    "        x0 = x1\n",
    "        x1 = x\n",
    "        f_x0 = f_x1\n",
    "        f_x1 = f(x1)\n",
    "        iteration_counter += 1\n",
    "        if return_x_list:\n",
    "            x_list.append(x)\n",
    "    # Here, either a solution is found, or too many iterations\n",
    "    if abs(f_x1) > eps:\n",
    "        iteration_counter = -1 # i. e., lack of convergence\n",
    "        \n",
    "    if return_x_list:\n",
    "        return x_list, iteration_counter\n",
    "    else:\n",
    "        return x, iteration_counter\n",
    "    \n",
    "x, iter = Newton(lambda x: x**2 - 9, lambda x: 2*x, x=1000, eps=1e-6, return_x_list=True) # eps value effect on the q rate.\n",
    "#x, iter = Secant(lambda x: x**2 - 9, 0, 50, eps=1e-6, return_x_list=True) # Change 'b' value anything, eventhough the q rate will be converged.\n",
    "\n",
    "\n",
    "def rate(x, x_exact):\n",
    "    e = [abs(x_ - x_exact) for x_ in x]\n",
    "    q = [np.log(e[n+1]/e[n])/np.log(e[n]/e[n-1])\n",
    "        for n in range(1, len(e)-1, 1)]\n",
    "    return q\n",
    "\n",
    "def print_rates(method, x, x_exact):\n",
    "    q = ['%.2f' % q_ for q_ in rate(x, x_exact)]\n",
    "    print(method + ':')\n",
    "    for q_ in q:\n",
    "        print(q_)\n",
    "\n",
    "if __name__ == \"__main__\":\n",
    "    #print (x)\n",
    "    print_rates('Newton', x, x_exact=3)\n",
    "    \n",
    "    #print_rates('Secant', x, x_exact=3)\n",
    "        "
   ]
  },
  {
   "cell_type": "markdown",
   "metadata": {},
   "source": [
    "Newton's method: $q=2$, Secant method: $q=1.6$, Bisection method: $e_n = |x-x_n|$가 지속적으로 변하기 때문에 $q_n$은 oscillation 하게 됨."
   ]
  },
  {
   "cell_type": "code",
   "execution_count": null,
   "metadata": {},
   "outputs": [],
   "source": []
  }
 ],
 "metadata": {
  "kernelspec": {
   "display_name": "Python 3",
   "language": "python",
   "name": "python3"
  },
  "language_info": {
   "codemirror_mode": {
    "name": "ipython",
    "version": 3
   },
   "file_extension": ".py",
   "mimetype": "text/x-python",
   "name": "python",
   "nbconvert_exporter": "python",
   "pygments_lexer": "ipython3",
   "version": "3.7.1"
  }
 },
 "nbformat": 4,
 "nbformat_minor": 2
}
