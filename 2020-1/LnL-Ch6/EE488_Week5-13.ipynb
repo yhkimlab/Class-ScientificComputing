{
 "cells": [
  {
   "cell_type": "markdown",
   "metadata": {},
   "source": [
    "### Week5-13. Bisection method\n",
    "\n",
    "Newton's method와 Secant method는 해를 반드시 찾을 수 있다는 보장을 할수 없다.\n",
    "\n",
    "하지만 Bisection method는 두점의 부호를 가지고 해의 유무를 먼저 판단하므로, 비록 느리게 수렴하지만 반드시 해를 구할수 있게 된다.\n",
    "\n",
    "$|f(x_M)| < \\epsilon$가 되는 $x_M$을 찾는 과정을 반복한다. 여기서 $\\epsilon$는 충분히 작은 값을 잡는다."
   ]
  },
  {
   "cell_type": "code",
   "execution_count": 8,
   "metadata": {},
   "outputs": [
    {
     "name": "stdout",
     "output_type": "stream",
     "text": [
      "2         0.0000000000,         2.5000000000        -2.7500000000\n",
      "3         2.5000000000,         3.7500000000         5.0625000000\n",
      "4         2.5000000000,         3.1250000000         0.7656250000\n",
      "5         2.5000000000,         2.8125000000        -1.0898437500\n",
      "6         2.8125000000,         2.9687500000        -0.1865234375\n",
      "7         2.9687500000,         3.0468750000         0.2834472656\n",
      "8         2.9687500000,         3.0078125000         0.0469360352\n",
      "9         2.9687500000,         2.9882812500        -0.0701751709\n",
      "10         2.9882812500,         2.9980468750        -0.0117149353\n",
      "11         2.9980468750,         3.0029296875         0.0175867081\n",
      "12         2.9980468750,         3.0004882812         0.0029299259\n",
      "13         2.9980468750,         2.9992675781        -0.0043939948\n",
      "14         2.9992675781,         2.9998779297        -0.0007324070\n",
      "15         2.9998779297,         3.0001831055         0.0010986663\n",
      "16         2.9998779297,         3.0000305176         0.0001831064\n",
      "17         2.9998779297,         2.9999542236        -0.0002746561\n",
      "18         2.9999542236,         2.9999923706        -0.0000457763\n",
      "19         2.9999923706,         3.0000114441         0.0000686647\n",
      "20         2.9999923706,         3.0000019073         0.0000114441\n",
      "21         2.9999923706,         2.9999971390        -0.0000171661\n",
      "22         2.9999971390,         2.9999995232        -0.0000028610\n",
      "23         2.9999995232,         3.0000007153         0.0000042915\n",
      "24         2.9999995232,         3.0000001192         0.0000007153\n",
      "Number of function calls: 49\n",
      "A solution is: 3.000000\n"
     ]
    }
   ],
   "source": [
    "import sys\n",
    "def bisection(f, x_L, x_R, eps, return_x_list=False):\n",
    "    f_L = f(x_L)\n",
    "    if f_L*f(x_R) > 0:\n",
    "        print(\"Error! Function does not have opposite \\\n",
    "                signs at interval endpoints\")\n",
    "        sys.exit(1)\n",
    "    x_M = float(x_L + x_R)/2.0\n",
    "    f_M = f(x_M)\n",
    "    iteration_counter = 1\n",
    "    if return_x_list:\n",
    "        x_list = []\n",
    "        \n",
    "    while abs(f_M) > eps:\n",
    "        if f_L*f_M > 0: # i.e. same sign\n",
    "            x_L = x_M\n",
    "            f_L = f_M\n",
    "        else:\n",
    "            x_R = x_M\n",
    "        x_M = float(x_L + x_R)/2.0\n",
    "        f_M = f(x_M)\n",
    "        iteration_counter += 1\n",
    "        print('%d % 20.10f, % 20.10f % 20.10f' % (iteration_counter, x_L, x_M, f_M))\n",
    "        if return_x_list:\n",
    "            x.list.append(x_M)\n",
    "    if return_x_list:\n",
    "        return x_list, iteration_counter\n",
    "    else:\n",
    "        return x_M, iteration_counter\n",
    "    \n",
    "def f(x):\n",
    "    return x**2 - 9\n",
    "\n",
    "a = 0; b = 10 # b = 1 (opposite error), 100, 996.9, 1000\n",
    "\n",
    "solution, no_iterations = bisection(f, a, b, eps=1.0e-6)\n",
    "\n",
    "print(\"Number of function calls: %d\" % (1 + 2*no_iterations))\n",
    "print(\"A solution is: %f\" % (solution))"
   ]
  },
  {
   "cell_type": "code",
   "execution_count": null,
   "metadata": {},
   "outputs": [],
   "source": []
  },
  {
   "cell_type": "code",
   "execution_count": null,
   "metadata": {},
   "outputs": [],
   "source": []
  }
 ],
 "metadata": {
  "kernelspec": {
   "display_name": "Python 3",
   "language": "python",
   "name": "python3"
  },
  "language_info": {
   "codemirror_mode": {
    "name": "ipython",
    "version": 3
   },
   "file_extension": ".py",
   "mimetype": "text/x-python",
   "name": "python",
   "nbconvert_exporter": "python",
   "pygments_lexer": "ipython3",
   "version": "3.7.1"
  }
 },
 "nbformat": 4,
 "nbformat_minor": 2
}
