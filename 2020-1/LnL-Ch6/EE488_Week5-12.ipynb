{
 "cells": [
  {
   "cell_type": "markdown",
   "metadata": {},
   "source": [
    "### Week5-12 Secant method\n",
    "\n",
    "$f'(x)$ 를 구하는 대신 함수의 두점을 지나는 직선을 만들어 해를 찾는다.\n",
    "\n",
    "$x^2 -9 =0$에 대하여 풀어보자"
   ]
  },
  {
   "cell_type": "markdown",
   "metadata": {},
   "source": [
    "그전에 먼저 아이디어를 설명하면 아래와 같다:\n",
    "\n",
    "$f'(x_n)$ 대신에 기울기값을 두 점 $x_n$ and $x_{n+1}$을 잊는 선의 기울기로 대체한다.\n",
    "\n",
    "$$\\frac{f(x_n)-f(x_{n-1})}{x_{n}-x_{n-1}}$$\n",
    "\n",
    "\n",
    "$$x_{n+1} = x_{n}-\\frac{f(x_n)}{\\frac{f(x_n)-f(x_{n-1})}{x_{n}-x_{n-1}}},$$\n",
    "또는\n",
    "$$x_{n+1} = x_{n}-f(x_n)\\frac{x_n-x_{n-1}}{f(x_n)-f(x_{n-1})}$$"
   ]
  },
  {
   "cell_type": "code",
   "execution_count": 7,
   "metadata": {},
   "outputs": [
    {
     "name": "stdout",
     "output_type": "stream",
     "text": [
      "1       473.6889473684,    224372.2188590028\n",
      "2       310.3534125744,     96310.2406966002\n",
      "3       187.5153548149,     35153.0082913514\n",
      "4       116.9083784510,     13658.5689520525\n",
      "5        72.0414135613,      5180.9652679077\n",
      "6        44.6216148268,      1982.0885097478\n",
      "7        27.6317549103,       754.5138794206\n",
      "8        17.1891432761,       286.4666465674\n",
      "9        10.7977799131,       107.5920510514\n",
      "10         6.9534112298,        39.3499277301\n",
      "11         4.7366626514,        13.4359730731\n",
      "12         3.5873137927,         3.8688202474\n",
      "13         3.1225334953,         0.7502154293\n",
      "14         3.0107253725,         0.0644672689\n",
      "15         3.0002142772,         0.0012857090\n",
      "16         3.0000003823,         0.0000022940\n",
      "17         3.0000000000,         0.0000000001\n",
      "Number of function calls: 19\n",
      "A solution is: 3.000000\n"
     ]
    }
   ],
   "source": [
    "def secant(f, x0, x1, eps):\n",
    "    f_x0 = f(x0)\n",
    "    f_x1 = f(x1)\n",
    "    iteration_counter = 0\n",
    "    while abs(f_x1) > eps and iteration_counter < 100:\n",
    "        try:\n",
    "            denominator = float(f_x1 - f_x0)/(x1 - x0)\n",
    "            x = x1 - float(f_x1) / denominator\n",
    "            print('%d % 20.10f, % 20.10f' % (iteration_counter+1, x, f(x)))\n",
    "        except ZeroDivisionError:\n",
    "            print(\"Error! - denominator zero for x = \", x)\n",
    "            sys.exit(1)  # Abort with error\n",
    "        x0 = x1\n",
    "        x1 = x\n",
    "        f_x0 = f_x1\n",
    "        f_x1 = f(x1)\n",
    "        iteration_counter += 1\n",
    "    # Here, either a solution is found, or too many iterations\n",
    "    if abs(f_x1) > eps:\n",
    "        iteration_counter = -1\n",
    "    return x, iteration_counter\n",
    "\n",
    "def f(x):\n",
    "    return x**2 - 9\n",
    "    \n",
    "x0 = 1000; x1 = x0 - 100  # x1 = x0 - 1, 100, 996.9, 997 (not available), 999\n",
    "\n",
    "solution, no_iterations = secant(f, x0, x1, eps=1.0e-6)\n",
    "\n",
    "if no_iterations > 0:  # Solution found\n",
    "    print(\"Number of function calls: %d\" % (2 + no_iterations)) # f(0), f(1), while loop\n",
    "    print(\"A solution is: %f\" % (solution))\n",
    "else:\n",
    "    print(\"Solution not found!\")\n",
    "        "
   ]
  },
  {
   "cell_type": "code",
   "execution_count": null,
   "metadata": {},
   "outputs": [],
   "source": []
  }
 ],
 "metadata": {
  "kernelspec": {
   "display_name": "Python 3",
   "language": "python",
   "name": "python3"
  },
  "language_info": {
   "codemirror_mode": {
    "name": "ipython",
    "version": 3
   },
   "file_extension": ".py",
   "mimetype": "text/x-python",
   "name": "python",
   "nbconvert_exporter": "python",
   "pygments_lexer": "ipython3",
   "version": "3.7.1"
  }
 },
 "nbformat": 4,
 "nbformat_minor": 2
}
