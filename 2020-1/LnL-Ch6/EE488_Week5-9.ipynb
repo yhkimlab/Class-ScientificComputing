{
 "cells": [
  {
   "cell_type": "markdown",
   "metadata": {},
   "source": [
    "### Week5-9. 극대 극소값 찾기\n",
    "\n",
    "이제 극소와 극대값을 찾아보자. 극소와 극대값은 주변 포인트에서 아래의 관계를 만족해야 한다.\n",
    "\n",
    "$$극대: y_{i-1} < y_{i} > y_{i+1}, 극소: y_{i-1} > y_{i} < y_{i+1}$$\n",
    "\n",
    "\n",
    "또 찾은 극값들을 경계와 비교하여 실제 찾은 극값들이 극소와 극대가 되는지 확인한다.\n"
   ]
  },
  {
   "cell_type": "code",
   "execution_count": 8,
   "metadata": {},
   "outputs": [
    {
     "name": "stdout",
     "output_type": "stream",
     "text": [
      "Minima: [(0.7000000000000001, -0.5772302750838405), (2.152, -0.006670480742256502), (3.66, -7.333826733936654e-07)]\n",
      "Maxima: [(0.0, 1.0), (1.416, 0.10965467991643564), (2.9, 0.00012651823896373234)]\n"
     ]
    },
    {
     "data": {
      "image/png": "[encoded data removed]",
      "text/plain": [
       "<Figure size 432x288 with 1 Axes>"
      ]
     },
     "metadata": {
      "needs_background": "light"
     },
     "output_type": "display_data"
    }
   ],
   "source": [
    "import numpy as np\n",
    "import matplotlib.pyplot as plt\n",
    "\n",
    "def brute_force_optimizer(f, a, b, n):\n",
    "    x = np.linspace(a, b, n)\n",
    "    y = f(x)\n",
    "    # Let maxima and minima hold the indices corresponding\n",
    "    # to (local) maxima and minima points\n",
    "    minima = []\n",
    "    maxima = []\n",
    "    for i in range(n-1):\n",
    "        if y[i-1] < y[i] > y[i+1]:    # Except end point, y[-1] < y[0] > y[1] and y[n-3] < y[n-2] > y[n-1]\n",
    "            maxima.append(i)\n",
    "        if y[i-1] > y[i] < y[i+1]:\n",
    "            minima.append(i)\n",
    "            \n",
    "    # What about the end points\n",
    "    y_max_inner = max([y[i] for i in maxima])\n",
    "    y_min_inner = min([y[i] for i in minima])\n",
    "    if y[0] > y_max_inner:    # y[0] is maximum\n",
    "        maxima.append(0)\n",
    "    if y[len(x)-1] > y_max_inner: # y[n-1] as last index is maximum\n",
    "        maxima.append(len(x)-1)\n",
    "    if y[0] < y_min_inner:\n",
    "        minima.append(0)\n",
    "    if y[len(x)-1] < y_min_inner:\n",
    "        minima.append(len(x)-1)\n",
    "        \n",
    "    # Return x and y values\n",
    "    return [(x[i], y[i]) for i in minima], \\\n",
    "           [(x[i], y[i]) for i in maxima]\n",
    "\n",
    "def demo():\n",
    "    minima, maxima = brute_force_optimizer(\n",
    "        lambda x: np.exp(-x**2)*np.cos(4*x), 0, 4, 1001)\n",
    "    print('Minima:', minima)\n",
    "    print('Maxima:', maxima)\n",
    "    x=np.linspace(0,4,1001)\n",
    "    plt.plot(x, np.exp(-x**2)*np.cos(4*x), color='k')\n",
    "\n",
    "    \n",
    "if __name__ == '__main__':\n",
    "    demo()"
   ]
  },
  {
   "cell_type": "code",
   "execution_count": null,
   "metadata": {},
   "outputs": [],
   "source": []
  }
 ],
 "metadata": {
  "kernelspec": {
   "display_name": "Python 3",
   "language": "python",
   "name": "python3"
  },
  "language_info": {
   "codemirror_mode": {
    "name": "ipython",
    "version": 3
   },
   "file_extension": ".py",
   "mimetype": "text/x-python",
   "name": "python",
   "nbconvert_exporter": "python",
   "pygments_lexer": "ipython3",
   "version": "3.7.1"
  }
 },
 "nbformat": 4,
 "nbformat_minor": 2
}
