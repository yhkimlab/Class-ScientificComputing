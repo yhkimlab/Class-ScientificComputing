{
 "cells": [
  {
   "cell_type": "markdown",
   "metadata": {},
   "source": [
    "### Week 6-1. Numerov & linear correction"
   ]
  },
  {
   "cell_type": "code",
   "execution_count": 59,
   "metadata": {},
   "outputs": [
    {
     "name": "stdout",
     "output_type": "stream",
     "text": [
      "    r      Exact   Analytical   5% error     Linear\n",
      "----- ---------- ------------ ---------- ----------\n",
      "    2   0.729329    -0.000001   0.049920   0.000000\n",
      "    4   0.945053    -0.000003   0.099839   0.000000\n",
      "    6   0.990085    -0.000004   0.149758   0.000000\n",
      "    8   0.998323    -0.000006   0.199677   0.000000\n",
      "   10   0.999728    -0.000008   0.249596   0.000000\n",
      "   12   0.999957    -0.000009   0.299515   0.000000\n",
      "   14   0.999993    -0.000011   0.349434   0.000000\n",
      "   16   0.999999    -0.000013   0.399353   0.000000\n",
      "   18   1.000000    -0.000014   0.449273  -0.000000\n",
      "   20   1.000000    -0.000016   0.499192   0.000000\n",
      "Interval (h): 0.10\n"
     ]
    },
    {
     "data": {
      "image/png": "[encoded data removed]",
      "text/plain": [
       "<Figure size 432x288 with 1 Axes>"
      ]
     },
     "metadata": {
      "needs_background": "light"
     },
     "output_type": "display_data"
    },
    {
     "data": {
      "image/png": "[encoded data removed]",
      "text/plain": [
       "<Figure size 720x216 with 1 Axes>"
      ]
     },
     "metadata": {
      "needs_background": "light"
     },
     "output_type": "display_data"
    }
   ],
   "source": [
    "from __future__ import print_function\n",
    "import numpy as np\n",
    "#from scipy.constants import hbar\n",
    "import matplotlib.pyplot as plt\n",
    "\n",
    "\n",
    "def numerov(xgrid, y_0, y_1, k, S):\n",
    "    \"\"\"\n",
    "    Numerov algorithm\n",
    "   \n",
    "    Solve \n",
    "   \n",
    "        d^2\n",
    "       ------y(x) + k(x)^2 * y(x) = S(x)\n",
    "        dx^2\n",
    "   \n",
    "    by approximating the 2nd derivative \n",
    "    by the 3-point formula,\n",
    "   \n",
    "        yn+1 - 2yn + yn-1            h^2\n",
    "       ------------------- = y''n + -----y''''n + O(h^4) .\n",
    "               h^2                   12\n",
    "   \n",
    "    By some rearrangement,\n",
    "   \n",
    "             h^2                      5h^2               h^2\n",
    "       (1 + -----kn+1^2)yn+1 - 2(1 - ------kn^2)yn + (1 + -----kn-1^2)yn-1\n",
    "       \n",
    "             12                        12                12\n",
    "                    h^2\n",
    "      = -----(Sn+1 + 10*Sn + Sn-1) + O(h^6)\n",
    "         12\n",
    "   \n",
    "   \n",
    "    *** One should know the the two initial points, k and S terms.\n",
    "   \n",
    "   \n",
    "    - Case 1: Two initial values are given.\n",
    "   \n",
    "        y(0) = y0, y(1) = y1 --> y(2) is directly calculated.\n",
    "   \n",
    "   \n",
    "    - Case 2: One initial value and its gradient is given.\n",
    "   \n",
    "        y(0) = y0, y'(0) = y'0 --> y(1) should be estimated by some formula.\n",
    "   \n",
    "        Then one can follow \"Case 1\".\n",
    "\n",
    "\n",
    "    Inputs\n",
    "    ------\n",
    "    - xgrid : x (1-D array)\n",
    "    \n",
    "    - y_0   : y, initial condition 1\n",
    "       Output\n",
    "    ------\n",
    "    - y : solution of the differential equation (1-D array)\n",
    "\n",
    "    \"\"\"\n",
    "    # initialize y\n",
    "    ngrid = len(xgrid)\n",
    "    h = xgrid[1] - xgrid[0]\n",
    "    y = np.zeros(ngrid)\n",
    "    y[0] = y_0\n",
    "    y[1] = y_1\n",
    "\n",
    "    # main loop: evaluate y[j]\n",
    "    for j in np.arange(2, ngrid):\n",
    "\n",
    "        y1 = y[j-2]; y2 = y[j-1]\n",
    "        k1 = k[j-2]; k2 = k[j-1]; k3 = k[j]\n",
    "        s1 = S[j-2]; s2 = S[j-1]; s3 = S[j]\n",
    "\n",
    "        term_S = np.float32(1/12) * h**np.float32(2) * (s3 + np.float32(10)*s2 + s1)\n",
    "        term_3 =      (np.float32(1) + np.float32(1/12) *   h**np.float32(2) * k3**np.float32(2))\n",
    "        term_2 = np.float32(-2) * (np.float32(1) - np.float32(5)/np.float32(12) * np.float32(5)*h**np.float32(2) * k2**np.float32(2)) * y2\n",
    "        term_1 =      (np.float32(1) + np.float32(1)/np.float32(12) *   h**np.float32(2) * k1**np.float32(2)) * y1\n",
    "\n",
    "        y3 = (term_S - term_2 - term_1) / term_3\n",
    "        y[j] = y3\n",
    "\n",
    "    return np.float32(y)\n",
    "\n",
    "#\n",
    "# Poisson's equation when the charge distribution is\n",
    "#\n",
    "#                 1\n",
    "#     rho(r) = ------ * exp(-r) .\n",
    "#               8*pi \n",
    "#\n",
    "\n",
    "def rho(xgrid):\n",
    "    \"\"\"\n",
    "    Charge distribution function\n",
    "    \"\"\"\n",
    "    return np.float32(1)/(np.float32(8)*np.float32(np.pi))*np.float32(np.exp(-xgrid))\n",
    "\n",
    "def y_exact(xgrid):\n",
    "    \"\"\"\n",
    "    Exact solution of Poisson's equation\n",
    "    \"\"\"\n",
    "    return np.float32(np.float32(1) - np.float32(0.5)*(xgrid+np.float32(2))*np.float32(np.exp(-xgrid)))\n",
    "\n",
    "def linear(xgrid, x1, y1, x2, y2):\n",
    "    \"\"\"\n",
    "    Determine the amount of linear correction\n",
    "    \"\"\"\n",
    "    slope = np.float32((y2 - y1) / (x2 - x1))\n",
    "    bias = y1 - slope * x1\n",
    "    return np.float32(slope * xgrid) #+ bias\n",
    "\n",
    "# domain \n",
    "xgrid = np.float32(np.linspace(0., 20., 201))\n",
    "ngrid = len(xgrid)\n",
    "\n",
    "# initial values\n",
    "y_0 = np.float32(0); y_1 = np.float32(y_exact(xgrid)[1])\n",
    "k = np.float32(np.zeros(ngrid))\n",
    "S = np.float32(np.zeros(ngrid)); S += -np.float32(4)*np.float32(np.pi) * xgrid * rho(xgrid)\n",
    "\n",
    "# Numerical solution with accurate initial points (Analytical)\n",
    "y = numerov(xgrid, y_0, y_1, k, S)\n",
    "\n",
    "# Numerical solution with inaccurate initial points (5% error)\n",
    "y_err = numerov(xgrid, y_0, np.float32(0.95)*y_1, k, S)\n",
    "\n",
    "# Consider Linear correction (Linear)\n",
    "y_cor = numerov(xgrid, y_0, np.float32(0.95)*y_1, k, S)\n",
    "x_1 = xgrid[-10]; x_2 = xgrid[-1]\n",
    "y_1 = y_cor[-10]; y_2 = y_cor[-1]\n",
    "y_cor -= linear(xgrid, x_1, y_1, x_2, y_2)\n",
    "\n",
    "\n",
    "#\n",
    "# Table3.1\n",
    "#\n",
    "print (\"%5s %10s %12s %10s %10s\" % \\\n",
    "      ('    r', '     Exact', '  Analytical', '  5% error', '    Linear'))\n",
    "print (\"%5s %10s %12s %10s %10s\" % \\\n",
    "      ('-----', '----------', '------------', '----------', '----------'))\n",
    "\n",
    "h = xgrid[1]-xgrid[0]\n",
    "for j in range(20,201,20):\n",
    "    x = int(j*h)\n",
    "    y1 = y_exact(xgrid)[j]\n",
    "    y2 = np.float32(y1)-np.float32(y[j])\n",
    "    y3 = y1-y_err[j]\n",
    "    y4 = y1-y_cor[j]\n",
    "    print (\"%5i %10.6f %12.6f %10.6f %10.6f\" % (x, y1, y2, y3, y4))\n",
    "print (\"Interval (h): %4.2f\" % h)\n",
    "\n",
    "#\n",
    "# Figure\n",
    "#\n",
    "plt.show()\n",
    "plt.plot(xgrid, rho(xgrid), 'c-', label='rho')\n",
    "\n",
    "fig = plt.figure(figsize=(10,3))\n",
    "fig1 = fig.add_subplot(111)\n",
    "#fig2 = fig.add_subplot(111)\n",
    "fig1.plot(xgrid, y_exact(xgrid), 'k-',  label='Exact')\n",
    "fig1.plot(xgrid, y,              'r-',  label='Analytical')\n",
    "fig1.plot(xgrid, y_err,          'b-.', label='5% error')\n",
    "fig1.plot(xgrid, y_cor,          'g--', label='Linear correction')\n",
    "fig1.legend()\n",
    "plt.show()\n"
   ]
  },
  {
   "cell_type": "code",
   "execution_count": 49,
   "metadata": {},
   "outputs": [
    {
     "data": {
      "text/plain": [
       "dtype('float32')"
      ]
     },
     "execution_count": 49,
     "metadata": {},
     "output_type": "execute_result"
    }
   ],
   "source": [
    "a=np.float32(2)\n",
    "b=np.float32(3)\n",
    "\n",
    "(a).dtype"
   ]
  },
  {
   "cell_type": "code",
   "execution_count": null,
   "metadata": {},
   "outputs": [],
   "source": []
  }
 ],
 "metadata": {
  "kernelspec": {
   "display_name": "Python 3",
   "language": "python",
   "name": "python3"
  },
  "language_info": {
   "codemirror_mode": {
    "name": "ipython",
    "version": 3
   },
   "file_extension": ".py",
   "mimetype": "text/x-python",
   "name": "python",
   "nbconvert_exporter": "python",
   "pygments_lexer": "ipython3",
   "version": "3.7.1"
  }
 },
 "nbformat": 4,
 "nbformat_minor": 2
}
