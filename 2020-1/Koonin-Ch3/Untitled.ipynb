{
 "cells": [
  {
   "cell_type": "code",
   "execution_count": 2,
   "metadata": {},
   "outputs": [
    {
     "data": {
      "text/plain": [
       "201"
      ]
     },
     "execution_count": 2,
     "metadata": {},
     "output_type": "execute_result"
    }
   ],
   "source": [
    "import numpy as np\n",
    "#xgrid = np.float32(np.linspace(0., 20., 201))\n",
    "phi = np.float32(np.zeros(201))\n",
    "\n",
    "def y_exact(xgrid):\n",
    "    \"\"\"\n",
    "    Exact solution of Poisson's equation\n",
    "    \"\"\"\n",
    "    return np.float32(np.float32(1) - np.float32(0.5)*(xgrid+np.float32(2))*np.float32(np.exp(-xgrid)))\n",
    "\n",
    "def source(xgrid):\n",
    "    return np.float32(-xgrid)*np.float32(np.exp(-xgrid/np.float32(2)))\n",
    "\n",
    "h = np.float32(1)\n",
    "nstep = np.float32(20)/h\n",
    "const = (h**np.float32(2))/np.float32(12)\n",
    "phi[0]=np.float32(0)\n",
    "phi[1]=np.float32(y_exact(h))\n",
    "for ir in range(nstep):\n",
    "    "
   ]
  },
  {
   "cell_type": "code",
   "execution_count": null,
   "metadata": {},
   "outputs": [],
   "source": []
  }
 ],
 "metadata": {
  "kernelspec": {
   "display_name": "Python 3",
   "language": "python",
   "name": "python3"
  },
  "language_info": {
   "codemirror_mode": {
    "name": "ipython",
    "version": 3
   },
   "file_extension": ".py",
   "mimetype": "text/x-python",
   "name": "python",
   "nbconvert_exporter": "python",
   "pygments_lexer": "ipython3",
   "version": "3.7.1"
  }
 },
 "nbformat": 4,
 "nbformat_minor": 2
}
