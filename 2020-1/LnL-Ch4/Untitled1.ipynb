{
 "cells": [
  {
   "cell_type": "code",
   "execution_count": null,
   "metadata": {},
   "outputs": [],
   "source": []
  },
  {
   "cell_type": "code",
   "execution_count": 136,
   "metadata": {},
   "outputs": [
    {
     "name": "stdout",
     "output_type": "stream",
     "text": [
      "[9.999999999999999e-05, 0.0011, 0.0111, 0.1111, 1.1111, 11.1111, 111.1111, 211.1111, 311.11109999999996, 411.11109999999996, 500]\n",
      "[10.000000005, 10.000000605, 10.000061605, 10.006171605, 10.617271605000001, 71.728271605, 6182.838271605, 22293.948271604997, 48405.05827160498, 84516.16827160498, 125010.0]\n",
      "11\n"
     ]
    },
    {
     "data": {
      "image/png": "[encoded data removed]",
      "text/plain": [
       "<Figure size 432x288 with 1 Axes>"
      ]
     },
     "metadata": {
      "needs_background": "light"
     },
     "output_type": "display_data"
    }
   ],
   "source": [
    "from math import e\n",
    "from scipy import integrate as inte\n",
    "import matplotlib.pyplot as plt\n",
    "\n",
    "def f(t,x):\n",
    "    return t\n",
    "\n",
    "\n",
    "solution = inte.RK45(f, 0 , [10], 500, 100)\n",
    "\n",
    "# collect data\n",
    "t_values = []\n",
    "y_values = []\n",
    "for i in range(1000):\n",
    "    # get solution step state\n",
    "    solution.step()\n",
    "    t_values.append(solution.t)\n",
    "    y_values.append(solution.y[0])\n",
    "    # break loop after modeling is finished\n",
    "    if solution.status == 'finished':\n",
    "        break\n",
    "print (t_values)\n",
    "print (y_values)\n",
    "print (len(t_values))\n",
    "#data = zip(t_values, y_values)\n",
    "#print (list(data))\n",
    "\n",
    "plt.plot(t_values, y_values, 'b-')\n",
    "plt.show()"
   ]
  },
  {
   "cell_type": "code",
   "execution_count": null,
   "metadata": {},
   "outputs": [],
   "source": [
    "from numpy import *\n",
    "from matplotlib import pyplot as plt\n",
    "def f(t,x):\n",
    "    return 0\n",
    "import scipy\n",
    "from scipy import integrate as inte\n",
    "\n",
    "solution = inte.RK45(f, [1] , [1,2,3,4] , 100 ,100, 0.001, e**-6)\n",
    "print (solution.t)"
   ]
  },
  {
   "cell_type": "code",
   "execution_count": null,
   "metadata": {},
   "outputs": [],
   "source": []
  }
 ],
 "metadata": {
  "kernelspec": {
   "display_name": "Python 3",
   "language": "python",
   "name": "python3"
  },
  "language_info": {
   "codemirror_mode": {
    "name": "ipython",
    "version": 3
   },
   "file_extension": ".py",
   "mimetype": "text/x-python",
   "name": "python",
   "nbconvert_exporter": "python",
   "pygments_lexer": "ipython3",
   "version": "3.7.1"
  }
 },
 "nbformat": 4,
 "nbformat_minor": 2
}
