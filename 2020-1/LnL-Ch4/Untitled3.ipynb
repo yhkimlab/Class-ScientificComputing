{
 "cells": [
  {
   "cell_type": "code",
   "execution_count": 9,
   "metadata": {},
   "outputs": [
    {
     "name": "stdout",
     "output_type": "stream",
     "text": [
      "[[ 1.00000000e+00  0.00000000e+00]\n",
      " [ 9.99900350e-01 -1.98996537e-02]\n",
      " [ 9.99602664e-01 -3.95973935e-02]\n",
      " ...\n",
      " [ 1.24787563e-06 -5.67154472e-06]\n",
      " [ 1.19125060e-06 -5.63926802e-06]\n",
      " [ 1.13494900e-06 -5.60619321e-06]]\n"
     ]
    }
   ],
   "source": [
    "import numpy as np\n",
    "from scipy import integrate\n",
    "\n",
    "def solvr(Y, t):\n",
    "    return [Y[1], -2 * Y[0]-Y[1]]\n",
    "def main():\n",
    "    a_t = np.arange(0, 25.0, 0.01)\n",
    "    asol = integrate.odeint(solvr, [1, 0], a_t)\n",
    "    print(asol)\n",
    "\n",
    "\n",
    "    \n",
    "if __name__ == '__main__':\n",
    "    main()\n",
    "    "
   ]
  },
  {
   "cell_type": "code",
   "execution_count": 13,
   "metadata": {},
   "outputs": [
    {
     "ename": "SyntaxError",
     "evalue": "invalid syntax (<ipython-input-13-b50f8388ce7d>, line 11)",
     "output_type": "error",
     "traceback": [
      "\u001b[1;36m  File \u001b[1;32m\"<ipython-input-13-b50f8388ce7d>\"\u001b[1;36m, line \u001b[1;32m11\u001b[0m\n\u001b[1;33m    plot(y ~ t, data=approx, type='l')\u001b[0m\n\u001b[1;37m           ^\u001b[0m\n\u001b[1;31mSyntaxError\u001b[0m\u001b[1;31m:\u001b[0m invalid syntax\n"
     ]
    }
   ],
   "source": [
    "\n",
    "def main():\n",
    "    a_t = np.arange(0, 25.0, 0.01)\n",
    "    asol = integrate.odeint(solvr, [1, 0], a_t)\n",
    "    astack = np.c_[a_t, asol[:,0], asol[:, 1]]\n",
    "    np.savetxt('approx.csv', astack, delimiter=',', header='t, y, yd', comments='')\n",
    "if __name__ == '__main__':\n",
    "    main()\n",
    "    \n",
    "approx <- read.csv('approx.csv')\n",
    "plot(y ~ t, data=approx, type='l')"
   ]
  },
  {
   "cell_type": "code",
   "execution_count": null,
   "metadata": {},
   "outputs": [],
   "source": []
  }
 ],
 "metadata": {
  "kernelspec": {
   "display_name": "Python 3",
   "language": "python",
   "name": "python3"
  },
  "language_info": {
   "codemirror_mode": {
    "name": "ipython",
    "version": 3
   },
   "file_extension": ".py",
   "mimetype": "text/x-python",
   "name": "python",
   "nbconvert_exporter": "python",
   "pygments_lexer": "ipython3",
   "version": "3.7.1"
  }
 },
 "nbformat": 4,
 "nbformat_minor": 2
}
