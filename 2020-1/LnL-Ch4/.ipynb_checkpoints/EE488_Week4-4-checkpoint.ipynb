{
 "cells": [
  {
   "cell_type": "markdown",
   "metadata": {},
   "source": [
    "### 4.1.7 Verification: exact linear solution of the discrete equations"
   ]
  },
  {
   "cell_type": "markdown",
   "metadata": {},
   "source": [
    "How can we verify that the programming of an ODE model is correct? The best method is to find a problem where there are no unknown numerical approcimation errors, because we can then compare the exact solution of the problem with the result produced by our implementation and expect the difference to be within a very small tolerance.\n",
    "\n",
    "Most numerical methods for ODEs will exactly reproduce a solution $u$ that is linear in $t$. We may therefore set $u = at + b$ and choose any $f$ whose derivative is $a$. The choice $f(u,t) = a$ is very simple, but we may add anything that is zero, e.g.,\n",
    "\n",
    "$$ f(u,t) = a + (u - (at+b))^m. $$\n",
    "\n",
    "This is a valid $f(u,t)$ for any $a, b,$ and $m.$ The corresponding ODE looks highly non-trivial, however:\n",
    "$$ u' = a + (u - (at+b))^m.$$\n"
   ]
  },
  {
   "cell_type": "code",
   "execution_count": 3,
   "metadata": {},
   "outputs": [
    {
     "name": "stdout",
     "output_type": "stream",
     "text": [
      "Operation succeed\n",
      "The value of difference is ...\n",
      "0.00000000000000000000\n"
     ]
    }
   ],
   "source": [
    "from ode_FE import ode_FE\n",
    "\n",
    "def test_ode_FE():\n",
    "    \"\"\"Test that a linear u(t)=a*t+b is exactly reproduced.\"\"\"\n",
    "    \n",
    "    def exact_solution(t):\n",
    "        return a*t + b\n",
    "    \n",
    "    def f(u, t): # ODE\n",
    "        return a + (u - exact_solution(t))**m\n",
    "    \n",
    "    a = 4\n",
    "    b = -1\n",
    "    m = 6\n",
    "    \n",
    "    dt = 0.5\n",
    "    T = 20.0\n",
    "    \n",
    "    u, t = ode_FE(f, exact_solution(0), dt, T)\n",
    "    diff = abs(exact_solution(t) - u).max()\n",
    "    tol = 1E-15         # Tolerance for float comparison\n",
    "    if diff < tol:\n",
    "        print(\"Operation succeed\")\n",
    "        print(\"The value of difference is ...\")\n",
    "        print(\"%5.20f\" % diff)\n",
    "    else:\n",
    "        print(\"Operation failed\")\n",
    "        print(\"The value of difference is ...\")\n",
    "        print(\"%5.20f\" % diff)\n",
    "    #success = diff < tol\n",
    "    #assert success\n",
    "    \n",
    "if __name__ == '__main__':\n",
    "    test_ode_FE()"
   ]
  },
  {
   "cell_type": "code",
   "execution_count": null,
   "metadata": {},
   "outputs": [],
   "source": []
  }
 ],
 "metadata": {
  "kernelspec": {
   "display_name": "Python 3",
   "language": "python",
   "name": "python3"
  },
  "language_info": {
   "codemirror_mode": {
    "name": "ipython",
    "version": 3
   },
   "file_extension": ".py",
   "mimetype": "text/x-python",
   "name": "python",
   "nbconvert_exporter": "python",
   "pygments_lexer": "ipython3",
   "version": "3.7.2"
  }
 },
 "nbformat": 4,
 "nbformat_minor": 2
}
