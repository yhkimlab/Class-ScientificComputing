{
 "cells": [
  {
   "cell_type": "markdown",
   "metadata": {},
   "source": [
    "### Week4-1. Forward Euler 방법 프로그래밍"
   ]
  },
  {
   "cell_type": "markdown",
   "metadata": {},
   "source": [
    "Forward Euler scheme은 1계 미분방정식은 점화식 형태의 관계식을 통해 $\\Delta t$ 이후의 $N^{n+1}$ 값을 업데이트 한다\n",
    "\n",
    "$$ N^{n+1} = N^{n} + \\Delta trN^{n}$$\n",
    "\n",
    "따라서 초기 값으로 다음 값들이 필요하다: $N_0$, $\\Delta t$, $r$, $N_t$.\n",
    "\n",
    "따라서 우리는 $N_t + 1$ 개의 새로운 값 ($N^1, \\ldots , N^{N_t + 1}$)을 업데이트 한다.\n",
    "\n",
    "따라서 $N^{n}, n = 0, \\ldots, N_t+1$을 업데이트하기 위해서는 $N_t + 2$ 개의 array가 필요하다."
   ]
  },
  {
   "cell_type": "code",
   "execution_count": null,
   "metadata": {},
   "outputs": [],
   "source": [
    "N_0 = input('Give initial population size N_0: ')\n",
    "r   = input('Give net growth rate r: ')\n",
    "dt  = input('Give time step size:')\n",
    "N_t = input('Give number of steps:')\n",
    "from numpy import linspace, zeros, exp\n",
    "\n",
    "# Python input function gives 'string' format\n",
    "# To convert the variable foramatiing from 'string' to 'float' or 'intger'\n",
    "\n",
    "N_0 = int(N_0)\n",
    "r = float(r)\n",
    "dt = float(dt)\n",
    "N_t = int(N_t)\n",
    "\n",
    "t = linspace(0, (N_t+1)*dt, N_t+2)\n",
    "\n",
    "# Make a X-axis domain space for visualization\n",
    "N = zeros(N_t+2)\n",
    "\n",
    "N[0] = N_0\n",
    "for n in range(N_t+1):\n",
    "    N[n+1] = N[n] + r*dt*N[n]\n",
    "    \n",
    "import matplotlib.pyplot as plt\n",
    "numerical_sol = 'bo' if N_t < 70 else 'b-'\n",
    "plt.plot(t, N, numerical_sol, t, N_0*exp(r*t), 'r-')\n",
    "plt.legend(['numerical', 'exact'], loc='upper left')\n",
    "plt.xlabel('t'); plt.ylabel('N(t)')\n",
    "plt.show()\n",
    "#filename = 'growth1_%dsteps' % N_t\n",
    "#plt.savefig('%s.png' % filestem); plt.savefig('%s.pdf' % filename)\n",
    "\n",
    "# Input variable in the textbook\n",
    "\n",
    "# Initial Population / Growth rate / Time step size / Number of Steps\n",
    "#        N_0         /      r      /        dt      /       N_t\n",
    "#        100         /     0.1     /       0.5      /       40\n",
    "#        100         /     0.1     /      0.05      /       400\n",
    "#        100         /     0.1     /        2       /       1"
   ]
  },
  {
   "cell_type": "markdown",
   "metadata": {},
   "source": [
    "100 마리의 동물이 한달에 10%의 비율로 증가한다 할 때, 20개월까지지 마리수를 예측하는 코딩을 해보자.\n",
    "\n",
    "$\\Delta t$를 0.5, 0.05, 2 달간격으로 비교해보자.\n",
    "\n",
    "이때 0.5인 간격에서 수치적해와 해석적해가 셋중 가장 잘 일치하는 것을 확인 할 수 있다. \n",
    "\n",
    "$\\Delta t$ 가 좀더 작아지면, 해석적해와 수치적해는 더욱 일치하게 된다. "
   ]
  },
  {
   "cell_type": "code",
   "execution_count": null,
   "metadata": {},
   "outputs": [],
   "source": []
  },
  {
   "cell_type": "code",
   "execution_count": null,
   "metadata": {},
   "outputs": [],
   "source": []
  }
 ],
 "metadata": {
  "kernelspec": {
   "display_name": "Python 3",
   "language": "python",
   "name": "python3"
  },
  "language_info": {
   "codemirror_mode": {
    "name": "ipython",
    "version": 3
   },
   "file_extension": ".py",
   "mimetype": "text/x-python",
   "name": "python",
   "nbconvert_exporter": "python",
   "pygments_lexer": "ipython3",
   "version": "3.7.1"
  }
 },
 "nbformat": 4,
 "nbformat_minor": 2
}
