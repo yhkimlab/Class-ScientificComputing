{
 "cells": [
  {
   "cell_type": "markdown",
   "metadata": {},
   "source": [
    "### Week5-6. Euler-Cromer 방법: 마찰면을 미끄러지는 경우 (Demo. 4-14)"
   ]
  },
  {
   "cell_type": "markdown",
   "metadata": {},
   "source": [
    "이번에는 질량이 $m$인 물질이 stiffness 가 $k$인 스프링에 매달려 있는상태에서 바닥의 마찰력을 받는 경우를 살펴보자. 이때 스프링의 stiffness가 상수일 경우와, 물체의 위치에 따른 함수일 경우 감쇠가 어떻게 일어나는지 알아보자:\n",
    "\n"
   ]
  },
  {
   "cell_type": "code",
   "execution_count": 3,
   "metadata": {},
   "outputs": [
    {
     "name": "stdout",
     "output_type": "stream",
     "text": [
      "N_t: 5000\n"
     ]
    },
    {
     "data": {
      "image/png": "[encoded data removed]",
      "text/plain": [
       "<Figure size 432x288 with 1 Axes>"
      ]
     },
     "metadata": {
      "needs_background": "light"
     },
     "output_type": "display_data"
    }
   ],
   "source": [
    "import matplotlib.pyplot as plt\n",
    "\n",
    "def EulerCromer(f, s, F, m, T, U_0, V_0, dt):\n",
    "    from numpy import zeros, linspace\n",
    "    N_t = int(round(T/dt))\n",
    "    print('N_t:', N_t)\n",
    "    t = linspace(0, N_t*dt, N_t+1)\n",
    "    \n",
    "    u = zeros(N_t+1)\n",
    "    v = zeros(N_t+1)\n",
    "    \n",
    "    # Initial condition\n",
    "    u[0] = U_0\n",
    "    v[0] = V_0\n",
    "    \n",
    "    # Step equations forward in time\n",
    "    for n in range(N_t):\n",
    "        v[n+1] = v[n] + dt*(1./m)*(F(t[n]) - f(v[n]) - s(u[n]))\n",
    "        u[n+1] = u[n] + dt*v[n+1]\n",
    "    return u, v, t\n",
    "\n",
    "def sliding_friction():\n",
    "    from numpy import tanh, sign\n",
    "    \n",
    "    f = lambda v: mu*m*g*sign(v)\n",
    "    alpha = 60.0\n",
    "    s = lambda u: k/alpha*tanh(alpha*u)\n",
    "    #s = lambda u: k*u\n",
    "    F = lambda t: 0\n",
    "    \n",
    "    g = 9.81\n",
    "    mu = 0.4\n",
    "    m = 1\n",
    "    k = 1000\n",
    "    \n",
    "    U_0 = 0.1\n",
    "    V_0 = 0\n",
    "    \n",
    "    T = 2\n",
    "    dt = T/5000.\n",
    "    \n",
    "    u, v, t = EulerCromer(f=f, s=s, F=F, m=m, T=T,\n",
    "                         U_0=U_0, V_0=V_0, dt=dt)\n",
    "    \n",
    "    index = int(len(u)*100/100.)\n",
    "    plt.plot(t[-index:], u[-index:], 'b-')\n",
    "    plt.show()\n",
    "    \n",
    "if __name__ == \"__main__\":\n",
    "    sliding_friction()"
   ]
  },
  {
   "cell_type": "code",
   "execution_count": null,
   "metadata": {},
   "outputs": [],
   "source": []
  }
 ],
 "metadata": {
  "kernelspec": {
   "display_name": "Python 3",
   "language": "python",
   "name": "python3"
  },
  "language_info": {
   "codemirror_mode": {
    "name": "ipython",
    "version": 3
   },
   "file_extension": ".py",
   "mimetype": "text/x-python",
   "name": "python",
   "nbconvert_exporter": "python",
   "pygments_lexer": "ipython3",
   "version": "3.7.1"
  }
 },
 "nbformat": 4,
 "nbformat_minor": 2
}
