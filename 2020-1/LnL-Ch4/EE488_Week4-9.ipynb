{
 "cells": [
  {
   "cell_type": "markdown",
   "metadata": {},
   "source": [
    "### Week 4-9. ODE 알고리즘을 제공하는 소프트웨어"
   ]
  },
  {
   "cell_type": "markdown",
   "metadata": {},
   "source": [
    "##### scipy.integrate를 이용, RK45를 호출하여 함수, 초기시간, 초기 y, data grid를 설정해주는 input을 넣으면 Runge-Kutta-Fehlberg 방법으로 미분방정식을 풀어준다."
   ]
  },
  {
   "cell_type": "code",
   "execution_count": 31,
   "metadata": {},
   "outputs": [
    {
     "name": "stdout",
     "output_type": "stream",
     "text": [
      "103\n"
     ]
    },
    {
     "data": {
      "image/png": "[encoded data removed]",
      "text/plain": [
       "<Figure size 432x288 with 1 Axes>"
      ]
     },
     "metadata": {
      "needs_background": "light"
     },
     "output_type": "display_data"
    }
   ],
   "source": [
    "from math import e\n",
    "from scipy import integrate as inte\n",
    "import matplotlib.pyplot as plt\n",
    "\n",
    "def f(t,x):\n",
    "    return t\n",
    "\n",
    "\n",
    "solution = inte.RK45(f, 0 , [0], 10, 0.1)\n",
    "\n",
    "#RK45 input: (function, t0, y0, t_bound, max_step)\n",
    "\n",
    "# collect data\n",
    "t_values = []\n",
    "y_values = []\n",
    "for i in range(1000):\n",
    "    # get solution step state\n",
    "    solution.step() #implemented function in scipy to collect data\n",
    "    t_values.append(solution.t)\n",
    "    y_values.append(solution.y[0])\n",
    "    # break loop after modeling is finished\n",
    "    if solution.status == 'finished':\n",
    "        break\n",
    "#print (t_values)\n",
    "#print (y_values)\n",
    "print (len(t_values))\n",
    "#data = zip(t_values, y_values)\n",
    "#print (list(data))\n",
    "\n",
    "plt.plot(t_values, y_values, 'b-')\n",
    "plt.show()"
   ]
  },
  {
   "cell_type": "markdown",
   "metadata": {},
   "source": [
    "##### odespy_methods 사용 방법"
   ]
  },
  {
   "cell_type": "code",
   "execution_count": 27,
   "metadata": {},
   "outputs": [
    {
     "ename": "ModuleNotFoundError",
     "evalue": "No module named 'odespy'",
     "output_type": "error",
     "traceback": [
      "\u001b[1;31m---------------------------------------------------------------------------\u001b[0m",
      "\u001b[1;31mModuleNotFoundError\u001b[0m                       Traceback (most recent call last)",
      "\u001b[1;32m<ipython-input-27-35efe8ea95b6>\u001b[0m in \u001b[0;36m<module>\u001b[1;34m\u001b[0m\n\u001b[1;32m----> 1\u001b[1;33m \u001b[1;32mimport\u001b[0m \u001b[0modespy\u001b[0m\u001b[1;33m\u001b[0m\u001b[1;33m\u001b[0m\u001b[0m\n\u001b[0m\u001b[0;32m      2\u001b[0m \u001b[1;32mimport\u001b[0m \u001b[0mmatplotlib\u001b[0m\u001b[1;33m.\u001b[0m\u001b[0mpyplot\u001b[0m \u001b[1;32mas\u001b[0m \u001b[0mplt\u001b[0m\u001b[1;33m\u001b[0m\u001b[1;33m\u001b[0m\u001b[0m\n\u001b[0;32m      3\u001b[0m \u001b[1;33m\u001b[0m\u001b[0m\n\u001b[0;32m      4\u001b[0m \u001b[1;33m\u001b[0m\u001b[0m\n\u001b[0;32m      5\u001b[0m \u001b[1;32mdef\u001b[0m \u001b[0mf\u001b[0m\u001b[1;33m(\u001b[0m\u001b[0mu\u001b[0m\u001b[1;33m,\u001b[0m \u001b[0mt\u001b[0m\u001b[1;33m,\u001b[0m \u001b[0momega\u001b[0m\u001b[1;33m=\u001b[0m\u001b[1;36m2\u001b[0m\u001b[1;33m)\u001b[0m\u001b[1;33m:\u001b[0m\u001b[1;33m\u001b[0m\u001b[1;33m\u001b[0m\u001b[0m\n",
      "\u001b[1;31mModuleNotFoundError\u001b[0m: No module named 'odespy'"
     ]
    }
   ],
   "source": [
    "import odespy\n",
    "import matplotlib.pyplot as plt\n",
    "\n",
    "\n",
    "def f(u, t, omega=2):\n",
    "    v, u = u\n",
    "    return [-omega**2*u, v]\n",
    "\n",
    "def compare(odespy_methods,\n",
    "           omega,\n",
    "           X_0,\n",
    "           number_of_periods,\n",
    "           time_intervals_per_period=20):\n",
    "\n",
    "    from numpy import pi, linspace, cos\n",
    "    P = 2*pi/omega\n",
    "    dt = P/time_intervals_per_period\n",
    "    T = number_of_periods*P\n",
    "    \n",
    "    # If odespy_methods is not a list, but just the name of a single Odespy solver, we wrap that name in a list\n",
    "    # so we always have odespy_methods as a list\n",
    "    if type(odespy_methods) != type([]):\n",
    "        odespy_methods = [odespy_methods]\n",
    "        \n",
    "    # Make a list of solver objects\n",
    "    solvers = [method(f, f_args=[omega]) for method in \n",
    "              odespy_methods]\n",
    "    for solver in solvers:\n",
    "        solver.set_initial_condition([0, X_0])\n",
    "        \n",
    "    # Compute the time points where we wnat the solution\n",
    "    dt = float(dt) # avoid integer division\n",
    "    N_t = int(round(T/dt))\n",
    "    time_points = linspace(0, N_t*dt, N_t+1)\n",
    "    \n",
    "    legends = []\n",
    "    for solver in solvers:\n",
    "        sol, t = solver.solve(time_points)\n",
    "        v = sol[:, 0]\n",
    "        u = sol[:, 1]\n",
    "        \n",
    "        # Plot only the last p periods\n",
    "        p = 6\n",
    "        m = p*time_intervals_per_period # no time steps to plot\n",
    "        plt.plot(t[-m:], u[-m:])\n",
    "        plt.hold('on')\n",
    "        legends.append(solver.name())\n",
    "        plt.xlabel('t')\n",
    "        # Plot exact solution too\n",
    "        plt.plot(t[-m:], X_0*cos(omega*t)[-m:], 'k--')\n",
    "        legends.append('exact')\n",
    "        plt.legend(legends, loc='lower left')\n",
    "        plt.axis([t[-m], t[-1], -2*X_0, 2*X_0])\n",
    "        plt.title('Simulation of %d periods with %d intervals per period'\n",
    "             % (number_of_periods, time_intervals_per_period))\n",
    "        #plt.savefig('tmp.pdf'); savefig('tmg.png')\n",
    "        plt.show()\n",
    "\n",
    "compare(odespy_methods=[odespy.Heun, odespy.EulerCromer],\n",
    "       omega=2, X_0=2, number_of_periods=20,\n",
    "       time_intervals_per_period=20)\n"
   ]
  },
  {
   "cell_type": "code",
   "execution_count": null,
   "metadata": {},
   "outputs": [],
   "source": []
  }
 ],
 "metadata": {
  "kernelspec": {
   "display_name": "Python 3",
   "language": "python",
   "name": "python3"
  },
  "language_info": {
   "codemirror_mode": {
    "name": "ipython",
    "version": 3
   },
   "file_extension": ".py",
   "mimetype": "text/x-python",
   "name": "python",
   "nbconvert_exporter": "python",
   "pygments_lexer": "ipython3",
   "version": "3.7.1"
  }
 },
 "nbformat": 4,
 "nbformat_minor": 2
}
