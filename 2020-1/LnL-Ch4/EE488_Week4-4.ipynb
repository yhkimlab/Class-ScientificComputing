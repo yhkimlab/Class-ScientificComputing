{
 "cells": [
  {
   "cell_type": "markdown",
   "metadata": {},
   "source": [
    "### Weak4-4. u=at+b 꼴의 함수를 용한 검증"
   ]
  },
  {
   "cell_type": "markdown",
   "metadata": {},
   "source": [
    "ODE의 코딩이 잘 되었음을 어떻게 검증할 수 있는가? 에 대한 해답은 수치적인 해와 해석적인 해가 완전히 동일한 경우에 대해 문제를 풀어보고 비교해보면된다.\n",
    "\n",
    "앞서 Forward Euler 방법이 기하학적으로는 부분적으로 1차 함수를 만들어서 다음 스텝의 값을 구하는 점화식을 쓴것을 상기해보면, $u = at + b$를 해로갖는 미분방정식을 풀어 수치적해와 해석적 해를 비교해 볼 수 있음을 깨우칠 수 있다. 여기서 $f(u,t) = a$에 0이되는 함수 형태를 넣어 아래와 같이 만들어서 미분방정식을 풀어보자.\n",
    "\n",
    "$$ f(u,t) = a + (u - (at+b))^m. $$\n"
   ]
  },
  {
   "cell_type": "code",
   "execution_count": 54,
   "metadata": {},
   "outputs": [
    {
     "name": "stdout",
     "output_type": "stream",
     "text": [
      "Operation succeed\n",
      "The value of difference is ...\n",
      "0.00000000000000000000\n"
     ]
    }
   ],
   "source": [
    "from ode_FE import ode_FE\n",
    "\n",
    "def test_ode_FE():\n",
    "    \"\"\"Test that a linear u(t)=a*t+b is exactly reproduced.\"\"\"\n",
    "    \n",
    "    def exact_solution(t):\n",
    "        return a*t + b\n",
    "    \n",
    "    def f(u, t): # ODE\n",
    "        return a + (u - exact_solution(t))**m\n",
    "    \n",
    "    a = 4\n",
    "    b = -1\n",
    "    m = 100\n",
    "    \n",
    "    dt = 0.5\n",
    "    T = 20.0\n",
    " \n",
    "    u, t = ode_FE(f, exact_solution(0), dt, T)\n",
    "    diff = abs(exact_solution(t) - u).max()\n",
    "    tol = 1E-15         # Tolerance for float comparison\n",
    "    if diff < tol:\n",
    "        print(\"Operation succeed\")\n",
    "        print(\"The value of difference is ...\")\n",
    "        print(\"%5.20f\" % diff)\n",
    "    else:\n",
    "        print(\"Operation failed\")\n",
    "        print(\"The value of difference is ...\")\n",
    "        print(\"%5.20f\" % diff)\n",
    "    #success = diff < tol\n",
    "    #assert success\n",
    "\n",
    "if __name__ == '__main__':\n",
    "    test_ode_FE()"
   ]
  },
  {
   "cell_type": "code",
   "execution_count": null,
   "metadata": {},
   "outputs": [],
   "source": []
  },
  {
   "cell_type": "code",
   "execution_count": null,
   "metadata": {},
   "outputs": [],
   "source": []
  }
 ],
 "metadata": {
  "kernelspec": {
   "display_name": "Python 3",
   "language": "python",
   "name": "python3"
  },
  "language_info": {
   "codemirror_mode": {
    "name": "ipython",
    "version": 3
   },
   "file_extension": ".py",
   "mimetype": "text/x-python",
   "name": "python",
   "nbconvert_exporter": "python",
   "pygments_lexer": "ipython3",
   "version": "3.7.1"
  }
 },
 "nbformat": 4,
 "nbformat_minor": 2
}
