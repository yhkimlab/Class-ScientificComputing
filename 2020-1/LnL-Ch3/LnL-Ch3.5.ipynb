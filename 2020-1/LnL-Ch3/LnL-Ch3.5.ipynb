{
 "cells": [
  {
   "cell_type": "markdown",
   "metadata": {},
   "source": [
    "# Linge & Langtagen, \"Programming for Computations\"\n",
    "## Ch. 3.5 Vectorization"
   ]
  },
  {
   "cell_type": "markdown",
   "metadata": {},
   "source": [
    "We have already seen simple examples on vectorization in the Section 1.4 \n",
    "when we could evaluate a mathematical function $f(x)$ \n",
    "for a large number of $x$ values stored in an array. \n",
    "Basically, we can write\n"
   ]
  },
  {
   "cell_type": "code",
   "execution_count": null,
   "metadata": {},
   "outputs": [],
   "source": [
    "def f(x):\n",
    "    return exp(-x)*sin(x) + 5*x\n",
    "\n",
    "from numpy import exp, sin, linspace\n",
    "x = linspace(0, 4, 101) # coordinates from 100 intervals on [0, 4]\n",
    "y = f(x)                #all points evaluated at once\n",
    "\n",
    "print(y)"
   ]
  },
  {
   "cell_type": "markdown",
   "metadata": {},
   "source": [
    "The result y is the array that would be computed if we ran a for loop over the individual x values and called f for each value. "
   ]
  },
  {
   "cell_type": "markdown",
   "metadata": {},
   "source": [
    "**Vectorizing the midpoint rule**\n",
    "\n",
    "1. compute all the evaluation points in one array x\n",
    "2. call f(x) to produce an array of corresponding function values\n",
    "3. use the sum function to sum the f(x) values\n",
    "\n",
    "The evaluation points in the midpoint method are $x_i=a+(i+\\frac{1}{2})h$, $i=0,…,n−1$. That is, $n$ uniformly distributed coordinates between $a+h/2$ and $b−h/2$. \n",
    "Such coordinates can be calculated by x = linspace(a+h/2, b-h/2, n). \n",
    "Given that the Python implementation f of the mathematical function f works with an array argument, which is very often the case in Python, f(x) will produce all the function values in an array. The array elements are then summed up by sum: sum(f(x)). This sum is to be multiplied by the rectangle width h to produce the integral value. The complete function is listed below."
   ]
  },
  {
   "cell_type": "raw",
   "metadata": {},
   "source": [
    "from numpy import linspace, sum\n",
    "\n",
    "def midpoint(f, a, b, n):\n",
    "    h = float(b-a)/n\n",
    "    x = linspace(a + h/2, b - h/2, n)\n",
    "    return h*sum(f(x))"
   ]
  },
  {
   "cell_type": "markdown",
   "metadata": {},
   "source": [
    "Let us test the code interactively in a Python shell to compute $\\int_0^1 3t^2dt$."
   ]
  },
  {
   "cell_type": "raw",
   "metadata": {},
   "source": [
    ">>> from integration_methods_vec import midpoint\n",
    ">>> from numpy import exp\n",
    ">>> v = lambda t: 3*t**2 * exp(t**3)\n",
    ">>> midpoint(v, 0, 1, 10)"
   ]
  },
  {
   "cell_type": "markdown",
   "metadata": {},
   "source": [
    "Note the necessity to use exp from numpy: our v function will be called with x as an array, and the exp function must be capable of working with an array."
   ]
  },
  {
   "cell_type": "markdown",
   "metadata": {},
   "source": [
    "**Vectorizing the trapezoidal rule**\n",
    "\n",
    "If we do sum(f(x)), we get the end points f(a) and f(b) with weight unity instead of one half. A remedy is to subtract the error from sum(f(x)): sum(f(x)) - 0.5$*$f(a) - 0.5$*$f(b). The vectorized version of the trapezoidal method then becomes"
   ]
  },
  {
   "cell_type": "raw",
   "metadata": {},
   "source": [
    "def trapezoidal(f, a, b, n):\n",
    "    h = float(b-a)/n\n",
    "    x = linspace(a, b, n+1)\n",
    "    s = sum(f(x)) - 0.5*f(a) - 0.5*f(b)\n",
    "    return h*s"
   ]
  },
  {
   "cell_type": "markdown",
   "metadata": {},
   "source": [
    "Examples Files"
   ]
  },
  {
   "cell_type": "markdown",
   "metadata": {},
   "source": [
    "CASE 1 : midpoint rule"
   ]
  },
  {
   "cell_type": "code",
   "execution_count": null,
   "metadata": {},
   "outputs": [],
   "source": [
    "from numpy import linspace, sum\n",
    "\n",
    "def midpoint(f, a, b, n):\n",
    "    h = float(b-a)/n\n",
    "    x = linspace(a + h/2, b - h/2, n)\n",
    "    return h*sum(f(x))\n",
    "\n",
    "from numpy import exp\n",
    "v = lambda t: 3*t**2 * exp(t**3)\n",
    "p = midpoint(v, 0, 1, 10)\n",
    "\n",
    "print(p)"
   ]
  },
  {
   "cell_type": "markdown",
   "metadata": {},
   "source": [
    "CASE 2 : trapezoidal rule"
   ]
  },
  {
   "cell_type": "code",
   "execution_count": null,
   "metadata": {},
   "outputs": [],
   "source": [
    "from numpy import linspace, sum\n",
    "\n",
    "def trapezoidal(f, a, b, n):\n",
    "    h = float(b-a)/n\n",
    "    x = linspace(a, b, n+1)\n",
    "    s = sum(f(x)) - 0.5*f(a) - 0.5*f(b)\n",
    "    return h*s\n",
    "\n",
    "from numpy import exp\n",
    "v = lambda t: 3*t**2 * exp(t**3)\n",
    "p = trapezoidal(v, 0, 1, 10)\n",
    "\n",
    "print(p)"
   ]
  }
 ],
 "metadata": {
  "kernelspec": {
   "display_name": "Python 3",
   "language": "python",
   "name": "python3"
  },
  "language_info": {
   "codemirror_mode": {
    "name": "ipython",
    "version": 3
   },
   "file_extension": ".py",
   "mimetype": "text/x-python",
   "name": "python",
   "nbconvert_exporter": "python",
   "pygments_lexer": "ipython3",
   "version": "3.7.1"
  }
 },
 "nbformat": 4,
 "nbformat_minor": 2
}
