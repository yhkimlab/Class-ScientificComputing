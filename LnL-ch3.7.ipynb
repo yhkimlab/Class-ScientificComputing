{
 "cells": [
  {
   "cell_type": "markdown",
   "metadata": {},
   "source": [
    "# Linge & Langtagen, \"Programming for Computations\"\n",
    "## Ch. 3.7 Double and triple integrals\n",
    "\n",
    "### 3.7.1 The midpoint rule for a double integral"
   ]
  },
  {
   "cell_type": "markdown",
   "metadata": {},
   "source": [
    "Given a double integral over a rectangular domain $[a,b]\\times [c,d]$,\n",
    "$$\n",
    "\\int_a^b \\int_c^d f(x,y) dydx,\n",
    "$$\n",
    "how can we approximate this integral by numerical methods?"
   ]
  },
  {
   "cell_type": "markdown",
   "metadata": {},
   "source": [
    "**Derivation via one-dimensional integrals**\n",
    "\n",
    "Since we know how to deal with integrals in one variable, \n",
    "a fruitful approach is to view the double integral as two integrals, each in one variable, \n",
    "which can be approximated numerically by previous one-dimensional formulas. \n",
    "To this end, we introduce a help function $g(x)$ and write\n",
    "\n",
    "$$\n",
    "\\int_a^b \\int_c^d f(x,y) dydx = \\int_a^b g(x)dx,\n",
    "\\quad g(x) = \\int_c^d f(x,y) dy\\thinspace .\n",
    "$$\n",
    "\n",
    "Each of the integrals\n",
    "\n",
    "$$\n",
    "\\int_a^b g(x)dx,\\quad g(x) = \\int_c^d f(x,y) dy\n",
    "$$\n",
    "\n",
    "can be discretized by any numerical integration rule for an integral in one variable.\n",
    "Let us use the midpoint method (3.21) and start with $g(x)=\\int_c^d f(x,y)dy$. \n",
    "We introduce $n_y$ intervals on $[c,d]$ with length $h_y$. \n",
    "The midpoint rule for this integral then becomes\n",
    "\n",
    "$$\n",
    "g(x) = \\int_c^d f(x,y) dy \\approx  h_y \\sum_{j=0}^{n_y-1} f(x,y_j),\n",
    "\\quad y_j = c + \\frac{1}{2}{h_y} + jh_y .\n",
    "$$"
   ]
  },
  {
   "cell_type": "markdown",
   "metadata": {},
   "source": [
    "The expression looks somewhat different from (3.21), but that is because of the notation: since we integrate in the $y$ direction and will have to work with both $x$ and $y$ as coordinates, we must use $n_y$ for $n$, $h_y$ for $h$, and the counter $i$ is more naturally called $j$ when integrating in $y$. Integrals in the $x$ direction will use $h_x$ and $n_x$ for $h$ and $n$, and $i$ as counter."
   ]
  },
  {
   "cell_type": "markdown",
   "metadata": {},
   "source": [
    "The double integral is $\\int_a^b g(x)dx$, which can be approximated by the midpoint method:\n",
    "\n",
    "$$\n",
    "\\int_a^b g(x)dx \\approx h_x \\sum_{i=0}^{n_x-1} g(x_i),\\quad x_i=a + \\frac{1}{2}{h_x} + ih_x\\thinspace .\n",
    "$$\n",
    "    \n",
    "Putting the formulas together, we arrive at the *composite midpoint method for a double integral*:\n",
    "\n",
    "$$\n",
    "\\begin{align}\n",
    "\\int_a^b \\int_c^d f(x,y) dydx \n",
    "&\\approx\n",
    "h_x \\sum_{i=0}^{n_x-1} h_y \\sum_{j=0}^{n_y-1} f(x_i,y_j)\\nonumber\\\\ \n",
    "&=\n",
    "h_x h_y \\sum_{i=0}^{n_x-1} \\sum_{j=0}^{n_y-1} f(a + \\frac{h_x}{2} + ih_x, c + \\frac{h_y}{2} + jh_y)\\thinspace .\n",
    "\\tag{3.25}\n",
    "\\end{align}\n",
    "$$"
   ]
  },
  {
   "cell_type": "markdown",
   "metadata": {},
   "source": [
    "**Direct derivation**\n",
    "\n",
    "The formula (3.25) can also be derived directly in the two-dimensional case by applying the idea of the midpoint method. We divide the rectangle $[a,b]\\times[c,d]$ into $n_x \\times n_y$ equal-sized cells. The idea of the midpoint method is to approximate f by a constant over each cell, and evaluate the constant at the midpoint. Cell $(i,j)$ occupies the area\n",
    "\n",
    "$$\n",
    "[a+ih_x,a+(i+1)h_x]\\times [c+jh_y, c+ (j+1)h_y],\n",
    "$$\n",
    "\n",
    "and the midpoint is  $(x_i,y_i)$ with\n",
    "\n",
    "$$\n",
    "x_i=a + ih_x + \\frac{1}{2}{h_x} ,\\quad y_j = c + jh_y + \\frac{1}{2}{h_y}.\n",
    "$$\n",
    "\n",
    "The integral over the cell is therefore $h_xh_y f(x_i,y_j)$, and the total double integral is the sum over all cells, which is nothing but formula (3.25)."
   ]
  },
  {
   "cell_type": "markdown",
   "metadata": {},
   "source": [
    "**Programming a double sum**\n",
    "\n",
    "The formula (3.25) involves a double sum, which is normally implemented as a double for loop. A Python function implementing (3.25) may look like"
   ]
  },
  {
   "cell_type": "raw",
   "metadata": {},
   "source": [
    "def midpoint_double1(f, a, b, c, d, nx, ny):\n",
    "    hx = (b - a)/float(nx)\n",
    "    hy = (d - c)/float(ny)\n",
    "    I = 0\n",
    "    for i in range(nx):\n",
    "        for j in range(ny):\n",
    "            xi = a + hx/2 + i*hx\n",
    "            yj = c + hy/2 + j*hy\n",
    "            I += hx*hy*f(xi, yj)\n",
    "    return I"
   ]
  },
  {
   "cell_type": "markdown",
   "metadata": {},
   "source": [
    "we can compute some integral, e.g., $\\int_2^3 \\int_0^2 (2x+y)dxdy=9$ in an interactive shell and demonstrate that the function computes the right number:"
   ]
  },
  {
   "cell_type": "markdown",
   "metadata": {},
   "source": [
    "from midpoint_double import midpoint_double1\n",
    "\n",
    "def f(x, y):\n",
    "   return 2*x + y\n",
    "\n",
    "midpoint_double1(f, 0, 2, 2, 3, 5, 5)"
   ]
  },
  {
   "cell_type": "code",
   "execution_count": null,
   "metadata": {},
   "outputs": [],
   "source": [
    "def midpoint_double1(f, a, b, c, d, nx, ny):\n",
    "    hx = (b - a)/float(nx)\n",
    "    hy = (d - c)/float(ny)\n",
    "    I = 0\n",
    "    for i in range(nx):\n",
    "        for j in range(ny):\n",
    "            xi = a + hx/2 + i*hx\n",
    "            yj = c + hy/2 + j*hy\n",
    "            I += hx*hy*f(xi, yj)\n",
    "    return I\n",
    "\n",
    "def f(x, y):\n",
    "    return 2*x + y\n",
    "\n",
    "p = midpoint_double1(f, 0, 2, 2, 3, 5, 5)\n",
    "\n",
    "print(p)"
   ]
  },
  {
   "cell_type": "markdown",
   "metadata": {},
   "source": [
    "**Reusing code for one-dimensional integrals**\n",
    "\n",
    "It is very natural to write a two-dimensional midpoint method as we did in function midpoint_double1 when we have the formula (3.25). However, we could alternatively ask, much as we did in the mathematics, can we reuse a well-tested implementation for one-dimensional integrals to compute double integrals? That is, can we use function midpoint"
   ]
  },
  {
   "cell_type": "markdown",
   "metadata": {},
   "source": [
    "def midpoint(f, a, b, n):\n",
    "    h = float(b-a)/n\n",
    "    result = 0\n",
    "    for i in range(n):\n",
    "        result += f((a + h/2.0) + i*h)\n",
    "    result *= h\n",
    "    return result"
   ]
  },
  {
   "cell_type": "markdown",
   "metadata": {},
   "source": [
    "from the Section 3.3.2 \"twice\"? The answer is yes, if we think as we did in the mathematics: compute the double integral as a midpoint rule for integrating $g(x)$ and define $g(x_i)$ in terms of a midpoint rule over $f$ in the $y$ coordinate. The corresponding function has very short code:"
   ]
  },
  {
   "cell_type": "markdown",
   "metadata": {},
   "source": [
    "def midpoint_double2(f, a, b, c, d, nx, ny):\n",
    "    def g(x):\n",
    "        return midpoint(lambda y: f(x, y), c, d, ny)\n",
    "\n",
    "    return midpoint(g, a, b, nx)"
   ]
  },
  {
   "cell_type": "markdown",
   "metadata": {},
   "source": [
    "The important advantage of this implementation is that we reuse a well-tested function for the standard one-dimensional midpoint rule and that we apply the one-dimensional rule exactly as in the mathematics."
   ]
  },
  {
   "cell_type": "markdown",
   "metadata": {},
   "source": [
    "**Verification via test functions**\n",
    "\n",
    "How can we test that our functions for the double integral work?\n",
    "The midpoint rule is exact for linear functions, regardless of how many subinterval we use. Also, any linear two-dimensional function $f(x,y)=px+qy+r$ will be integrated exactly by the two-dimensional midpoint rule. We may pick $f(x,y)=2x+y$ and create a proper test function that can automatically verify our two alternative implementations of the two-dimensional midpoint rule. To compute the integral of $f(x,y)$ we take advantage of SymPy to eliminate the possibility of errors in hand calculations. The test function becomes"
   ]
  },
  {
   "cell_type": "code",
   "execution_count": null,
   "metadata": {},
   "outputs": [],
   "source": [
    "def midpoint_double1(f, a, b, c, d, nx, ny):\n",
    "    hx = (b - a)/float(nx)\n",
    "    hy = (d - c)/float(ny)\n",
    "    I = 0\n",
    "    for i in range(nx):\n",
    "        for j in range(ny):\n",
    "            xi = a + hx/2 + i*hx\n",
    "            yj = c + hy/2 + j*hy\n",
    "            I += hx*hy*f(xi, yj)\n",
    "    return I\n",
    "\n",
    "def midpoint(f, a, b, n):\n",
    "    h = float(b-a)/n\n",
    "    result = 0\n",
    "    for i in range(n):\n",
    "        result += f((a + h/2.0) + i*h)\n",
    "    result *= h\n",
    "    return result\n",
    "\n",
    "def midpoint_double2(f, a, b, c, d, nx, ny):\n",
    "    def g(x):\n",
    "        return midpoint(lambda y: f(x, y), c, d, ny)\n",
    "\n",
    "    return midpoint(g, a, b, nx)\n",
    "\n",
    "\n",
    "\n",
    "\n",
    "def test_midpoint_double():\n",
    "    \"\"\"Test that a linear function is integrated exactly.\"\"\"\n",
    "    def f(x, y):\n",
    "        return 2*x + y\n",
    "\n",
    "    a = 0;  b = 2;  c = 2;  d = 3\n",
    "    import sympy\n",
    "    x, y = sympy.symbols('x  y')\n",
    "    I_expected = sympy.integrate(f(x, y), (x, a, b), (y, c, d))\n",
    "    # Test three cases: nx < ny, nx = ny, nx > ny\n",
    "    for nx, ny in (3, 5), (4, 4), (5, 3):\n",
    "        I_computed1 = midpoint_double1(f, a, b, c, d, nx, ny)\n",
    "        I_computed2 = midpoint_double2(f, a, b, c, d, nx, ny)\n",
    "        tol = 1E-14\n",
    "        #print I_expected, I_computed1, I_computed2\n",
    "        print(abs(I_computed1 - I_expected) < tol)\n",
    "        print(abs(I_computed1 - I_expected) < tol)\n",
    "\n",
    "if __name__ == '__main__':\n",
    "    print(test_midpoint_double())"
   ]
  },
  {
   "cell_type": "markdown",
   "metadata": {},
   "source": [
    "### 3.7.2 The midpoint rule for a triple integral"
   ]
  },
  {
   "cell_type": "markdown",
   "metadata": {},
   "source": [
    "**Theory**\n",
    "\n",
    "Once a method that works for a one-dimensional problem is generalized to two dimensions, it is usually quite straightforward to extend the method to three dimensions. This will now be demonstrated for integrals. We have the triple integral\n",
    "\n",
    "$$\n",
    "\\int_{a}^{b} \\int_c^d \\int_e^f g(x,y,z) dzdydx\n",
    "$$\n",
    "\n",
    "and want to and want to approximate the integral by a midpoint rule. Following the ideas for the double integral, we split this integral into one-dimensional integrals:\n",
    "    \n",
    "$$\n",
    "\\begin{align*}\n",
    "p(x,y) &= \\int_e^f g(x,y,z) dz\\\\ \n",
    "q(x) &= \\int_c^d p(x,y) dy\\\\ \n",
    "\\int_{a}^{b} \\int_c^d \\int_e^f g(x,y,z) dzdydx &= \\int_a^b q(x)dx\n",
    "\\end{align*}\n",
    "$$\n",
    "\n",
    "For each of these one-dimensional integrals we apply the midpoint rule:\n",
    "    \n",
    "$$\n",
    "\\begin{align*}\n",
    "p(x,y) = \\int_e^f g(x,y,z) dz\n",
    "&\\approx \\sum_{k=0}^{n_z-1} g(x,y,z_k),\\\\ \n",
    "q(x) = \\int_c^d p(x,y) dy\n",
    "&\\approx \\sum_{j=0}^{n_y-1} p(x,y_j),\\\\ \n",
    "\\int_{a}^{b} \\int_c^d \\int_e^f g(x,y,z) dzdydx = \\int_a^b q(x)dx\n",
    "&\\approx \\sum_{i=0}^{n_x-1} q(x_i),\n",
    "\\end{align*}\n",
    "$$\n",
    "\n",
    "where\n",
    "\n",
    "$$\n",
    "z_k=e + \\frac{1}{2}h_z + kh_z,\\quad y_j=c + \\frac{1}{2}h_y + jh_y \\quad\n",
    "x_i=a + \\frac{1}{2}h_x + ih_x.\n",
    "$$\n",
    "\n",
    "Starting with the formula for $\\int_{a}^{b} \\int_c^d \\int_e^f g(x,y,z) dzdydx$ and inserting the two previous formulas gives\n",
    "\n",
    "$$\n",
    "\\begin{align}\n",
    "& \\int_{a}^{b} \\int_c^d \\int_e^f g(x,y,z)\\, dzdydx\\approx\\nonumber\\\\ \n",
    "& h_xh_yh_z\n",
    "\\sum_{i=0}^{n_x-1}\\sum_{j=0}^{n_y-1}\\sum_{k=0}^{n_z-1}\n",
    "g(a + \\frac{1}{2}h_x + ih_x,\n",
    "c + \\frac{1}{2}h_y + jh_y,\n",
    "e + \\frac{1}{2}h_z + kh_z)\\thinspace .\n",
    "\\tag{3.26}\n",
    "\\end{align}\n",
    "$$\n",
    "\n"
   ]
  },
  {
   "cell_type": "markdown",
   "metadata": {},
   "source": [
    "**Implementation**\n",
    "\n",
    "We follow the ideas for the implementations of the midpoint rule for a double integral. The corresponding functions are shown below and found in the file midpoint_triple.py."
   ]
  },
  {
   "cell_type": "code",
   "execution_count": null,
   "metadata": {},
   "outputs": [],
   "source": [
    "def midpoint_triple1(g, a, b, c, d, e, f, nx, ny, nz):\n",
    "    hx = (b - a)/float(nx)\n",
    "    hy = (d - c)/float(ny)\n",
    "    hz = (f - e)/float(nz)\n",
    "    I = 0\n",
    "    for i in range(nx):\n",
    "        for j in range(ny):\n",
    "            for k in range(nz):\n",
    "                xi = a + hx/2 + i*hx\n",
    "                yj = c + hy/2 + j*hy\n",
    "                zk = e + hz/2 + k*hz\n",
    "                I += hx*hy*hz*g(xi, yj, zk)\n",
    "    return I\n",
    "\n",
    "def midpoint(f, a, b, n):\n",
    "    h = float(b-a)/n\n",
    "    result = 0\n",
    "    for i in range(n):\n",
    "        result += f((a + h/2.0) + i*h)\n",
    "    result *= h\n",
    "    return result\n",
    "\n",
    "def midpoint_triple2(g, a, b, c, d, e, f, nx, ny, nz):\n",
    "    def p(x, y):\n",
    "        return midpoint(lambda z: g(x, y, z), e, f, nz)\n",
    "\n",
    "    def q(x):\n",
    "        return midpoint(lambda y: p(x, y), c, d, ny)\n",
    "\n",
    "    return midpoint(q, a, b, nx)\n",
    "\n",
    "def test_midpoint_triple():\n",
    "    \"\"\"Test that a linear function is integrated exactly.\"\"\"\n",
    "    def g(x, y, z):\n",
    "        return 2*x + y - 4*z\n",
    "\n",
    "    a = 0;  b = 2;  c = 2;  d = 3;  e = -1;  f = 2\n",
    "    import sympy\n",
    "    x, y, z = sympy.symbols('x y z')\n",
    "    I_expected = sympy.integrate(\n",
    "        g(x, y, z), (x, a, b), (y, c, d), (z, e, f))\n",
    "    for nx, ny, nz in (3, 5, 2), (4, 4, 4), (5, 3, 6):\n",
    "        I_computed1 = midpoint_triple1(\n",
    "            g, a, b, c, d, e, f, nx, ny, nz)\n",
    "        I_computed2 = midpoint_triple2(\n",
    "            g, a, b, c, d, e, f, nx, ny, nz)\n",
    "        tol = 1E-14\n",
    "        print(I_expected, I_computed1, I_computed2)\n",
    "        assert abs(I_computed1 - I_expected) < tol\n",
    "        assert abs(I_computed2 - I_expected) < tol\n",
    "\n",
    "if __name__ == '__main__':\n",
    "    test_midpoint_triple()"
   ]
  }
 ],
 "metadata": {
  "kernelspec": {
   "display_name": "Python 3",
   "language": "python",
   "name": "python3"
  },
  "language_info": {
   "codemirror_mode": {
    "name": "ipython",
    "version": 3
   },
   "file_extension": ".py",
   "mimetype": "text/x-python",
   "name": "python",
   "nbconvert_exporter": "python",
   "pygments_lexer": "ipython3",
   "version": "3.7.1"
  }
 },
 "nbformat": 4,
 "nbformat_minor": 2
}
