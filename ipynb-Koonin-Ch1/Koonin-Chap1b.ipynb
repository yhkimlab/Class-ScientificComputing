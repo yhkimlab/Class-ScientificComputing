{
 "cells": [
  {
   "cell_type": "markdown",
   "metadata": {},
   "source": [
    "### Koonin Chapter1b.py "
   ]
  },
  {
   "cell_type": "code",
   "execution_count": 1,
   "metadata": {},
   "outputs": [
    {
     "name": "stdout",
     "output_type": "stream",
     "text": [
      "-------------------------------------------------------------------------\n",
      "  N      |   h  |    Trapezoidal   |   Simpsons   |   Bode\n",
      "-------------------------------------------------------------------------\n",
      "    4     0.250000    -0.008940       -0.000037     -0.000001\n",
      "    8     0.125000    -0.002237       -0.000002     -0.000000\n",
      "   16     0.062500    -0.000559       -0.000000     -0.000000\n",
      "   32     0.031250    -0.000140       -0.000000     -0.000000\n",
      "   64     0.015625    -0.000035       -0.000000     -0.000000\n",
      "  128     0.007812    -0.000009       -0.000000     -0.000000\n",
      "-------------------------------------------------------------------------\n"
     ]
    }
   ],
   "source": [
    "import numpy as np\n",
    "import math\n",
    "\n",
    "# Chapter 1b Fortran to Python\n",
    "# Comparing trapezodal vs Simpson rule (h**3 vs h**5 errors)\n",
    "\n",
    "N = [4, 8, 16, 32, 64, 128]\n",
    "\n",
    "\n",
    "class FDM2:\n",
    "    def Trapezoidal(f, a, b, N):\n",
    "        h = float(b-a) / N\n",
    "        result = 0.5*f(a) + 0.5*f(b)\n",
    "        for i in range(1, N):\n",
    "            result += f(a + i*h)\n",
    "        result *= h\n",
    "        return result\n",
    "\n",
    "    def Simpsons(f, a, b, N):\n",
    "        if N % 2 == 1:\n",
    "            raise ValueError(\"N must be an even integer.\")\n",
    "        h = float(b-a) / N\n",
    "        x = np.linspace(a, b, N+1)\n",
    "        y = f(x)\n",
    "        result = h/3 * np.sum(y[0:-1:2] + 4*y[1::2] + y[2::2])\n",
    "        return result\n",
    "\n",
    "    def Bode(f, a, b, N):\n",
    "        h = float(b-a) / N\n",
    "        x = np.linspace(a, b, N+1)\n",
    "        y = f(x)\n",
    "        result = 2*h/45 * np.sum(7*y[0:-1:4] + 32*y[1::4] + 12*y[2::4] + 32*y[3::4] + 7*y[4::4])\n",
    "        return result\n",
    "\n",
    "cal_1 = FDM2.Trapezoidal\n",
    "cal_2 = FDM2.Simpsons\n",
    "cal_3 = FDM2.Bode\n",
    "\n",
    "print('-------------------------------------------------------------------------')\n",
    "print('  N      |   h  |    Trapezoidal   |   Simpsons   |   Bode')\n",
    "print('-------------------------------------------------------------------------')\n",
    "\n",
    "\n",
    "\n",
    "EXACT = np.exp(1.0) - 1.0\n",
    "for n in N:\n",
    "    DIFF1 = EXACT - cal_1(np.exp, 0, 1, n)\n",
    "    DIFF2 = EXACT - cal_2(np.exp, 0, 1, n)\n",
    "    DIFF3 = EXACT - cal_3(np.exp, 0, 1, n)\n",
    "    print(\" %4.0f     %1.6f    %1.6f       %1.6f     %1.6f\" % (int(n), (1-0)/n, DIFF1, DIFF2, DIFF3))\n",
    "print('-------------------------------------------------------------------------')"
   ]
  },
  {
   "cell_type": "code",
   "execution_count": null,
   "metadata": {},
   "outputs": [],
   "source": []
  }
 ],
 "metadata": {
  "kernelspec": {
   "display_name": "Python 3",
   "language": "python",
   "name": "python3"
  },
  "language_info": {
   "codemirror_mode": {
    "name": "ipython",
    "version": 3
   },
   "file_extension": ".py",
   "mimetype": "text/x-python",
   "name": "python",
   "nbconvert_exporter": "python",
   "pygments_lexer": "ipython3",
   "version": "3.7.2"
  }
 },
 "nbformat": 4,
 "nbformat_minor": 2
}
