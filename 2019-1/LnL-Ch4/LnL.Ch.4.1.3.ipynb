{
 "cells": [
  {
   "cell_type": "markdown",
   "metadata": {},
   "source": [
    "### 4.1.3 Programming the Forward Euler scheme; the special case"
   ]
  },
  {
   "cell_type": "markdown",
   "metadata": {},
   "source": [
    "Let us compute (4.8) in a program. The input variables are $N_0$, $\\Delta t$, $r$, and $N_t$.\n",
    "\n",
    "Note that we need to compute $N_t + 1$ new values $N^1, \\ldots , N^{N_t + 1}$.\n",
    "\n",
    "A total of $N_t + 2$ values are need in an array representation of $N^{n}, n = 0, \\ldots, N_t+1$"
   ]
  },
  {
   "cell_type": "code",
   "execution_count": 3,
   "metadata": {},
   "outputs": [
    {
     "name": "stdin",
     "output_type": "stream",
     "text": [
      "Give initial population size N_0:  100\n",
      "Give net growth rate r:  0.1\n",
      "Give time step size: 0.5\n",
      "Give number of steps: 40\n"
     ]
    },
    {
     "data": {
      "image/png": "[encoded data removed]",
      "text/plain": [
       "<Figure size 432x288 with 1 Axes>"
      ]
     },
     "metadata": {
      "needs_background": "light"
     },
     "output_type": "display_data"
    }
   ],
   "source": [
    "N_0 = input('Give initial population size N_0: ')\n",
    "r   = input('Give net growth rate r: ')\n",
    "dt  = input('Give time step size:')\n",
    "N_t = input('Give number of steps:')\n",
    "from numpy import linspace, zeros, exp\n",
    "\n",
    "# Python input function gives 'string' format\n",
    "# To convert the variable foramatiing from 'string' to 'float' or 'intger'\n",
    "\n",
    "N_0 = int(N_0)\n",
    "r = float(r)\n",
    "dt = float(dt)\n",
    "N_t = int(N_t)\n",
    "\n",
    "t = linspace(0, (N_t+1)*dt, N_t+2)\n",
    "\n",
    "# Make a X-axis domain space for visualization\n",
    "N = zeros(N_t+2)\n",
    "\n",
    "N[0] = N_0\n",
    "for n in range(N_t+1):\n",
    "    N[n+1] = N[n] + r*dt*N[n]\n",
    "    \n",
    "import matplotlib.pyplot as plt\n",
    "numerical_sol = 'bo' if N_t < 70 else 'b-'\n",
    "plt.plot(t, N, numerical_sol, t, N_0*exp(r*t), 'r-')\n",
    "plt.legend(['numerical', 'exact'], loc='upper left')\n",
    "plt.xlabel('t'); plt.ylabel('N(t)')\n",
    "plt.show()\n",
    "#filename = 'growth1_%dsteps' % N_t\n",
    "#plt.savefig('%s.png' % filestem); plt.savefig('%s.pdf' % filename)\n",
    "\n",
    "# Input variable in the textbook\n",
    "\n",
    "# Initial Population / Growth rate / Time step size / Number of Steps\n",
    "#        N_0         /      r      /        dt      /       N_t\n",
    "#        100         /     0.1     /       0.5      /       40\n",
    "#        100         /     0.1     /      0.05      /       400\n",
    "#        100         /     0.1     /        2       /       1"
   ]
  },
  {
   "cell_type": "markdown",
   "metadata": {},
   "source": [
    "Let us demonstrate a simulation where we start with 100 animals, a net growth rate of 10 percent (0.1) per time unit, which can be one month, and $t \\in [0,20]$ months.\n",
    "\n",
    "We may first try $\\Delta t$ of half a month (0.5), which implies $N_t = 40$ (or to be absolutely precise, the last time point to be computed according to our set-up above is $t_{N_t + 1} = 20.5$). The discrepancy is clearly visible. (In the case of 100 / 0.1 / 0.5 / 40)\n",
    "\n",
    "What if we make $\\Delta t$ 10 times smaller? (In the case of 100 / 0.1 / 0.05 / 400) We can hardly distinguish the exact and the numerical solution.\n",
    "\n",
    "It appears that the Forward Euler method is sufficiently accurate for practical purposes."
   ]
  },
  {
   "cell_type": "code",
   "execution_count": null,
   "metadata": {},
   "outputs": [],
   "source": []
  }
 ],
 "metadata": {
  "kernelspec": {
   "display_name": "Python 3",
   "language": "python",
   "name": "python3"
  },
  "language_info": {
   "codemirror_mode": {
    "name": "ipython",
    "version": 3
   },
   "file_extension": ".py",
   "mimetype": "text/x-python",
   "name": "python",
   "nbconvert_exporter": "python",
   "pygments_lexer": "ipython3",
   "version": "3.7.2"
  }
 },
 "nbformat": 4,
 "nbformat_minor": 2
}
