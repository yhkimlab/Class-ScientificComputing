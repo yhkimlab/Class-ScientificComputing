{
 "cells": [
  {
   "cell_type": "markdown",
   "metadata": {},
   "source": [
    "### 4.3.8 The Euler-Cromer scheme."
   ]
  },
  {
   "cell_type": "markdown",
   "metadata": {},
   "source": [
    "We consider an engineering system with a linear spring, $s(u) = kx,$ and a viscous damper, where the damping force is proportional to $u', f(u') = bu',$ for some constant $b > 0$. This choice may model the vertical spring system in a car.\n",
    "\n",
    "We may choose simple values for the constants to illustrate basic effects of damping (and later excitations). Chossing the oscilattions to be the simple $u(t) = cost$ function in the undamped case, we may set $m = 1, k = 1, b = 0.3, U_0 = 1, V_0 = 0$. The following function implements this case:"
   ]
  },
  {
   "cell_type": "code",
   "execution_count": 5,
   "metadata": {},
   "outputs": [
    {
     "name": "stdout",
     "output_type": "stream",
     "text": [
      "N_t: 5000\n"
     ]
    },
    {
     "data": {
      "image/png": "[encoded data removed]",
      "text/plain": [
       "<Figure size 432x288 with 1 Axes>"
      ]
     },
     "metadata": {
      "needs_background": "light"
     },
     "output_type": "display_data"
    }
   ],
   "source": [
    "from math import pi\n",
    "import matplotlib.pyplot as plt\n",
    "\n",
    "def EulerCromer(f, s, F, m, T, U_0, V_0, dt):\n",
    "    from numpy import zeros, linspace\n",
    "    N_t = int(round(T/dt))\n",
    "    print('N_t:', N_t)\n",
    "    t = linspace(0, N_t*dt, N_t+1)\n",
    "    \n",
    "    u = zeros(N_t+1)\n",
    "    v = zeros(N_t+1)\n",
    "    \n",
    "    # Initial condition\n",
    "    u[0] = U_0\n",
    "    v[0] = V_0\n",
    "    \n",
    "    # Step equations forward in time\n",
    "    for n in range(N_t):\n",
    "        v[n+1] = v[n] + dt*(1./m)*(F(t[n]) - f(v[n]) - s(u[n]))\n",
    "        u[n+1] = u[n] + dt*v[n+1]\n",
    "    return u, v, t\n",
    "\n",
    "def linear_damping():\n",
    "    b = 0.3\n",
    "    f = lambda v: b*v\n",
    "    s = lambda u: k*u\n",
    "    F = lambda t: 0\n",
    "    \n",
    "    m = 1\n",
    "    k = 1\n",
    "    U_0 = 1\n",
    "    V_0 = 0\n",
    "    \n",
    "    T = 12*pi\n",
    "    dt = T/5000.\n",
    "    \n",
    "    u, v, t = EulerCromer(f=f, s=s, F=F, m=m, T=T,\n",
    "                          U_0=U_0, V_0=V_0, dt=dt)\n",
    "\n",
    "    index = int(len(u)*100/100.)\n",
    "    plt.plot(t[-index:], u[-index:], 'b-')\n",
    "    plt.show()\n",
    "\n",
    "if __name__ == '__main__':\n",
    "    linear_damping()"
   ]
  },
  {
   "cell_type": "code",
   "execution_count": null,
   "metadata": {},
   "outputs": [],
   "source": []
  },
  {
   "cell_type": "code",
   "execution_count": null,
   "metadata": {},
   "outputs": [],
   "source": []
  }
 ],
 "metadata": {
  "kernelspec": {
   "display_name": "Python 3",
   "language": "python",
   "name": "python3"
  },
  "language_info": {
   "codemirror_mode": {
    "name": "ipython",
    "version": 3
   },
   "file_extension": ".py",
   "mimetype": "text/x-python",
   "name": "python",
   "nbconvert_exporter": "python",
   "pygments_lexer": "ipython3",
   "version": "3.7.2"
  }
 },
 "nbformat": 4,
 "nbformat_minor": 2
}
