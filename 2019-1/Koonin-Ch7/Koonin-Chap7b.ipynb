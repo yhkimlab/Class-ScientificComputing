{
 "cells": [
  {
   "cell_type": "code",
   "execution_count": null,
   "metadata": {},
   "outputs": [
    {
     "name": "stdout",
     "output_type": "stream",
     "text": [
      "number of steps and H are 26 0.038461538461538464\n"
     ]
    }
   ],
   "source": [
    "from matplotlib import cm\n",
    "import matplotlib.pyplot as plt\n",
    "import cmath, math\n",
    "import numpy as np\n",
    "\n",
    "NSTEP = 26                # Total number of domain steps \n",
    "H = 1.0/NSTEP             # Spacing\n",
    "phi = np.zeros(NSTEP)     # Space of PHI\n",
    "diff = np.zeros(NSTEP)    # Space of Error\n",
    "alpha = np.zeros(NSTEP)\n",
    "beta = np.zeros(NSTEP)\n",
    "gamma = np.zeros(NSTEP)\n",
    "\n",
    "print(\"number of steps and H are\", NSTEP, H)\n",
    "\n",
    "### Function Arrangement\n",
    "def gauss(x,t):\n",
    "    return math.exp(-20.0 * (x-0.5)**2/(1.0+80*t))/math.sqrt(1.0+80*t)\n",
    "\n",
    "def exact(x,t):\n",
    "    return gauss(x,t) - gauss(x-1.0,t) - gauss(x+1.0,t)\n",
    "\n",
    "### Calculation\n",
    "time =  input(\"Enter total time: \")\n",
    "dt = input(\"Enter time step (0 to stop): \")\n",
    "print(\"time step and time are:\", dt, time)\n",
    "\n",
    "dt = float(dt); time = float(time)\n",
    "\n",
    "if dt == 0:\n",
    "    print(\"dt is zero and program is stopping\")\n",
    "    quit()\n",
    "    \n",
    "NITER=int(time/dt)\n",
    "dth=dt/H**2\n",
    "t=0; phi[0]=0 ; phi[NSTEP-1]=0\n",
    "\n",
    "for i in range(0, NSTEP-1):\n",
    "    phi[i]=exact(i*H, t)\n",
    "print(phi)\n",
    "\n",
    "ap = -dth\n",
    "az = 1.0 + 2.0*dth\n",
    "alpha[NSTEP-1]=0\n",
    "gamma[NSTEP-1]=-1.0/az\n",
    "\n",
    "for i in range(NSTEP-1, 0, -1):\n",
    "    alpha[i-1]=gamma[i]*ap\n",
    "    gamma[i-1]=-1.0/(az+ap*alpha[i-1])\n",
    "    \n",
    "for j in range(0,NITER):\n",
    "    beta[NSTEP-2]=phi[NSTEP-1]\n",
    "    for i in range(NSTEP-1,0,-1):\n",
    "        beta[i-1]=gamma[i]*(ap*beta[i]-phi[i])\n",
    "    phi[0]=0\n",
    "    for i in range(0,NSTEP-1):\n",
    "        phi[i+1]=alpha[i]*phi[i]+beta[i]\n",
    "        \n",
    "### Visualization \n",
    "fig = plt.figure()\n",
    "fig1 = fig.add_subplot(111)\n",
    "fig1.plot(range(0,NSTEP), phi)\n",
    "plt.show()\n"
   ]
  },
  {
   "cell_type": "code",
   "execution_count": null,
   "metadata": {},
   "outputs": [],
   "source": []
  }
 ],
 "metadata": {
  "kernelspec": {
   "display_name": "Python 3",
   "language": "python",
   "name": "python3"
  },
  "language_info": {
   "codemirror_mode": {
    "name": "ipython",
    "version": 3
   },
   "file_extension": ".py",
   "mimetype": "text/x-python",
   "name": "python",
   "nbconvert_exporter": "python",
   "pygments_lexer": "ipython3",
   "version": "3.7.2"
  }
 },
 "nbformat": 4,
 "nbformat_minor": 2
}
