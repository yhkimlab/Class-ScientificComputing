{
 "cells": [
  {
   "cell_type": "code",
   "execution_count": 2,
   "metadata": {},
   "outputs": [
    {
     "name": "stdout",
     "output_type": "stream",
     "text": [
      "number of steps and H are 25 0.04\n"
     ]
    },
    {
     "name": "stdin",
     "output_type": "stream",
     "text": [
      "Enter total time:  0.015\n",
      "Enter time step (0 to stop):  0.0001\n"
     ]
    },
    {
     "name": "stdout",
     "output_type": "stream",
     "text": [
      "time step and time are: 0.0001 0.015\n",
      "[0.         0.01159111 0.02816666 0.05522918 0.09889833 0.16524344\n",
      " 0.25870478 0.37983677 0.52308947 0.67570374 0.81873066 0.93053087\n",
      " 0.99203191 0.99203191 0.93053087 0.81873066 0.67570374 0.52308947\n",
      " 0.37983677 0.25870478 0.16524344 0.09889833 0.05522918 0.02816666\n",
      " 0.        ]\n"
     ]
    },
    {
     "data": {
      "image/png": "[encoded data removed]",
      "text/plain": [
       "<Figure size 432x288 with 1 Axes>"
      ]
     },
     "metadata": {
      "needs_background": "light"
     },
     "output_type": "display_data"
    }
   ],
   "source": [
    "from matplotlib import cm\n",
    "import matplotlib.pyplot as plt\n",
    "import cmath, math\n",
    "import numpy as np\n",
    "\n",
    "NSTEP = 25                # Total number of domain steps \n",
    "H = 1.0/NSTEP             # Spacing\n",
    "phi = np.zeros(NSTEP)     # Space of PHI\n",
    "diff = np.zeros(NSTEP)    # Space of Error\n",
    "alpha = np.zeros(NSTEP)\n",
    "beta = np.zeros(NSTEP)\n",
    "gamma = np.zeros(NSTEP)\n",
    "\n",
    "print(\"number of steps and H are\", NSTEP, H)\n",
    "\n",
    "### Function Arrangement\n",
    "def gauss(x,t):\n",
    "    return math.exp(-20.0 * (x-0.5)**2/(1.0+80*t))/math.sqrt(1.0+80*t)\n",
    "\n",
    "def exact(x,t):\n",
    "    return gauss(x,t) - gauss(x-1.0,t) - gauss(x+1.0,t)\n",
    "\n",
    "### Calculation\n",
    "time =  input(\"Enter total time: \")\n",
    "dt = input(\"Enter time step (0 to stop): \")\n",
    "print(\"time step and time are:\", dt, time)\n",
    "\n",
    "dt = float(dt); time = float(time)\n",
    "\n",
    "if dt == 0:\n",
    "    print(\"dt is zero and program is stopping\")\n",
    "    quit()\n",
    "    \n",
    "NITER=int(time/dt)\n",
    "dth=dt/H**2\n",
    "t=0; phi[0]=0 ; phi[NSTEP-1]=0\n",
    "\n",
    "for i in range(0, NSTEP-1):\n",
    "    phi[i]=exact(i*H, t)\n",
    "print(phi)\n",
    "\n",
    "ap = -dth\n",
    "az = 1.0 + 2.0*dth\n",
    "alpha[NSTEP-1]=0\n",
    "gamma[NSTEP-1]=-1.0/az\n",
    "\n",
    "for i in range(NSTEP-1, 0, -1):\n",
    "    alpha[i-1]=gamma[i]*ap\n",
    "    gamma[i-1]=-1.0/(az+ap*alpha[i-1])\n",
    "    \n",
    "for j in range(0,NITER):\n",
    "    beta[NSTEP-2]=phi[NSTEP-1]\n",
    "    for i in range(NSTEP-1,0,-1):\n",
    "        beta[i-1]=gamma[i]*(ap*beta[i]-phi[i])\n",
    "    phi[0]=0\n",
    "    for i in range(0,NSTEP-1):\n",
    "        phi[i+1]=alpha[i]*phi[i]+beta[i]\n",
    "        \n",
    "### Visualization \n",
    "fig = plt.figure()\n",
    "fig1 = fig.add_subplot(111)\n",
    "fig1.plot(range(0,NSTEP), phi)\n",
    "plt.show()\n"
   ]
  },
  {
   "cell_type": "code",
   "execution_count": null,
   "metadata": {},
   "outputs": [],
   "source": []
  }
 ],
 "metadata": {
  "kernelspec": {
   "display_name": "Python 3",
   "language": "python",
   "name": "python3"
  },
  "language_info": {
   "codemirror_mode": {
    "name": "ipython",
    "version": 3
   },
   "file_extension": ".py",
   "mimetype": "text/x-python",
   "name": "python",
   "nbconvert_exporter": "python",
   "pygments_lexer": "ipython3",
   "version": "3.7.3"
  }
 },
 "nbformat": 4,
 "nbformat_minor": 2
}
