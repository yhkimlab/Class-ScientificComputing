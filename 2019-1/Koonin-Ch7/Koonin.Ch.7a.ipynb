{
 "cells": [
  {
   "cell_type": "code",
   "execution_count": 2,
   "metadata": {},
   "outputs": [
    {
     "name": "stdin",
     "output_type": "stream",
     "text": [
      "Enter total number of domain steps:   100\n"
     ]
    },
    {
     "name": "stdout",
     "output_type": "stream",
     "text": [
      "number of steps and H are 100 0.01\n"
     ]
    },
    {
     "name": "stdin",
     "output_type": "stream",
     "text": [
      "Enter total time:  0.001\n"
     ]
    },
    {
     "name": "stdout",
     "output_type": "stream",
     "text": [
      "We recommend a time step as 0.5*h^2 such as 0.000050\n"
     ]
    },
    {
     "name": "stdin",
     "output_type": "stream",
     "text": [
      "Enter time step (0 to stop):  0.00006\n"
     ]
    },
    {
     "name": "stdout",
     "output_type": "stream",
     "text": [
      "time step and time are: 0.00006 0.001\n",
      "[0.         0.00270776 0.00549115 0.00842643 0.01159111 0.01506451\n",
      " 0.01892825 0.02326657 0.02816666 0.03371866 0.04001562 0.0471532\n",
      " 0.05522918 0.0643427  0.07459329 0.08607969 0.09889833 0.11314169\n",
      " 0.12889633 0.14624082 0.16524344 0.18595977 0.20843027 0.2326777\n",
      " 0.25870478 0.28649179 0.31599451 0.34714233 0.37983677 0.41395038\n",
      " 0.4493262  0.48577772 0.52308947 0.56101825 0.59929504 0.63762762\n",
      " 0.67570374 0.71319502 0.7497614  0.78505605 0.81873066 0.85044114\n",
      " 0.87985333 0.90664887 0.93053087 0.95122941 0.96850657 0.98216103\n",
      " 0.99203191 0.99800199 1.         0.99800199 0.99203191 0.98216103\n",
      " 0.96850657 0.95122941 0.93053087 0.90664887 0.87985333 0.85044114\n",
      " 0.81873066 0.78505605 0.7497614  0.71319502 0.67570374 0.63762762\n",
      " 0.59929504 0.56101825 0.52308947 0.48577772 0.4493262  0.41395038\n",
      " 0.37983677 0.34714233 0.31599451 0.28649179 0.25870478 0.2326777\n",
      " 0.20843027 0.18595977 0.16524344 0.14624082 0.12889633 0.11314169\n",
      " 0.09889833 0.08607969 0.07459329 0.0643427  0.05522918 0.0471532\n",
      " 0.04001562 0.03371866 0.02816666 0.02326657 0.01892825 0.01506451\n",
      " 0.01159111 0.00842643 0.00549115 0.        ]\n"
     ]
    },
    {
     "data": {
      "image/png": "[encoded data removed]",
      "text/plain": [
       "<Figure size 432x288 with 1 Axes>"
      ]
     },
     "metadata": {
      "needs_background": "light"
     },
     "output_type": "display_data"
    }
   ],
   "source": [
    "from matplotlib import cm\n",
    "import matplotlib.pyplot as plt\n",
    "import cmath, math\n",
    "import numpy as np\n",
    "\n",
    "NSTEP = input(\"Enter total number of domain steps:  \")  # Total number of domain steps \n",
    "NSTEP = int(NSTEP)\n",
    "H = 1.0/NSTEP             # Spacing\n",
    "phi = np.zeros(NSTEP)     # Space of PHI\n",
    "diff = np.zeros(NSTEP)    # Space of Error\n",
    "\n",
    "print(\"number of steps and H are\", NSTEP, H)\n",
    "\n",
    "### Function Arrangement\n",
    "def gauss(x,t):\n",
    "    return math.exp(-20.0 * (x-0.5)**2/(1.0+80*t))/math.sqrt(1.0+80*t)\n",
    "\n",
    "def exact(x,t):\n",
    "    return gauss(x,t) - gauss(x-1.0,t) - gauss(x+1.0,t)\n",
    "\n",
    "### Calculation\n",
    "time = input(\"Enter total time: \")\n",
    "print(\"We recommend a time step as 0.5*h^2 such as %8.6f\" % (0.5*(H**2)))\n",
    "dt = input(\"Enter time step (0 to stop): \")\n",
    "print(\"time step and time are:\", dt, time)\n",
    "\n",
    "dt = float(dt); time = float(time)\n",
    "\n",
    "if dt == 0:\n",
    "    print(\"dt is zero and program is stopping\")\n",
    "    quit()\n",
    "    \n",
    "NITER=int(time/dt)\n",
    "dth=dt/H**2\n",
    "t=0; phi[0]=0 ; phi[NSTEP-1]=0\n",
    "\n",
    "for i in range(0, NSTEP-1):\n",
    "    phi[i]=exact(i*H, t)\n",
    "print(phi)\n",
    "\n",
    "for i in range(0,NITER):\n",
    "    pold=0\n",
    "    for j in range(0, NSTEP-1):\n",
    "        pnew=phi[j] + dth*(pold + phi[j+1] - 2*phi[j])\n",
    "        pold=phi[j]\n",
    "        phi[j]=pnew\n",
    "        diff[j]=phi[j]-exact(j*H,t)\n",
    "\n",
    "### Visualization \n",
    "fig = plt.figure()\n",
    "fig1 = fig.add_subplot(111)\n",
    "fig1.plot(range(0,NSTEP), phi)\n",
    "plt.show()\n"
   ]
  },
  {
   "cell_type": "code",
   "execution_count": null,
   "metadata": {},
   "outputs": [],
   "source": []
  }
 ],
 "metadata": {
  "kernelspec": {
   "display_name": "Python 3",
   "language": "python",
   "name": "python3"
  },
  "language_info": {
   "codemirror_mode": {
    "name": "ipython",
    "version": 3
   },
   "file_extension": ".py",
   "mimetype": "text/x-python",
   "name": "python",
   "nbconvert_exporter": "python",
   "pygments_lexer": "ipython3",
   "version": "3.7.3"
  }
 },
 "nbformat": 4,
 "nbformat_minor": 2
}
