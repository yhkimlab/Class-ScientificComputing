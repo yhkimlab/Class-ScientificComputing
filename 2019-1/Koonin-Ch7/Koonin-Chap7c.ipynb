{
 "cells": [
  {
   "cell_type": "code",
   "execution_count": 4,
   "metadata": {},
   "outputs": [
    {
     "name": "stdout",
     "output_type": "stream",
     "text": [
      "number of steps and H are 25 0.04\n"
     ]
    },
    {
     "name": "stdin",
     "output_type": "stream",
     "text": [
      "Enter time step (not zero):  0.000075\n"
     ]
    },
    {
     "name": "stdout",
     "output_type": "stream",
     "text": [
      "time step is: 0.000075\n",
      "Iteration = 0 Energy = 23.774868586737693\n",
      "Iteration = 4 Energy = 5033.616738421092\n",
      "Iteration = 8 Energy = 4826.300507410032\n",
      "Iteration = 12 Energy = 4667.566574564215\n",
      "Iteration = 16 Energy = 4547.547005579923\n",
      "Iteration = 20 Energy = 4451.961255425508\n",
      "Iteration = 24 Energy = 4372.737571551391\n",
      "Iteration = 28 Energy = 4304.992841850694\n",
      "Iteration = 32 Energy = 4245.611639095398\n",
      "Iteration = 36 Energy = 4192.519065121064\n",
      "Iteration = 40 Energy = 4144.282900363743\n",
      "Iteration = 44 Energy = 4099.883986695721\n",
      "Iteration = 48 Energy = 4058.577786982733\n",
      "Iteration = 52 Energy = 4019.807785731688\n",
      "Iteration = 56 Energy = 3983.1495651146347\n",
      "Iteration = 60 Energy = 3948.2736627973613\n",
      "Iteration = 64 Energy = 3914.920278897724\n",
      "Iteration = 68 Energy = 3882.881660604398\n",
      "Iteration = 72 Energy = 3851.9895827232995\n",
      "Iteration = 76 Energy = 3822.106285258719\n",
      "Iteration = 80 Energy = 3793.117803364433\n",
      "Iteration = 84 Energy = 3764.92898326529\n",
      "Iteration = 88 Energy = 3737.4597062701973\n",
      "Iteration = 92 Energy = 3710.641991761175\n",
      "Iteration = 96 Energy = 3684.41774872942\n"
     ]
    },
    {
     "name": "stderr",
     "output_type": "stream",
     "text": [
      "/home/class/ASK_program/anaconda2/envs/py37/lib/python3.7/site-packages/ipykernel_launcher.py:18: RuntimeWarning: divide by zero encountered in double_scalars\n"
     ]
    },
    {
     "data": {
      "image/png": "[encoded data removed]",
      "text/plain": [
       "<Figure size 432x288 with 1 Axes>"
      ]
     },
     "metadata": {
      "needs_background": "light"
     },
     "output_type": "display_data"
    }
   ],
   "source": [
    "from matplotlib import cm\n",
    "import matplotlib.pyplot as plt\n",
    "import cmath, math\n",
    "import numpy as np\n",
    "\n",
    "NSTEP = 25                # Total number of domain steps \n",
    "H = 1.0/NSTEP             # Spacing\n",
    "phi = np.zeros(NSTEP)     # Space of PHI\n",
    "diff = np.zeros(NSTEP)    # Space of Error\n",
    "\n",
    "print(\"number of steps and H are\", NSTEP, H)\n",
    "\n",
    "### Function Arrangement\n",
    "def norm(phi,NSTEP):\n",
    "    xnorm=0.0\n",
    "    for i in range(0, NSTEP):\n",
    "        xnorm = xnorm + (phi[i])**2\n",
    "        xnorm = math.sqrt(NSTEP/xnorm)\n",
    "    for i in range(0, NSTEP):\n",
    "        phi[i] = phi[i]*xnorm\n",
    "    return phi\n",
    "\n",
    "### Calculation\n",
    "dt = input(\"Enter time step (not zero): \")\n",
    "print(\"time step is:\", dt)\n",
    "\n",
    "dt = float(dt)\n",
    "\n",
    "if dt == 0:\n",
    "    print(\"dt is zero and program is stopping\")\n",
    "    quit()\n",
    "\n",
    "dth=dt/H**2\n",
    "for i in range(0,NSTEP):\n",
    "    x = i*H\n",
    "    phi[i]=x*(1.0-x)\n",
    "\n",
    "phi=norm(phi,NSTEP)\n",
    "\n",
    "for i in range(0,100):\n",
    "    pold=0\n",
    "    for j in range(0,NSTEP-1):\n",
    "        pnew = phi[j] + dth * (pold + phi[j+1] - 2*phi[j])\n",
    "        pold = phi[j]\n",
    "        phi[j] = pnew\n",
    "    phi = norm(phi, NSTEP)\n",
    "    if (i % 4) == 0:\n",
    "        E = 0.0\n",
    "        for k in range(0,NSTEP):\n",
    "            E = E + (phi[k] - phi[k-1])**2\n",
    "        E = E / H\n",
    "        print(\"Iteration =\", i, \"Energy =\", E)\n",
    "            \n",
    "### Visualization \n",
    "fig = plt.figure()\n",
    "fig1 = fig.add_subplot(111)\n",
    "fig1.plot(range(0,NSTEP), phi)\n",
    "plt.show()\n"
   ]
  },
  {
   "cell_type": "code",
   "execution_count": null,
   "metadata": {},
   "outputs": [],
   "source": []
  }
 ],
 "metadata": {
  "kernelspec": {
   "display_name": "Python 3",
   "language": "python",
   "name": "python3"
  },
  "language_info": {
   "codemirror_mode": {
    "name": "ipython",
    "version": 3
   },
   "file_extension": ".py",
   "mimetype": "text/x-python",
   "name": "python",
   "nbconvert_exporter": "python",
   "pygments_lexer": "ipython3",
   "version": "3.7.2"
  }
 },
 "nbformat": 4,
 "nbformat_minor": 2
}
