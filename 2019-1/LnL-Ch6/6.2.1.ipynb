{
 "cells": [
  {
   "cell_type": "markdown",
   "metadata": {},
   "source": [
    "### 6.2.1 Deriving and implementing Newton's method\n",
    "\n",
    "The fundamental idea of Newton's method is to approximate the original function $f(x)$ by a straight line, i.e., a linear function, since it is straightforward to solve linear equations.\n",
    "\n",
    "There are infinitely many choices of how to approximate $f(x)$ by a straight line.\n",
    "Neton's method applies the tangent of $f(x)$ at $x_0$, see the rightmost tangent. This linear tangent function crosses the $x$ axis at a point we call $x_1$. This is (hopefully) a better approximation to the solution of $f(x) = 0$ than $x_0$.\n",
    "\n",
    "We find the tangent of $f$ at $x_1$, compute where it crosses the $x$ axis, at a point called $x_2$, and repeat the process again.\n",
    "\n",
    "How do we compute the tangent of a function $f(x)$ at a point $x_0$? The tangent function, here called $\\tilde f(x)$, is linear and has two properties:\n",
    "\n",
    "1. the slope equals to $f'(x_0)$\n",
    "2. the tangent touches the $f(x)$ curve at $x_0$\n"
   ]
  },
  {
   "cell_type": "code",
   "execution_count": 1,
   "metadata": {},
   "outputs": [
    {
     "name": "stdout",
     "output_type": "stream",
     "text": [
      "----------------------------------------------\n",
      "             x             f(x) = x**2-9 \n",
      "----------------------------------------------\n",
      "      500.0045000000,    249995.5000202500\n",
      "      250.0112499190,     62496.6250860610\n",
      "      125.0236241495,     15621.9065954861\n",
      "       62.5478052723,      3903.2279443818\n",
      "       31.3458476066,       973.5621621742\n",
      "       15.8164834880,       241.1611499266\n",
      "        8.1927550496,        58.1212353027\n",
      "        4.6456433057,        12.5820017237\n",
      "        3.2914711388,         1.8337822576\n",
      "        3.0129053881,         0.0775988775\n",
      "        3.0000276393,         0.0001658364\n",
      "3.0000276392750296\n"
     ]
    }
   ],
   "source": [
    "print('----------------------------------------------')\n",
    "print('             x             f(x) = x**2-9 ')\n",
    "print('----------------------------------------------')\n",
    "\n",
    "def naive_Newton(f, dfdx, x, epx):\n",
    "    while abs(f(x)) > epx:\n",
    "        x = x -float(f(x))/dfdx(x)\n",
    "        print('% 20.10f, % 20.10f' % (x, f(x)))\n",
    "    return x\n",
    "\n",
    "def f(x):\n",
    "    return x**2 - 9\n",
    "\n",
    "def dfdx(x):\n",
    "    return 2*x\n",
    "\n",
    "print(naive_Newton(f, dfdx, 1000, 0.001))"
   ]
  },
  {
   "cell_type": "code",
   "execution_count": null,
   "metadata": {},
   "outputs": [],
   "source": []
  }
 ],
 "metadata": {
  "kernelspec": {
   "display_name": "Python 3",
   "language": "python",
   "name": "python3"
  },
  "language_info": {
   "codemirror_mode": {
    "name": "ipython",
    "version": 3
   },
   "file_extension": ".py",
   "mimetype": "text/x-python",
   "name": "python",
   "nbconvert_exporter": "python",
   "pygments_lexer": "ipython3",
   "version": "3.7.2"
  }
 },
 "nbformat": 4,
 "nbformat_minor": 2
}
