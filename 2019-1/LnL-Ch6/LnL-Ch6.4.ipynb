{
 "cells": [
  {
   "cell_type": "markdown",
   "metadata": {},
   "source": [
    "### 6.4 The bisection method\n",
    "\n",
    "Neither Newton's method nor the secant method can guarantee that an existing solution will be found. The bisection method, however, does that.\n",
    "\n",
    "However, if there are several solutions present, it finds only one of them, just as Newton's method and the secant method. The bisection method is slower than the other two methods, so reliability comes with a cost of speed.\n",
    "\n",
    "In any case, we may proceed with half the interval only. The exception is if $f(x_M) \\approx 0$, in which case a solution is found. A \"solution\" in the ase, is when $|f(x_M)|$ is sufficiently close to zero, more precisely (as before) : $|f(x_M)| < \\epsilon$, where $\\epsilon$ is a small number specified by the user."
   ]
  },
  {
   "cell_type": "code",
   "execution_count": 34,
   "metadata": {},
   "outputs": [
    {
     "name": "stdout",
     "output_type": "stream",
     "text": [
      "2         0.0000000000,       250.0000000000     62491.0000000000\n",
      "3         0.0000000000,       125.0000000000     15616.0000000000\n",
      "4         0.0000000000,        62.5000000000      3897.2500000000\n",
      "5         0.0000000000,        31.2500000000       967.5625000000\n",
      "6         0.0000000000,        15.6250000000       235.1406250000\n",
      "7         0.0000000000,         7.8125000000        52.0351562500\n",
      "8         0.0000000000,         3.9062500000         6.2587890625\n",
      "9         0.0000000000,         1.9531250000        -5.1853027344\n",
      "10         1.9531250000,         2.9296875000        -0.4169311523\n",
      "11         2.9296875000,         3.4179687500         2.6825103760\n",
      "12         2.9296875000,         3.1738281250         1.0731849670\n",
      "13         2.9296875000,         3.0517578125         0.3132257462\n",
      "14         2.9296875000,         2.9907226562        -0.0555779934\n",
      "15         2.9907226562,         3.0212402344         0.1278925538\n",
      "16         2.9907226562,         3.0059814453         0.0359244496\n",
      "17         2.9907226562,         2.9983520508        -0.0098849796\n",
      "18         2.9983520508,         3.0021667480         0.0130051831\n",
      "19         2.9983520508,         3.0002593994         0.0015564638\n",
      "20         2.9983520508,         2.9993057251        -0.0041651674\n",
      "21         2.9993057251,         2.9997825623        -0.0013045792\n",
      "22         2.9997825623,         3.0000209808         0.0001258854\n",
      "23         2.9997825623,         2.9999017715        -0.0005893611\n",
      "24         2.9999017715,         2.9999613762        -0.0002317414\n",
      "25         2.9999613762,         2.9999911785        -0.0000529288\n",
      "26         2.9999911785,         3.0000060797         0.0000364781\n",
      "27         2.9999911785,         2.9999986291        -0.0000082254\n",
      "28         2.9999986291,         3.0000023544         0.0000141263\n",
      "29         2.9999986291,         3.0000004917         0.0000029504\n",
      "30         2.9999986291,         2.9999995604        -0.0000026375\n",
      "31         2.9999995604,         3.0000000261         0.0000001565\n",
      "Number of function calls: 63\n",
      "A solution is: 3.000000\n"
     ]
    }
   ],
   "source": [
    "def bisection(f, x_L, x_R, eps, return_x_list=False):\n",
    "    f_L = f(x_L)\n",
    "    if f_L*f(x_R) > 0:\n",
    "        print(\"Error! Function does not have opposite \\\n",
    "                signs at interval endpoints\")\n",
    "        sys.exit(1)\n",
    "    x_M = float(x_L + x_R)/2.0\n",
    "    f_M = f(x_M)\n",
    "    iteration_counter = 1\n",
    "    if return_x_list:\n",
    "        x_list = []\n",
    "        \n",
    "    while abs(f_M) > eps:\n",
    "        if f_L*f_M > 0: # i.e. same sign\n",
    "            x_L = x_M\n",
    "            f_L = f_M\n",
    "        else:\n",
    "            x_R = x_M\n",
    "        x_M = float(x_L + x_R)/2.0\n",
    "        f_M = f(x_M)\n",
    "        iteration_counter += 1\n",
    "        print('%d % 20.10f, % 20.10f % 20.10f' % (iteration_counter, x_L, x_M, f_M))\n",
    "        if return_x_list:\n",
    "            x.list.append(x_M)\n",
    "    if return_x_list:\n",
    "        return x_list, iteration_counter\n",
    "    else:\n",
    "        return x_M, iteration_counter\n",
    "    \n",
    "def f(x):\n",
    "    return x**2 - 9\n",
    "\n",
    "a = 0; b = 1000 # b = 1 (opposite error), 100, 996.9, 1000\n",
    "\n",
    "solution, no_iterations = bisection(f, a, b, eps=1.0e-6)\n",
    "\n",
    "print(\"Number of function calls: %d\" % (1 + 2*no_iterations))\n",
    "print(\"A solution is: %f\" % (solution))"
   ]
  },
  {
   "cell_type": "code",
   "execution_count": null,
   "metadata": {},
   "outputs": [],
   "source": []
  }
 ],
 "metadata": {
  "kernelspec": {
   "display_name": "Python 3",
   "language": "python",
   "name": "python3"
  },
  "language_info": {
   "codemirror_mode": {
    "name": "ipython",
    "version": 3
   },
   "file_extension": ".py",
   "mimetype": "text/x-python",
   "name": "python",
   "nbconvert_exporter": "python",
   "pygments_lexer": "ipython3",
   "version": "3.7.2"
  }
 },
 "nbformat": 4,
 "nbformat_minor": 2
}
