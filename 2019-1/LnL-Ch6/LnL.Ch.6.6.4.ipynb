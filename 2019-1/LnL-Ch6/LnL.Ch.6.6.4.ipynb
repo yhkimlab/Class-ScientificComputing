{
 "cells": [
  {
   "cell_type": "markdown",
   "metadata": {},
   "source": [
    "### 6.6.4 Implementation\n",
    "Here is a very simple implementation of Newton's method for systems of nonlinear algebraic equations:"
   ]
  },
  {
   "cell_type": "code",
   "execution_count": 4,
   "metadata": {},
   "outputs": [
    {
     "name": "stdout",
     "output_type": "stream",
     "text": [
      "4 [ 1.00000006e+00 -1.00943962e-06]\n",
      "norm of error =1.01115e-06\n"
     ]
    }
   ],
   "source": [
    "import numpy as np\n",
    "\n",
    "def Newton_system(F, J, x, eps):\n",
    "    \"\"\"\n",
    "    Solve nonlinear system F=0 by Newton's method.\n",
    "    J is the Jacobian of F. Both F and J must be functions of x.\n",
    "    At input, x holds the start value. The iteration contivues\n",
    "    until F < eps.\n",
    "    \"\"\"\n",
    "    F_value = F(x)\n",
    "    F_norm = np.linalg.norm(F_value, ord=2) # 12 norm of vector\n",
    "    iteration_counter = 0\n",
    "    while abs(F_norm) > eps and iteration_counter < 100:\n",
    "        delta = np.linalg.solve(J(x), -F_value)\n",
    "        x = x + delta\n",
    "        F_value = F(x)\n",
    "        F_norm = np.linalg.norm(F_value, ord=2)\n",
    "        iteration_counter += 1\n",
    "    # Here, either a solution is found, or too many iterations\n",
    "    if abs(F_norm) > eps:\n",
    "        iteration_counter = -1\n",
    "    return x, iteration_counter\n",
    "\n",
    "def test_Newton_system1():\n",
    "    from numpy import cos, sin, pi, exp\n",
    "    \n",
    "    def F(x):\n",
    "        return np.array(\n",
    "                [x[0]**2 - x[1] + x[0]*cos(pi*x[0]),\n",
    "                 x[0]*x[1] + exp(-x[1]) - x[0]**(float(-1))])\n",
    " \n",
    "    def J(x):\n",
    "        return np.array(\n",
    "         [[2*x[0] + cos(pi*x[0]) - pi*x[0]*sin(pi*x[0]), -1],\n",
    "         [x[1] + x[0]**(float(-2)), x[0] - exp(-x[1])]])\n",
    "    \n",
    "    expected = np.array([1,0])\n",
    "    tol = 1E-4\n",
    "    x, n = Newton_system(F, J, x=np.array([2, -1]), eps=0.0001)\n",
    "    print(n, x)\n",
    "    error_norm = np.linalg.norm(expected -  x, ord=2)\n",
    "    assert error_norm < tol, 'norm of error = %g' % error_norm\n",
    "    print('norm of error =%g' % error_norm)\n",
    "    \n",
    "if __name__ == '__main__':\n",
    "    test_Newton_system1()\n",
    "    \n"
   ]
  },
  {
   "cell_type": "code",
   "execution_count": null,
   "metadata": {},
   "outputs": [],
   "source": []
  }
 ],
 "metadata": {
  "kernelspec": {
   "display_name": "Python 3",
   "language": "python",
   "name": "python3"
  },
  "language_info": {
   "codemirror_mode": {
    "name": "ipython",
    "version": 3
   },
   "file_extension": ".py",
   "mimetype": "text/x-python",
   "name": "python",
   "nbconvert_exporter": "python",
   "pygments_lexer": "ipython3",
   "version": "3.7.2"
  }
 },
 "nbformat": 4,
 "nbformat_minor": 2
}
