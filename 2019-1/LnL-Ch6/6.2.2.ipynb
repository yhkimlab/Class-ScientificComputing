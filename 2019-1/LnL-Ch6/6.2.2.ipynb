{
 "cells": [
  {
   "cell_type": "markdown",
   "metadata": {},
   "source": [
    "### 6.2.2 Making a more efficient and robust implementation\n",
    "\n",
    "For more general use, there are some pitfalls that should be fixed in an improved version of the code.\n",
    "\n",
    "An example may illustrate wht the problem is: let us solve $tanh(x) = 0$, which has solution $x=0$.\n",
    "With $|x_0| \\leq 1.08$ everything works fine.\n",
    "\n",
    "Adjusting $x_0$ slightly to 1.09 gives division by zero!"
   ]
  },
  {
   "cell_type": "code",
   "execution_count": 3,
   "metadata": {},
   "outputs": [
    {
     "name": "stdout",
     "output_type": "stream",
     "text": [
      "----------------------------------------------\n",
      "             x             f(x) = tanh(x)  \n",
      "----------------------------------------------\n",
      "       -1.0933161820,        -0.7980853072\n",
      "        1.1049035432,         0.8022534801\n",
      "       -1.1461555079,        -0.8164764710\n",
      "        1.3030326182,         0.8625018187\n",
      "       -2.0649230024,        -0.9683385739\n",
      "       13.4731428006,         1.0000000000\n",
      "-126055913647.1373901367,        -1.0000000000\n",
      "                 inf,         1.0000000000\n",
      "                 nan,                  nan\n",
      "nan\n"
     ]
    },
    {
     "name": "stderr",
     "output_type": "stream",
     "text": [
      "/home/class/ASK_program/anaconda2/envs/py37/lib/python3.7/site-packages/ipykernel_launcher.py:9: RuntimeWarning: divide by zero encountered in double_scalars\n",
      "  if __name__ == '__main__':\n",
      "/home/class/ASK_program/anaconda2/envs/py37/lib/python3.7/site-packages/ipykernel_launcher.py:9: RuntimeWarning: invalid value encountered in double_scalars\n",
      "  if __name__ == '__main__':\n"
     ]
    }
   ],
   "source": [
    "import numpy as np\n",
    "\n",
    "print('----------------------------------------------')\n",
    "print('             x             f(x) = tanh(x)  ')\n",
    "print('----------------------------------------------')\n",
    "\n",
    "def naive_Newton(f, dfdx, x, epx):\n",
    "    while abs(f(x)) > epx:\n",
    "        x = x -float(f(x))/dfdx(x)\n",
    "        print('% 20.10f, % 20.10f' % (x, f(x)))\n",
    "    return x\n",
    "\n",
    "def f(x):\n",
    "    return np.tanh(x)\n",
    "\n",
    "def dfdx(x):\n",
    "    return 1-(np.tanh(x))**2\n",
    "\n",
    "#print(naive_Newton(f, dfdx, 1.08, 0.001))\n",
    "#print(naive_Newton(f, dfdx, 1.09, 0.001))"
   ]
  },
  {
   "cell_type": "markdown",
   "metadata": {},
   "source": [
    "The original naive_Newton function is that it calls the $f(x)$ function twice as many times as necessary. This extra work is of no concern when $f(x)$ is fast to evaluate, but in large-scale industrial software, one call to $f(x)$ might take hours or days, and then removing unnecessary calls is important.\n",
    "\n",
    "The solution in our function is to sotre the call $f(x)$ in a variable (f_value) and reuse the value insted of making a new call $f(x)$.\n",
    "\n",
    "To summarize, we want to write an improved function for rimplementing Newton's method where we\n",
    "\n",
    "- avoid division by zero\n",
    "- allow a maximum number of iterations\n",
    "- avoid the extra evaluation to $f(x)$\n",
    "\n",
    "A more robust and efficient version of the function, inserted in a complete program for solving $x^2 -9 =0$, is listed below."
   ]
  },
  {
   "cell_type": "code",
   "execution_count": 4,
   "metadata": {},
   "outputs": [
    {
     "name": "stdout",
     "output_type": "stream",
     "text": [
      "Number of function calls: 25\n",
      "A solution is 3.000000\n"
     ]
    }
   ],
   "source": [
    "import numpy as np\n",
    "\n",
    "def Newton(f, dfdx, x, eps):\n",
    "    f_value = f(x)\n",
    "    iteration_counter = 0\n",
    "    while abs(f_value) > eps and iteration_counter < 100:\n",
    "        try:\n",
    "            x = x -float(f_value)/dfdx(x)\n",
    "        except ZeroDivisionError:\n",
    "            print(\"Error! - derivative zero for x = \", x)\n",
    "            sys.exit(1)  # Abort with error / Sys.exit(0) means succesfully operating\n",
    "            \n",
    "        f_value = f(x)\n",
    "        iteration_counter += 1\n",
    "        \n",
    "    # Here, either a solution is found, or too many iterations\n",
    "    if abs(f_value) > eps:\n",
    "        iteration_counter = -1\n",
    "    return x, iteration_counter\n",
    "\n",
    "def f(x):\n",
    "    return x**2 - 9\n",
    "#    return np.tanh(x)\n",
    "\n",
    "def dfdx(x):\n",
    "    return 2*x\n",
    "#    return 1-(tahh(x))**2\n",
    "\n",
    "solution, no_iterations = Newton(f, dfdx, x=1000, eps=1.0e-6)\n",
    "\n",
    "if no_iterations > 0:  # Solution found\n",
    "    print(\"Number of function calls: %d\" % (1 + 2*no_iterations))  # Newtwon(x) 1 + f(x),dfdx 2*n = 2n +1\n",
    "    print(\"A solution is %f\" % (solution))\n",
    "else:\n",
    "    print(\"Solution not found!\")"
   ]
  },
  {
   "cell_type": "markdown",
   "metadata": {},
   "source": [
    "Newton's method requires the analytical expression for the derivative $f'(x)$. Derivation of $f'(x)$ is not always a reliable process by hand if $f(x)$ is a complicated function. However, Python has the symbolic package SymPy, which we may use to create the required $dfdx$ function. In our sample problem, the recipe goes as follow:"
   ]
  },
  {
   "cell_type": "code",
   "execution_count": 5,
   "metadata": {},
   "outputs": [
    {
     "name": "stdout",
     "output_type": "stream",
     "text": [
      "45\n"
     ]
    }
   ],
   "source": [
    "from sympy import *\n",
    "x = symbols('x')              # define x as a mathematical symbl\n",
    "\n",
    "#f_expr = x**2 -9             # symbolic expression for f(x)\n",
    "f_expr = x**3 -2*x**2 - 10*x\n",
    "\n",
    "dfdx_expr = diff(f_expr, x)  # compute f'(x) symbolically\n",
    "# Turn f_expr and dfdx_expr into plain Python functions\n",
    "\n",
    "f = lambdify([x],            # argument to f\n",
    "            f_expr)          # symbolic expression to be evaluted.\n",
    "                             # f(x) = 2*x, lambdify(x,f(x)), lambdify(5) = 10 \n",
    "dfdx = lambdify([x], dfdx_expr)\n",
    "\n",
    "print(dfdx(5))               # will print 10"
   ]
  },
  {
   "cell_type": "code",
   "execution_count": null,
   "metadata": {},
   "outputs": [],
   "source": []
  }
 ],
 "metadata": {
  "kernelspec": {
   "display_name": "Python 3",
   "language": "python",
   "name": "python3"
  },
  "language_info": {
   "codemirror_mode": {
    "name": "ipython",
    "version": 3
   },
   "file_extension": ".py",
   "mimetype": "text/x-python",
   "name": "python",
   "nbconvert_exporter": "python",
   "pygments_lexer": "ipython3",
   "version": "3.7.2"
  }
 },
 "nbformat": 4,
 "nbformat_minor": 2
}
