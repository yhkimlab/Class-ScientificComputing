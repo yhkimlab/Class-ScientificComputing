{
 "cells": [
  {
   "cell_type": "markdown",
   "metadata": {},
   "source": [
    "# Linge & Langtagen, \"Programming for Computations\"\n",
    "## Ch. 3.7 Double and triple integrals\n",
    "\n",
    "### 3.7.3 Monte Carlo integration for complex-shaped domains"
   ]
  },
  {
   "cell_type": "markdown",
   "metadata": {},
   "source": [
    "**The Monte Carlo integration algorithm**\n",
    "\n",
    "The idea of Monte Carlo integration of $\\int_a^b f(x)dx$ is to use the mean-value theorem from calculus, which states that the integral $\\int_a^b f(x)dx$ equals the length of the integration domain, here $b-a$, times the *average* value of $f$, $\\bar f$, in $[a,b]$.\n",
    "The average value can be computed by sampling $f$ at a set of *random* points inside the domain and take the mean of the function values. In higher dimensions, an integral is estimated as the area/volume of the domain times the average value, and again one can evaluate the integrand at a set of random points in the domain and compute the mean value of those evaluations.\n",
    "\n",
    "Let us introduce some quantities to help us make the specification of the integration algorithm more precise. Suppose we have some two-dimensional integral\n",
    "\n",
    "$$\\int_\\Omega f(x,y)dxdx,$$\n",
    "\n",
    "\n",
    "where $\\Omega$  is a two-dimensional domain defined via a help function $g(x,y)$:\n",
    "\n",
    "$$\\Omega = \\{ (x,y)\\,|\\, g(x,y) \\geq 0\\}$$\n",
    "\n",
    "That is, points $(x,y)$ for which $g(x,y)≥0$ lie inside $\\Omega$, and points for which $g(x,y)<\\Omega$ are outside $\\Omega$. The boundary of the domain $\\partial\\Omega$ is given by the implicit curve $g(x,y)=0$. Such formulations of geometries have been very common during the last couple of decades, and one refers to $g$ as a level-set function and the boundary $g=0$ as the zero-level contour of the level-set function. For simple geometries one can easily construct $g$ by hand, while in more complicated industrial applications one must resort to mathematical models for constructing $g$."
   ]
  },
  {
   "cell_type": "markdown",
   "metadata": {},
   "source": [
    "Let $A(\\Omega)$ be the area of a domain $\\Omega$. We can estimate the integral by this Monte Carlo integration method:\n",
    "\n",
    "1. embed the geometry $\\Omega$ in a rectangular area $R$\n",
    "2. draw a large number of *random* points $(x,y)$ in $R$\n",
    "3. count the fraction $q$ of points that are inside $\\Omega$\n",
    "4. approximate $A(\\Omega)A(R)$ by $q$, i.e., set $A(\\Omega)=qA(R)$\n",
    "5. evaluate the mean of $f$, $\\bar f$, at the points inside $\\Omega$\n",
    "6. estimate the integral as $A(\\Omega)\\bar f$ \n",
    "\n",
    "Note that $A(R)$ is trivial to compute since $R$ is a rectangle, while $A(\\Omega)$ is unknown. However, if we assume that the fraction of $A(R)$ occupied by $A(\\Omega)$ is the same as the fraction of random points inside $\\Omega$, we get a simple estimate for $A(\\Omega)$.\n",
    "To get an idea of the method, consider a circular domain $\\Omega$ embedded in a rectangle as shown below. A collection of random points is illustrated by black dots."
   ]
  },
  {
   "cell_type": "markdown",
   "metadata": {},
   "source": [
    "**Implementation**\n",
    "\n",
    "A Python function implementing $\\int_\\Omega f(x,y)dxdy$ can be written like this:"
   ]
  },
  {
   "cell_type": "raw",
   "metadata": {},
   "source": [
    "import numpy as np\n",
    "\n",
    "def MonteCarlo_double(f, g, x0, x1, y0, y1, n):\n",
    "    \"\"\"\n",
    "    Monte Carlo integration of f over a domain g>=0, embedded\n",
    "    in a rectangle [x0,x1]x[y0,y1]. n^2 is the number of\n",
    "    random points.\n",
    "    \"\"\"\n",
    "    # Draw n**2 random points in the rectangle\n",
    "    x = np.random.uniform(x0, x1, n)\n",
    "    y = np.random.uniform(y0, y1, n)\n",
    "    # Compute sum of f values inside the integration domain\n",
    "    f_mean = 0\n",
    "    num_inside = 0   # number of x,y points inside domain (g>=0)\n",
    "    for i in range(len(x)):\n",
    "        for j in range(len(y)):\n",
    "            if g(x[i], y[j]) >= 0:\n",
    "                num_inside += 1\n",
    "                f_mean += f(x[i], y[j])\n",
    "    f_mean = f_mean/float(num_inside)\n",
    "    area = num_inside/float(n**2)*(x1 - x0)*(y1 - y0)\n",
    "    return area*f_mean"
   ]
  },
  {
   "cell_type": "markdown",
   "metadata": {},
   "source": [
    "**Verification**\n",
    "\n",
    "A simple test case is to check the area of a rectangle $[0,2]\\times[3,4.5]$ embedded in a rectangle $[0,3]\\times[2,5]$. The right answer is 3, but Monte Carlo integration is, unfortunately, never exact so it is impossible to predict the output of the algorithm. All we know is that the estimated integral should approach 3 as the number of random points goes to infinity. Also, for a fixed number of points, we can run the algorithm several times and get different numbers that fluctuate around the exact value, since different sample points are used in different calls to the Monte Carlo integration algorithm.\n",
    "\n",
    "he area of the rectangle can be computed by the integral $\\int_0^2\\int_3^{4.5}\n",
    "dydx$, so in this case we identify $f(x,y)=1$, and the g function can be specified as (e.g.) $1$ if $(x,y)$ is inside $[0,2]\\times[3,4.5]$ and $−1$ otherwise. Here is an example on how we can utilize the MonteCarlo_double function to compute the area for different number of samples:"
   ]
  },
  {
   "cell_type": "raw",
   "metadata": {},
   "source": [
    ">>> from MC_double import MonteCarlo_double\n",
    ">>> def g(x, y):\n",
    "...     return (1 if (0 <= x <= 2 and 3 <= y <= 4.5) else -1)\n",
    "...\n",
    ">>> MonteCarlo_double(lambda x, y: 1, g, 0, 3, 2, 5, 100)\n",
    "2.9484\n",
    ">>> MonteCarlo_double(lambda x, y: 1, g, 0, 3, 2, 5, 1000)\n",
    "2.947032\n",
    ">>> MonteCarlo_double(lambda x, y: 1, g, 0, 3, 2, 5, 1000)\n",
    "3.0234600000000005\n",
    ">>> MonteCarlo_double(lambda x, y: 1, g, 0, 3, 2, 5, 2000)\n",
    "2.9984580000000003\n",
    ">>> MonteCarlo_double(lambda x, y: 1, g, 0, 3, 2, 5, 2000)\n",
    "3.1903469999999996\n",
    ">>> MonteCarlo_double(lambda x, y: 1, g, 0, 3, 2, 5, 5000)\n",
    "2.986515"
   ]
  },
  {
   "cell_type": "code",
   "execution_count": 2,
   "metadata": {},
   "outputs": [
    {
     "name": "stdout",
     "output_type": "stream",
     "text": [
      "MonteCarlo_double(lambda x, y: 1, g, 0, 3, 2, 5, 100)\n",
      "2.3606999999999996\n",
      "MonteCarlo_double(lambda x, y: 1, g, 0, 3, 2, 5, 1000)\n",
      "3.1389120000000004\n",
      "MonteCarlo_double(lambda x, y: 1, g, 0, 3, 2, 5, 2000)\n",
      "2.9138399999999995\n",
      "MonteCarlo_double(lambda x, y: 1, g, 0, 3, 2, 5, 5000)\n",
      "2.9822612400000006\n"
     ]
    }
   ],
   "source": [
    "import numpy as np\n",
    "\n",
    "def MonteCarlo_double(f, g, x0, x1, y0, y1, n):\n",
    "    \"\"\"\n",
    "    Monte Carlo integration of f over a domain g>=0, embedded\n",
    "    in a rectangle [x0,x1]x[y0,y1]. n^2 is the number of\n",
    "    random points.\n",
    "    \"\"\"\n",
    "    # Draw n**2 random points in the rectangle\n",
    "    x = np.random.uniform(x0, x1, n)\n",
    "    y = np.random.uniform(y0, y1, n)\n",
    "    # Compute sum of f values inside the integration domain\n",
    "    f_mean = 0\n",
    "    num_inside = 0   # number of x,y points inside domain (g>=0)\n",
    "    for i in range(len(x)):\n",
    "        for j in range(len(y)):\n",
    "            if g(x[i], y[j]) >= 0:\n",
    "                num_inside += 1\n",
    "                f_mean += f(x[i], y[j])\n",
    "    f_mean = f_mean/float(num_inside)\n",
    "    area = num_inside/float(n**2)*(x1 - x0)*(y1 - y0)\n",
    "    return area*f_mean\n",
    "\n",
    "def g(x, y):\n",
    "    return (1 if (0 <= x <= 2 and 3 <= y <= 4.5) else -1)\n",
    "\n",
    "p1 = MonteCarlo_double(lambda x, y: 1, g, 0, 3, 2, 5, 100)\n",
    "p2 = MonteCarlo_double(lambda x, y: 1, g, 0, 3, 2, 5, 1000)\n",
    "p3 = MonteCarlo_double(lambda x, y: 1, g, 0, 3, 2, 5, 2000)\n",
    "p4 = MonteCarlo_double(lambda x, y: 1, g, 0, 3, 2, 5, 5000)\n",
    " \n",
    "print('MonteCarlo_double(lambda x, y: 1, g, 0, 3, 2, 5, 100)')\n",
    "print('%.16f' %p1)\n",
    "print('MonteCarlo_double(lambda x, y: 1, g, 0, 3, 2, 5, 1000)')\n",
    "print('%.16f' %p2)\n",
    "print('MonteCarlo_double(lambda x, y: 1, g, 0, 3, 2, 5, 2000)')\n",
    "print('%.16f' %p3)\n",
    "print('MonteCarlo_double(lambda x, y: 1, g, 0, 3, 2, 5, 5000)')\n",
    "print('%.16f' %p4)"
   ]
  },
  {
   "cell_type": "code",
   "execution_count": null,
   "metadata": {},
   "outputs": [],
   "source": [
    "**Test function for function with random numbers**\n",
    "\n",
    "To make a test function, we need a unit test that has identical behavior each time we run the test. This seems difficult when random numbers are involved, because these numbers are different every time we run the algorithm, and each run hence produces a (slightly) different result. A standard way to test algorithms involving random numbers is to fix the seed of the random number generator. Then the sequence of numbers is the same every time we run the algorithm. Assuming that the MonteCarlo_double function works, we fix the seed, observe a certain result, and take this result as the correct result. Provided the test function always uses this seed, we should get exactly this result every time the MonteCarlo_double function is called. Our test function can then be written as shown below."
   ]
  },
  {
   "cell_type": "markdown",
   "metadata": {},
   "source": [
    "def test_MonteCarlo_double_rectangle_area():\n",
    "    \"\"\"Check the area of a rectangle.\"\"\"\n",
    "    def g(x, y):\n",
    "        return (1 if (0 <= x <= 2 and 3 <= y <= 4.5) else -1)\n",
    "\n",
    "    x0 = 0;  x1 = 3;  y0 = 2;  y1 = 5  # embedded rectangle\n",
    "    n = 1000\n",
    "    np.random.seed(8)      # must fix the seed!\n",
    "    I_expected = 3.121092  # computed with this seed\n",
    "    I_computed = MonteCarlo_double(\n",
    "        lambda x, y: 1, g, x0, x1, y0, y1, n)\n",
    "    assert abs(I_expected - I_computed) < 1E-14"
   ]
  },
  {
   "cell_type": "markdown",
   "metadata": {},
   "source": [
    "**Integral over a circle**\n",
    "\n",
    "he test above involves a trivial function $f(x,y)=1$. We should also test a non-constant $f$ function and a more complicated domain. Let $\\Omega$ be a circle at the origin with radius 2, and let $f=\\sqrt{x^2+y^2}$. This choice makes it possible to compute an exact result: in polar coordinates, $\\int_\\Omega f(x,y)dxdy$ simplifies to $2\\pi\\int_0^2 r^2dr = 16\\pi/3$. We must be prepared for quite crude approximations that fluctuate around this exact result. As in the test case above, we experience better results with larger number of points. When we have such evidence for a working implementation, we can turn the test into a proper test function. Here is an example:"
   ]
  },
  {
   "cell_type": "markdown",
   "metadata": {},
   "source": [
    "def test_MonteCarlo_double_circle_r():\n",
    "    \"\"\"Check the integral of r over a circle with radius 2.\"\"\"\n",
    "    def g(x, y):\n",
    "        xc, yc = 0, 0  # center\n",
    "        R = 2          # radius\n",
    "        return  R**2 - ((x-xc)**2 + (y-yc)**2)\n",
    "\n",
    "    # Exact: integral of r*r*dr over circle with radius R becomes\n",
    "    # 2*pi*1/3*R**3\n",
    "    import sympy\n",
    "    r = sympy.symbols('r')\n",
    "    I_exact = sympy.integrate(2*sympy.pi*r*r, (r, 0, 2))\n",
    "    print ('Exact integral:', I_exact.evalf())\n",
    "    x0 = -2;  x1 = 2;  y0 = -2;  y1 = 2\n",
    "    n = 1000\n",
    "    np.random.seed(6)\n",
    "    I_expected = 16.7970837117376384  # Computed with this seed\n",
    "    I_computed = MonteCarlo_double(\n",
    "        lambda x, y: np.sqrt(x**2 + y**2),\n",
    "        g, x0, x1, y0, y1, n)\n",
    "    print ('MC approximation %d samples): %.16f' % (n**2, I_computed))\n",
    "    assert abs(I_expected - I_computed) < 1E-15"
   ]
  },
  {
   "cell_type": "code",
   "execution_count": null,
   "metadata": {},
   "outputs": [],
   "source": [
    "import numpy as np\n",
    "\n",
    "def MonteCarlo_double(f, g, x0, x1, y0, y1, n):\n",
    "    \"\"\"\n",
    "    Monte Carlo integration of f over a domain g>=0, embedded\n",
    "    in a rectangle [x0,x1]x[y0,y1]. n^2 is the number of\n",
    "    random points.\n",
    "    \"\"\"\n",
    "    # Draw n**2 random points in the rectangle\n",
    "    x = np.random.uniform(x0, x1, n)\n",
    "    y = np.random.uniform(y0, y1, n)\n",
    "    # Compute sum of f values inside the integration domain\n",
    "    f_mean = 0\n",
    "    num_inside = 0   # number of x,y points inside domain (g>=0)\n",
    "    for i in range(len(x)):\n",
    "        for j in range(len(y)):\n",
    "            if g(x[i], y[j]) >= 0:\n",
    "                num_inside += 1\n",
    "                f_mean += f(x[i], y[j])\n",
    "    f_mean = f_mean/float(num_inside)\n",
    "    area = num_inside/float(n**2)*(x1 - x0)*(y1 - y0)\n",
    "    return area*f_mean\n",
    "\n",
    "def test_MonteCarlo_double_rectangle_area():\n",
    "    \"\"\"Check the area of a rectangle.\"\"\"\n",
    "    def g(x, y):\n",
    "        return (1 if (0 <= x <= 2 and 3 <= y <= 4.5) else -1)\n",
    "\n",
    "    x0 = 0;  x1 = 3;  y0 = 2;  y1 = 5  # embedded rectangle\n",
    "    n = 1000\n",
    "    np.random.seed(8)      # must fix the seed!\n",
    "    I_expected = 3.121092  # computed with this seed\n",
    "    I_computed = MonteCarlo_double(\n",
    "        lambda x, y: 1, g, x0, x1, y0, y1, n)\n",
    "    assert abs(I_expected - I_computed) < 1E-14\n",
    "\n",
    "def test_MonteCarlo_double_circle_r():\n",
    "    \"\"\"Check the integral of r over a circle with radius 2.\"\"\"\n",
    "    def g(x, y):\n",
    "        xc, yc = 0, 0  # center\n",
    "        R = 2          # radius\n",
    "        return  R**2 - ((x-xc)**2 + (y-yc)**2)\n",
    "\n",
    "    # Exact: integral of r*r*dr over circle with radius R becomes\n",
    "    # 2*pi*1/3*R**3\n",
    "    import sympy\n",
    "    r = sympy.symbols('r')\n",
    "    I_exact = sympy.integrate(2*sympy.pi*r*r, (r, 0, 2))\n",
    "    print ('Exact integral:', I_exact.evalf())\n",
    "    x0 = -2;  x1 = 2;  y0 = -2;  y1 = 2\n",
    "    n = 1000\n",
    "    np.random.seed(6)\n",
    "    I_expected = 16.7970837117376384  # Computed with this seed\n",
    "    I_computed = MonteCarlo_double(\n",
    "        lambda x, y: np.sqrt(x**2 + y**2),\n",
    "        g, x0, x1, y0, y1, n)\n",
    "    print ('MC approximation %d samples: %.16f' % (n**2, I_computed))\n",
    "    assert abs(I_expected - I_computed) < 1E-15\n",
    "\n",
    "if __name__ == '__main__':\n",
    "    test_MonteCarlo_double_rectangle_area()\n",
    "    test_MonteCarlo_double_circle_r()"
   ]
  }
 ],
 "metadata": {
  "kernelspec": {
   "display_name": "Python 3",
   "language": "python",
   "name": "python3"
  },
  "language_info": {
   "codemirror_mode": {
    "name": "ipython",
    "version": 3
   },
   "file_extension": ".py",
   "mimetype": "text/x-python",
   "name": "python",
   "nbconvert_exporter": "python",
   "pygments_lexer": "ipython3",
   "version": "3.7.2"
  }
 },
 "nbformat": 4,
 "nbformat_minor": 2
}
