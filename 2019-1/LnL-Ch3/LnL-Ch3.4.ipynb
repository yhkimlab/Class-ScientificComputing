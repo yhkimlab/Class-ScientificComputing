{
 "cells": [
  {
   "cell_type": "markdown",
   "metadata": {},
   "source": [
    "# Linge & Langtagen, \"Programming for Computations\"\n",
    "## Ch. 3.4 Testing"
   ]
  },
  {
   "cell_type": "markdown",
   "metadata": {},
   "source": [
    "### Ch. 3.4.1 Problems with brief testing procedures"
   ]
  },
  {
   "cell_type": "markdown",
   "metadata": {},
   "source": [
    "Testing of the programs for numerical integration has so far employed two strategies.\n",
    "\n",
    "1. If we have an exact answer, we compute the error and see that increasing $n$ decreases the error.\n",
    "\n",
    "2. When the exact answer is not available, we can (as in the comparison example in the previous section) look at the integral values and see that they stabilize as $n$ grows."
   ]
  },
  {
   "cell_type": "markdown",
   "metadata": {},
   "source": [
    "$Unit$ $testing$"
   ]
  },
  {
   "cell_type": "markdown",
   "metadata": {},
   "source": [
    "A good habit is to test small pieces of a larger code individually, one at a time. This is known as $unit$ $testing$. One identifies a (small) unit of the code, and then one makes a separate test for this unit.\n",
    "\n"
   ]
  },
  {
   "cell_type": "markdown",
   "metadata": {},
   "source": [
    "The unit test should be stand-alone in the sense that it can be run without the outcome of other tests. Typically, one algorithm in scientific numerical computing is to deal with numerical approximation errors.\n",
    "\n",
    "A fortunate side effect of unit testing is that the programmer is forced to use functions to modularize the code into smaller, logical pieces."
   ]
  },
  {
   "cell_type": "markdown",
   "metadata": {},
   "source": [
    "### Ch. 3.4.2 Proper test procedures"
   ]
  },
  {
   "cell_type": "markdown",
   "metadata": {},
   "source": [
    "There are three serious ways to test the implementation of numerical methods via unit tests:\n",
    "1. $Comparing$ $with$ $hand$$-computed$ $results$ in a problem with few arithmetic operations, i.e., small $n$."
   ]
  },
  {
   "cell_type": "markdown",
   "metadata": {},
   "source": [
    "2. $Solving$ $a$ $problem$ $without$ $numerical$ $errors$. We know that the trapezoidal rule must be exact for linear functions. The error produced by the program must then be zero (to machine precision)"
   ]
  },
  {
   "cell_type": "markdown",
   "metadata": {},
   "source": [
    "3. $Demonstrating$ $correct$ $convergence$ $rates$. A strong test when we can compute exact errors, is to see how fast the error goes to zero as $n$ grows. In the trapezoidal and midpoint rules it is known thjat the error depends on $n$ as $n^{-2}$ as $n$ $\\rightarrow$ $\\infty$"
   ]
  },
  {
   "cell_type": "markdown",
   "metadata": {},
   "source": [
    "$Hand-$$computed$ $results$."
   ]
  },
  {
   "cell_type": "markdown",
   "metadata": {},
   "source": [
    "Let us use two trapezoids and compute the integral $\\int_0^1 v(t), v(t) = 3t^2 e^{t^{3}}$:"
   ]
  },
  {
   "cell_type": "markdown",
   "metadata": {},
   "source": [
    "$$\\frac{1}{2}h(v(0) + v(0.5)) + \\frac{1}{2}h(v(0.5)+v(1)) = 2.463642041244344, $$"
   ]
  },
  {
   "cell_type": "code",
   "execution_count": 5,
   "metadata": {},
   "outputs": [
    {
     "name": "stdout",
     "output_type": "stream",
     "text": [
      "::: Trapezoidal :::\n",
      "2.463642041244344\n",
      "-----------------------------\n"
     ]
    }
   ],
   "source": [
    "from trapezoidal import trapezoidal\n",
    "import numpy as np\n",
    "\n",
    "F = lambda t: 3*t**2*np.exp(t**3)\n",
    "p = trapezoidal(F, 0, 1, 2)\n",
    "\n",
    "print(\"::: Trapezoidal :::\")\n",
    "print(p)\n",
    "print(\"-----------------------------\")"
   ]
  },
  {
   "cell_type": "markdown",
   "metadata": {},
   "source": [
    "$Solving$ $a$ $problem$ $without$ $numerical$ $errors.$"
   ]
  },
  {
   "cell_type": "markdown",
   "metadata": {},
   "source": [
    "The best unit tests for numerical algorithms involve mathematical problems where we know the numerical result beforehand.\n",
    "\n",
    "Usually, numerical results contain unknown approximation errors, so knowing the numerical result implies that we have a problem where the approximation errors vanish.\n",
    "\n",
    "This feature may be present in very simple mathematical problems.\n",
    "\n",
    "A specific test case can be $\\int_{1.2}^{4.4}(6x-4)dx$. This integral involves an \"arbitrary\" interval [1.2, 4.4] and an \"arbitrary\" linear function $f(x) = 6x -4$.\n",
    "\n",
    "By \"arbitrary\" we mean expressions where we avoid the special numbers 0 and 1 since these have special properties in arithmetic operations."
   ]
  },
  {
   "cell_type": "code",
   "execution_count": 25,
   "metadata": {},
   "outputs": [
    {
     "name": "stdout",
     "output_type": "stream",
     "text": [
      "::: Trapezoidal :::\n",
      "40.96000000000001\n",
      "-----------------------------\n",
      "::: Exact :::\n",
      "40.96000000000001\n",
      "-----------------------------\n"
     ]
    }
   ],
   "source": [
    "from trapezoidal import trapezoidal\n",
    "import numpy as np\n",
    "\n",
    "F1 = lambda t: 6*t - 4\n",
    "n = 1     ### For linear equations, all results are the same.\n",
    "p1 = trapezoidal(F1, 1.2, 4.4, n)\n",
    "\n",
    "F2 = lambda t: 3*t**2 - 4*t\n",
    "p2 = F2(4.4)-F2(1.2)\n",
    "\n",
    "print(\"::: Trapezoidal :::\")\n",
    "print(p1)\n",
    "print(\"-----------------------------\")\n",
    "\n",
    "print(\"::: Exact :::\")\n",
    "print(p2)\n",
    "print(\"-----------------------------\")"
   ]
  },
  {
   "cell_type": "markdown",
   "metadata": {},
   "source": [
    "$Demonstrating$ $correct$ $convergence$ $rates.$"
   ]
  },
  {
   "cell_type": "markdown",
   "metadata": {},
   "source": [
    "Normally, unit tests must be based on problems where the numerical approximation errors in our implementation remain unknown. Howevere, we ofen know or may assume a certain $asymptotic$ behavior of the error. We can do some experimental runs with the test problem $\\int_{0}^{1}3t^2e^{t{^3}}dt$ where $n$ is doubled in each run: $n = 4, 8 ,16$. The corresponding errors are then 12%, 3% and 0.77%, respectively."
   ]
  },
  {
   "cell_type": "code",
   "execution_count": 32,
   "metadata": {},
   "outputs": [
    {
     "name": "stdout",
     "output_type": "stream",
     "text": [
      "::: Error n =    4 :::\n",
      "11.89763626796125\n",
      "-----------------------------\n",
      "::: Error n =    8 :::\n",
      "3.0591090942323977\n",
      "-----------------------------\n",
      "::: Error n =   16 :::\n",
      "0.7704993341376286\n",
      "-----------------------------\n"
     ]
    }
   ],
   "source": [
    "from trapezoidal import trapezoidal\n",
    "import numpy as np\n",
    "\n",
    "F1 = lambda t: 3*t**2*np.exp(t**3)\n",
    "F2 = lambda t: np.exp(t**3)\n",
    "\n",
    "n1 = 4\n",
    "n2 = 8\n",
    "n3 = 16\n",
    "\n",
    "p1 = trapezoidal(F1, 0, 1, n1)\n",
    "p2 = trapezoidal(F1, 0, 1, n2)\n",
    "p3 = trapezoidal(F1, 0, 1, n3)\n",
    "\n",
    "exact = F2(1) - F2(0)\n",
    "\n",
    "error1 = abs(exact - p1)\n",
    "error2 = abs(exact - p2)\n",
    "error3 = abs(exact - p3)\n",
    "\n",
    "rel_error1 = (error1/exact)*100\n",
    "rel_error2 = (error2/exact)*100\n",
    "rel_error3 = (error3/exact)*100\n",
    "\n",
    "print(\"::: Error n = %4d :::\" % n1)\n",
    "print(rel_error1)\n",
    "print(\"-----------------------------\")\n",
    "\n",
    "print(\"::: Error n = %4d :::\" % n2)\n",
    "print(rel_error2)\n",
    "print(\"-----------------------------\")\n",
    "\n",
    "print(\"::: Error n = %4d :::\" % n3)\n",
    "print(rel_error3)\n",
    "print(\"-----------------------------\")"
   ]
  },
  {
   "cell_type": "markdown",
   "metadata": {},
   "source": [
    "These numbers indicate that the error is roughly reduced by a factor of 4 when doubling $n$. Thus, the error converges to zero as $n^{-2}$ and we say that the $convergence$ $rate$ is 2.\n",
    "\n",
    "Numerical integration methods usually have an error that converge to zero as $n^{-p}$ for some $p$ that depends on the method. With such a result, it does not matter if we do not know what the actual approximation error is: we know at what rate it is $reduced$, so running the implementation for two or more difference $n$ valuies will put us in a position to measure the expected rate and see if it is achieved."
   ]
  },
  {
   "cell_type": "markdown",
   "metadata": {},
   "source": [
    "Let us develop a more precise method for such unit tests based on convergence rates. We assume that the error $E$ depneds on $n$ according to"
   ]
  },
  {
   "cell_type": "markdown",
   "metadata": {},
   "source": [
    "$$E = Cn^{r},$$"
   ]
  },
  {
   "cell_type": "markdown",
   "metadata": {},
   "source": [
    "where $C$ is an unknown constant and $r$ is the convergence rate. Consider a set of experiments with various $n: n_{0},n_{1},n_{2},\\ldots,n_{q}$.\n",
    "\n",
    "We compute the corresponding erros $E_{0},\\ldots,E_{q}$. For two consecutive experiments, number $i$ and $i-1$, we have the error model"
   ]
  },
  {
   "cell_type": "markdown",
   "metadata": {},
   "source": [
    "$$E_{i} = {Cn}_{i}^{r},$$\n",
    "$$E_{i-1} = {Cn}_{i-1}^{r},$$\n"
   ]
  },
  {
   "cell_type": "markdown",
   "metadata": {},
   "source": [
    "These are two equations for two unknwons $C$ and $r$. We can easily eliminate $C$ by dividing the equations by each other. The solving for $r$ gives"
   ]
  },
  {
   "cell_type": "markdown",
   "metadata": {},
   "source": [
    "$$r_{i-1} = \\frac{ln(E_{i}/E_{i-1})}{ln(n_{i}/n_{i-1})}$$"
   ]
  },
  {
   "cell_type": "markdown",
   "metadata": {},
   "source": [
    "We have introduced a subscript $i-1$ in $r$ since the estimated value for $r$ varies with $i$. Hopefully, $r_{i-1}$ approaches the correct convergence rate as the number of intervals increases and $i \\rightarrow q$."
   ]
  },
  {
   "cell_type": "markdown",
   "metadata": {},
   "source": [
    "### Ch. 3.4.3 Finite precision of floating-point numbers"
   ]
  },
  {
   "cell_type": "markdown",
   "metadata": {},
   "source": [
    "The test procedures above lead to comparison of numbers for checking that calculations were correct. Such comparison is more complicated than what a newcomer might think.\n",
    "Suppose we have a calculation $a + b$ and want to check that the result is what we expect. We start with $1 + 2$:"
   ]
  },
  {
   "cell_type": "code",
   "execution_count": 37,
   "metadata": {},
   "outputs": [
    {
     "data": {
      "text/plain": [
       "True"
      ]
     },
     "execution_count": 37,
     "metadata": {},
     "output_type": "execute_result"
    }
   ],
   "source": [
    "a = 1 ; b= 2; expected =3\n",
    "a + b == expected"
   ]
  },
  {
   "cell_type": "markdown",
   "metadata": {},
   "source": [
    "Then we proceed with 0.1 + 0.2:"
   ]
  },
  {
   "cell_type": "code",
   "execution_count": 39,
   "metadata": {},
   "outputs": [
    {
     "data": {
      "text/plain": [
       "False"
      ]
     },
     "execution_count": 39,
     "metadata": {},
     "output_type": "execute_result"
    }
   ],
   "source": [
    "a = 0.1 ; b = 0.2 ; expected = 0.3\n",
    "a + b == expected"
   ]
  },
  {
   "cell_type": "markdown",
   "metadata": {},
   "source": [
    "The reason is that real numbers cannot in general be exactly represented on a comupter.\n",
    "\n",
    "They must instead be approximated by a floating-point number that can only store a finite amiount of information, usually about $17$ digits of a real number.\n",
    "\n",
    "Let us print$ 0.1, 0.2, 0.1 + 0.2,$ and $0.3$ with $17$ decimals:"
   ]
  },
  {
   "cell_type": "code",
   "execution_count": 42,
   "metadata": {},
   "outputs": [
    {
     "name": "stdout",
     "output_type": "stream",
     "text": [
      "0.10000000000000001\n",
      "0.20000000000000001\n",
      "0.30000000000000004\n",
      "0.29999999999999999\n"
     ]
    }
   ],
   "source": [
    "print('%.17f\\n%.17f\\n%.17f\\n%.17f' % (0.1, 0.2, 0.1 + 0.2, 0.3))"
   ]
  },
  {
   "cell_type": "markdown",
   "metadata": {},
   "source": [
    "In general, real numbers in Python have (at most) 16 correct decimals."
   ]
  },
  {
   "cell_type": "markdown",
   "metadata": {},
   "source": [
    "If we cannot make tests like $0.1 + 0.2 == 0.3$, what should we then do? The answer is that we must accept some small inaccuracy and make a test with a $tolerance$. Here is the recipe:"
   ]
  },
  {
   "cell_type": "code",
   "execution_count": 48,
   "metadata": {},
   "outputs": [
    {
     "name": "stdout",
     "output_type": "stream",
     "text": [
      "::: True :::\n",
      "::: Error :::\n",
      "5.551115123125783e-17\n",
      "-----------------------------\n"
     ]
    }
   ],
   "source": [
    "a = 0.1 ; b = 0.2 ; expected = 0.3\n",
    "computed = a + b\n",
    "diff = abs(expected - computed)\n",
    "tol = 1E-15\n",
    "\n",
    "if diff < tol:\n",
    "    print(\"::: True :::\")\n",
    "    print(\"::: Error :::\")\n",
    "    print(diff)\n",
    "    print(\"-----------------------------\")"
   ]
  },
  {
   "cell_type": "markdown",
   "metadata": {},
   "source": [
    "Here we have set the tolerance for comparison to $10^{-15}$, but calculating $0.3 - (0.1 + 0.2)$ shows that it equals $-5.55e-17$, so a lower tolerance could be used in this particular example."
   ]
  },
  {
   "cell_type": "markdown",
   "metadata": {},
   "source": [
    "### Ch. 3.4.4 Constructing unit tests and writing test functions"
   ]
  },
  {
   "cell_type": "markdown",
   "metadata": {},
   "source": [
    "Python has several frameworks for automatically running and checking a potentially very large number of tests for parts of your software by one command."
   ]
  },
  {
   "cell_type": "markdown",
   "metadata": {},
   "source": [
    "This is an extremely useful feature during program development: whenever you have done some changes to one or more files, launch the test command and make sure nothing is broken because of your edits."
   ]
  },
  {
   "cell_type": "markdown",
   "metadata": {},
   "source": [
    "The test frameworks $nose$ and $py.test$ are particularly attractive as they are very easy to use.\n"
   ]
  },
  {
   "cell_type": "markdown",
   "metadata": {},
   "source": [
    "The requirements to a test function are simple:"
   ]
  },
  {
   "cell_type": "markdown",
   "metadata": {},
   "source": [
    "$\\diamond$ the name must start with test_"
   ]
  },
  {
   "cell_type": "markdown",
   "metadata": {},
   "source": [
    "$\\diamond$ the test function cannot have any arguments"
   ]
  },
  {
   "cell_type": "markdown",
   "metadata": {},
   "source": [
    "$\\diamond$ the tests inside test functions must be boolean expressions"
   ]
  },
  {
   "cell_type": "markdown",
   "metadata": {},
   "source": [
    "$\\diamond$ a boolean expression $b$ must be tested with $assert b, msg,$ where $msg$ is an optional object (string or number) to be written out when $b$ is false."
   ]
  },
  {
   "cell_type": "code",
   "execution_count": 55,
   "metadata": {},
   "outputs": [
    {
     "name": "stdout",
     "output_type": "stream",
     "text": [
      "test1_add is no problem\n",
      "test2_add is no problem\n"
     ]
    }
   ],
   "source": [
    "def add(a, b):\n",
    "    return a + b\n",
    "\n",
    "def test1_add():\n",
    "    expected = 1 + 1\n",
    "    computed = add(1, 1)\n",
    "    assert computed == expected, '1+1=%g' % computed\n",
    "    if computed == expected:\n",
    "        print(\"test1_add is no problem\")\n",
    "    \n",
    "def test2_add():\n",
    "    expected = 0.3\n",
    "    computed = add(0.1, 0.2)\n",
    "    tol = 1E-14\n",
    "    diff = abs(expected - computed)\n",
    "    assert diff < tol, 'diff=%g' % diff\n",
    "    if diff < tol:\n",
    "        print(\"test2_add is no problem\")\n",
    "\n",
    "test1_add()\n",
    "test2_add()"
   ]
  },
  {
   "cell_type": "markdown",
   "metadata": {},
   "source": [
    "$Hand-$$computed$ $numerical$ $results$."
   ]
  },
  {
   "cell_type": "code",
   "execution_count": 59,
   "metadata": {},
   "outputs": [
    {
     "name": "stdout",
     "output_type": "stream",
     "text": [
      "\n",
      " True \n",
      "error=0 > tol=1e-14\n"
     ]
    }
   ],
   "source": [
    "from trapezoidal import trapezoidal\n",
    "\n",
    "def test_trapezoidal_one_exact_result():\n",
    "    \"\"\"Compare one hand-computed result\"\"\"\n",
    "    from math import exp\n",
    "    v = lambda t: 3*(t**2)*exp(t**3)\n",
    "    n = 2\n",
    "    computed = trapezoidal(v, 0, 1, n)\n",
    "    expected = 2.463642041244344\n",
    "    error = abs(expected - computed)\n",
    "    tol = 1E-14\n",
    "    success = error < tol\n",
    "    msg = 'error=%g > tol=%g' % (error, tol)\n",
    "    assert success, msg\n",
    "    print(\"\\n %s \\n%s\" % (success, msg))\n",
    "    \n",
    "if __name__ == '__main__':\n",
    "    test_trapezoidal_one_exact_result()"
   ]
  },
  {
   "cell_type": "markdown",
   "metadata": {},
   "source": [
    "Note the importance of checking $err$ against $exact$ with a tolernace: rounding errors from the arithmetics inside $trapezoidal$ will not make the result exactly like the hand-computed one. The size of the tolerance is here set to $10^{-14}$, which is a kind of all-round value for computations with numbers not deviating much from unity."
   ]
  },
  {
   "cell_type": "markdown",
   "metadata": {},
   "source": [
    "$Solving$ $a$ $problem$ $without$ $numerical$ $errors.$"
   ]
  },
  {
   "cell_type": "markdown",
   "metadata": {},
   "source": [
    "We know that the trapezoidal rule is exact for liner integrands. Choosing the integral $\\int_{1.2}^{4.4}(6x-4)dx$ as test case, the corresponding test function for this unit test may look like"
   ]
  },
  {
   "cell_type": "code",
   "execution_count": 69,
   "metadata": {},
   "outputs": [
    {
     "name": "stdout",
     "output_type": "stream",
     "text": [
      "The number of points : 2 \n",
      "Error : 7.105427357601002e-15 \n",
      "Successfully operating\n",
      "-----------------------------\n",
      "The number of points : 20 \n",
      "Error : 0.0 \n",
      "Successfully operating\n",
      "-----------------------------\n",
      "The number of points : 21 \n",
      "Error : 0.0 \n",
      "Successfully operating\n",
      "-----------------------------\n"
     ]
    }
   ],
   "source": [
    "def test_trapezoidal_linear():\n",
    "    \"\"\"Check that linear function are integrated exactly.\"\"\"\n",
    "    f = lambda x: 6*x - 4\n",
    "    F = lambda x: 3*x**2 - 4*x # Anti-derivative\n",
    "    a = 1.2; b= 4.4\n",
    "    expected = F(b) - F(a)\n",
    "    tol = 1E-14\n",
    "    for n in 2, 20, 21:\n",
    "        computed = trapezoidal(f, a, b, n)\n",
    "        error = abs(expected - computed)\n",
    "        success = error < tol\n",
    "        msg = 'n=%d, err=%g' % (n, error)\n",
    "        assert success, msg\n",
    "        if error < tol:\n",
    "            print('The number of points : %s ' % (n))\n",
    "            print('Error : %s ' % (error))\n",
    "            print('Successfully operating')\n",
    "            print(\"-----------------------------\")\n",
    "        \n",
    "if __name__ == '__main__':\n",
    "    test_trapezoidal_linear()"
   ]
  },
  {
   "cell_type": "markdown",
   "metadata": {},
   "source": [
    "$Demonstrating$ $correct$ $convergence$ $rates$."
   ]
  },
  {
   "cell_type": "markdown",
   "metadata": {},
   "source": [
    "In the present example with integration, it is known that the approximation erros in the trapezoidal rule are propotional to $n^{-2}$, $n$ being the number of subintervals used in the composite rule."
   ]
  },
  {
   "cell_type": "markdown",
   "metadata": {},
   "source": [
    "Computing convergence rates requires somewhat more tedious programming than the previous tests, but can be applied to more general integrands. The algorithm typically goes like "
   ]
  },
  {
   "cell_type": "markdown",
   "metadata": {},
   "source": [
    "$\\diamond$ for $ i = 0, 1, 2, \\ldots, q$"
   ]
  },
  {
   "cell_type": "markdown",
   "metadata": {},
   "source": [
    " $\\circ$ $n_{i} = 2^{i+1}$"
   ]
  },
  {
   "cell_type": "markdown",
   "metadata": {},
   "source": [
    " $\\circ$ Compute integral with $n_{i}$ intervals"
   ]
  },
  {
   "cell_type": "markdown",
   "metadata": {},
   "source": [
    " $\\circ$ Compute the error $E_{i}$"
   ]
  },
  {
   "cell_type": "markdown",
   "metadata": {},
   "source": [
    " $\\circ$ Estimate $r_{i}$ from (3.24) if $i > 0$"
   ]
  },
  {
   "cell_type": "markdown",
   "metadata": {},
   "source": [
    "The corresponding code may look like"
   ]
  },
  {
   "cell_type": "code",
   "execution_count": 76,
   "metadata": {},
   "outputs": [
    {
     "name": "stdout",
     "output_type": "stream",
     "text": [
      "[0. 0. 0. 0. 0. 0. 0. 0. 0. 0. 0. 0. 0.]\n",
      "0.01\n"
     ]
    }
   ],
   "source": [
    "from trapezoidal import trapezoidal\n",
    "\n",
    "def convergence_rates(f, F, a, b, num_experiments=14):\n",
    "    from math import log\n",
    "    from numpy import zeros\n",
    "    expected = F(b) - F(a)\n",
    "    n = zeros(num_experiments, dtype=int)\n",
    "    E = zeros(num_experiments)\n",
    "    r = zeros(num_experiments-1)\n",
    "    for i in range(num_experiments):\n",
    "        n[i] = 2**(i+1)\n",
    "        computed = trapezoidal(f, a, b, n[i])\n",
    "        E[i] = abs(expected - computed)\n",
    "        if i > 0:\n",
    "            r_im1 = log(E[i]/E[i-1])/log(float(n[i])/n[i-1])\n",
    "            r[i-1] = float('%.2f' % r_im1) # Truncate to two decimals\n",
    "        return r\n",
    "\n",
    "def test_trapezoidal_conv_rate():\n",
    "    \"\"\"Check empirical convergence rates against the expected -2.\"\"\"\n",
    "    from math import exp\n",
    "    v = lambda t: 3*(t**2)*exp(t**3)\n",
    "    V = lambda t: exp(t**3)\n",
    "    a = 1.1; b = 1.9\n",
    "    r = convergence_rates(v, V, a, b, 14)\n",
    "    print(r)\n",
    "    tol = 0.01\n",
    "    msg = str(r[-4:]) # show last 4 estimate rates\n",
    "    assert (abs(r[-1]) - 2 ) < tol, msg\n",
    "    if (abs(r[-1]) -2) < tol:\n",
    "        print(tol)\n",
    "        \n",
    "if __name__ == '__main__':\n",
    "    test_trapezoidal_conv_rate()"
   ]
  },
  {
   "cell_type": "markdown",
   "metadata": {},
   "source": [
    "Making a test function is a matter of choosing $f, F, a,$ and $b$, and then checking the value of $r_{i}$ for the largest $i$:"
   ]
  },
  {
   "cell_type": "markdown",
   "metadata": {},
   "source": [
    "Running the test shows that all $r_{i}$, except the first one, equal the target limit 2 within two decimals. This oberservation suggest a tolerance of $10^{-2}$"
   ]
  },
  {
   "cell_type": "code",
   "execution_count": null,
   "metadata": {},
   "outputs": [],
   "source": []
  }
 ],
 "metadata": {
  "kernelspec": {
   "display_name": "Python 3",
   "language": "python",
   "name": "python3"
  },
  "language_info": {
   "codemirror_mode": {
    "name": "ipython",
    "version": 3
   },
   "file_extension": ".py",
   "mimetype": "text/x-python",
   "name": "python",
   "nbconvert_exporter": "python",
   "pygments_lexer": "ipython3",
   "version": "3.7.1"
  }
 },
 "nbformat": 4,
 "nbformat_minor": 2
}
